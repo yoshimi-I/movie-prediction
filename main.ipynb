{
 "cells": [
  {
   "cell_type": "code",
   "execution_count": 1,
   "metadata": {
    "collapsed": true,
    "pycharm": {
     "name": "#%%\n"
    }
   },
   "outputs": [],
   "source": [
    "import math\n",
    "\n",
    "import pandas as pd\n",
    "import numpy as np\n",
    "import json\n",
    "import ast\n",
    "from sklearn.preprocessing import LabelEncoder\n",
    "import lightgbm as lgb\n",
    "from sklearn.model_selection import train_test_split\n",
    "from sklearn.metrics import mean_absolute_error as mae"
   ]
  },
  {
   "cell_type": "code",
   "execution_count": 2,
   "outputs": [],
   "source": [
    "# 今回使う説明変数を決める\n",
    "x_col = [\"genres\",\"original_language\",\"production_companies\",\"release_date\",\"runtime\",\"vote_average\"]\n",
    "df = pd.read_csv(\"movie/tmdb_5000_movies.csv\")\n",
    "df_x = df[x_col]"
   ],
   "metadata": {
    "collapsed": false,
    "pycharm": {
     "name": "#%%\n"
    }
   }
  },
  {
   "cell_type": "code",
   "execution_count": 3,
   "outputs": [
    {
     "data": {
      "text/plain": "                                              genres original_language  \\\n0  [{\"id\": 28, \"name\": \"Action\"}, {\"id\": 12, \"nam...                en   \n1  [{\"id\": 12, \"name\": \"Adventure\"}, {\"id\": 14, \"...                en   \n2  [{\"id\": 28, \"name\": \"Action\"}, {\"id\": 12, \"nam...                en   \n3  [{\"id\": 28, \"name\": \"Action\"}, {\"id\": 80, \"nam...                en   \n4  [{\"id\": 28, \"name\": \"Action\"}, {\"id\": 12, \"nam...                en   \n\n                                production_companies release_date  runtime  \\\n0  [{\"name\": \"Ingenious Film Partners\", \"id\": 289...   2009-12-10    162.0   \n1  [{\"name\": \"Walt Disney Pictures\", \"id\": 2}, {\"...   2007-05-19    169.0   \n2  [{\"name\": \"Columbia Pictures\", \"id\": 5}, {\"nam...   2015-10-26    148.0   \n3  [{\"name\": \"Legendary Pictures\", \"id\": 923}, {\"...   2012-07-16    165.0   \n4        [{\"name\": \"Walt Disney Pictures\", \"id\": 2}]   2012-03-07    132.0   \n\n   vote_average  \n0           7.2  \n1           6.9  \n2           6.3  \n3           7.6  \n4           6.1  ",
      "text/html": "<div>\n<style scoped>\n    .dataframe tbody tr th:only-of-type {\n        vertical-align: middle;\n    }\n\n    .dataframe tbody tr th {\n        vertical-align: top;\n    }\n\n    .dataframe thead th {\n        text-align: right;\n    }\n</style>\n<table border=\"1\" class=\"dataframe\">\n  <thead>\n    <tr style=\"text-align: right;\">\n      <th></th>\n      <th>genres</th>\n      <th>original_language</th>\n      <th>production_companies</th>\n      <th>release_date</th>\n      <th>runtime</th>\n      <th>vote_average</th>\n    </tr>\n  </thead>\n  <tbody>\n    <tr>\n      <th>0</th>\n      <td>[{\"id\": 28, \"name\": \"Action\"}, {\"id\": 12, \"nam...</td>\n      <td>en</td>\n      <td>[{\"name\": \"Ingenious Film Partners\", \"id\": 289...</td>\n      <td>2009-12-10</td>\n      <td>162.0</td>\n      <td>7.2</td>\n    </tr>\n    <tr>\n      <th>1</th>\n      <td>[{\"id\": 12, \"name\": \"Adventure\"}, {\"id\": 14, \"...</td>\n      <td>en</td>\n      <td>[{\"name\": \"Walt Disney Pictures\", \"id\": 2}, {\"...</td>\n      <td>2007-05-19</td>\n      <td>169.0</td>\n      <td>6.9</td>\n    </tr>\n    <tr>\n      <th>2</th>\n      <td>[{\"id\": 28, \"name\": \"Action\"}, {\"id\": 12, \"nam...</td>\n      <td>en</td>\n      <td>[{\"name\": \"Columbia Pictures\", \"id\": 5}, {\"nam...</td>\n      <td>2015-10-26</td>\n      <td>148.0</td>\n      <td>6.3</td>\n    </tr>\n    <tr>\n      <th>3</th>\n      <td>[{\"id\": 28, \"name\": \"Action\"}, {\"id\": 80, \"nam...</td>\n      <td>en</td>\n      <td>[{\"name\": \"Legendary Pictures\", \"id\": 923}, {\"...</td>\n      <td>2012-07-16</td>\n      <td>165.0</td>\n      <td>7.6</td>\n    </tr>\n    <tr>\n      <th>4</th>\n      <td>[{\"id\": 28, \"name\": \"Action\"}, {\"id\": 12, \"nam...</td>\n      <td>en</td>\n      <td>[{\"name\": \"Walt Disney Pictures\", \"id\": 2}]</td>\n      <td>2012-03-07</td>\n      <td>132.0</td>\n      <td>6.1</td>\n    </tr>\n  </tbody>\n</table>\n</div>"
     },
     "execution_count": 3,
     "metadata": {},
     "output_type": "execute_result"
    }
   ],
   "source": [
    "df_x.head()"
   ],
   "metadata": {
    "collapsed": false,
    "pycharm": {
     "name": "#%%\n"
    }
   }
  },
  {
   "cell_type": "code",
   "execution_count": 4,
   "outputs": [],
   "source": [
    "#ではここから全てをfloat型に変えていく\n",
    "genres = df_x[\"genres\"]\n",
    "# とりあえず種類が欲しいので種類を確認\n",
    "# まずは辞書を作成\n",
    "movie_genre_dict = dict()\n",
    "movie_genre_list = list()\n",
    "\n",
    "for movie_genre in genres:\n",
    "    if movie_genre == \"[]\":\n",
    "        movie_genre_list.append(\"\")\n",
    "    else:\n",
    "        per_genre_list = ast.literal_eval(movie_genre[1:-1])\n",
    "        genre_list = []\n",
    "        for per_genre in per_genre_list:\n",
    "            if type(per_genre) == dict:\n",
    "                movie_id = per_genre[\"id\"]\n",
    "                movie_name = per_genre[\"name\"]\n",
    "                movie_genre_dict[movie_id] = movie_name\n",
    "                genre_list.append(movie_name)\n",
    "            else:\n",
    "                movie_id = per_genre_list[\"id\"]\n",
    "                movie_name = per_genre_list[\"name\"]\n",
    "                movie_genre_dict[movie_id] = movie_name\n",
    "                genre_list.append(movie_name)\n",
    "                break\n",
    "        movie_genre_list.append(genre_list)\n",
    "        genre_list = []"
   ],
   "metadata": {
    "collapsed": false,
    "pycharm": {
     "name": "#%%\n"
    }
   }
  },
  {
   "cell_type": "code",
   "execution_count": 5,
   "outputs": [
    {
     "name": "stdout",
     "output_type": "stream",
     "text": [
      "4803\n",
      "4803\n"
     ]
    }
   ],
   "source": [
    "print(len(genres))\n",
    "print(len(movie_genre_list))"
   ],
   "metadata": {
    "collapsed": false,
    "pycharm": {
     "name": "#%%\n"
    }
   }
  },
  {
   "cell_type": "code",
   "execution_count": 6,
   "outputs": [],
   "source": [
    "# 20種類のジャンルがあることがわかった\n",
    "# ここからワンホットエンコーディングを行う"
   ],
   "metadata": {
    "collapsed": false,
    "pycharm": {
     "name": "#%%\n"
    }
   }
  },
  {
   "cell_type": "code",
   "execution_count": 7,
   "outputs": [],
   "source": [
    "genres_list = [\"Action\",\"Adventure\",\"Fantasy\",\"Science Fiction\",\"Crime\",\"Drama\",\"Thriller\",\"Animation\",\"Family\",\"Western\",\"Comedy\",\"Romance\",\"Horror\",\"Mystery\",\"History\",\"War\",\"Music\",\"Documentary\",\"Foreign\",\"TV Movie\"]"
   ],
   "metadata": {
    "collapsed": false,
    "pycharm": {
     "name": "#%%\n"
    }
   }
  },
  {
   "cell_type": "code",
   "execution_count": 8,
   "outputs": [
    {
     "data": {
      "text/plain": "   Action  Adventure  Fantasy  Science Fiction  Crime  Drama  Thriller  \\\n0       0          0        0                0      0      0         0   \n1       0          0        0                0      0      0         0   \n2       0          0        0                0      0      0         0   \n3       0          0        0                0      0      0         0   \n4       0          0        0                0      0      0         0   \n\n   Animation  Family  Western  Comedy  Romance  Horror  Mystery  History  War  \\\n0          0       0        0       0        0       0        0        0    0   \n1          0       0        0       0        0       0        0        0    0   \n2          0       0        0       0        0       0        0        0    0   \n3          0       0        0       0        0       0        0        0    0   \n4          0       0        0       0        0       0        0        0    0   \n\n   Music  Documentary  Foreign  TV Movie  \n0      0            0        0         0  \n1      0            0        0         0  \n2      0            0        0         0  \n3      0            0        0         0  \n4      0            0        0         0  ",
      "text/html": "<div>\n<style scoped>\n    .dataframe tbody tr th:only-of-type {\n        vertical-align: middle;\n    }\n\n    .dataframe tbody tr th {\n        vertical-align: top;\n    }\n\n    .dataframe thead th {\n        text-align: right;\n    }\n</style>\n<table border=\"1\" class=\"dataframe\">\n  <thead>\n    <tr style=\"text-align: right;\">\n      <th></th>\n      <th>Action</th>\n      <th>Adventure</th>\n      <th>Fantasy</th>\n      <th>Science Fiction</th>\n      <th>Crime</th>\n      <th>Drama</th>\n      <th>Thriller</th>\n      <th>Animation</th>\n      <th>Family</th>\n      <th>Western</th>\n      <th>Comedy</th>\n      <th>Romance</th>\n      <th>Horror</th>\n      <th>Mystery</th>\n      <th>History</th>\n      <th>War</th>\n      <th>Music</th>\n      <th>Documentary</th>\n      <th>Foreign</th>\n      <th>TV Movie</th>\n    </tr>\n  </thead>\n  <tbody>\n    <tr>\n      <th>0</th>\n      <td>0</td>\n      <td>0</td>\n      <td>0</td>\n      <td>0</td>\n      <td>0</td>\n      <td>0</td>\n      <td>0</td>\n      <td>0</td>\n      <td>0</td>\n      <td>0</td>\n      <td>0</td>\n      <td>0</td>\n      <td>0</td>\n      <td>0</td>\n      <td>0</td>\n      <td>0</td>\n      <td>0</td>\n      <td>0</td>\n      <td>0</td>\n      <td>0</td>\n    </tr>\n    <tr>\n      <th>1</th>\n      <td>0</td>\n      <td>0</td>\n      <td>0</td>\n      <td>0</td>\n      <td>0</td>\n      <td>0</td>\n      <td>0</td>\n      <td>0</td>\n      <td>0</td>\n      <td>0</td>\n      <td>0</td>\n      <td>0</td>\n      <td>0</td>\n      <td>0</td>\n      <td>0</td>\n      <td>0</td>\n      <td>0</td>\n      <td>0</td>\n      <td>0</td>\n      <td>0</td>\n    </tr>\n    <tr>\n      <th>2</th>\n      <td>0</td>\n      <td>0</td>\n      <td>0</td>\n      <td>0</td>\n      <td>0</td>\n      <td>0</td>\n      <td>0</td>\n      <td>0</td>\n      <td>0</td>\n      <td>0</td>\n      <td>0</td>\n      <td>0</td>\n      <td>0</td>\n      <td>0</td>\n      <td>0</td>\n      <td>0</td>\n      <td>0</td>\n      <td>0</td>\n      <td>0</td>\n      <td>0</td>\n    </tr>\n    <tr>\n      <th>3</th>\n      <td>0</td>\n      <td>0</td>\n      <td>0</td>\n      <td>0</td>\n      <td>0</td>\n      <td>0</td>\n      <td>0</td>\n      <td>0</td>\n      <td>0</td>\n      <td>0</td>\n      <td>0</td>\n      <td>0</td>\n      <td>0</td>\n      <td>0</td>\n      <td>0</td>\n      <td>0</td>\n      <td>0</td>\n      <td>0</td>\n      <td>0</td>\n      <td>0</td>\n    </tr>\n    <tr>\n      <th>4</th>\n      <td>0</td>\n      <td>0</td>\n      <td>0</td>\n      <td>0</td>\n      <td>0</td>\n      <td>0</td>\n      <td>0</td>\n      <td>0</td>\n      <td>0</td>\n      <td>0</td>\n      <td>0</td>\n      <td>0</td>\n      <td>0</td>\n      <td>0</td>\n      <td>0</td>\n      <td>0</td>\n      <td>0</td>\n      <td>0</td>\n      <td>0</td>\n      <td>0</td>\n    </tr>\n  </tbody>\n</table>\n</div>"
     },
     "execution_count": 8,
     "metadata": {},
     "output_type": "execute_result"
    }
   ],
   "source": [
    "a = [0]*4803*20\n",
    "df_genre = pd.DataFrame(np.array(a).reshape(4803, 20),\n",
    "                  columns=genres_list)\n",
    "df_genre.head()"
   ],
   "metadata": {
    "collapsed": false,
    "pycharm": {
     "name": "#%%\n"
    }
   }
  },
  {
   "cell_type": "code",
   "execution_count": 9,
   "outputs": [
    {
     "data": {
      "text/plain": "[['Action', 'Adventure', 'Fantasy', 'Science Fiction'],\n ['Adventure', 'Fantasy', 'Action'],\n ['Action', 'Adventure', 'Crime'],\n ['Action', 'Crime', 'Drama', 'Thriller'],\n ['Action', 'Adventure', 'Science Fiction'],\n ['Fantasy', 'Action', 'Adventure'],\n ['Animation', 'Family'],\n ['Action', 'Adventure', 'Science Fiction'],\n ['Adventure', 'Fantasy', 'Family'],\n ['Action', 'Adventure', 'Fantasy'],\n ['Adventure', 'Fantasy', 'Action', 'Science Fiction'],\n ['Adventure', 'Action', 'Thriller', 'Crime'],\n ['Adventure', 'Fantasy', 'Action'],\n ['Action', 'Adventure', 'Western'],\n ['Action', 'Adventure', 'Fantasy', 'Science Fiction'],\n ['Adventure', 'Family', 'Fantasy'],\n ['Science Fiction', 'Action', 'Adventure'],\n ['Adventure', 'Action', 'Fantasy'],\n ['Action', 'Comedy', 'Science Fiction'],\n ['Action', 'Adventure', 'Fantasy'],\n ['Action', 'Adventure', 'Fantasy'],\n ['Action', 'Adventure'],\n ['Adventure', 'Fantasy'],\n ['Adventure', 'Fantasy'],\n ['Adventure', 'Drama', 'Action'],\n ['Drama', 'Romance', 'Thriller'],\n ['Adventure', 'Action', 'Science Fiction'],\n ['Thriller', 'Action', 'Adventure', 'Science Fiction'],\n ['Action', 'Adventure', 'Science Fiction', 'Thriller'],\n ['Action', 'Adventure', 'Thriller'],\n ['Action', 'Adventure', 'Fantasy'],\n ['Action', 'Adventure', 'Science Fiction'],\n ['Family', 'Fantasy', 'Adventure'],\n ['Adventure', 'Action', 'Science Fiction', 'Thriller'],\n ['Animation', 'Family'],\n ['Science Fiction', 'Action', 'Adventure'],\n ['Science Fiction', 'Action', 'Adventure'],\n ['Fantasy', 'Adventure', 'Family'],\n ['Action', 'Adventure', 'Fantasy'],\n ['Adventure', 'Action', 'Science Fiction'],\n ['Animation', 'Family', 'Adventure', 'Comedy'],\n ['Adventure', 'Action', 'Thriller', 'Science Fiction'],\n ['Animation', 'Family', 'Comedy'],\n ['Action', 'Science Fiction', 'Thriller'],\n ['Action'],\n ['Action', 'Drama', 'Horror', 'Science Fiction', 'Thriller'],\n ['Action', 'Adventure', 'Fantasy', 'Science Fiction'],\n ['Action', 'Adventure', 'Science Fiction'],\n ['Action', 'Family', 'Fantasy'],\n ['Drama', 'Romance'],\n ['Adventure', 'Fantasy', 'Action', 'Romance'],\n ['Action', 'Science Fiction', 'Adventure'],\n ['Action', 'Science Fiction', 'Adventure'],\n ['Adventure', 'Action'],\n ['Adventure', 'Animation', 'Family'],\n ['Animation', 'Adventure', 'Comedy', 'Family', 'Action', 'Fantasy'],\n ['Action', 'Adventure', 'Science Fiction'],\n ['Animation', 'Family'],\n ['Action', 'Comedy', 'Crime', 'Thriller'],\n ['Action', 'Adventure', 'Science Fiction'],\n ['Animation', 'Drama'],\n ['Science Fiction', 'Fantasy', 'Action', 'Adventure'],\n ['Action', 'Adventure'],\n ['Adventure', 'Family', 'Fantasy'],\n ['Science Fiction'],\n ['Drama', 'Action', 'Crime', 'Thriller'],\n ['Animation', 'Comedy', 'Family', 'Adventure'],\n ['Animation', 'Family', 'Adventure', 'Science Fiction'],\n ['Action', 'Science Fiction', 'Adventure'],\n ['Adventure', 'Drama', 'Family'],\n ['Action', 'Adventure', 'Comedy', 'Science Fiction', 'Western'],\n ['Adventure', 'Action', 'Fantasy'],\n ['Action', 'Adventure', 'Crime', 'Fantasy', 'Science Fiction'],\n ['Fantasy', 'Comedy', 'Family'],\n ['Action', 'Science Fiction'],\n ['Adventure', 'Action'],\n ['Adventure', 'Action', 'Thriller', 'Science Fiction'],\n ['Drama', 'Comedy', 'Animation', 'Family'],\n ['Family', 'Adventure', 'Drama', 'Fantasy'],\n ['Adventure', 'Action', 'Science Fiction'],\n ['Adventure', 'Fantasy', 'Drama'],\n ['Fantasy', 'Adventure', 'Action', 'Family', 'Romance'],\n ['Science Fiction', 'Action', 'Drama', 'Thriller'],\n ['Action', 'Adventure', 'Science Fiction', 'Romance'],\n ['Drama', 'Action', 'Adventure', 'Fantasy'],\n ['Action', 'Adventure', 'Science Fiction'],\n ['Comedy', 'Adventure', 'Fantasy', 'Animation', 'Family'],\n ['Adventure', 'Family', 'Mystery', 'Science Fiction'],\n ['Adventure', 'Family', 'Animation', 'Action', 'Comedy'],\n ['Family', 'Animation', 'Comedy', 'Adventure'],\n ['Adventure', 'Animation', 'Family', 'Fantasy'],\n ['Action', 'Adventure', 'Science Fiction'],\n ['Fantasy', 'Adventure', 'Animation', 'Family'],\n ['Action', 'Thriller', 'Science Fiction'],\n ['Action', 'Science Fiction', 'Adventure'],\n ['Adventure', 'Drama', 'Science Fiction'],\n ['Action', 'Thriller', 'Science Fiction', 'Mystery', 'Adventure'],\n ['Action', 'Adventure', 'Drama', 'Horror', 'Science Fiction'],\n ['Adventure', 'Fantasy', 'Action'],\n ['Action', 'Crime', 'Thriller'],\n ['Fantasy', 'Drama', 'Thriller', 'Mystery', 'Romance'],\n ['Action', 'Science Fiction', 'Adventure'],\n ['Action', 'Adventure', 'Science Fiction'],\n ['Fantasy', 'Adventure', 'Action', 'Comedy', 'Drama'],\n ['Adventure', 'Action', 'Drama', 'Thriller'],\n ['Fantasy'],\n ['Fantasy', 'Adventure', 'Animation', 'Comedy', 'Family'],\n ['Action', 'Adventure', 'Fantasy'],\n ['Science Fiction', 'Action', 'Thriller', 'Adventure'],\n ['Adventure', 'Family', 'Fantasy'],\n ['History', 'Romance', 'War'],\n ['Adventure', 'Science Fiction', 'Action'],\n ['War', 'History', 'Action', 'Adventure', 'Drama', 'Romance'],\n ['Adventure', 'Fantasy', 'Family', 'Mystery'],\n ['Adventure', 'Fantasy', 'Family'],\n ['Fantasy', 'Action'],\n ['Drama', 'Horror', 'Action', 'Thriller', 'Science Fiction'],\n ['Adventure', 'Comedy', 'Family', 'Fantasy'],\n ['Animation', 'Comedy', 'Family', 'Fantasy'],\n ['Action', 'Crime', 'Drama'],\n ['Family', 'Animation'],\n ['Adventure', 'Fantasy', 'Action', 'Comedy', 'Family'],\n ['Adventure', 'Action', 'Thriller', 'Science Fiction'],\n ['Adventure', 'Action', 'Thriller', 'Science Fiction'],\n ['Animation', 'Adventure', 'Family'],\n ['Adventure', 'Action', 'Thriller', 'Science Fiction'],\n ['Action', 'Adventure', 'Fantasy'],\n ['Action', 'Adventure', 'Science Fiction', 'Thriller'],\n ['Thriller', 'Mystery'],\n ['Adventure', 'Fantasy', 'Action'],\n ['Animation', 'Family', 'Adventure', 'Comedy'],\n ['Fantasy', 'Action', 'Adventure', 'Family', 'Comedy'],\n ['Adventure'],\n ['Comedy', 'Fantasy'],\n ['Action', 'Adventure', 'Thriller'],\n ['Drama', 'Horror', 'Thriller'],\n ['Family', 'Animation', 'Adventure', 'Comedy'],\n ['Animation', 'Family'],\n ['Action', 'Adventure', 'Family', 'Fantasy'],\n ['Adventure', 'Action', 'Thriller'],\n ['Action', 'Drama', 'Thriller'],\n ['Adventure', 'Animation', 'Family'],\n ['Adventure', 'Animation', 'Comedy', 'Family'],\n ['Adventure', 'Family', 'Fantasy'],\n ['Animation', 'Adventure', 'Family'],\n ['Adventure', 'Drama', 'War'],\n ['Animation', 'Family'],\n ['Adventure', 'Action', 'Thriller'],\n ['Action', 'Fantasy', 'Comedy'],\n ['Action', 'Thriller', 'Science Fiction', 'Adventure'],\n ['Action', 'Adventure', 'Comedy', 'Science Fiction'],\n ['Adventure', 'Action', 'Animation'],\n ['Action', 'Adventure', 'Animation', 'Comedy', 'Family'],\n ['Action', 'Thriller', 'Adventure'],\n ['Fantasy', 'Animation', 'Family'],\n ['Comedy'],\n ['Drama', 'Action', 'War', 'History'],\n ['Adventure', 'Drama', 'Action'],\n ['Science Fiction', 'Action', 'Adventure'],\n ['Fantasy', 'Action'],\n ['Fantasy', 'Action', 'Adventure', 'Animation', 'Comedy', 'Family'],\n ['Fantasy'],\n ['Action'],\n ['Action', 'Mystery', 'Science Fiction'],\n ['Action', 'Adventure', 'Comedy', 'Crime', 'Thriller'],\n ['Drama', 'Action', 'Science Fiction'],\n ['Adventure', 'Action', 'Science Fiction', 'Thriller'],\n ['Action', 'Adventure', 'Comedy', 'Drama', 'Mystery'],\n ['Adventure',\n  'Action',\n  'Animation',\n  'Fantasy',\n  'Science Fiction',\n  'Thriller'],\n ['Action', 'Adventure', 'Science Fiction'],\n ['Adventure', 'Action', 'Thriller'],\n ['Adventure'],\n ['Adventure', 'Fantasy', 'Drama', 'Romance'],\n ['Animation', 'Comedy', 'Family'],\n ['Science Fiction', 'Action', 'Adventure'],\n ['Adventure', 'Family', 'Fantasy'],\n ['Western', 'Drama', 'Adventure', 'Thriller'],\n ['Animation', 'Family'],\n ['Animation', 'Comedy', 'Family', 'Western', 'Adventure'],\n ['Family', 'Animation', 'Adventure', 'Comedy'],\n ['Action', 'Drama', 'Mystery', 'Thriller'],\n ['Adventure', 'Animation', 'Family', 'Comedy'],\n ['Science Fiction', 'Action', 'Adventure'],\n ['Adventure', 'Action', 'Science Fiction'],\n ['Fantasy', 'Comedy', 'Animation', 'Science Fiction', 'Family'],\n ['Adventure', 'Thriller', 'Science Fiction'],\n ['Adventure', 'Action', 'Comedy', 'Thriller', 'Crime'],\n ['Action', 'Adventure', 'Animation', 'Family', 'Fantasy'],\n ['Action', 'Mystery', 'Thriller'],\n ['Drama', 'Adventure'],\n ['Adventure', 'Animation', 'Mystery'],\n ['Adventure', 'Fantasy', 'Family'],\n ['Drama'],\n ['Science Fiction', 'Action', 'Adventure'],\n ['Animation', 'Family'],\n ['Adventure', 'Comedy', 'Fantasy', 'Family'],\n ['Animation', 'Action', 'Comedy', 'Family', 'Science Fiction'],\n ['Adventure', 'Fantasy', 'Family'],\n ['Fantasy', 'Action', 'Comedy', 'Crime'],\n ['Adventure', 'Fantasy', 'Action'],\n ['Science Fiction', 'Adventure', 'Thriller'],\n ['Thriller', 'Mystery'],\n ['Animation', 'Adventure', 'Comedy', 'Family'],\n ['Adventure', 'Action', 'Science Fiction', 'Thriller'],\n ['Action', 'Thriller', 'Crime'],\n ['Adventure', 'Action', 'Crime', 'Mystery'],\n ['Adventure', 'Fantasy', 'Action'],\n ['Action', 'Adventure', 'Science Fiction'],\n ['Adventure', 'Fantasy', 'Action'],\n ['Action', 'Thriller'],\n ['Action', 'Crime', 'Fantasy'],\n ['Family', 'Comedy', 'Fantasy'],\n ['Action', 'Adventure', 'Science Fiction', 'Thriller'],\n ['Adventure', 'Action', 'Thriller'],\n ['Drama'],\n ['Adventure', 'Fantasy', 'Action', 'Thriller'],\n ['Adventure', 'Drama', 'Action'],\n ['Thriller', 'Action', 'Fantasy', 'Horror'],\n ['Action', 'Thriller'],\n ['Action', 'Adventure', 'Comedy'],\n ['Science Fiction', 'Adventure', 'Mystery'],\n ['Family', 'Adventure', 'Animation', 'Comedy'],\n ['Science Fiction', 'Action', 'Drama', 'Thriller'],\n ['Action', 'Science Fiction'],\n ['Action', 'Science Fiction'],\n ['Action', 'Family', 'Science Fiction'],\n ['Comedy', 'Drama', 'Romance'],\n ['Action', 'Comedy'],\n ['Action', 'Science Fiction', 'Adventure', 'Mystery'],\n ['Science Fiction', 'Adventure', 'Action'],\n ['Adventure', 'Action', 'Science Fiction'],\n ['Animation', 'Comedy', 'Family'],\n ['Action', 'Science Fiction', 'Adventure', 'Fantasy'],\n ['Adventure', 'Action', 'Science Fiction'],\n ['Adventure', 'Animation', 'Comedy', 'Family', 'Fantasy'],\n ['Fantasy', 'Adventure', 'Comedy', 'Family'],\n ['Drama', 'Action', 'History', 'War'],\n ['Action', 'Adventure', 'Drama'],\n ['Science Fiction', 'Action', 'Adventure', 'Fantasy', 'Comedy'],\n ['Science Fiction', 'Thriller', 'Drama'],\n ['Action', 'Adventure', 'Thriller'],\n ['Fantasy', 'Action', 'Adventure', 'Comedy'],\n ['Action', 'Adventure', 'Science Fiction'],\n ['Action', 'Adventure', 'Comedy', 'Family', 'Fantasy'],\n ['Action', 'Drama', 'Thriller'],\n ['Adventure', 'Action', 'Thriller'],\n ['Drama', 'History', 'War', 'Action'],\n ['Thriller', 'Crime'],\n ['Action', 'Comedy', 'Drama', 'Thriller'],\n ['Adventure', 'Science Fiction', 'Thriller'],\n ['Drama'],\n ['Comedy'],\n ['Action', 'Crime', 'Comedy'],\n ['Action', 'War'],\n ['Animation', 'Family', 'Adventure', 'Comedy', 'Fantasy'],\n ['Animation', 'Family'],\n ['Adventure', 'Science Fiction'],\n ['Action', 'Science Fiction', 'Drama'],\n ['Fantasy', 'Family', 'Comedy', 'Animation'],\n ['Action', 'Adventure', 'Thriller'],\n ['Science Fiction', 'Action', 'Adventure'],\n ['Action', 'Thriller'],\n ['Adventure', 'Fantasy', 'Action'],\n ['Action', 'Adventure', 'Comedy'],\n ['Drama'],\n ['Comedy', 'Fantasy', 'Family'],\n ['Action', 'Science Fiction'],\n ['Drama', 'Action', 'Adventure', 'History', 'War'],\n ['Animation', 'Fantasy', 'Family', 'Comedy'],\n ['Romance', 'Family', 'Animation', 'Music'],\n ['Drama', 'Adventure', 'Science Fiction'],\n ['Action', 'Thriller', 'Science Fiction', 'Adventure'],\n ['Comedy', 'Romance'],\n ['Action', 'Crime', 'Thriller'],\n ['Action', 'Drama', 'Adventure'],\n ['Action', 'Thriller', 'Science Fiction', 'Mystery'],\n ['Adventure', 'Fantasy', 'Family'],\n ['Adventure', 'Action', 'Thriller'],\n ['Thriller', 'Science Fiction', 'Action', 'Adventure'],\n ['Action', 'Thriller', 'Science Fiction'],\n ['History', 'Crime', 'Drama'],\n ['Drama', 'Crime'],\n ['Action', 'Thriller'],\n ['Thriller', 'Drama', 'Crime'],\n ['Comedy', 'Romance'],\n ['Action', 'Comedy', 'Crime'],\n ['Action', 'Drama', 'Mystery', 'Thriller'],\n ['Drama', 'Western'],\n ['Drama', 'Animation', 'Family'],\n ['Adventure', 'Animation', 'Comedy', 'Family', 'Fantasy'],\n ['Action', 'Adventure', 'Thriller'],\n ['Adventure', 'Action', 'Thriller', 'Mystery'],\n ['Fantasy', 'Action', 'Adventure', 'Family'],\n ['Family', 'Fantasy'],\n ['Animation', 'Adventure', 'Family', 'Fantasy'],\n ['Action', 'Thriller', 'Romance'],\n ['Action', 'Fantasy', 'Horror', 'Mystery'],\n ['Drama', 'Thriller', 'Action'],\n ['Crime', 'Drama', 'Comedy'],\n ['Action', 'Crime', 'Fantasy'],\n ['Adventure', 'Action', 'Thriller', 'Science Fiction'],\n ['Drama', 'Science Fiction'],\n ['Animation', 'Adventure', 'Family', 'Fantasy'],\n ['Action', 'Crime'],\n ['Action', 'Adventure'],\n ['Adventure', 'Animation', 'Family', 'Fantasy', 'Science Fiction'],\n ['Adventure', 'Comedy', 'Science Fiction'],\n ['Action', 'Adventure', 'Thriller'],\n ['Action', 'Crime', 'Thriller'],\n ['Fantasy', 'Comedy', 'Family', 'Adventure'],\n ['Thriller', 'Drama', 'Adventure', 'Action', 'History'],\n ['Action', 'Comedy', 'Science Fiction'],\n ['War', 'Action', 'Adventure', 'Drama', 'Thriller'],\n ['Animation'],\n ['Crime', 'Drama', 'Mystery', 'Thriller'],\n ['Adventure', 'Action', 'Fantasy'],\n ['Drama', 'History', 'Crime'],\n ['Drama', 'History', 'War'],\n ['Animation', 'Comedy', 'Family'],\n ['Action', 'Comedy', 'Science Fiction'],\n ['Action', 'History', 'War'],\n ['Comedy'],\n ['Adventure', 'Fantasy', 'Action', 'Thriller', 'Science Fiction'],\n ['Comedy', 'Drama', 'Romance'],\n ['Adventure', 'Animation', 'Comedy', 'Family'],\n ['Animation', 'Comedy', 'Adventure', 'Family'],\n ['Romance', 'Fantasy', 'Family', 'Drama'],\n ['Fantasy', 'Drama'],\n ['Animation', 'Family'],\n ['Adventure', 'Fantasy', 'Action'],\n ['Adventure', 'Fantasy', 'Action'],\n ['Adventure', 'Fantasy'],\n ['Adventure', 'Fantasy', 'Action', 'Thriller'],\n ['Thriller', 'Science Fiction', 'Drama', 'Mystery'],\n ['Adventure', 'Action', 'Thriller', 'Science Fiction'],\n ['Thriller', 'Action', 'Drama', 'Science Fiction'],\n ['Adventure', 'Family', 'Fantasy'],\n ['Action', 'Thriller'],\n ['Western', 'History', 'War'],\n ['Action', 'Adventure', 'Animation', 'Family'],\n ['Action', 'Adventure'],\n ['Adventure', 'Fantasy', 'Family'],\n ['Action', 'Adventure', 'Comedy', 'Science Fiction'],\n ['Animation', 'Comedy', 'Family'],\n ['Action', 'Thriller'],\n ['Action', 'Comedy', 'Crime', 'Thriller'],\n ['Drama', 'Horror', 'Mystery', 'Thriller'],\n ['Animation', 'Comedy', 'Family'],\n ['Animation', 'Comedy', 'Family', 'Adventure'],\n ['Adventure', 'Comedy', 'Drama', 'Fantasy'],\n ['Action', 'Adventure', 'Comedy', 'Crime', 'Thriller'],\n ['Drama', 'Thriller', 'Crime'],\n ['Animation', 'Family', 'Adventure'],\n ['Action', 'Comedy'],\n ['Thriller', 'Crime', 'Mystery', 'Drama'],\n ['Action', 'Thriller'],\n ['Action', 'Adventure', 'Crime', 'Mystery'],\n ['Drama'],\n ['Animation', 'Family', 'Adventure', 'Science Fiction'],\n ['Adventure', 'Animation', 'Comedy', 'Family'],\n ['Drama', 'Thriller', 'History', 'War'],\n ['Comedy', 'Action'],\n ['Action', 'Comedy', 'Science Fiction'],\n ['Drama', 'Science Fiction', 'Adventure'],\n ['Thriller', 'Fantasy', 'Comedy', 'Family', 'Mystery'],\n ['Drama', 'Science Fiction', 'Mystery'],\n ['Action', 'Science Fiction', 'Thriller'],\n ['Crime', 'Thriller'],\n ['Adventure', 'Family', 'Fantasy'],\n ['Action', 'Adventure', 'Fantasy', 'Thriller'],\n ['Action', 'Adventure', 'Comedy', 'Crime', 'Mystery', 'Thriller'],\n ['Thriller', 'Action', 'Romance', 'Science Fiction', 'Adventure'],\n ['Action', 'Crime', 'Thriller'],\n ['Science Fiction'],\n ['Animation', 'Adventure', 'Comedy', 'Family'],\n ['Comedy', 'Science Fiction'],\n ['Science Fiction', 'Action', 'Drama', 'Thriller'],\n ['Crime', 'Thriller', 'Drama'],\n ['Drama', 'History', 'Thriller'],\n ['Adventure', 'Fantasy', 'Action'],\n ['Romance', 'Drama', 'History'],\n ['Fantasy', 'Action', 'Family'],\n ['Drama', 'History'],\n ['Action', 'Adventure', 'Drama'],\n ['Adventure', 'Drama'],\n ['Animation', 'Comedy'],\n ['Action', 'Drama', 'Thriller'],\n ['Action', 'Thriller'],\n ['Thriller', 'Crime'],\n ['Adventure', 'Action', 'Thriller'],\n ['Animation', 'Comedy', 'Family', 'Fantasy'],\n ['Comedy', 'Family', 'Fantasy', 'Romance'],\n ['Action', 'Thriller'],\n ['Comedy', 'Family'],\n ['Action', 'Comedy'],\n ['Comedy', 'Romance'],\n ['Action', 'Drama', 'Thriller'],\n ['Comedy', 'Romance'],\n ['Crime', 'Thriller'],\n ['Adventure', 'Animation', 'Family'],\n ['Adventure', 'Action', 'Science Fiction'],\n ['War'],\n ['Adventure', 'Action', 'Comedy', 'Thriller'],\n ['Adventure', 'Fantasy', 'Action', 'Comedy', 'Family'],\n ['Drama', 'History', 'Romance'],\n ['Action', 'Crime', 'Drama', 'Thriller'],\n ['Drama', 'Animation', 'Family', 'Comedy'],\n ['Fantasy', 'Drama', 'Mystery'],\n ['Action', 'Thriller', 'Drama'],\n ['Drama', 'Music'],\n ['Adventure', 'Fantasy', 'Drama', 'Comedy', 'Science Fiction', 'Family'],\n ['Action', 'Adventure', 'Comedy'],\n ['Action', 'Thriller', 'Adventure', 'Science Fiction'],\n ['Fantasy', 'Comedy', 'Romance', 'Science Fiction'],\n ['Mystery', 'Adventure', 'Comedy'],\n ['Action', 'Science Fiction'],\n ['Comedy', 'Drama', 'Fantasy', 'Romance'],\n ['Horror', 'Comedy', 'Fantasy'],\n ['Comedy', 'Family'],\n ['Adventure', 'Fantasy', 'Science Fiction'],\n ['Adventure', 'Fantasy', 'Science Fiction'],\n ['Crime', 'Drama', 'Mystery', 'Thriller'],\n ['Science Fiction'],\n ['Fantasy', 'Comedy'],\n ['Thriller', 'Adventure', 'Action'],\n ['Adventure', 'Action', 'Thriller'],\n ['Science Fiction', 'Adventure', 'Fantasy'],\n ['Comedy'],\n ['Action', 'Fantasy'],\n ['Comedy', 'Animation', 'Family'],\n ['Animation', 'Family'],\n ['Comedy', 'Family', 'Fantasy'],\n ['Action', 'Drama', 'Romance'],\n ['Action', 'Comedy', 'Crime', 'Thriller'],\n ['Comedy', 'Drama'],\n ['Comedy', 'Fantasy', 'Family', 'Music', 'Animation'],\n ['Comedy'],\n ['Action', 'Comedy', 'Thriller'],\n ['Drama', 'Comedy', 'Romance'],\n ['Drama', 'Thriller', 'Mystery'],\n ['Comedy', 'Romance', 'Drama'],\n ['Animation', 'Comedy', 'Family', 'Science Fiction'],\n ['Action', 'Crime', 'Science Fiction', 'Thriller'],\n ['Fantasy', 'Comedy', 'Family', 'Romance'],\n ['Thriller', 'Crime', 'Drama'],\n ['Romance', 'Comedy'],\n ['Action', 'Thriller', 'Crime'],\n ['Mystery', 'Thriller', 'Action'],\n ['Drama'],\n ['Action', 'Thriller', 'Science Fiction'],\n ['Comedy', 'Family', 'Science Fiction'],\n ['Horror', 'Thriller', 'Fantasy', 'Mystery'],\n ['Animation', 'Comedy', 'Drama', 'Family', 'Fantasy'],\n ['Action', 'Comedy', 'Crime', 'Mystery', 'Family'],\n ['Drama', 'Science Fiction', 'Thriller'],\n ['Action', 'Drama', 'Mystery', 'Thriller'],\n ['War', 'Drama', 'Action'],\n ['Action', 'Adventure', 'Comedy', 'Romance'],\n ['Comedy', 'Family', 'Animation', 'Adventure'],\n ['Western', 'Animation', 'Adventure', 'Comedy', 'Family'],\n ['Comedy', 'Romance', 'Family'],\n ['Adventure', 'Family', 'Science Fiction'],\n ['Drama', 'Thriller', 'Mystery'],\n ['Romance', 'Drama'],\n ['Animation', 'Comedy', 'Family'],\n ['Animation', 'Family', 'Music'],\n ['Science Fiction', 'Adventure', 'Action'],\n ['Action', 'Adventure', 'Family', 'Fantasy'],\n ['Action', 'Crime', 'Thriller'],\n ['Action', 'Adventure'],\n ['Drama', 'Fantasy', 'Romance'],\n ['Comedy', 'Fantasy', 'Romance'],\n ['Adventure', 'Fantasy', 'Action', 'Comedy', 'Thriller'],\n ['Comedy', 'Fantasy', 'Science Fiction'],\n ['Mystery', 'Drama', 'Horror'],\n ['Action', 'Adventure', 'Drama'],\n ['Action', 'Science Fiction', 'Thriller'],\n ['Drama', 'Thriller'],\n ['Action', 'Adventure', 'Thriller'],\n ['Animation', 'Family', 'Adventure'],\n ['Action', 'Science Fiction', 'War'],\n ['Animation', 'Comedy', 'Family'],\n ['Drama', 'Music', 'Romance'],\n ['Action', 'Adventure', 'Science Fiction'],\n ['Drama', 'Adventure'],\n ['Adventure', 'Comedy', 'Drama', 'Family', 'Fantasy'],\n ['Fantasy', 'Action', 'Adventure'],\n ['Thriller', 'Action', 'Science Fiction'],\n ['Adventure', 'Fantasy', 'Animation', 'Family'],\n ['Documentary', 'Family'],\n ['Thriller', 'Science Fiction', 'Adventure', 'Action'],\n ['Action', 'Adventure', 'History', 'Romance', 'Drama'],\n ['Comedy', 'Animation'],\n ['Drama', 'Romance'],\n ['Family', 'Animation', 'Drama'],\n ['Adventure', 'Action', 'Science Fiction'],\n ['Animation', 'Family', 'Comedy'],\n ['Crime', 'Thriller', 'Horror'],\n ['Western', 'Adventure'],\n ['Comedy'],\n ['Action', 'Crime', 'Thriller'],\n ['Adventure', 'Animation', 'Fantasy'],\n ['Science Fiction', 'Thriller'],\n ['Action', 'Adventure', 'Animation', 'Comedy', 'Family'],\n ['Animation', 'Family'],\n ['Fantasy', 'Action', 'Thriller', 'Science Fiction'],\n ['Animation', 'Comedy', 'Family'],\n ['Action', 'Adventure', 'Science Fiction'],\n ['Adventure', 'Action', 'Science Fiction'],\n ['Family', 'Animation'],\n ['Drama', 'Action', 'Thriller', 'Science Fiction'],\n ['Adventure', 'Action', 'Science Fiction'],\n ['Action', 'Thriller', 'Crime'],\n ['Action', 'Adventure', 'Thriller'],\n ['Animation', 'Family', 'Comedy', 'Adventure'],\n ['Comedy', 'Romance'],\n ['Family', 'Comedy', 'Music', 'Romance'],\n ['Horror', 'Mystery', 'Thriller'],\n ['Action', 'Adventure', 'Comedy', 'Family'],\n ['Thriller', 'Crime'],\n ['Comedy'],\n ['Comedy', 'Drama'],\n ['Comedy', 'Family'],\n ['Action', 'Adventure', 'Thriller'],\n ['Comedy', 'Drama', 'History'],\n ['Animation', 'Action', 'Comedy', 'Family'],\n ['Drama'],\n ['Comedy', 'Crime'],\n ['Drama', 'Action', 'History', 'Thriller'],\n ['Action', 'Drama', 'War'],\n ['Action', 'Comedy', 'Thriller', 'Romance'],\n ['Comedy', 'Action', 'Adventure'],\n ['Comedy'],\n ['Animation', 'Comedy', 'Family', 'Fantasy'],\n ['Action', 'Comedy', 'Crime', 'Romance'],\n ['Action', 'Adventure', 'Drama', 'Romance'],\n ['Drama', 'History', 'Romance'],\n ['Fantasy', 'Action', 'Drama'],\n ['Mystery', 'Drama', 'Thriller', 'Crime'],\n ['Animation', 'Action', 'Science Fiction', 'Family', 'Adventure'],\n ['Action', 'Adventure', 'Comedy', 'Thriller'],\n ['Action', 'War', 'Science Fiction'],\n ['Action', 'Drama', 'Horror', 'Science Fiction', 'Thriller'],\n ['Adventure', 'Fantasy', 'Animation', 'Action', 'Comedy'],\n ['Action', 'Adventure', 'Drama', 'Thriller'],\n ['Science Fiction', 'Thriller', 'Drama'],\n ['Family', 'Animation', 'Adventure', 'Comedy'],\n ['Action', 'Fantasy', 'Thriller'],\n ['Crime', 'Mystery'],\n ['Science Fiction'],\n ['Family', 'Animation'],\n ['Romance', 'Comedy', 'Adventure'],\n ['Comedy', 'Drama'],\n ['Thriller', 'Action', 'Drama'],\n ['Comedy'],\n ['Comedy', 'Family', 'Romance', 'Fantasy'],\n ['Action', 'Drama', 'History', 'War'],\n ['Drama', 'War'],\n ['Animation', 'Comedy', 'Family'],\n ['Drama', 'Romance'],\n ['Action'],\n ['Adventure', 'Drama', 'Family'],\n ['Drama', 'Mystery', 'Thriller'],\n ['Comedy', 'Family', 'Fantasy'],\n ['Drama', 'Thriller', 'Science Fiction', 'Mystery'],\n ['Adventure', 'Animation', 'Comedy', 'Family', 'Fantasy'],\n ['Animation', 'Adventure', 'Comedy', 'Family'],\n ['Comedy', 'Romance'],\n ['Action', 'Adventure', 'Thriller'],\n ['Animation', 'Adventure', 'Comedy', 'Family'],\n ['Action', 'Thriller'],\n ['Drama', 'Action', 'Thriller', 'War'],\n ['Adventure', 'Fantasy', 'Comedy', 'Family'],\n ['Action', 'Thriller'],\n ['Action', 'Thriller', 'Crime'],\n ['Drama', 'Mystery', 'Romance', 'Science Fiction', 'Thriller'],\n ['Drama', 'Thriller', 'Fantasy', 'Mystery'],\n ['Adventure', 'Science Fiction', 'Action'],\n ['Comedy', 'Family', 'Animation', 'Fantasy', 'Music'],\n ['Action', 'History', 'War'],\n ['Action', 'Thriller'],\n ['Science Fiction', 'Action', 'Adventure', 'Thriller'],\n ['Action', 'Science Fiction'],\n ['Adventure', 'Fantasy', 'Drama'],\n ['Fantasy'],\n ['Drama', 'War'],\n ['War', 'Drama', 'History', 'Action'],\n ['Adventure', 'Action', 'Thriller', 'Science Fiction'],\n ['Drama', 'Crime'],\n ['Horror', 'Action', 'Drama', 'Fantasy', 'War'],\n ['Drama', 'Action', 'Thriller', 'Crime'],\n ['Adventure', 'Fantasy', 'Romance', 'Family'],\n ['Adventure', 'Drama', 'History'],\n ['Comedy', 'Drama'],\n ['Action', 'Adventure', 'Comedy', 'Thriller'],\n ['Adventure', 'Action', 'Horror'],\n ['Action', 'Adventure', 'Comedy', 'Thriller'],\n ['Fantasy', 'Action', 'Horror'],\n ['Comedy', 'Drama', 'Music', 'Romance'],\n ['Drama', 'War'],\n ['Action', 'Adventure', 'Thriller'],\n ['Action', 'Science Fiction', 'Thriller'],\n ['Action', 'Adventure', 'Thriller'],\n ['Thriller'],\n ['Adventure', 'Animation', 'Action', 'Comedy', 'Family'],\n ['Animation', 'Music', 'Family'],\n ['Crime', 'Drama', 'Mystery'],\n ['Mystery', 'Action', 'Thriller', 'Science Fiction', 'Adventure'],\n ['Crime', 'Mystery', 'Thriller'],\n ['Action', 'Thriller'],\n ['Action', 'Adventure'],\n ['Thriller', 'Action', 'Drama'],\n ['Adventure', 'Fantasy', 'Drama', 'Romance'],\n ['Action', 'Crime', 'Thriller'],\n ['Animation', 'Family'],\n ['Action', 'Comedy', 'Crime'],\n ['Comedy'],\n ['Adventure', 'Drama', 'History'],\n ['Adventure', 'Fantasy', 'Action', 'Comedy', 'Science Fiction'],\n ['Comedy'],\n ['Drama', 'Thriller'],\n ['Action', 'Drama', 'History', 'Thriller'],\n ['Action', 'Drama', 'Thriller'],\n ['Comedy'],\n ['Action', 'Fantasy', 'Horror'],\n ['Romance', 'Drama', 'Mystery'],\n ['Mystery', 'Science Fiction', 'Thriller'],\n ['Action', 'Adventure', 'Fantasy', 'War'],\n ['Drama', 'History', 'War'],\n ['Action', 'Crime', 'Drama', 'Thriller'],\n ['Comedy', 'Romance'],\n ['Animation', 'Comedy', 'Family', 'Adventure'],\n ['Drama', 'Horror', 'Science Fiction', 'Thriller'],\n ['History', 'Drama'],\n ['Action', 'Science Fiction'],\n ['Drama'],\n ['Fantasy', 'Comedy', 'Family'],\n ['Drama', 'Music', 'Romance'],\n ['Comedy', 'Romance'],\n ['Comedy'],\n ['Action', 'Adventure'],\n ['Comedy', 'Drama'],\n ['Drama', 'War'],\n ['Action', 'Adventure', 'Thriller'],\n ['Action', 'Adventure', 'Thriller'],\n ['Action', 'Adventure', 'Drama', 'Thriller'],\n ['Fantasy', 'Comedy', 'Family'],\n ['Drama', 'History', 'Thriller'],\n ['Drama', 'Romance'],\n ['Comedy'],\n ['Mystery', 'Drama'],\n ['Comedy', 'Drama', 'Family'],\n ['Romance', 'Comedy', 'Crime', 'Drama'],\n ['Action', 'Comedy', 'Romance'],\n ['Science Fiction', 'Action', 'Horror', 'Thriller', 'Adventure', 'Fantasy'],\n ['Action', 'Thriller'],\n ['Comedy', 'Drama'],\n ['Action', 'Horror', 'Science Fiction'],\n ['Action', 'Thriller', 'Science Fiction'],\n ['Crime', 'Action', 'Mystery', 'Thriller'],\n ['Action', 'Adventure', 'Drama', 'Romance', 'Thriller'],\n ['Family', 'Fantasy', 'Science Fiction', 'Adventure'],\n ['Drama'],\n ['Drama'],\n ['Action', 'Adventure', 'Comedy'],\n ['Action', 'Adventure', 'Comedy', 'Crime', 'Romance', 'Thriller'],\n ['Horror', 'Thriller'],\n ['Crime', 'Drama', 'Family'],\n ['Action', 'Fantasy'],\n ['Crime', 'Thriller'],\n ['Drama', 'Romance'],\n ['Adventure', 'Drama'],\n ['Crime', 'Fantasy', 'Drama'],\n ['Comedy', 'Crime', 'Science Fiction'],\n ['Animation', 'Action', 'Family', 'Science Fiction'],\n ['Adventure', 'Science Fiction'],\n ['Drama', 'Action', 'Western'],\n ['Action', 'Drama', 'Thriller'],\n ['Action', 'Drama', 'Adventure'],\n ['Comedy', 'Crime'],\n ['Action', 'Drama', 'Thriller', 'War'],\n ['Comedy', 'Drama', 'Romance'],\n ['Comedy', 'Romance'],\n ['Action', 'Adventure', 'Comedy', 'Thriller', 'Crime'],\n ['Crime', 'Drama', 'Mystery', 'Western'],\n ['Action', 'Comedy', 'Drama'],\n ['Animation', 'Comedy', 'Family'],\n ['Action', 'Adventure', 'War'],\n ['Comedy', 'Romance'],\n ['Comedy', 'Family'],\n ['Fantasy', 'Drama', 'Crime'],\n ['Action', 'Adventure', 'Comedy'],\n ['Animation', 'Family', 'Comedy'],\n ['Mystery', 'Thriller', 'Drama'],\n ['Action', 'Drama', 'Mystery', 'Thriller'],\n ['Adventure', 'Action', 'Thriller'],\n ['Crime', 'Drama', 'Mystery', 'Thriller'],\n ['Comedy', 'Drama'],\n ['Adventure', 'Animation', 'Drama', 'Family', 'Music'],\n ['Comedy', 'Family'],\n ['Action', 'Comedy', 'Crime'],\n ['Comedy', 'Family'],\n ['Action', 'Crime'],\n ['Romance', 'Comedy'],\n ['Adventure', 'Animation', 'Comedy', 'Family'],\n ['Comedy', 'Romance'],\n ['Adventure'],\n ['Comedy'],\n ['Action'],\n ['Drama'],\n ['Comedy', 'Drama', 'Romance', 'Fantasy'],\n ['Action', 'Adventure', 'Comedy', 'Crime', 'Thriller'],\n ['Drama'],\n ['Drama', 'Romance'],\n ['Drama', 'Crime', 'Thriller'],\n ['Action', 'Fantasy', 'Adventure'],\n ['Drama', 'Action', 'Thriller'],\n ['Crime', 'Drama', 'Thriller'],\n ['Action', 'Science Fiction', 'Thriller'],\n ['Music', 'Documentary'],\n ['Drama', 'Thriller', 'Science Fiction'],\n ['Comedy', 'Adventure', 'Crime'],\n ['Animation', 'Family'],\n ['Thriller', 'Science Fiction'],\n ['Action', 'Drama', 'Thriller', 'Crime'],\n ['Comedy', 'Family'],\n ['Comedy', 'Crime'],\n ['Family', 'Comedy'],\n ['Fantasy', 'Action', 'Science Fiction'],\n ['Drama'],\n ['Family', 'Animation', 'Adventure', 'Comedy'],\n ['Action', 'Thriller', 'Adventure', 'Crime'],\n ['Action', 'Adventure', 'Mystery', 'Science Fiction', 'Thriller'],\n ['Drama', 'Romance'],\n ['Adventure', 'Animation', 'Family'],\n ['Thriller', 'Action', 'Comedy', 'Science Fiction'],\n ['Action', 'Thriller'],\n ['Action', 'Drama', 'Thriller'],\n ['Drama', 'Comedy'],\n ['Action', 'Crime', 'Thriller'],\n ['Science Fiction', 'Horror', 'Action'],\n ['Action', 'Drama', 'Mystery', 'Thriller', 'Crime'],\n ['Animation', 'Comedy', 'Family', 'Fantasy'],\n ['Drama', 'Fantasy', 'Comedy'],\n ['Adventure', 'Animation', 'Comedy', 'Family', 'Fantasy'],\n ['Action', 'Comedy'],\n ['Adventure', 'Action', 'Fantasy'],\n ['Crime', 'Drama', 'Action', 'Thriller'],\n ['Comedy', 'Adventure'],\n ['Drama', 'History'],\n ['Action'],\n ['Romance', 'Comedy', 'Crime'],\n ['Comedy', 'Drama', 'Family', 'Science Fiction'],\n ['Action', 'Thriller', 'Crime'],\n ['Science Fiction', 'Animation', 'Family', 'Comedy', 'Adventure'],\n ['Science Fiction', 'Action', 'Adventure', 'Thriller'],\n ['Crime', 'Comedy', 'Romance'],\n ['Drama', 'Romance'],\n ['Crime', 'Drama', 'Mystery', 'Thriller'],\n ['Horror', 'Mystery', 'Thriller'],\n ['Comedy', 'Crime'],\n ['Action', 'Crime', 'Drama', 'Thriller'],\n ['Action', 'Crime', 'Drama', 'Thriller'],\n ['Drama'],\n ['Fantasy', 'Drama'],\n ['Drama', 'Music'],\n ['Animation', 'Comedy', 'Family'],\n ['Action', 'Adventure', 'Crime', 'Drama', 'Mystery', 'Thriller'],\n ['Action', 'Science Fiction', 'Fantasy', 'Thriller', 'Horror'],\n ['Family', 'Animation', 'Adventure'],\n ['Horror', 'Science Fiction', 'Mystery'],\n ['Drama'],\n ['Drama'],\n ['Action', 'Adventure', 'Drama', 'History', 'Romance', 'War'],\n ['Action', 'Drama', 'Thriller'],\n ['Horror', 'Science Fiction', 'Thriller'],\n ['Drama', 'Fantasy', 'Mystery', 'Romance'],\n ['Action', 'Adventure', 'Drama', 'Mystery', 'Romance', 'Fantasy'],\n ['Comedy', 'Science Fiction', 'Adventure', 'Family'],\n ['Drama', 'Horror', 'Thriller'],\n ['Comedy'],\n ['Adventure', 'Family', 'Fantasy'],\n ['Action', 'Comedy', 'Thriller', 'Crime', 'Science Fiction'],\n ['Comedy', 'Adventure'],\n ['Adventure', 'Fantasy', 'Action', 'Drama'],\n ['Drama', 'Romance', 'Adventure', 'War'],\n ['Action', 'Adventure', 'Fantasy'],\n ['Action', 'History', 'War'],\n ['Action', 'Adventure', 'Comedy'],\n ['Drama', 'Comedy'],\n ['War', 'Action'],\n ['Adventure', 'Horror', 'Comedy'],\n ['Comedy', 'Fantasy', 'Romance'],\n ['Science Fiction', 'Comedy', 'Family', 'Romance'],\n ['Action', 'Adventure', 'Thriller', 'War'],\n ['Comedy', 'Romance', 'Drama'],\n ['Comedy', 'Western'],\n ['Comedy'],\n ['Comedy'],\n ['Action', 'Adventure', 'Horror', 'Science Fiction'],\n ['Drama', 'Action', 'Adventure', 'History', 'War'],\n ['Drama', 'Horror', 'Mystery', 'Thriller'],\n ['Comedy'],\n ['Fantasy'],\n ['Action', 'Comedy', 'Crime', 'Drama'],\n ['Action', 'Fantasy', 'Thriller'],\n ['Drama', 'History', 'Romance'],\n ['Action', 'Comedy', 'Drama', 'Family', 'Thriller'],\n ['Adventure', 'Drama', 'Action', 'Thriller'],\n ['Comedy', 'Drama', 'Romance'],\n ['Comedy', 'Music', 'Family', 'Fantasy', 'Animation'],\n ['Comedy', 'Romance'],\n ['Adventure', 'Animation', 'Drama', 'Family'],\n ['Action', 'Adventure', 'Fantasy', 'Science Fiction'],\n ['Fantasy', 'Comedy', 'Romance', 'Science Fiction'],\n ['Comedy', 'Drama', 'Romance'],\n ['Adventure', 'Comedy', 'Family', 'Romance'],\n ['Comedy', 'Romance'],\n ['Action', 'Drama', 'Thriller'],\n ['Comedy'],\n ['Fantasy', 'Comedy', 'Family'],\n ['Thriller', 'Action', 'Crime'],\n ['Comedy', 'Drama', 'Romance'],\n ['Action', 'Thriller', 'Drama'],\n ['Drama'],\n ['Thriller', 'Drama', 'Mystery'],\n ['Drama', 'Thriller', 'Crime', 'Mystery', 'Romance'],\n ['Drama', 'Fantasy', 'Romance'],\n ['Action', 'Crime'],\n ['Comedy'],\n ['Action', 'Crime', 'Thriller'],\n ['Action', 'Adventure', 'Comedy'],\n ['Fantasy', 'Comedy'],\n ['Adventure', 'Action', 'Comedy', 'Western'],\n ['Action', 'Adventure', 'Drama', 'Thriller'],\n ['Comedy', 'Family'],\n ['Action', 'Adventure', 'Fantasy'],\n ['Animation', 'Comedy', 'Family'],\n ['Science Fiction', 'Action', 'Horror'],\n ['History', 'Drama', 'Music'],\n ['Action', 'Thriller', 'Crime', 'Adventure'],\n ['Adventure'],\n ['Family', 'Comedy'],\n ['Comedy'],\n ['Drama', 'Action', 'Thriller', 'Crime'],\n ['Drama', 'Mystery', 'Thriller'],\n ['Comedy'],\n ['Comedy'],\n ['Animation', 'Adventure', 'Family', 'Comedy'],\n ['Crime', 'Drama', 'Mystery'],\n ['Action', 'Drama', 'Science Fiction', 'Thriller'],\n ['Drama', 'Mystery', 'Thriller'],\n ['Thriller', 'Drama', 'Romance'],\n ['Drama', 'History', 'Romance'],\n ['Action', 'Science Fiction'],\n ['Drama', 'History', 'War'],\n ['Action', 'Thriller', 'Crime'],\n ['Comedy'],\n ['Comedy', 'Adventure', 'Crime', 'Family'],\n ['Action', 'Adventure', 'Comedy', 'Family', 'Fantasy', 'Science Fiction'],\n ['Drama', 'Romance'],\n ['Drama'],\n ['Drama', 'Romance'],\n ['Action', 'Thriller'],\n ['Fantasy', 'Horror', 'Action', 'Thriller'],\n ['Drama'],\n ['Action', 'Crime', 'Thriller'],\n ['Crime', 'Drama', 'Thriller'],\n ['Comedy', 'Drama', 'Romance'],\n ['Comedy', 'Romance'],\n ['Action', 'Adventure', 'Fantasy', 'Science Fiction'],\n ['Drama'],\n ['Drama', 'Thriller'],\n ['Action', 'Adventure', 'Crime', 'Thriller'],\n ['Animation', 'Family'],\n ['Drama', 'Music', 'Romance'],\n ['Mystery', 'Thriller', 'Crime'],\n ['Crime', 'Drama'],\n ['War', 'Drama', 'History'],\n ['Drama', 'Crime', 'Thriller'],\n ['Thriller', 'Action', 'Horror'],\n ['Drama', 'Thriller'],\n ['Drama', 'Romance'],\n ['Drama', 'Crime'],\n ['Thriller', 'Drama', 'History'],\n ['Romance', 'Comedy'],\n ['Comedy', 'Romance'],\n ['Comedy', 'Romance'],\n ['Action', 'Adventure', 'Comedy'],\n ['Drama', 'History', 'War'],\n ['Comedy'],\n ['Comedy', 'Drama', 'Romance'],\n ['Drama', 'Crime'],\n ['Action', 'Crime', 'Thriller'],\n ['Action', 'Comedy', 'Fantasy'],\n ['Comedy'],\n ['Animation', 'Comedy', 'Family'],\n ['Comedy', 'Family'],\n ['Adventure', 'Fantasy', 'Drama', 'Romance'],\n ['Adventure', 'Animation', 'Comedy', 'Family', 'Fantasy'],\n ['Science Fiction', 'Thriller', 'Romance'],\n ['Adventure'],\n ['Comedy', 'Drama', 'Romance'],\n ['Comedy', 'Fantasy'],\n ['Comedy', 'Romance'],\n ['Comedy', 'Drama'],\n ['Comedy'],\n ['Comedy', 'Romance'],\n ['Thriller', 'Science Fiction', 'Mystery'],\n ['Drama'],\n ['Comedy', 'Romance'],\n ['Crime', 'Comedy', 'Action'],\n ['Horror', 'Romance'],\n ['Comedy'],\n ['Action', 'Comedy'],\n ['Drama', 'Romance'],\n ['Comedy'],\n ['Fantasy', 'Comedy', 'Music'],\n ['Crime', 'Drama', 'Thriller'],\n ['Drama', 'Action', 'Thriller', 'Crime'],\n ['Action', 'Adventure', 'Drama', 'Mystery', 'Science Fiction', 'Thriller'],\n ['Drama', 'Comedy', 'Family'],\n ['Action', 'Adventure', 'Drama', 'Mystery', 'Science Fiction', 'Thriller'],\n ['Comedy'],\n ['Drama', 'Horror', 'Thriller'],\n ['Comedy', 'Drama', 'Romance'],\n ['Animation', 'Comedy', 'Family'],\n ['Comedy', 'Family'],\n ['Drama'],\n ['Action', 'Drama', 'Science Fiction', 'Thriller'],\n ['Action', 'Thriller', 'Mystery'],\n ['Adventure', 'Family', 'Fantasy', 'Science Fiction', 'Thriller', 'Action'],\n ['Action', 'Thriller', 'Fantasy'],\n ['Action', 'Adventure', 'Comedy', 'Western'],\n ['Adventure', 'Animation', 'Comedy', 'Family'],\n ['Comedy', 'Family', 'Adventure', 'Fantasy', 'Romance'],\n ['Thriller'],\n ['Fantasy', 'Horror', 'Action'],\n ['Thriller', 'Drama'],\n ['Action', 'Thriller', 'Science Fiction', 'Adventure'],\n ['Drama', 'Thriller'],\n ['Action', 'Drama', 'History', 'Thriller', 'War'],\n ['Romance', 'Animation', 'Adventure', 'Comedy', 'Family', 'Fantasy'],\n ['Thriller'],\n ['Crime', 'Drama', 'Thriller'],\n ['Action', 'Drama'],\n ['Drama', 'Thriller', 'Mystery'],\n ['Horror', 'Mystery'],\n ['Comedy'],\n ['Comedy'],\n ['Action', 'Adventure', 'Crime', 'Drama', 'Mystery', 'Thriller'],\n ['Action', 'Thriller'],\n ['Action', 'Comedy', 'Crime'],\n ['Comedy', 'Horror', 'Fantasy'],\n ['Drama'],\n ['Action', 'Thriller'],\n ['Horror', 'Action', 'Science Fiction'],\n ['Comedy', 'Romance'],\n ['Thriller', 'Crime', 'Drama'],\n ['Action', 'Thriller'],\n ['Adventure', 'Family', 'Science Fiction'],\n ['Drama', 'Adventure', 'Romance', 'Thriller'],\n ['Drama', 'Comedy', 'Romance'],\n ['Action', 'Crime', 'Thriller'],\n ['Drama', 'Romance'],\n ['Drama', 'Thriller', 'Crime'],\n ['Family', 'Comedy'],\n ['Drama', 'Fantasy'],\n ['Crime', 'Drama', 'Thriller'],\n ['Action', 'Adventure', 'Crime', 'Thriller'],\n ['Crime', 'Drama', 'Thriller'],\n ['Comedy', 'Drama', 'Romance'],\n ['Action', 'Adventure', 'Romance', 'Science Fiction', 'Thriller'],\n ['Action', 'Drama', 'Mystery', 'Thriller', 'Crime'],\n ['Crime', 'Drama', 'Mystery', 'Thriller'],\n ['Drama', 'Thriller', 'Crime'],\n ['Action', 'Adventure', 'Science Fiction', 'Thriller'],\n ['Adventure', 'Animation', 'Family', 'Fantasy', 'Science Fiction'],\n ['Adventure', 'Comedy', 'Drama'],\n ['War', 'Action', 'Drama', 'History', 'Thriller'],\n ['Drama', 'Thriller', 'Crime'],\n ['Comedy', 'Action'],\n ['Action', 'Crime', 'Drama', 'Mystery', 'Thriller'],\n ['Thriller', 'Crime', 'Mystery'],\n ['Action', 'Thriller', 'Adventure', 'Crime'],\n ['Adventure', 'Drama', 'Action', 'History', 'War'],\n ['Comedy'],\n ['Drama', 'Thriller', 'Mystery'],\n ['Action', 'Drama', 'Thriller'],\n ['Action', 'Adventure', 'Comedy', 'Family'],\n ['Drama', 'History', 'Romance'],\n ['Drama', 'Thriller'],\n ['Action', 'Crime'],\n ['Action', 'Thriller', 'Mystery', 'Romance'],\n ['Action', 'Thriller', 'Science Fiction'],\n ['Fantasy', 'Drama', 'Romance'],\n ['Comedy', 'Crime', 'Drama', 'Thriller'],\n ['Comedy'],\n ['Comedy', 'Crime'],\n ['Comedy', 'Drama', 'Romance', 'Science Fiction'],\n ...]"
     },
     "execution_count": 9,
     "metadata": {},
     "output_type": "execute_result"
    }
   ],
   "source": [
    "movie_genre_list"
   ],
   "metadata": {
    "collapsed": false,
    "pycharm": {
     "name": "#%%\n"
    }
   }
  },
  {
   "cell_type": "code",
   "execution_count": 10,
   "outputs": [],
   "source": [
    "# df.at[0,\"Action\"]とすると任意の値を取得できる\n",
    "def put_genre(df,movie_genre_list):\n",
    "    for i in range(len(df)):\n",
    "        for genre in movie_genre_list[i]:\n",
    "            df.at[i,genre] = 1.0\n",
    "put_genre(df_genre,movie_genre_list)"
   ],
   "metadata": {
    "collapsed": false,
    "pycharm": {
     "name": "#%%\n"
    }
   }
  },
  {
   "cell_type": "code",
   "execution_count": 11,
   "outputs": [
    {
     "data": {
      "text/plain": "      Action  Adventure  Fantasy  Science Fiction  Crime  Drama  Thriller  \\\n4798       1          0        0                0      1      0         1   \n4799       0          0        0                0      0      0         0   \n4800       0          0        0                0      0      1         0   \n4801       0          0        0                0      0      0         0   \n4802       0          0        0                0      0      0         0   \n\n      Animation  Family  Western  Comedy  Romance  Horror  Mystery  History  \\\n4798          0       0        0       0        0       0        0        0   \n4799          0       0        0       1        1       0        0        0   \n4800          0       0        0       1        1       0        0        0   \n4801          0       0        0       0        0       0        0        0   \n4802          0       0        0       0        0       0        0        0   \n\n      War  Music  Documentary  Foreign  TV Movie  \n4798    0      0            0        0         0  \n4799    0      0            0        0         0  \n4800    0      0            0        0         1  \n4801    0      0            0        0         0  \n4802    0      0            1        0         0  ",
      "text/html": "<div>\n<style scoped>\n    .dataframe tbody tr th:only-of-type {\n        vertical-align: middle;\n    }\n\n    .dataframe tbody tr th {\n        vertical-align: top;\n    }\n\n    .dataframe thead th {\n        text-align: right;\n    }\n</style>\n<table border=\"1\" class=\"dataframe\">\n  <thead>\n    <tr style=\"text-align: right;\">\n      <th></th>\n      <th>Action</th>\n      <th>Adventure</th>\n      <th>Fantasy</th>\n      <th>Science Fiction</th>\n      <th>Crime</th>\n      <th>Drama</th>\n      <th>Thriller</th>\n      <th>Animation</th>\n      <th>Family</th>\n      <th>Western</th>\n      <th>Comedy</th>\n      <th>Romance</th>\n      <th>Horror</th>\n      <th>Mystery</th>\n      <th>History</th>\n      <th>War</th>\n      <th>Music</th>\n      <th>Documentary</th>\n      <th>Foreign</th>\n      <th>TV Movie</th>\n    </tr>\n  </thead>\n  <tbody>\n    <tr>\n      <th>4798</th>\n      <td>1</td>\n      <td>0</td>\n      <td>0</td>\n      <td>0</td>\n      <td>1</td>\n      <td>0</td>\n      <td>1</td>\n      <td>0</td>\n      <td>0</td>\n      <td>0</td>\n      <td>0</td>\n      <td>0</td>\n      <td>0</td>\n      <td>0</td>\n      <td>0</td>\n      <td>0</td>\n      <td>0</td>\n      <td>0</td>\n      <td>0</td>\n      <td>0</td>\n    </tr>\n    <tr>\n      <th>4799</th>\n      <td>0</td>\n      <td>0</td>\n      <td>0</td>\n      <td>0</td>\n      <td>0</td>\n      <td>0</td>\n      <td>0</td>\n      <td>0</td>\n      <td>0</td>\n      <td>0</td>\n      <td>1</td>\n      <td>1</td>\n      <td>0</td>\n      <td>0</td>\n      <td>0</td>\n      <td>0</td>\n      <td>0</td>\n      <td>0</td>\n      <td>0</td>\n      <td>0</td>\n    </tr>\n    <tr>\n      <th>4800</th>\n      <td>0</td>\n      <td>0</td>\n      <td>0</td>\n      <td>0</td>\n      <td>0</td>\n      <td>1</td>\n      <td>0</td>\n      <td>0</td>\n      <td>0</td>\n      <td>0</td>\n      <td>1</td>\n      <td>1</td>\n      <td>0</td>\n      <td>0</td>\n      <td>0</td>\n      <td>0</td>\n      <td>0</td>\n      <td>0</td>\n      <td>0</td>\n      <td>1</td>\n    </tr>\n    <tr>\n      <th>4801</th>\n      <td>0</td>\n      <td>0</td>\n      <td>0</td>\n      <td>0</td>\n      <td>0</td>\n      <td>0</td>\n      <td>0</td>\n      <td>0</td>\n      <td>0</td>\n      <td>0</td>\n      <td>0</td>\n      <td>0</td>\n      <td>0</td>\n      <td>0</td>\n      <td>0</td>\n      <td>0</td>\n      <td>0</td>\n      <td>0</td>\n      <td>0</td>\n      <td>0</td>\n    </tr>\n    <tr>\n      <th>4802</th>\n      <td>0</td>\n      <td>0</td>\n      <td>0</td>\n      <td>0</td>\n      <td>0</td>\n      <td>0</td>\n      <td>0</td>\n      <td>0</td>\n      <td>0</td>\n      <td>0</td>\n      <td>0</td>\n      <td>0</td>\n      <td>0</td>\n      <td>0</td>\n      <td>0</td>\n      <td>0</td>\n      <td>0</td>\n      <td>1</td>\n      <td>0</td>\n      <td>0</td>\n    </tr>\n  </tbody>\n</table>\n</div>"
     },
     "execution_count": 11,
     "metadata": {},
     "output_type": "execute_result"
    }
   ],
   "source": [
    "df_genre.tail()"
   ],
   "metadata": {
    "collapsed": false,
    "pycharm": {
     "name": "#%%\n"
    }
   }
  },
  {
   "cell_type": "code",
   "execution_count": 12,
   "outputs": [
    {
     "data": {
      "text/plain": "en    4505\nfr      70\nes      32\nzh      27\nde      27\nhi      19\nja      16\nit      14\ncn      12\nru      11\nko      11\npt       9\nda       7\nsv       5\nnl       4\nfa       4\nth       3\nhe       3\nta       2\ncs       2\nro       2\nid       2\nar       2\nvi       1\nsl       1\nps       1\nno       1\nky       1\nhu       1\npl       1\naf       1\nnb       1\ntr       1\nis       1\nxx       1\nte       1\nel       1\nName: original_language, dtype: int64"
     },
     "execution_count": 12,
     "metadata": {},
     "output_type": "execute_result"
    }
   ],
   "source": [
    "language = df[\"original_language\"]\n",
    "language.value_counts()"
   ],
   "metadata": {
    "collapsed": false,
    "pycharm": {
     "name": "#%%\n"
    }
   }
  },
  {
   "cell_type": "code",
   "execution_count": 13,
   "outputs": [],
   "source": [
    "# 映画が造られた国をラベルエンコーディング\n",
    "le = LabelEncoder()"
   ],
   "metadata": {
    "collapsed": false,
    "pycharm": {
     "name": "#%%\n"
    }
   }
  },
  {
   "cell_type": "code",
   "execution_count": 14,
   "outputs": [
    {
     "name": "stderr",
     "output_type": "stream",
     "text": [
      "/var/folders/38/75h5lv4d3_5bm79gp3zs7l4r0000gn/T/ipykernel_62841/963953020.py:1: SettingWithCopyWarning: \n",
      "A value is trying to be set on a copy of a slice from a DataFrame.\n",
      "Try using .loc[row_indexer,col_indexer] = value instead\n",
      "\n",
      "See the caveats in the documentation: https://pandas.pydata.org/pandas-docs/stable/user_guide/indexing.html#returning-a-view-versus-a-copy\n",
      "  df_x[\"original_language\"] = le.fit_transform(df_x[\"original_language\"])\n"
     ]
    }
   ],
   "source": [
    "df_x[\"original_language\"] = le.fit_transform(df_x[\"original_language\"])"
   ],
   "metadata": {
    "collapsed": false,
    "pycharm": {
     "name": "#%%\n"
    }
   }
  },
  {
   "cell_type": "code",
   "execution_count": 15,
   "outputs": [
    {
     "name": "stdout",
     "output_type": "stream",
     "text": [
      "<class 'pandas.core.frame.DataFrame'>\n",
      "RangeIndex: 4803 entries, 0 to 4802\n",
      "Data columns (total 6 columns):\n",
      " #   Column                Non-Null Count  Dtype  \n",
      "---  ------                --------------  -----  \n",
      " 0   genres                4803 non-null   object \n",
      " 1   original_language     4803 non-null   int64  \n",
      " 2   production_companies  4803 non-null   object \n",
      " 3   release_date          4802 non-null   object \n",
      " 4   runtime               4801 non-null   float64\n",
      " 5   vote_average          4803 non-null   float64\n",
      "dtypes: float64(2), int64(1), object(3)\n",
      "memory usage: 225.3+ KB\n"
     ]
    }
   ],
   "source": [
    "df_x.info()"
   ],
   "metadata": {
    "collapsed": false,
    "pycharm": {
     "name": "#%%\n"
    }
   }
  },
  {
   "cell_type": "code",
   "execution_count": 16,
   "outputs": [
    {
     "name": "stdout",
     "output_type": "stream",
     "text": [
      "<class 'pandas.core.frame.DataFrame'>\n",
      "RangeIndex: 4803 entries, 0 to 4802\n",
      "Data columns (total 6 columns):\n",
      " #   Column                Non-Null Count  Dtype  \n",
      "---  ------                --------------  -----  \n",
      " 0   genres                4803 non-null   object \n",
      " 1   original_language     4803 non-null   int64  \n",
      " 2   production_companies  4803 non-null   object \n",
      " 3   release_date          4802 non-null   object \n",
      " 4   runtime               4801 non-null   float64\n",
      " 5   vote_average          4803 non-null   float64\n",
      "dtypes: float64(2), int64(1), object(3)\n",
      "memory usage: 225.3+ KB\n"
     ]
    }
   ],
   "source": [
    "df_x.drop(columns=\"genres\")\n",
    "df_x.info()"
   ],
   "metadata": {
    "collapsed": false,
    "pycharm": {
     "name": "#%%\n"
    }
   }
  },
  {
   "cell_type": "code",
   "execution_count": 17,
   "outputs": [
    {
     "data": {
      "text/plain": "2006-01-01    10\n2002-01-01     8\n2004-09-03     7\n1999-10-22     7\n2013-07-18     7\n              ..\n2002-12-30     1\n2002-08-20     1\n1987-11-05     1\n2004-11-11     1\n2012-05-03     1\nName: release_date, Length: 3280, dtype: int64"
     },
     "execution_count": 17,
     "metadata": {},
     "output_type": "execute_result"
    }
   ],
   "source": [
    "# 次はリリース日を数値型へと変換していく\n",
    "# また今回は月と年数に分ける\n",
    "df[\"release_date\"].value_counts()"
   ],
   "metadata": {
    "collapsed": false,
    "pycharm": {
     "name": "#%%\n"
    }
   }
  },
  {
   "cell_type": "code",
   "execution_count": 18,
   "outputs": [],
   "source": [
    "# 変換するための辞書を作成していく\n",
    "release_year = dict()\n",
    "release_month = dict()\n",
    "for key in df[\"release_date\"]:\n",
    "    if type(key) == str:\n",
    "        year,month,day = key.split(\"-\")\n",
    "        release_year[key] = float(year)\n",
    "        release_month[key] = float(month)"
   ],
   "metadata": {
    "collapsed": false,
    "pycharm": {
     "name": "#%%\n"
    }
   }
  },
  {
   "cell_type": "code",
   "execution_count": 19,
   "outputs": [
    {
     "name": "stderr",
     "output_type": "stream",
     "text": [
      "/var/folders/38/75h5lv4d3_5bm79gp3zs7l4r0000gn/T/ipykernel_62841/2932335168.py:1: SettingWithCopyWarning: \n",
      "A value is trying to be set on a copy of a slice from a DataFrame.\n",
      "Try using .loc[row_indexer,col_indexer] = value instead\n",
      "\n",
      "See the caveats in the documentation: https://pandas.pydata.org/pandas-docs/stable/user_guide/indexing.html#returning-a-view-versus-a-copy\n",
      "  df_x[\"release_year\"] = df_x[\"release_date\"].replace(release_year).astype(float)\n"
     ]
    },
    {
     "name": "stdout",
     "output_type": "stream",
     "text": [
      "<class 'pandas.core.frame.DataFrame'>\n",
      "RangeIndex: 4803 entries, 0 to 4802\n",
      "Data columns (total 8 columns):\n",
      " #   Column                Non-Null Count  Dtype  \n",
      "---  ------                --------------  -----  \n",
      " 0   genres                4803 non-null   object \n",
      " 1   original_language     4803 non-null   int64  \n",
      " 2   production_companies  4803 non-null   object \n",
      " 3   release_date          4802 non-null   object \n",
      " 4   runtime               4801 non-null   float64\n",
      " 5   vote_average          4803 non-null   float64\n",
      " 6   release_year          4802 non-null   float64\n",
      " 7   release_month         4802 non-null   float64\n",
      "dtypes: float64(4), int64(1), object(3)\n",
      "memory usage: 300.3+ KB\n"
     ]
    },
    {
     "name": "stderr",
     "output_type": "stream",
     "text": [
      "/var/folders/38/75h5lv4d3_5bm79gp3zs7l4r0000gn/T/ipykernel_62841/2932335168.py:2: SettingWithCopyWarning: \n",
      "A value is trying to be set on a copy of a slice from a DataFrame.\n",
      "Try using .loc[row_indexer,col_indexer] = value instead\n",
      "\n",
      "See the caveats in the documentation: https://pandas.pydata.org/pandas-docs/stable/user_guide/indexing.html#returning-a-view-versus-a-copy\n",
      "  df_x[\"release_month\"] = df_x[\"release_date\"].replace(release_month).astype(float)\n"
     ]
    }
   ],
   "source": [
    "df_x[\"release_year\"] = df_x[\"release_date\"].replace(release_year).astype(float)\n",
    "df_x[\"release_month\"] = df_x[\"release_date\"].replace(release_month).astype(float)\n",
    "df_x.info()"
   ],
   "metadata": {
    "collapsed": false,
    "pycharm": {
     "name": "#%%\n"
    }
   }
  },
  {
   "cell_type": "code",
   "execution_count": 19,
   "outputs": [],
   "source": [],
   "metadata": {
    "collapsed": false,
    "pycharm": {
     "name": "#%%\n"
    }
   }
  },
  {
   "cell_type": "code",
   "execution_count": 20,
   "outputs": [
    {
     "data": {
      "text/plain": "{7.2: 7,\n 6.9: 6,\n 6.3: 6,\n 7.6: 7,\n 6.1: 6,\n 5.9: 5,\n 7.4: 7,\n 7.3: 7,\n 5.7: 5,\n 5.4: 5,\n 7.0: 7,\n 6.5: 6,\n 6.4: 6,\n 6.2: 6,\n 7.1: 7,\n 5.8: 5,\n 6.6: 6,\n 7.5: 7,\n 5.5: 5,\n 6.7: 6,\n 6.8: 6,\n 6.0: 6,\n 5.1: 5,\n 7.8: 7,\n 5.6: 5,\n 5.2: 5,\n 8.2: 8,\n 7.7: 7,\n 5.3: 5,\n 8.0: 8,\n 4.8: 4,\n 4.9: 4,\n 7.9: 7,\n 8.1: 8,\n 4.7: 4,\n 5.0: 5,\n 4.2: 4,\n 4.4: 4,\n 4.1: 4,\n 3.7: 3,\n 3.6: 3,\n 3.0: 3,\n 3.9: 3,\n 4.3: 4,\n 4.5: 4,\n 3.4: 3,\n 4.6: 4,\n 8.3: 8,\n 3.5: 3,\n 4.0: 4,\n 2.3: 2,\n 3.2: 3,\n 0.0: nan,\n 3.8: 3,\n 2.9: 2,\n 8.5: 8,\n 1.9: 1,\n 3.1: 3,\n 3.3: 3,\n 2.2: 2,\n 0.5: 0,\n 9.3: 9,\n 8.4: 8,\n 2.7: 2,\n 10.0: 10,\n 1.0: 1,\n 2.0: 2,\n 2.8: 2,\n 9.5: 9,\n 2.6: 2,\n 2.4: 2}"
     },
     "execution_count": 20,
     "metadata": {},
     "output_type": "execute_result"
    }
   ],
   "source": [
    "# 評価値をラベルエンコーディング\n",
    "# 具体的には10段階で評価する\n",
    "# 小数点以下は切り捨て\n",
    "reviews = df_x[\"vote_average\"]\n",
    "review_dict = dict()\n",
    "for review in reviews:\n",
    "    if review == 0:\n",
    "        review_dict[review] = np.nan\n",
    "    else:\n",
    "        review_point = math.floor(review)\n",
    "        review_dict[review] = review_point\n",
    "review_dict"
   ],
   "metadata": {
    "collapsed": false,
    "pycharm": {
     "name": "#%%\n"
    }
   }
  },
  {
   "cell_type": "code",
   "execution_count": 21,
   "outputs": [
    {
     "name": "stdout",
     "output_type": "stream",
     "text": [
      "<class 'pandas.core.frame.DataFrame'>\n",
      "RangeIndex: 4803 entries, 0 to 4802\n",
      "Data columns (total 8 columns):\n",
      " #   Column                Non-Null Count  Dtype  \n",
      "---  ------                --------------  -----  \n",
      " 0   genres                4803 non-null   object \n",
      " 1   original_language     4803 non-null   int64  \n",
      " 2   production_companies  4803 non-null   object \n",
      " 3   release_date          4802 non-null   object \n",
      " 4   runtime               4801 non-null   float64\n",
      " 5   vote_average          4740 non-null   float64\n",
      " 6   release_year          4802 non-null   float64\n",
      " 7   release_month         4802 non-null   float64\n",
      "dtypes: float64(4), int64(1), object(3)\n",
      "memory usage: 300.3+ KB\n"
     ]
    },
    {
     "name": "stderr",
     "output_type": "stream",
     "text": [
      "/var/folders/38/75h5lv4d3_5bm79gp3zs7l4r0000gn/T/ipykernel_62841/2295790603.py:2: SettingWithCopyWarning: \n",
      "A value is trying to be set on a copy of a slice from a DataFrame.\n",
      "Try using .loc[row_indexer,col_indexer] = value instead\n",
      "\n",
      "See the caveats in the documentation: https://pandas.pydata.org/pandas-docs/stable/user_guide/indexing.html#returning-a-view-versus-a-copy\n",
      "  df_x[\"vote_average\"] = df_x[\"vote_average\"].replace(review_dict).astype(float)\n"
     ]
    }
   ],
   "source": [
    "# 上記の数値を埋め込む\n",
    "df_x[\"vote_average\"] = df_x[\"vote_average\"].replace(review_dict).astype(float)\n",
    "df_x.info()"
   ],
   "metadata": {
    "collapsed": false,
    "pycharm": {
     "name": "#%%\n"
    }
   }
  },
  {
   "cell_type": "code",
   "execution_count": 22,
   "outputs": [],
   "source": [
    "# 制作会社をラベルエンコーディング\n",
    "production_companies = df_x[\"production_companies\"]"
   ],
   "metadata": {
    "collapsed": false,
    "pycharm": {
     "name": "#%%\n"
    }
   }
  },
  {
   "cell_type": "code",
   "execution_count": 23,
   "outputs": [
    {
     "data": {
      "text/plain": "[['Ingenious Film Partners',\n  'Twentieth Century Fox Film Corporation',\n  'Dune Entertainment',\n  'Lightstorm Entertainment'],\n ['Walt Disney Pictures',\n  'Jerry Bruckheimer Films',\n  'Second Mate Productions'],\n ['Columbia Pictures', 'Danjaq', 'B24'],\n ['Legendary Pictures', 'Warner Bros.', 'DC Entertainment', 'Syncopy'],\n ['Walt Disney Pictures', 'Walt Disney Pictures'],\n ['Columbia Pictures', 'Laura Ziskin Productions', 'Marvel Enterprises'],\n ['Walt Disney Pictures', 'Walt Disney Animation Studios'],\n ['Marvel Studios', 'Prime Focus', 'Revolution Sun Studios'],\n ['Warner Bros.', 'Heyday Films'],\n ['DC Comics',\n  'Atlas Entertainment',\n  'Warner Bros.',\n  'DC Entertainment',\n  'Cruel & Unusual Films',\n  'RatPac-Dune Entertainment'],\n ['DC Comics',\n  'Legendary Pictures',\n  'Warner Bros.',\n  'Bad Hat Harry Productions'],\n ['Eon Productions', 'Eon Productions'],\n ['Walt Disney Pictures',\n  'Jerry Bruckheimer Films',\n  'Second Mate Productions'],\n ['Walt Disney Pictures',\n  'Jerry Bruckheimer Films',\n  'Infinitum Nihil',\n  'Silver Bullet Productions (II)',\n  'Blind Wink Productions',\n  'Classic Media'],\n ['Legendary Pictures',\n  'Warner Bros.',\n  'DC Entertainment',\n  'Syncopy',\n  'Cruel and Unusual Films'],\n ['Walt Disney',\n  'Walden Media',\n  'Stillking Films',\n  'Ozumi Films',\n  'Propeler',\n  'Silverbell Films',\n  'Revolution Sun Studios'],\n ['Paramount Pictures', 'Marvel Studios'],\n ['Walt Disney Pictures',\n  'Jerry Bruckheimer Films',\n  'Moving Picture Company (MPC)'],\n ['Amblin Entertainment',\n  'Media Magik Entertainment',\n  'Imagenation Abu Dhabi FZ',\n  'Hemisphere Media Capital',\n  'Parkes/MacDonald Productions'],\n ['WingNut Films',\n  'New Line Cinema',\n  'Warner Bros. Pictures',\n  '3Foot7',\n  'Metro-Goldwyn-Mayer (MGM)'],\n ['Columbia Pictures', 'Laura Ziskin Productions', 'Marvel Entertainment'],\n ['Imagine Entertainment',\n  'Universal Pictures',\n  'Scott Free Productions',\n  'Relativity Media'],\n ['WingNut Films',\n  'New Line Cinema',\n  'Warner Bros. Pictures',\n  'Metro-Goldwyn-Mayer (MGM)'],\n ['New Line Cinema',\n  'Ingenious Film Partners',\n  'Depth of Field',\n  'Scholastic Productions'],\n ['WingNut Films', 'Universal Pictures', 'Big Primate Pictures', 'MFPV Film'],\n ['Paramount Pictures',\n  'Twentieth Century Fox Film Corporation',\n  'Lightstorm Entertainment'],\n ['Studio Babelsberg',\n  'Marvel Studios',\n  'Walt Disney Studios Motion Pictures',\n  'Vita-Ray Dutch Productions (III)',\n  'Deluxe Digital Studios'],\n ['Universal Pictures', 'Hasbro', 'Bluegrass Films', 'Film 44'],\n ['Universal Studios',\n  'Amblin Entertainment',\n  'Legendary Pictures',\n  'Fuji Television Network',\n  'Dentsu'],\n ['Columbia Pictures', 'Columbia Pictures'],\n ['Columbia Pictures', 'Laura Ziskin Productions', 'Marvel Enterprises'],\n ['Marvel Studios', 'Marvel Studios'],\n ['Walt Disney Pictures',\n  'Team Todd',\n  'Tim Burton Productions',\n  'Roth Films',\n  'Zanuck Company, The'],\n ['Ingenious Film Partners',\n  'Twentieth Century Fox Film Corporation',\n  \"Donners' Company\",\n  'Dune Entertainment',\n  'Major Studio Partners',\n  'Bad Hat Harry Productions',\n  'thinkfilm',\n  'Marvel Enterprises',\n  'X3 Canada Productions',\n  'X3US Productions',\n  'XM3 Service'],\n ['Walt Disney Pictures', 'Pixar Animation Studios'],\n ['Paramount Pictures',\n  'DreamWorks SKG',\n  'Amblin Entertainment',\n  'Di Bonaventura Pictures',\n  'Platinum Dunes',\n  'Hasbro Studios',\n  'Revolution Sun Studios'],\n ['Paramount Pictures',\n  'Amblin Entertainment',\n  'Di Bonaventura Pictures',\n  'Platinum Dunes',\n  'China Movie Channel',\n  'Hasbro Studios',\n  'Ian Bryce Productions',\n  'Revolution Sun Studios'],\n ['Walt Disney Pictures', 'Roth Films'],\n ['Columbia Pictures',\n  'Marvel Enterprises',\n  'Avi Arad Productions',\n  'Matt Tolmach Productions'],\n ['Walt Disney Pictures',\n  'LivePlanet',\n  'Prana Studios',\n  'Sean Bailey Productions',\n  'Revolution Sun Studios',\n  'Kontsept Film Company'],\n ['Walt Disney Pictures', 'Pixar Animation Studios'],\n ['De Line Pictures', 'Warner Bros.', 'DC Entertainment'],\n ['Walt Disney Pictures', 'Pixar Animation Studios'],\n ['Columbia Pictures',\n  'The Halcyon Company',\n  'Wonderland Sound and Vision',\n  'Warner Bros.'],\n ['Universal Pictures',\n  'Original Film',\n  'Fuji Television Network',\n  'Dentsu',\n  'One Race Films',\n  'China Film Co.',\n  'Québec Production Services Tax Credit',\n  'Media Rights Capital (MRC)',\n  'Abu Dhabi Film Commission',\n  'Colorado Office of Film, Television & Media'],\n ['Paramount Pictures',\n  'GK Films',\n  'Skydance Productions',\n  'Hemisphere Media Capital',\n  'Apparatus Productions',\n  'Latina Pictures',\n  '2DUX²'],\n ['Twentieth Century Fox Film Corporation',\n  \"Donners' Company\",\n  'Marvel Entertainment',\n  'Bad Hat Harry Productions',\n  'TSG Entertainment',\n  'Down Productions',\n  'Revolution Sun Studios'],\n ['Paramount Pictures', 'Skydance Productions', 'Bad Robot', 'Kurtzman/Orci'],\n ['New Line Cinema',\n  'Original Film',\n  'Legendary Pictures',\n  'Warner Bros.',\n  'Big Kid Pictures',\n  'Bad Hat Harry Productions'],\n ['Village Roadshow Pictures',\n  'Bazmark Films',\n  'Warner Bros.',\n  'A&E Television Networks',\n  'Red Wagon Entertainment',\n  'Spectrum Films'],\n ['Walt Disney Pictures', 'Jerry Bruckheimer Films'],\n ['Legendary Pictures',\n  'Warner Bros.',\n  'Disney Double Dare You (DDY)',\n  'Indochina Productions'],\n ['Paramount Pictures',\n  'Di Bonaventura Pictures',\n  'Indochina Productions',\n  'Hasbro Studios'],\n ['Lucasfilm', 'Paramount Pictures'],\n ['Walt Disney Pictures', 'Pixar Animation Studios'],\n ['Walt Disney Pictures', 'Pixar Animation Studios'],\n ['Paramount Pictures',\n  'Bad Robot',\n  'Perfect Storm Entertainment',\n  'Alibaba Pictures Group',\n  'Skydance Media',\n  'Sneaky Shark',\n  'Huahua Media'],\n ['Walt Disney Pictures', 'Pixar Animation Studios', 'FortyFour Studios'],\n ['New Line Cinema', 'New Line Cinema'],\n ['Columbia Pictures',\n  'Centropolis Entertainment',\n  'The Mark Gordon Company',\n  'Farewell Productions'],\n ['Walt Disney', 'ImageMovers'],\n ['Village Roadshow Pictures',\n  'Dune Entertainment',\n  'Anarchos Productions',\n  'Warner Bros.'],\n ['Village Roadshow Pictures',\n  'Dark Horse Entertainment',\n  'Jerry Weintraub Productions',\n  'RatPac-Dune Entertainment',\n  'Beagle Pug Films',\n  'Riche Productions',\n  'Village Roadshow Films North America'],\n ['Walt Disney', 'Walden Media'],\n ['Twentieth Century Fox Film Corporation',\n  \"Donners' Company\",\n  'Marvel Entertainment',\n  'Bad Hat Harry Productions',\n  'TSG Entertainment',\n  'Kinberg Genre'],\n ['DC Comics',\n  'Legendary Pictures',\n  'Warner Bros.',\n  'DC Entertainment',\n  'Syncopy'],\n ['Pixar Animation Studios', 'Pixar Animation Studios'],\n ['DreamWorks Animation', 'DreamWorks Animation'],\n ['Marvel Studios', 'Marvel Studios'],\n ['Paramount Pictures', 'Infinitum Nihil', 'GK Films'],\n ['Todman, Simon, LeMasters Productions',\n  'Warner Bros.',\n  'Peters Entertainment',\n  'Sonnenfeld Josephson Worldwide Entertainment'],\n ['Universal Pictures',\n  'China Film Co-Production Corporation',\n  'Relativity Media',\n  'Alphaville Films',\n  'Sommers Company, The'],\n ['DC Comics',\n  'Dune Entertainment',\n  'Atlas Entertainment',\n  'Warner Bros.',\n  'DC Entertainment'],\n ['Columbia Pictures',\n  'Universal Pictures',\n  'Spyglass Entertainment',\n  'Shady Acres Entertainment',\n  'Original Film',\n  'Playtone',\n  'Relativity Media'],\n ['Village Roadshow Pictures',\n  'Warner Bros.',\n  'Viz Media',\n  'Province of British Columbia Production Services Tax Credit',\n  '3 Arts Entertainment',\n  'RatPac-Dune Entertainment'],\n ['Universal Pictures',\n  'Gordon Company',\n  'Davis Entertainment',\n  'Licht/Mueller Film Corporation'],\n ['Paramount Pictures',\n  'Spyglass Entertainment',\n  'Di Bonaventura Pictures',\n  'Hasbro',\n  'Kontsept Film Company'],\n ['Walt Disney Pictures', 'Pixar Animation Studios'],\n ['Walt Disney Pictures',\n  'Walt Disney Studios Motion Pictures',\n  'Fairview Entertainment',\n  'Moving Picture Company (MPC)'],\n ['Marvel Studios', 'Marvel Studios'],\n ['Universal Pictures', 'Roth Films'],\n ['Walt Disney Pictures', 'Walt Disney Studios Motion Pictures', 'Roth Films'],\n ['Ingenious Media', 'Chernin Entertainment', 'TSG Entertainment'],\n ['Corsan',\n  'Bliss Media',\n  'Limelight International Media Entertainment',\n  'Neelmudra Entertainment',\n  'Aristos Films',\n  'Singularity Productions',\n  'Wildkite'],\n ['Mid Atlantic Films',\n  'Stuber Productions',\n  'Universal',\n  'Moving Picture Company (MPC)',\n  'H2F Entertainment'],\n ['Marvel Studios', 'Marvel Studios'],\n ['DreamWorks Animation', 'DreamWorks Animation'],\n ['Walt Disney Pictures', 'Babieka', 'A113'],\n ['Walt Disney Pictures', 'Walt Disney Animation Studios'],\n ['Walt Disney Animation Studios', 'Walt Disney Animation Studios'],\n ['Golden Mean', 'Playtone', 'ImageMovers'],\n ['Twentieth Century Fox Film Corporation',\n  'Centropolis Entertainment',\n  'TSG Entertainment',\n  'Stereo D'],\n ['DreamWorks Animation', 'Vertigo Entertainment', 'Mad Hatter Entertainment'],\n ['Columbia Pictures',\n  'Intermedia Films',\n  'Warner Bros.',\n  'C-2 Pictures',\n  'IMF Internationale Medien und Film GmbH & Co. 3. Produktions KG',\n  'Mostow/Lieberman Productions'],\n ['Marvel Studios',\n  'Moving Picture Company (MPC)',\n  'Bulletproof Cupid',\n  'Revolution Sun Studios'],\n ['Paramount Pictures',\n  'Legendary Pictures',\n  'Warner Bros.',\n  'Syncopy',\n  'Lynda Obst Productions'],\n ['Legendary Pictures', 'Warner Bros.', 'Syncopy'],\n ['Cine Bazar', 'Toho Pictures'],\n ['WingNut Films',\n  'New Line Cinema',\n  'Warner Bros. Pictures',\n  'Metro-Goldwyn-Mayer (MGM)'],\n ['Universal Pictures',\n  'Original Film',\n  'Ardustry Entertainment',\n  'Mediastream Film GmbH & Co. Productions KG'],\n ['Paramount Pictures', 'Warner Bros.', 'Kennedy/Marshall Company, The'],\n ['Ingenious Film Partners',\n  'Ingenious Media',\n  'Twentieth Century Fox Film Corporation',\n  \"Donners' Company\",\n  'Dune Entertainment',\n  'Dune Entertainment III',\n  'Marvel Entertainment',\n  'Bad Hat Harry Productions',\n  'Big Screen Productions'],\n ['Studio Babelsberg', 'Lionsgate', 'Color Force'],\n ['Walt Disney Pictures',\n  'Jerry Bruckheimer Films',\n  'Saturn Films',\n  'Broken Road Productions',\n  'Junction Entertainment'],\n ['Virtual Studios',\n  'Next Entertainment',\n  'Warner Bros.',\n  'Irwin Allen Productions',\n  'Radiant Productions',\n  'Synthesis Entertainment'],\n ['Walt Disney Pictures',\n  'Team Todd',\n  'Tim Burton Productions',\n  'Roth Films',\n  'Legend3D'],\n ['DreamWorks SKG', 'DreamWorks Animation'],\n ['Universal Pictures',\n  'Atlas Entertainment',\n  'Legendary Pictures',\n  'Blizzard Entertainment'],\n ['Paramount Pictures', 'Annapurna Pictures', 'Skydance Media'],\n ['Dune Entertainment', 'Fox 2000 Pictures', 'Walden Media'],\n ['Jerry Bruckheimer Films', 'Touchstone Pictures'],\n ['Paramount Pictures',\n  'DreamWorks SKG',\n  'Amblin Entertainment',\n  'Di Bonaventura Pictures',\n  'Platinum Dunes',\n  'thinkfilm',\n  'SprocketHeads',\n  'Hasbro Studios',\n  'Revolution Sun Studios'],\n ['France 3 Cinéma',\n  'Intermedia Films',\n  'Pathé Renn Productions',\n  'Egmond Film & Television',\n  'Warner Bros.',\n  'Pacifica Film',\n  'IMF Internationale Medien und Film GmbH & Co. 3. Produktions KG',\n  'WR Universal Group'],\n ['Warner Bros.', 'Heyday Films'],\n ['Patalex IV Productions Limited', 'Warner Bros.', 'Heyday Films'],\n ['Columbia Pictures',\n  'Weed Road Pictures',\n  'Forward Pass',\n  'Relativity Media',\n  'Overbrook Entertainment',\n  'Blue Light',\n  'GH Three'],\n ['Village Roadshow Pictures',\n  'Original Film',\n  'Weed Road Pictures',\n  'Warner Bros.',\n  'Heyday Films',\n  'Overbrook Entertainment'],\n ['Village Roadshow Pictures',\n  'The Zanuck Company',\n  'Warner Bros.',\n  'Tim Burton Productions',\n  'Plan B Entertainment',\n  'Theobald Film Productions'],\n ['Walt Disney Pictures', 'Pixar Animation Studios'],\n ['DC Comics',\n  'Legendary Pictures',\n  'Warner Bros.',\n  'DC Entertainment',\n  'Syncopy',\n  'Patalex III Productions Limited'],\n ['DreamWorks Animation', 'DreamWorks Animation'],\n ['Twentieth Century Fox Film Corporation',\n  '1492 Pictures',\n  'Dune Entertainment',\n  '21 Laps Entertainment',\n  'Museum Canada Productions',\n  'Moving Picture Company (MPC)'],\n ['Ingenious Film Partners',\n  'Twentieth Century Fox Film Corporation',\n  \"Donners' Company\",\n  'Dune Entertainment',\n  'Seed Productions',\n  'Bad Hat Harry Productions',\n  'Big Screen Productions',\n  'Marvel Enterprises'],\n ['Village Roadshow Pictures',\n  'NPV Entertainment',\n  'Silver Pictures',\n  'Warner Bros.'],\n ['Walt Disney Pictures', 'Walt Disney Animation Studios'],\n ['Village Roadshow Pictures',\n  'NPV Entertainment',\n  'Heineken Branded Entertainment',\n  'Silver Pictures',\n  'Warner Bros.'],\n ['Marvel Studios', 'Marvel Studios'],\n ['Village Roadshow Pictures', 'Kennedy Miller Productions', 'Warner Bros.'],\n ['Columbia Pictures',\n  'Imagine Entertainment',\n  'Panorama Films',\n  'Skylark Productions'],\n ['Marvel Studios', 'Marvel Studios'],\n ['Walt Disney Animation Studios', 'Walt Disney Animation Studios'],\n ['Walt Disney Pictures', 'Jerry Bruckheimer Films', 'Whamaphram Productions'],\n ['Legendary Pictures',\n  'Thunder Road Pictures',\n  'Warner Bros.',\n  'Cott Productions',\n  'Furia de Titanes II, A.I.E.'],\n ['Village Roadshow Pictures',\n  'Infinitum Nihil',\n  'GK Films',\n  'Warner Bros.',\n  'Tim Burton Productions',\n  'Dan Curtis Productions',\n  'Zanuck Company, The'],\n ['Paramount Pictures',\n  'Skydance Productions',\n  'China Movie Channel',\n  'Bad Robot',\n  'TC Productions',\n  'Alibaba Pictures Group',\n  'Odin'],\n ['Universal Pictures', 'Stuber Productions', 'Relativity Media'],\n ['Pacific Data Images (PDI)',\n  'DreamWorks Animation',\n  'Columbus 81 Productions'],\n ['DreamWorks Animation', 'DreamWorks Animation'],\n ['Paramount Pictures',\n  'Nickelodeon Movies',\n  'Kennedy/Marshall Company, The',\n  'Industrial Light & Magic (ILM)',\n  'Blinding Edge Pictures'],\n ['Paramount Pictures',\n  'Cruise/Wagner Productions',\n  'Studio Babelsberg',\n  'MI 3 Film',\n  'China Film Co-Production Corporation',\n  'China Film Group Corporation (CFGC)',\n  'The Fourth Production Company Film Group'],\n ['Columbia Pictures',\n  'Centropolis Entertainment',\n  'Iron Horse Entertainment (II)',\n  'Mythology Entertainment (II)'],\n ['Walt Disney Animation Studios', 'Walt Disney Animation Studios'],\n ['Aardman Animations', 'DreamWorks Animation'],\n ['Warner Bros.',\n  'Moving Picture Company (MPC)',\n  'Berlanti Productions',\n  'RatPac-Dune Entertainment'],\n ['Pacific Data Images (PDI)',\n  'DreamWorks Animation',\n  'Classic Media Productions',\n  'Bullwinkle Studios'],\n ['Plan B Entertainment',\n  'Warner Bros.',\n  'Nimar Studios',\n  'Radiant Productions',\n  'Helena Productions',\n  'Latina Pictures'],\n ['DreamWorks Animation', 'DreamWorks Animation'],\n ['Eon Productions', 'Eon Productions'],\n ['Columbia Pictures',\n  'Village Roadshow Pictures',\n  'Montecito Picture Company, The',\n  'LStar Capital',\n  'Feigco Entertainment',\n  'Pascal Pictures',\n  'Ghostcorps'],\n ['Jerry Bruckheimer Films',\n  'Touchstone Pictures',\n  'Valhalla Motion Pictures'],\n ['Columbia Pictures',\n  'Amblin Entertainment',\n  'Columbia Pictures Corporation',\n  'Parkes+MacDonald Image Nation'],\n ['Paramount Pictures',\n  'Shangri-La Entertainment',\n  'ImageMovers',\n  'Paramount Animation'],\n ['Twentieth Century Fox Film Corporation',\n  'DreamWorks Animation',\n  'China Film Co.',\n  'Oriental DreamWorks'],\n ['Paramount Pictures',\n  'Skydance Productions',\n  'Bad Robot',\n  'TC Productions',\n  'Revolution Sun Studios',\n  'Kontsept Film Company'],\n ['DreamWorks Animation', 'DreamWorks Animation'],\n ['Imagine Entertainment',\n  'Columbia Pictures Corporation',\n  'JC 23 Entertainment'],\n ['Cruise/Wagner Productions',\n  'Warner Bros.',\n  'Radar Pictures',\n  'Bedford Falls Company, The'],\n ['Scott Free Productions',\n  'Chernin Entertainment',\n  'Babieka',\n  'Volcano Films'],\n ['Paramount Pictures',\n  'Spyglass Entertainment',\n  'Bad Robot',\n  'MavroCine Pictures GmbH & Co. KG'],\n ['Columbia Pictures', 'Marvel Enterprises'],\n ['DreamWorks Animation', 'Mad Hatter Entertainment'],\n ['Summit Entertainment',\n  'Mystery Clock Cinema',\n  'Thunder Road Pictures',\n  'TIK Films',\n  'Pyramania'],\n ['Laura Ziskin Productions',\n  'Original Film',\n  'Columbia Pictures Corporation',\n  'Phoenix Pictures',\n  'AFG Talons Productions'],\n ['Paramount Pictures',\n  'DC Comics',\n  'Lawrence Gordon Productions',\n  'Legendary Pictures',\n  'Warner Bros.',\n  'Cruel and Unusual Films'],\n ['Silver Pictures', 'Donner/Shuler-Donner Productions', 'Warner Bros.'],\n ['Universal Pictures',\n  'Good Machine',\n  'Valhalla Motion Pictures',\n  'Marvel Enterprises'],\n ['Paramount Pictures',\n  'Di Bonaventura Pictures',\n  'Hasbro',\n  'Skydance Productions',\n  'Metro-Goldwyn-Mayer (MGM)',\n  'Saints LA'],\n ['Paramount Pictures',\n  'Bristol Bay Productions',\n  'Baldwin Entertainment Group',\n  'Desertlands Entertainment',\n  'Mace Neufeld Productions',\n  'Kanzaman',\n  'J.K. Livin Productions',\n  'Moguletta',\n  'Sahara Productions',\n  'Babelsberg Film'],\n ['Columbia Pictures', 'Square USA', 'Chris Lee Productions'],\n ['Marvel Studios', 'Marvel Studios'],\n ['Eon Productions', 'Metro-Goldwyn-Mayer (MGM)'],\n ['Universal Pictures',\n  'Twentieth Century Fox Film Corporation',\n  'Samuel Goldwyn Films',\n  'Miramax'],\n ['Summit Entertainment',\n  'Sunswept Entertainment',\n  'Temple Hill Entertainment'],\n ['Village Roadshow Pictures',\n  'Warner Bros.',\n  'Dr D Studios',\n  'Kennedy Miller Mitchell'],\n ['Universal Pictures',\n  'Marvel Studios',\n  'Valhalla Motion Pictures',\n  'MVL Incredible Productions'],\n ['Walt Disney Pictures',\n  'Amblin Entertainment',\n  'Reliance Entertainment',\n  'Kennedy/Marshall Company, The',\n  'Walden Media'],\n ['Regency Enterprises',\n  'Appian Way',\n  'CatchPlay',\n  'Anonymous Content',\n  'New Regency Pictures',\n  'Hong Kong Alpha Motion Pictures Co.',\n  'RatPac Entertainment',\n  'M Productions',\n  'Monarchy Enterprises S.a.r.l.'],\n ['DreamWorks Animation', 'DreamWorks Animation'],\n ['Paramount Pictures',\n  'Nickelodeon Movies',\n  'GK Films',\n  'Blind Wink',\n  'Paramount Animation'],\n ['DreamWorks Animation', 'DreamWorks Animation'],\n ['Universal Pictures',\n  'The Kennedy/Marshall Company',\n  'Ludlum Entertainment',\n  'Motion Picture BETA Produktionsgesellschaft',\n  'Bourne Again'],\n ['DreamWorks Animation', 'DreamWorks Animation'],\n ['Marvel Studios', 'Marvel Studios'],\n ['Lionsgate', 'Color Force'],\n ['Twentieth Century Fox Film Corporation', 'DreamWorks Animation'],\n ['Paramount Pictures',\n  'DreamWorks SKG',\n  'Cruise/Wagner Productions',\n  'Amblin Entertainment'],\n ['Columbia Pictures Corporation', 'Don Simpson/Jerry Bruckheimer Films'],\n ['DreamWorks', 'DreamWorks'],\n ['Columbia Pictures',\n  'Di Bonaventura Pictures',\n  'Relativity Media',\n  'Wintergreen Productions'],\n ['Paramount Pictures',\n  'Regency Enterprises',\n  'Protozoa Pictures',\n  'Disruption Entertainment'],\n ['Paramount Pictures',\n  'Columbia Pictures',\n  'WingNut Films',\n  'Amblin Entertainment',\n  'Nickelodeon Movies',\n  'Kennedy/Marshall Company, The',\n  'Hemisphere Media Capital'],\n ['1492 Pictures', 'Heyday films', 'Warner Bros.'],\n ['Bazmark Films',\n  'Ingenious Film Partners',\n  'Twentieth Century Fox Film Corporation',\n  'Dune Entertainment III',\n  'ScreenWest'],\n ['Columbia Pictures', 'Blinding Edge Pictures', 'Overbrook Entertainment'],\n ['Walt Disney Pictures', 'Walt Disney Feature Animation'],\n ['Twentieth Century Fox Film Corporation',\n  '1492 Pictures',\n  '21 Laps Entertainment',\n  'Moving Picture Company (MPC)',\n  'TSG Entertainment'],\n ['DreamWorks Animation', 'DreamWorks Animation'],\n ['1492 Pictures', 'Warner Bros.', 'Heyday Films'],\n ['Universal Pictures', 'Original Film', 'Dark Horse Entertainment'],\n ['Walt Disney Pictures', 'Jerry Bruckheimer Films'],\n ['Lionsgate', 'Color Force'],\n ['Columbia Pictures',\n  'Imagine Entertainment',\n  'Skylark Productions',\n  'Government of Malta'],\n ['Blue Sky Studios', 'Twentieth Century Fox Animation'],\n ['Twentieth Century Fox Film Corporation',\n  \"Donners' Company\",\n  'Bad Hat Harry Productions',\n  'Marvel Enterprises',\n  'XM2 Productions',\n  'XF2 Canada Productions'],\n ['Universal Pictures', 'Original Film', 'One Race Productions'],\n ['Village Roadshow Pictures',\n  'Silver Pictures',\n  'Lin Pictures',\n  'Warner Bros.',\n  'Wigram Productions'],\n ['The Zanuck Company',\n  'Legendary Pictures',\n  'Thunder Road Pictures',\n  'Warner Bros.',\n  'Moving Picture Company (MPC)'],\n ['TriStar Pictures', 'Carolco Pictures', 'Carolco International N.V.'],\n ['Touchstone Pictures', 'Touchstone Pictures'],\n ['Universal Pictures',\n  'Dentsu',\n  'Relativity Media',\n  'Kennedy/Marshall Company, The',\n  'Captivate Entertainment'],\n ['PolyGram Filmed Entertainment', 'Warner Bros.'],\n ['Imagine Entertainment', 'Universal Pictures'],\n ['Lions Gate Films',\n  'Twentieth Century Fox Film Corporation',\n  'Centropolis Entertainment',\n  'Mark Gordon Productions',\n  \"Mel's Cite du Cinema\"],\n ['Paramount Pictures',\n  'Cruise/Wagner Productions',\n  'Munich Film Partners & Company (MFP) MI2 Productions'],\n ['Warner Bros.', 'Baltimore Spring Creek Productions', 'Radiant Productions'],\n ['Ingenious Film Partners',\n  'Twentieth Century Fox Film Corporation',\n  '1492 Pictures',\n  'Dune Entertainment',\n  'Constantin Film Produktion',\n  'Bernd Eichinger Productions',\n  'Marvel Enterprises'],\n ['Ingenious Film Partners',\n  'Ingenious Media',\n  'Dune Entertainment',\n  'Fox 2000 Pictures',\n  'Big Screen Productions',\n  'Haishang Films'],\n ['Columbia Pictures Corporation',\n  'Relativity Media',\n  'Michael De Luca Productions',\n  'Marvel Enterprises',\n  'Crystal Sky Pictures',\n  'GH One',\n  'Vengeance Productions Pty. Ltd.'],\n ['The Kennedy/Marshall Company',\n  'Captivate Entertainment',\n  'Pearl Street Films',\n  'Double Negative',\n  'Perfect World (Beijing) Pictures Co.'],\n ['Columbia Pictures',\n  'Wonderland Sound and Vision',\n  'Tall Trees Productions',\n  'Flower Films (II)'],\n ['Twentieth Century Fox Film Corporation',\n  'Dune Entertainment',\n  'Scott Free Productions',\n  'Brandywine Productions'],\n ['Columbia Pictures', 'Sony Pictures Entertainment'],\n ['TriStar Pictures',\n  'Media Rights Capital',\n  'Sony Pictures Entertainment (SPE)',\n  'QED International',\n  'Alpha Core',\n  'Genre Films',\n  'Simon Kinberg Productions'],\n ['One Race Films', 'Radar Pictures'],\n ['Columbia Pictures', 'Strike Entertainment', 'Metro-Goldwyn-Mayer (MGM)'],\n ['Village Roadshow Pictures',\n  'Studio Babelsberg',\n  'Anarchos Productions',\n  'Silver Pictures',\n  'Warner Bros.',\n  'Velocity Productions'],\n ['Columbia Pictures', 'Gracie Films', 'Road Rebel'],\n ['Tree Line Films',\n  'Twentieth Century Fox Film Corporation',\n  'Dune Entertainment',\n  'Regency Enterprises',\n  'Pink Machine'],\n ['Universal Pictures',\n  'Chernin Entertainment',\n  'Relativity Media',\n  'Monolith Pictures (III)',\n  'Radical Studios'],\n ['Lucasfilm', 'Lucasfilm'],\n ['Lucasfilm', 'Lucasfilm'],\n ['Walt Disney Pictures', 'Pixar Animation Studios'],\n ['Twentieth Century Fox Film Corporation',\n  \"Donners' Company\",\n  'Marvel Entertainment',\n  'Bad Hat Harry Productions',\n  'Big Screen Productions',\n  'TSG Entertainment'],\n ['Lucasfilm', 'Lucasfilm'],\n ['DreamWorks Animation', 'DreamWorks Animation'],\n ['Constantin Film',\n  'TF1 Films Productions',\n  'Pathé Renn Productions',\n  'La Petite Reine',\n  'Tri Pictures',\n  'Sorolla Films',\n  'Novo RPI',\n  'Canal+',\n  'uFilm',\n  'Canal+ España',\n  'Le Tax Shelter du Gouvernement Fédéral de Belgique',\n  'Les Editions Albert René'],\n ['Lion Rock Productions', 'Metro-Goldwyn-Mayer (MGM)'],\n ['Universal Pictures', 'Perfect World Pictures', 'Roth Films'],\n ['Paramount Pictures', 'Nickelodeon Movies', 'Platinum Dunes'],\n ['Warner Bros.', 'Heyday Films', 'Esperanto Filmoj'],\n ['Universal Pictures', 'Pacific Western'],\n ['Paramount Pictures',\n  'Nickelodeon Movies',\n  'Platinum Dunes',\n  '5150 Action',\n  'Gama Entertainment Partners'],\n ['Twentieth Century Fox Film Corporation',\n  'Marv Films',\n  'Marvel Entertainment',\n  'Constantin Film.',\n  'Moving Picture Company (MPC)',\n  'TSG Entertainment',\n  'Genre Films'],\n ['Ingenious Film Partners',\n  'Twentieth Century Fox Film Corporation',\n  '1492 Pictures',\n  '21 Laps Entertainment'],\n ['New Line Cinema',\n  'Village Roadshow Pictures',\n  'Warner Bros.',\n  'Flynn Picture Company'],\n ['Eon Productions', 'Eon Productions'],\n ['Centropolis Entertainment',\n  'Columbia Pictures Corporation',\n  'Mutual Film Company',\n  'Global Entertainment Productions GmbH & Company Medien KG'],\n ['Village Roadshow Pictures',\n  'Section Eight',\n  'Jerry Weintraub Productions',\n  'Warner Bros.',\n  'WV Films III'],\n ['Weed Road Pictures',\n  'Summit Entertainment',\n  'Regency Enterprises',\n  'Epsilon Motion Pictures',\n  'New Regency Pictures'],\n ['Summit Entertainment',\n  'Mandeville Films',\n  'Red Wagon Entertainment',\n  'NeoReel'],\n ['Miramax Films',\n  'Appian Way',\n  'Forward Pass',\n  'Cappa Productions',\n  'Warner Bros.',\n  'Initial Entertainment Group (IEG)',\n  'IMF Internationale Medien und Film GmbH & Co. 3. Produktions KG',\n  \"Mel's Cite du Cinema\"],\n ['Twentieth Century Fox Film Corporation',\n  'Dune Entertainment',\n  'Davis Entertainment',\n  'Dune Entertainment III'],\n ['Original Film',\n  'Sony Pictures Entertainment',\n  'Reliance BIG Entertainment'],\n ['Legendary Pictures',\n  'Hollywood Gang Productions',\n  'Atmosphere Entertainment MM',\n  'Warner Bros.',\n  'Nimar Studios',\n  'Cruel and Unusual Films'],\n ['Columbia Pictures',\n  'Sony Pictures Animation',\n  'Kerner Entertainment Company'],\n ['Walt Disney Pictures', 'Walt Disney Pictures'],\n ['Summit Entertainment',\n  'Lionsgate',\n  'Mandeville Films',\n  'Red Wagon Entertainment'],\n ['DreamWorks SKG',\n  '21 Laps Entertainment',\n  'Reliance Entertainment',\n  'Touchstone Pictures',\n  'ImageMovers',\n  'Angry Films',\n  'Revolution Sun Studios',\n  'Kontsept Film Company',\n  'Wardour Street Pictures'],\n ['Columbia Pictures',\n  'Sony Pictures Animation',\n  'Kerner Entertainment Company',\n  'Hemisphere Media Capital',\n  'NeoReel'],\n ['Twentieth Century Fox Film Corporation', 'Blue Tulip Productions'],\n ['Summit Entertainment',\n  'Chartoff Productions',\n  'Odd Lot Entertainment',\n  'K/O Paper Products',\n  'Digital Domain',\n  'Taleswapper'],\n ['Ingenious Film Partners',\n  'Twentieth Century Fox Film Corporation',\n  'Dune Entertainment',\n  'Cheyenne Enterprises',\n  'Wintergreen Productions'],\n ['WingNut Films', 'New Line Cinema', 'The Saul Zaentz Company'],\n ['Studio Babelsberg',\n  'Walden Media',\n  'Babelsberg Film',\n  'Mostow/Lieberman Productions',\n  '80 Days Productions',\n  'Spanknyce Films',\n  'Fitzwilliam Productions'],\n ['Columbia Pictures Corporation', 'Columbia Pictures Corporation'],\n ['Imagine Entertainment', 'DreamWorks SKG', 'Universal Pictures'],\n ['Twentieth Century Fox Film Corporation',\n  'Laurence Mark Productions',\n  'Davis Entertainment',\n  'Overbrook Entertainment',\n  'Mediastream Vierte Film GmbH & Co. Vermarktungs KG',\n  'Canlaws Productions'],\n ['Studio Babelsberg',\n  'Twentieth Century Fox Film Corporation',\n  'Scott Free Productions',\n  'Kanzaman',\n  'Dune Films',\n  'BK',\n  'KOH',\n  'Reino del Cielo',\n  'Inside Track 3',\n  'Calle Cruzada'],\n ['Columbia Pictures Corporation',\n  'Global Medien KG',\n  'Franklin/Waterman Productions'],\n ['Walt Disney Pictures', 'Walt Disney Animation Studios'],\n ['Twentieth Century Fox Film Corporation',\n  'Scott Free Productions',\n  'Mid Atlantic Films',\n  'International Traders',\n  'TSG Entertainment',\n  'Genre Films'],\n ['DreamWorks SKG', 'Warner Bros.', 'Parkes/MacDonald Productions'],\n ['New Line Cinema', 'New Line Cinema'],\n ['Jerry Bruckheimer Films', 'Touchstone Pictures'],\n ['DreamWorks SKG',\n  'Universal Pictures',\n  'Scott Free Productions',\n  'Red Wagon Entertainment',\n  'Mill Film',\n  'C & L',\n  'Dawliz'],\n ['DreamWorks SKG',\n  'Cruise/Wagner Productions',\n  'Amblin Entertainment',\n  'Twentieth Century Fox Film Corporation',\n  'Blue Tulip Productions',\n  'Ronald Shusett/Gary Goldman',\n  'Digital Image Associates'],\n ['1492 Pictures', 'Heyday films', 'Warner Bros.'],\n ['Eon Productions', 'Stillking Films', 'Babelsberg Film'],\n ['Twentieth Century Fox Film Corporation',\n  'Tim Burton Productions',\n  'Zanuck Company, The'],\n ['Lightstorm Entertainment',\n  'Pacific Western',\n  'Canal+',\n  'Carolco Pictures',\n  'T2 Productions'],\n ['Universal Pictures',\n  'Appian Way',\n  'Forward Pass',\n  'Dentsu',\n  'Relativity Media',\n  'Tribeca Productions',\n  'Misher Films'],\n ['Imagine Entertainment',\n  'Universal Pictures',\n  'Scott Free Productions',\n  'Relativity Media',\n  'Film Rites'],\n ['Twentieth Century Fox Film Corporation', 'Lightstorm Entertainment'],\n ['Columbia Pictures',\n  'Escape Artists',\n  'Scott Free Productions',\n  'Relativity Media',\n  'Metro-Goldwyn-Mayer (MGM)'],\n ['Paramount Pictures',\n  'Universal Pictures',\n  'Everyman Pictures',\n  'Relativity Media',\n  'Dreamworks Pictures',\n  'Tribeca Productions'],\n ['Columbia Pictures', 'Gary Sanchez Productions'],\n ['Kopelson Entertainment', 'Warner Bros.'],\n ['Columbia Pictures', 'The Weinstein Company'],\n ['Walt Disney Pictures', 'Walt Disney Pictures'],\n ['Walt Disney Pictures', 'Walt Disney Feature Animation'],\n ['Nu Image Films', 'Millennium Films'],\n ['Walt Disney Pictures',\n  'Jerry Bruckheimer Films',\n  'Saturn Films',\n  'Junction Entertainment'],\n ['Ingenious Film Partners',\n  'Twentieth Century Fox Film Corporation',\n  'Dune Entertainment',\n  'Major Studio Partners',\n  'Fox 2000 Pictures',\n  'Davis Entertainment',\n  'Mid Atlantic Films'],\n ['Village Roadshow Pictures',\n  'Legendary Pictures',\n  'Playtone',\n  'Wild Things Productions',\n  'Warner Bros.'],\n ['Blue Sky Studios', 'Twentieth Century Fox Animation'],\n ['Columbia Pictures',\n  'Spyglass Entertainment',\n  'Peninsula Films',\n  'StudioCanal',\n  'Sony Pictures Releasing',\n  'GK Films',\n  'Sony Pictures Worldwide Acquisitions (SPWA)',\n  'Italian Tax Credit',\n  'Birnbaum/Barber',\n  'Cineroma SRL',\n  'French Tax Credit'],\n ['Beacon Communications', 'Beacon Communications'],\n ['Bedford Falls Productions',\n  'Lonely Film Productions GmbH & Co. KG.',\n  'Virtual Studios',\n  'Spring Creek Productions',\n  'Warner Bros.',\n  'Initial Entertainment Group (IEG)',\n  'Liberty Pictures'],\n ['Paramount Pictures',\n  'Appian Way',\n  'EMJAG Productions',\n  'Red Granite Pictures',\n  'Sikelia Productions'],\n ['Warner Bros.', 'Polygram Filmed Entertainment'],\n ['TriStar Pictures', 'Touchstone Pictures', 'Big Bug Pictures'],\n ['Anarchos Productions',\n  'X-Filme Creative Pool',\n  'Ascension Pictures',\n  'ARD Degeto Film',\n  'Cloud Atlas Productions',\n  'Five Drops',\n  'Media Asia Group',\n  'Dreams of Dragon Picture'],\n ['Village Roadshow Pictures',\n  'Warner Bros.',\n  'Animal Logic',\n  'Cruel and Unusual Films'],\n ['Village Roadshow Pictures',\n  'DiNovi Pictures',\n  'Warner Bros.',\n  'Frantic Films',\n  'Maple Shade Films',\n  'Catwoman Films'],\n ['Paramount Pictures',\n  'Metro-Goldwyn-Mayer (MGM)',\n  'Radical Studios',\n  'Flynn Picture Company'],\n ['Walt Disney Pictures', 'Walt Disney Feature Animation'],\n ['Universal Pictures',\n  'Mosaic Media Group',\n  'Relativity Media',\n  'Sid & Marty Krofft Pictures'],\n ['Davis-Films',\n  'Nu Image Films',\n  'LionsGate',\n  'Millennium Films',\n  'Ex3 Productions',\n  'Fipex Holding'],\n ['Studio Babelsberg',\n  'Alcon Entertainment',\n  'DMG Entertainment',\n  'Ehman Productions'],\n ['New Line Cinema', 'Pathé Distribution'],\n ['Imagine Entertainment',\n  'Spring Creek Productions',\n  'Warner Bros.',\n  'Roth Films',\n  'K. JAM Media',\n  'Cott Productions',\n  'Surf Film',\n  'Enelmar Productions, A.I.E.'],\n ['Village Roadshow Pictures',\n  'Castle Rock Entertainment',\n  'NPV Entertainment',\n  \"Mel's Cite du Cinema\"],\n ['Universal Pictures',\n  'StudioCanal',\n  'Dentsu',\n  'Relativity Media',\n  'Working Title Films'],\n ['Blue Sky Studios', 'Twentieth Century Fox Animation'],\n ['Jean Doumanian Productions',\n  'Sweetland Films',\n  'Magnolia Films',\n  'Jasmine Productions Inc.'],\n ['Universal Pictures', 'Alphaville Films', 'Imhotep Productions'],\n ['Miramax Films',\n  'Initial Entertainment Group (IEG)',\n  'Alberto Grimaldi Productions'],\n ['Beijing New Picture Film Co. Ltd.', 'EDKO Film', 'New Picture Company'],\n ['Columbia Pictures', 'Sony Pictures Animation'],\n ['Paramount Pictures', 'De Line Pictures', 'DreamWorks Pictures'],\n ['Jerry Bruckheimer Films', 'Revolution Studios', 'Scott Free Productions'],\n ['Everyman Pictures',\n  'Gary Sanchez Productions',\n  'Warner Bros.',\n  'Location Gourmet'],\n ['Columbia Pictures', 'Gaumont'],\n ['New Line Cinema',\n  'Village Roadshow Pictures',\n  'Home Box Office (HBO)',\n  'HBO Films'],\n ['DreamWorks SKG', 'DreamWorks Animation'],\n ['Blue Sky Studios', 'Twentieth Century Fox Animation'],\n ['Walt Disney Pictures',\n  'Genre Films',\n  'Beagle Pug Films',\n  'Allison Shearmur Productions'],\n ['WingNut Films',\n  'DreamWorks SKG',\n  'Key Creatives',\n  'Film4',\n  'Goldcrest Pictures',\n  'New Zealand Large Budget Screen Production Grant'],\n ['Pixar Animation Studios', 'Pixar Animation Studios'],\n ['WingNut Films', 'New Line Cinema'],\n ['WingNut Films', 'New Line Cinema', 'The Saul Zaentz Company'],\n ['Legendary Pictures',\n  'Thunder Road Pictures',\n  'Outlaw Sinema',\n  'Moving Picture Company (MPC)',\n  'Pendle Mountain Productions',\n  'China Film Co.'],\n ['Paramount Pictures',\n  'Toho-Towa',\n  'Mutual Film Company',\n  'Lawrence Gordon Productions',\n  'British Broadcasting Corporation (BBC)',\n  'Marubeni',\n  'Eidos Interactive'],\n ['Alcon Entertainment', 'Syncopy', 'DMG Entertainment', 'Straight Up Films'],\n ['Universal Studios', 'Amblin Entertainment'],\n ['Ingenious Film Partners',\n  'Ingenious Media',\n  'Twentieth Century Fox Film Corporation',\n  'Dune Entertainment',\n  'Dune Entertainment III',\n  'Chernin Entertainment',\n  'Big Screen Productions'],\n ['Paramount Pictures', 'The Kennedy/Marshall Company'],\n ['Ingenious Media',\n  'Twentieth Century Fox Film Corporation',\n  'Dune Entertainment',\n  'Mid Atlantic Films',\n  'Big Screen Productions',\n  'Temple Hill Entertainment',\n  'TSG Entertainment',\n  'Giant Pictures',\n  'Origo Film Group'],\n ['Imagine Entertainment', 'Touchstone Pictures'],\n ['Walt Disney Pictures', 'Pixar Animation Studios'],\n ['Le Studio Canal+',\n  'Laurence Mark Productions',\n  'Metro-Goldwyn-Mayer (MGM)',\n  'Carolco Pictures'],\n ['Ingenious Film Partners',\n  '1492 Pictures',\n  'Dune Entertainment',\n  'Fox 2000 Pictures',\n  'Sunswept Entertainment',\n  'Dune Entertainment III',\n  'Big Screen Productions',\n  'TCF Vancouver Productions'],\n ['Amblin Entertainment',\n  'Columbia Pictures Corporation',\n  'Parkes+MacDonald Image Nation'],\n ['Pixar Animation Studios', 'Pixar Animation Studios'],\n ['Twentieth Century Fox Film Corporation',\n  'Scott Free Productions',\n  'Firm Films',\n  'Prospect Park',\n  'Millbrook Farm Productions'],\n ['New Line Cinema', 'New Line Cinema'],\n ['DreamWorks SKG', 'Twentieth Century Fox Film Corporation', 'ImageMovers'],\n ['Columbia Pictures', 'Sony Pictures Animation'],\n ['Blue Sky Studios', 'Twentieth Century Fox Animation'],\n ['New Line Cinema',\n  'Ingenious Media',\n  'Twentieth Century Fox Film Corporation',\n  'Samuel Goldwyn Films',\n  'Big Screen Productions',\n  'Red Hour Films',\n  'TSG Entertainment',\n  'Down Productions'],\n ['Columbia Pictures', 'Columbia Pictures'],\n ['Vertigo Entertainment',\n  'Media Asia Films',\n  'Warner Bros.',\n  'Initial Entertainment Group (IEG)',\n  'Plan B Entertainment'],\n ['Walt Disney Pictures', 'Walt Disney Feature Animation'],\n ['DreamWorks SKG',\n  'Goldcrest Pictures',\n  'Red Hour Films',\n  'Internationale Filmproduktion Stella-del-Sud Second'],\n ['Columbia Pictures',\n  'Scott Rudin Productions',\n  'Film Rites',\n  'Metro-Goldwyn-Mayer (MGM)',\n  'Yellow Bird',\n  'Ground Control'],\n ['Twentieth Century Fox Film Corporation', 'Cinergi Pictures Entertainment'],\n ['Village Roadshow Pictures',\n  'Silver Pictures',\n  'Warner Bros.',\n  'Internationale Filmproduktion Blackbird Dritte',\n  'Wigram Productions'],\n ['Paramount Pictures',\n  'Metro-Goldwyn-Mayer (MGM)',\n  'Sean Daniel Company',\n  'LightWorkers Media'],\n ['Walt Disney Pictures', 'Walt Disney Feature Animation'],\n ['Regency Enterprises',\n  'Fox 2000 Pictures',\n  'Sunswept Entertainment',\n  'Bagdasarian Productions',\n  'TSG Entertainment'],\n ['United Artists',\n  'Achte Babelsberg Film',\n  'Metro-Goldwyn-Mayer (MGM)',\n  'Bad Hat Harry Productions'],\n ['Columbia Pictures',\n  'Happy Madison Productions',\n  'Sony Pictures Releasing',\n  'Relativity Media'],\n ['Columbia Pictures', 'Happy Madison Productions'],\n ['DreamWorks SKG',\n  'Amblin Entertainment',\n  'Stanley Kubrick Productions',\n  'Warner Bros.'],\n ['Walt Disney Pictures', 'Gunn Films', 'Doom Buggy Productions'],\n ['Warner Bros.', 'South Side Amusement Company'],\n ['Columbia Pictures Corporation',\n  'Global Entertainment Productions GmbH & Company Medien KG'],\n ['Universal Pictures',\n  'StudioCanal',\n  'Mirage Enterprises',\n  'Working Title Films',\n  'Misher Films',\n  'Motion Picture JOTA Produktions'],\n ['1492 Pictures',\n  'Dune Entertainment',\n  'Fox 2000 Pictures',\n  'Sunswept Entertainment',\n  'Dune Entertainment III',\n  'TSG Entertainment'],\n ['Paramount Pictures',\n  'Toho-Towa',\n  'Mutual Film Company',\n  'Lawrence Gordon Productions',\n  'British Broadcasting Corporation (BBC)',\n  'October Pictures',\n  'Eidos Interactive'],\n ['Summit Entertainment', 'Lionsgate', 'K/O Paper Products', 'TIK Films'],\n ['Paramount Pictures', 'Mace Neufeld Productions', 'Rysher Entertainment'],\n ['Universal Pictures',\n  'Metropolitan Filmexport',\n  'Toho-Towa',\n  'Red Wagon Productions',\n  'Beacon Communications',\n  'Kalima Productions GmbH & Co. KG'],\n ['Spyglass Entertainment',\n  'The Jacobson Company',\n  'Touchstone Pictures',\n  'Red Horizon Productions'],\n ['Blue Sky Studios', 'Twentieth Century Fox Animation'],\n ['Laurence Mark Productions',\n  '1492 Pictures',\n  'Columbia Pictures Corporation',\n  'Touchstone Pictures',\n  'Radiant Productions'],\n ['Twentieth Century Fox Film Corporation',\n  'Twentieth Century Fox Film Corporation'],\n ['Columbia Pictures', 'Columbia Pictures'],\n ['Paramount Pictures',\n  'Intermedia Films',\n  'National Geographic Society',\n  'New Regency Pictures',\n  'Palomar Pictures (II)',\n  'First Light Production'],\n ['Universal Pictures', 'Dino De Laurentiis Company'],\n ['Miramax Films',\n  'Imagine Entertainment',\n  'Universal Pictures',\n  'Parkway Pictures (I)',\n  'Touchstone Pictures'],\n ['Vnesheconombank',\n  'Nutcracker Holdings',\n  'HCC Media Group',\n  'Russian Roulette Ltd.'],\n ['Universal Pictures',\n  'Spyglass Entertainment',\n  'The Kennedy/Marshall Company',\n  'DreamWorks Pictures',\n  'Touchstone Pictures'],\n ['Universal Pictures',\n  'Amblin Entertainment',\n  'Warner Bros.',\n  'Constant c Productions'],\n ['DreamWorks SKG',\n  'Twentieth Century Fox Film Corporation',\n  'Playtone',\n  'ImageMovers'],\n ['Kennedy Miller Productions', 'Animal Logic'],\n ['Universal Pictures',\n  'The Kennedy/Marshall Company',\n  'Hypnotic',\n  'Motion Picture THETA Produktionsgesellschaft',\n  'Ludlum Entertainment'],\n ['Columbia Pictures Corporation',\n  'Beacon Communications',\n  'Radiant Productions'],\n ['Village Roadshow Pictures',\n  'Section Eight',\n  'NPV Entertainment',\n  'Jerry Weintraub Productions',\n  'Warner Bros.',\n  'WV Films II'],\n ['Impact Pictures',\n  'Studio Babelsberg',\n  'Nouvelles Éditions de Films (NEF)',\n  'New Legacy',\n  'Constantin Film Produktion'],\n ['Columbia Pictures', 'Sony Pictures Animation'],\n ['Walt Disney Pictures',\n  'Josephson Entertainment',\n  'Andalasia Productions',\n  'Right Coast Productions'],\n ['Universal Pictures', 'Dentsu', 'Relativity Media', 'Bluegrass Films'],\n ['Walt Disney Pictures', 'Cruella Productions'],\n ['Universal Pictures',\n  'Image Entertainment',\n  'Relativity Media',\n  'Rat Entertainment'],\n ['Columbia Pictures',\n  'Universal Pictures',\n  'Waverly Films',\n  'Relativity Media'],\n ['Jerry Bruckheimer Films',\n  'Scott Free Productions',\n  'Touchstone Pictures',\n  'No Such Productions'],\n ['Universal Pictures',\n  'Scott Rudin Productions',\n  'Waverly Films',\n  'Dentsu',\n  'Relativity Media'],\n ['Village Roadshow Pictures',\n  'Section Eight',\n  'Jerry Weintraub Productions',\n  'Warner Bros.'],\n ['Sony Pictures Animation', 'Sony Pictures Animation'],\n ['Summit Entertainment', 'Red Wagon Entertainment'],\n ['Paramount Pictures',\n  'Swanford Films',\n  'Mandalay Pictures',\n  'Little Bird',\n  'KC Medien',\n  'Reperage',\n  'DOS',\n  'MP Film Management'],\n ['Columbia Pictures',\n  'Universal Pictures',\n  'Strike Entertainment',\n  'WWE Studios',\n  'Misher Films',\n  'IM3 Entertainment'],\n ['Columbia Pictures Corporation', 'Oak Productions'],\n ['DreamWorks SKG',\n  'Spyglass Entertainment',\n  'Columbia Pictures Corporation',\n  'Red Wagon Productions'],\n ['Universal Pictures', 'Universal Pictures'],\n ['Columbia Pictures', 'Aardman Animations', 'Sony Pictures Animation'],\n ['Universal Pictures', 'City Light Films'],\n ['David Foster Productions',\n  'Bel Air Entertainment',\n  'Warner Bros.',\n  'Hacienda Productions'],\n ['Twentieth Century Fox Film Corporation', 'Columbia Pictures Corporation'],\n ['Relativity Media',\n  'Misher Films',\n  'Yucaipa Films',\n  'Goldmann Pictures',\n  'Rat Entertainment',\n  'Misha Films'],\n ['Universal Pictures', 'Marc Platt Productions'],\n ['Paramount Pictures',\n  'David Foster Productions',\n  'Horsepower Films',\n  'LivePlanet',\n  'Core Productions',\n  'Munich Film Partners New Century & Company (MFP) Core Productions'],\n ['Imagine Entertainment', 'Universal Pictures'],\n ['Atlas Entertainment', 'Mosaic Media Group', 'Warner Bros.'],\n ['DNA Films',\n  'Reliance BIG Entertainment',\n  'IM Global',\n  'Rena Film',\n  'Peach Trees'],\n ['Original Film',\n  'Columbia Pictures Corporation',\n  'Revolution Studios',\n  'Happy Madison Productions'],\n ['Warner Bros.', 'Creepshow Films Inc.', 'Laurel Entertainment Inc.'],\n ['Village Roadshow Pictures', 'Village Roadshow Pictures'],\n ['Dune Entertainment', 'Hypnotic', 'New Regency Pictures'],\n ['Universal Pictures',\n  'Dark Horse Entertainment',\n  'Lawrence Gordon Productions',\n  'Mid Atlantic Films',\n  'Relativity Media',\n  'Internationale Filmproduktion Eagle'],\n ['Paramount Pictures', 'Warner Bros.', 'Phoenix Pictures'],\n ['Phoenix Pictures', 'Phoenix Pictures'],\n ['Universal Pictures',\n  'Spyglass Entertainment',\n  'Shady Acres Entertainment',\n  'Pit Bull Productions'],\n ['Millennium Films', 'Millennium Films'],\n ['Paramount Pictures', 'Cruise/Wagner Productions'],\n ['Lionsgate', 'Color Force'],\n ['Legendary Pictures', 'Living Films', 'Green Hat Films', 'Warner Bros.'],\n ['PolyGram Filmed Entertainment', 'Warner Bros.'],\n ['Pacific Data Images (PDI)', 'DreamWorks Animation'],\n ['Walt Disney Pictures', 'Walt Disney Feature Animation'],\n ['Paramount Pictures', 'Kerner Entertainment Company'],\n ['Paramount Pictures',\n  'DreamWorks SKG',\n  'Zanuck/Brown Productions',\n  'Manhattan Project'],\n ['DC Comics',\n  'Di Bonaventura Pictures',\n  'Summit Entertainment',\n  'DC Entertainment'],\n ['Paramount Pictures',\n  'Columbia Pictures Corporation',\n  'MTV Films',\n  'Happy Madison Productions',\n  'Callahan Filmworks'],\n ['Fox 2000 Pictures', 'Fox 2000 Pictures'],\n ['Columbia Pictures',\n  'Happy Madison Productions',\n  'Sony Pictures Entertainment (SPE)'],\n ['Village Roadshow Pictures',\n  'Atlas Entertainment',\n  'Mosaic Media Group',\n  'Mad Chance',\n  'Warner Bros.',\n  'WV Films IV',\n  \"Mel's Cite du Cinema\",\n  'Callahan Filmworks'],\n ['Columbia Pictures Corporation', 'Waverly Films', 'Warner Bros.'],\n ['Paramount Pictures',\n  'Appian Way',\n  'Phoenix Pictures',\n  'Sikelia Productions'],\n ['New Line Cinema',\n  'Spyglass Entertainment',\n  'Type A Films',\n  'Ott Medien',\n  'Wild West Picture Show Productions'],\n ['Blue Sky Studios', 'Twentieth Century Fox Animation'],\n ['Paramount Pictures',\n  'Permut Presentations',\n  'WCG Entertainment Productions',\n  'Douglas/Reuther Productions',\n  'Touchstone Pictures',\n  'Krane Entertainment'],\n ['Walt Disney Pictures', 'Happy Madison Productions', 'Gunn Films'],\n ['DreamWorks SKG',\n  'The Zanuck Company',\n  'Twentieth Century Fox Film Corporation'],\n ['Columbia Pictures', 'Happy Madison Productions'],\n ['Jerry Bruckheimer Films',\n  'Kouf/Bigelow Productions',\n  'Touchstone Pictures',\n  'Hiett Designs of Las Vegas',\n  'Runway Pictures Inc'],\n ['DreamWorks SKG',\n  'K/O Paper Products',\n  'Goldcrest Pictures',\n  'KMP Film Invest'],\n ['Miramax Films',\n  'Mirage Enterprises',\n  'Castel Film Romania',\n  'Bona Fide Productions',\n  'Cattleya'],\n ['Alcon Entertainment', 'Silver Pictures'],\n ['Walt Disney Pictures', 'Great Oaks Entertainment'],\n ['DreamWorks', 'Roth-Arnold Productions'],\n ['Warner Bros. Family Entertainment',\n  'Northern Lights Entertainment',\n  'Courtside Seats Productions'],\n ['Columbia Pictures',\n  'International Production Company',\n  'The Montecito Picture Company',\n  'Robert Simonds Productions',\n  'Metro-Goldwyn-Mayer (MGM)'],\n ['Twentieth Century Fox Film Corporation',\n  'Dune Entertainment III',\n  'Earth Canada Productions',\n  'Hammerhead Productions',\n  '3 Arts Entertainment'],\n ['Silver Pictures', 'Warner Bros.', 'Donner/Shuler-Donner Productions'],\n ['Columbia Pictures',\n  'QED International',\n  'Crave Films',\n  'LStar Capital',\n  'Huayi Brothers Media',\n  'Le Grisbi Productions'],\n ['Caravan Pictures',\n  'Roger Birnbaum Productions',\n  'Northern Lights Entertainment',\n  'Touchstone Pictures'],\n ['De Line Pictures',\n  'Warner Bros. Animation',\n  'Sunswept Entertainment',\n  'Rhythm and Hues',\n  'Picnic Basket'],\n ['DreamWorks SKG', 'DreamWorks Animation'],\n ['Columbia Pictures',\n  'Happy Madison Productions',\n  'Sony Pictures Releasing',\n  'Broken Road Productions',\n  'Metro-Goldwyn-Mayer (MGM)',\n  'Zookeeper Productions',\n  'Hey Eddie'],\n ['New Line Cinema',\n  'Irwin Allen Productions',\n  'Prelude Pictures',\n  'Saltire Entertainment'],\n ['Paramount Pictures', 'Scott Rudin Productions', 'Clinica Estetico'],\n ['Rainbow Film Company, The', 'Revere Entertainment', 'Jagtoria Films'],\n ['Columbia Pictures', 'Sony Pictures Animation'],\n ['Walt Disney Pictures', 'Walt Disney Pictures'],\n ['DreamWorks SKG', 'Warner Bros.'],\n ['Walt Disney Pictures', 'RKO Pictures'],\n ['Village Roadshow Pictures',\n  'NPV Entertainment',\n  'Silver Pictures',\n  'Warner Bros.',\n  'Jonathan Krane Group'],\n ['Amblin Entertainment', 'Columbia Pictures Corporation'],\n ['PolyGram Filmed Entertainment', 'PolyGram Filmed Entertainment'],\n ['New Line Cinema', 'Avery Pix', 'Happy Madison Productions'],\n ['The Weinstein Company',\n  'Summit Entertainment',\n  'Atlas Entertainment',\n  'Mosaic Media Group',\n  'Reforma Films',\n  'Dimension Films',\n  'Metro-Goldwyn-Mayer (MGM)',\n  'Revolution Sun Studios'],\n ['Tim Burton Productions', 'Tim Burton Productions'],\n ['Ex Nihilo',\n  'Canal+',\n  'Les films du Worso',\n  'Noodles Production',\n  'Ciné+',\n  'Scope Pictures',\n  'Le Tax Shelter du Gouvernement Fédéral de Belgique',\n  'Centre National de la Cinématographie (CNC)',\n  'Ministère de la Culture et de la Communication',\n  'Volcano Films',\n  'Left Field Ventures',\n  'Evo Films A.I.E.',\n  'Indéfilms 3',\n  'Palatine Étoile 12',\n  'Cinéfeel Prod'],\n ['Art Linson Productions', 'Art Linson Productions'],\n ['Touchstone Pictures',\n  'Mandeville Films',\n  'Wintergreen Productions',\n  'Top Shelf Productions'],\n ['New Line Cinema', 'Tig Productions'],\n ['Universal Pictures', 'Davis Entertainment'],\n ['BBC Worldwide',\n  'Reliance BIG Entertainment',\n  'Animal Logic',\n  'BBC Earth',\n  'Evergreen Films',\n  'BBC Earth MD (WWD)',\n  'Evergreen MD'],\n ['Franchise Pictures',\n  'Warner Bros.',\n  'JTP Films',\n  'Morgan Creek Productions',\n  'Battlefield Productions'],\n ['Lonely Film Productions GmbH & Co. KG.',\n  'Warner Bros. Animation',\n  'Warner Bros.',\n  'Goldmann Pictures',\n  'Baltimore Spring Creek Productions',\n  'Warner Bros. Feature Animation'],\n ['The Weinstein Company', 'Relativity Media'],\n ['Paramount Pictures',\n  \"Donners' Company\",\n  'Mutual Film Company',\n  'Cobalt Media Group',\n  'Artists Production Group (APG)'],\n ['Tig Productions', 'Warner Bros.'],\n ['Kennedy Miller Productions', 'Kennedy Miller Productions'],\n ['Summit Entertainment',\n  'Atmosphere Entertainment MM',\n  'One Race Films',\n  'Goldmann Pictures',\n  'NeoReel',\n  'Aperture Entertainment',\n  'TIK Films'],\n ['Village Roadshow Pictures',\n  'NPV Entertainment',\n  'Warner Bros.',\n  'The Canton Company',\n  'Mars Production Pty. Ltd.'],\n ['Canal Plus', 'Sofica Europacorp', 'Avalanche Productions', 'EuropaCorp'],\n ['Pathé Films',\n  'Canal+',\n  'TPS Star',\n  'Participant Media',\n  'France Télévision',\n  'France 2 Cinéma',\n  'France 3 Cinema',\n  'Centre National de la Cinématographie (CNC)',\n  'Conseil Régional du Calvados',\n  'Région Bretagne',\n  'Ministère du Développement Durable et de la Mer',\n  'JMH-TSR',\n  'HH Sheikha Salama bint Hamdan Al Nahyan',\n  \"Conseil Général des Côtes d'Armor\",\n  'Conseil Général du Morbihan',\n  'Région Basse-Normandie'],\n ['Epsilon Motion Pictures',\n  'Franchise Pictures',\n  'Baldwin Entertainment Group',\n  'Dante Entertainment',\n  'Crusader Entertainment',\n  'ETIC Films',\n  'Forge',\n  'QI Quality International GmbH Co. KG',\n  'Signature Pictures',\n  'ApolloMedia Distribution',\n  'Coco',\n  'Film 111',\n  'Jericho Productions Ltd.',\n  'MFF (Sound of Thunder)',\n  'Matrix Film Finance',\n  'Scenario Lane Productions'],\n ['Impact Pictures',\n  'TriStar Pictures',\n  'Don Carmody Productions',\n  'FilmDistrict',\n  'Constantin Film International'],\n ['Anima Estudios', 'Discreet Art Productions'],\n ['Imagine Entertainment', 'DreamWorks SKG', 'Universal Pictures'],\n ['Walt Disney Pictures', 'Walt Disney Feature Animation'],\n ['New Line Cinema', 'Contrafilm', 'Walden Media'],\n ['Columbia Pictures', 'Sony'],\n ['Universal Pictures', 'Metro-Goldwyn-Mayer (MGM)'],\n ['Casey Silver Productions', 'Touchstone Pictures', 'Dune Films'],\n ['Columbia Pictures', 'Happy Madison Productions', 'Broken Road Productions'],\n ['Mikona Productions GmbH & Co. KG',\n  'Universal Pictures',\n  'Original Film',\n  'Ardustry Entertainment'],\n ['Onyx Films',\n  'NetFlix',\n  'Orange Studios',\n  'CityMation',\n  'On Entertainment',\n  'Zippcast Films'],\n ['Village Roadshow Pictures',\n  'Vertigo Entertainment',\n  'Silver Pictures',\n  'Warner Bros.'],\n ['Universal Pictures',\n  'Capella International',\n  'KC Medien AG',\n  'Tribeca Productions'],\n ['Universal Pictures',\n  'Fuji Television Network',\n  'Dentsu',\n  'Illumination Entertainment'],\n ['Twentieth Century Fox Film Corporation',\n  'JD Productions',\n  'International Production Company',\n  'Angry Films',\n  'Mediastream Dritte Film GmbH & Co. Beteiligungs KG'],\n ['Universal Pictures', 'Illumination Entertainment'],\n ['Twentieth Century Fox Film Corporation', 'Centropolis Entertainment'],\n ['Universal Pictures', 'Amblin Entertainment'],\n ['DreamWorks SKG', 'Pacific Data Images (PDI)', 'DreamWorks Animation'],\n ['Universal Pictures', 'Strike Entertainment', 'Hit & Run Productions'],\n ['Twentieth Century Fox Film Corporation',\n  \"Donners' Company\",\n  'Bad Hat Harry Productions',\n  'Marvel Enterprises',\n  'Springwood Productions',\n  'Genetics Productions'],\n ['Universal Pictures',\n  'Spyglass Entertainment',\n  'Bazelevs Production',\n  'Kickstart Productions',\n  'Marc Platt Productions',\n  'Top Cow Productions',\n  'Relativity Media',\n  'Ringerike Zweite Filmproduktion',\n  'Revolution Sun Studios'],\n ['Hollywood Pictures', 'Don Simpson/Jerry Bruckheimer Films'],\n ['Blue Sky Studios', 'Twentieth Century Fox Animation'],\n ['Columbia Pictures Corporation',\n  'Happy Madison Productions',\n  'Anonymous Content',\n  'Flower Films (II)'],\n ['New Line Cinema',\n  'Ingenious Film Partners',\n  'Offspring Entertainment',\n  'Zadan / Meron Productions'],\n ['Morgan Creek Productions', 'Dominion Productions'],\n ['Walt Disney Pictures', 'Caravan Pictures', 'DiC Entertainment'],\n ['Summit Entertainment',\n  'K/O Paper Products',\n  'SOIXAN7E QUIN5E',\n  'See Me Louisiana'],\n ['Columbia Pictures', 'Happy Madison Productions', 'Relativity Media'],\n ['DreamWorks SKG', 'Amblin Entertainment', 'Parkes/MacDonald Productions'],\n ['DreamWorks SKG', 'Nickelodeon Movies'],\n ['Columbia Pictures Corporation',\n  'Global Entertainment Productions GmbH & Company Medien KG'],\n ['Universal Pictures', 'Participant Productions', 'Playtone Production'],\n ['DreamWorks SKG', 'Pacific Data Images (PDI)', 'DreamWorks Animation'],\n ['Paramount Pictures', 'DreamWorks SKG', 'Laurence Mark Productions'],\n ['Double Feature Films',\n  'Jersey Films',\n  'Nina Saxon Film Design',\n  'Metro-Goldwyn-Mayer (MGM)'],\n ['DreamWorks SKG',\n  'Universal Pictures',\n  'Amblin Entertainment',\n  'Peninsula Films',\n  'Alliance Atlantis Communications',\n  'Kennedy/Marshall Company, The',\n  'Barry Mendel Productions'],\n ['Columbia Pictures',\n  'Revolution Studios',\n  'Cheyenne Enterprises',\n  'Michael Lobell Productions'],\n ['Katalyst Films', 'Lionsgate', 'Aversano Films'],\n ['Davis Entertainment',\n  'Warner Bros.',\n  'Wigram Productions',\n  'RatPac-Dune Entertainment'],\n ['Gracie Films', 'Columbia Pictures Corporation'],\n ['Columbia Pictures',\n  'Amblin Entertainment',\n  'Sony Pictures Animation',\n  'Sony Pictures Entertainment',\n  'ImageMovers'],\n ['Cheyenne Enterprises',\n  'Epsilon Motion Pictures',\n  'Empire Pictures',\n  'Metro-Goldwyn-Mayer (MGM)',\n  'Hyde Park Entertainment',\n  'Baltimore Spring Creek Productions',\n  'Lotus Pictures'],\n ['Columbia Pictures Corporation', 'First Knight Productions'],\n ['Fox 2000 Pictures', 'Fox 2000 Pictures'],\n ['Virgin Produced', 'Mark Canton Productions'],\n ['Miramax Films',\n  'Cheyenne Enterprises',\n  'Yari Film Group',\n  'Stratus Film Co.',\n  'Syndicate Films International',\n  'Equity Pictures Medienfonds GmbH & Co. KG II',\n  'Hostage GmbH'],\n ['Twentieth Century Fox Film Corporation',\n  'David Kirschner Productions',\n  'Fox Animation Studios'],\n ['Columbia Pictures', 'Revolution Studios'],\n ['Impact Pictures',\n  'Jerry Weintraub Productions',\n  'Warner Bros.',\n  'Morgan Creek Productions'],\n ['Paramount Vantage',\n  'Likely Story',\n  'Ivy Boy Productions',\n  'This Is That Productions'],\n ['Twentieth Century Fox Film Corporation',\n  '1492 Pictures',\n  'Twitching Image Studio'],\n ['Twentieth Century Fox Film Corporation',\n  'Davis Entertainment',\n  'Aldrich Group',\n  'Optional Pictures'],\n ['Limited Edition Productions Inc.',\n  'Touchstone Pictures',\n  'Blinding Edge Pictures',\n  'Barry Mendel Productions'],\n ['Universal Pictures', 'Illumination Entertainment'],\n ['Legendary Pictures',\n  'Warner Bros.',\n  'Lennox House Films',\n  'Cruel and Unusual Films'],\n ['Paramount Pictures',\n  'DeBart',\n  'Touchstone Pictures',\n  \"Mel's Cite du Cinema\"],\n ['Punch Productions',\n  'Warner Bros.',\n  'Baltimore Pictures',\n  'Constant c Productions'],\n ['Columbia Pictures',\n  'Rovio Entertainment',\n  'Sony Pictures Imageworks (SPI)',\n  'Rovio Mobile',\n  'Rovio Animation'],\n ['De Line Pictures', 'Warner Bros.'],\n ['Columbia Pictures',\n  'Universal Pictures',\n  'Happy Madison Productions',\n  'Relativity Media',\n  'Apatow Productions',\n  'Madison 23'],\n ['Universal Pictures',\n  'Forward Pass',\n  'Relativity Media',\n  'FilmWorks',\n  'MDBF Zweite Filmgesellschaft'],\n ['Columbia Pictures', 'Apatow Productions'],\n ['Twentieth Century Fox Film Corporation',\n  'Joseph M. Singer Entertainment',\n  'Davis Entertainment'],\n ['Icon Entertainment International', 'The Ladd Company', 'B.H. Finance C.V.'],\n ['Universal Pictures',\n  'Neal Street Productions',\n  'Red Wagon Entertainment',\n  'Motion Picture KAPPA Produktionsgesellschaft'],\n ['Gracie Films', 'Twentieth Century Fox Film Corporation'],\n ['Village Roadshow Pictures',\n  'Castle Rock Entertainment',\n  'NPV Entertainment',\n  'Darkwoods Productions'],\n ['Epsilon Motion Pictures',\n  'Franchise Pictures',\n  'Trackform Film Productions',\n  \"Mel's Cite du Cinema\"],\n ['Pathé Renn Productions',\n  'TF1 Films Production',\n  'Canal+',\n  'Pathe',\n  'Two Brothers Productions'],\n ['Scott Rudin Productions', 'Touchstone Pictures', 'Blinding Edge Pictures'],\n ['Twentieth Century Fox Film Corporation',\n  'Joseph M. Singer Entertainment',\n  'Davis Entertainment'],\n ['Kennedy/Marshall Company, The',\n  'Touchstone Pictures',\n  'Blinding Edge Pictures'],\n ['DreamWorks SKG', 'Pacific Data Images (PDI)', 'DreamWorks Animation'],\n ['Walt Disney Pictures', 'Pixar Animation Studios'],\n ['Paramount Pictures',\n  'Lakeshore Entertainment',\n  'Touchstone Pictures',\n  'Interscope Communications'],\n ['Columbia Pictures', 'Original Film', 'Revolution Studios'],\n ['Paramount Pictures',\n  'Nickelodeon Movies',\n  'Nickelodeon Animation Studios',\n  'United Plankton Pictures',\n  'Disruption Entertainment',\n  'Paramount Animation'],\n ['Touchstone Pictures', 'Brian Grazer/Scott Rudin Productions'],\n ['Universal Pictures',\n  'A Band Apart',\n  'The Weinstein Company',\n  'Zehnte Babelsberg',\n  'Visiona Romantica'],\n ['Amblin Entertainment', 'TriStar Pictures'],\n ['Twentieth Century Fox Film Corporation',\n  'Gordon Company',\n  'Silver Pictures'],\n ['Original Film',\n  'Columbia Pictures Corporation',\n  'Camelot Pictures',\n  'Chris Lee Productions',\n  'Illusion Entertainment'],\n ['Paramount Pictures', 'Cruise-Wagner Productions', 'Vinyl Films'],\n ['Legendary Pictures', 'Warner Bros.', 'Blinding Edge Pictures'],\n ['Impact Pictures',\n  'Studio Babelsberg',\n  'Twentieth Century Fox Film Corporation',\n  'Davis Entertainment',\n  'Stillking Films',\n  'Brandywine Productions',\n  'Lonlink Productions',\n  'Kut Productions',\n  'Inside Track Films',\n  'Charenton Productions Limited',\n  'Revolution Sun Studios'],\n ['Regency Enterprises', 'Fox 2000 Pictures', 'Bagdasarian Productions'],\n ['Icon Entertainment International',\n  'Wheelhouse Entertainment',\n  'Motion Picture Production GmbH & Co. Erste KG'],\n ['Nu Image Films', 'Millennium Films'],\n ['Paramount Pictures', 'Paramount Pictures'],\n ['Columbia Pictures', 'Original Film', 'Relativity Media'],\n ['Columbia Pictures',\n  'The Zanuck Company',\n  'Jinks/Cohen Company',\n  'Tim Burton Productions'],\n ['Columbia Pictures', 'Columbia Pictures'],\n ['DreamWorks SKG',\n  'Amblin Entertainment',\n  'Reliance Entertainment',\n  'Kennedy/Marshall Company, The'],\n ['Columbia Pictures',\n  'Studio Babelsberg',\n  'Fox 2000 Pictures',\n  'Smokehouse Pictures',\n  'Obelisk Productions'],\n ['Twentieth Century Fox Film Corporation',\n  'Lightstorm Entertainment',\n  'Pacific Western'],\n ['Twentieth Century Fox Film Corporation',\n  'Dune Entertainment',\n  'Dune Entertainment III',\n  'Edward R. Pressman Film'],\n ['Universal Pictures',\n  'Legendary Pictures',\n  'Fuji Television Network',\n  'Dentsu',\n  'Michael De Luca Productions'],\n ['Twentieth Century Fox Film Corporation',\n  'Lynda Obst Productions',\n  'Bedford Falls Company, The'],\n ['Paramount Pictures',\n  'Ingenious Film Partners',\n  'Di Bonaventura Pictures',\n  'Marv Films',\n  'Vaughn Productions'],\n ['TriStar Pictures',\n  'Mandalay Entertainment',\n  'Applecross',\n  'Reperage & Vanguard Films'],\n ['Imagine Entertainment',\n  'Universal Pictures',\n  'Spyglass Entertainment',\n  'Wild West Picture Show Productions'],\n ['Jerry Bruckheimer Films', 'Touchstone Pictures', 'Stillking Films'],\n ['Di Bonaventura Pictures',\n  'John Wells Productions',\n  'Reaper Productions',\n  'Stillking Films',\n  'Babelsberg Film',\n  'Doom Productions',\n  'Distant Planet Productions'],\n ['Columbia Pictures Corporation', 'Columbia Pictures Corporation'],\n ['Lakeshore Entertainment',\n  'Saturn Films',\n  'Screen Gems',\n  'Sketch Films',\n  'UW4 Productions'],\n ['New Line Cinema',\n  'Offspring Entertainment',\n  'Corner Store Entertainment',\n  'Material Pictures'],\n ['David Foster Productions',\n  'Cheyenne Enterprises',\n  'Metro-Goldwyn-Mayer (MGM)',\n  'David Ladd Films'],\n ['Current Entertainment',\n  'Omnilab Media',\n  'Ambience Entertainment',\n  'International Traders',\n  'Open Road Films',\n  'Sighvatsson Films',\n  'Palomar Pictures (II)',\n  'Film Victoria',\n  'Wales Creative IP Fund'],\n ['Atlas Entertainment',\n  'Toho-Towa',\n  'Mosaic Media Group',\n  'Yorktown Productions',\n  'Helkon Media AG',\n  'Metro-Goldwyn-Mayer (MGM)'],\n ['Epsilon Motion Pictures',\n  'Franchise Pictures',\n  'Dante Entertainment',\n  'Chris Lee Productions',\n  'SuperMega',\n  'MHF Erste Academy Film GmbH & Co. Produktions KG'],\n ['Paramount Pictures',\n  'Toho-Towa',\n  'Mutual Film Company',\n  'PolyGram Filmed Entertainment',\n  'Marubeni',\n  'Tele München Fernseh Produktionsgesellschaft (TMG)',\n  'UGC PH',\n  'British Broadcasting Corporation (BBC) Television',\n  'Stargate Studios'],\n ['Conundrum Entertainment', 'Warner Bros. Animation', 'Warner Bros.'],\n ['Prana Animation Studios', 'Summertime Entertainment'],\n ['Universal Pictures', 'Forward Pass', 'Legendary Pictures'],\n ['Paramount Pictures',\n  'Natural Nylon Entertainment',\n  'Riff Raff Film Productions',\n  'Filmauro',\n  'Blue Flower Productions',\n  'Brooklyn Films II'],\n ['Intermedia Films',\n  'Kanzaman',\n  'C-2 Pictures',\n  'IMF Internationale Medien und Film GmbH & Co. 3. Produktions KG'],\n ['Summit Entertainment',\n  'Atmosphere Entertainment MM',\n  'Emmett/Furla Films',\n  'Mark Canton Productions',\n  'Envision Entertainment',\n  'Boies / Schiller Film Group',\n  'Knightsbridge Entertainment'],\n ['Millennium Films', 'Millennium Films'],\n ['Paramount Pictures',\n  'Mace Neufeld Productions',\n  'MFP Munich Film Partners GmbH & Company I. Produktions KG',\n  'S.O.A.F. Productions',\n  \"Mel's Cite du Cinema\"],\n ['Summit Entertainment',\n  'Maverick Films',\n  'Imprint Entertainment',\n  'Sunswept Entertainment',\n  'Temple Hill Entertainment'],\n ['Paramount Pictures', 'Mandalay Pictures', 'Horseshoe Bay Productions'],\n ['Universal Pictures', 'Illumination Entertainment'],\n ['Columbia Pictures', 'Columbia Pictures'],\n ['Universal Pictures',\n  'Fuzzy Door Productions',\n  'Bluegrass Films',\n  'Smart Entertainment',\n  'Media Rights Capital (MRC)'],\n ['Himenóptero',\n  'Telecinco Cinema',\n  'Mod Producciones',\n  'Nimar Studios',\n  'Canal+ España',\n  'Instituto de la Cinematografía y de las Artes Audiovisuales (ICAA)',\n  'Government of Malta'],\n ['Universal Pictures', 'Dark Horse Entertainment', 'Golar Productions'],\n ['New Line Cinema', 'Conundrum Entertainment'],\n ['Spyglass Entertainment',\n  'Forward Pass',\n  'Kaitz Productions',\n  'Mann/Roth Productions',\n  'Touchstone Pictures'],\n ['Walt Disney Pictures',\n  'Whitaker Entertainment',\n  'Bergsten Music',\n  'Red Hawk Entertainment'],\n ['Scott Free Productions', 'De Line Pictures', 'Warner Bros.'],\n ['Paramount Pictures',\n  'DreamWorks SKG',\n  'Spyglass Entertainment',\n  'Everyman Pictures',\n  'Reliance BIG Entertainment',\n  'Parkes/MacDonald Productions'],\n ['Twentieth Century Fox Film Corporation',\n  'Bazelevs Production',\n  'Tim Burton Productions',\n  'Abraham Productions',\n  'Location Gourmet'],\n ['Fountainbridge Films', 'Regency Enterprises'],\n ['Twentieth Century Fox Film Corporation', 'Ten Thirteen Productions'],\n ['Ingenious Film Partners',\n  'Quinta Communications',\n  'Dino De Laurentiis Company',\n  'Zephyr Films'],\n ['Paramount Pictures',\n  'DreamWorks SKG',\n  'Amblin Entertainment',\n  'Mutual Film Company',\n  'Mark Gordon Productions'],\n ['DreamWorks SKG',\n  'Reliance Entertainment',\n  'Bandito Brothers',\n  'Touchstone Pictures',\n  'Electronic Arts',\n  'Revolution Sun Studios'],\n ['Paramount Pictures',\n  'Centropolis Entertainment',\n  'Icon Entertainment International',\n  'Wind Dancer Productions'],\n ['Twentieth Century Fox Film Corporation',\n  'Blue Sky Studios',\n  'Twentieth Century Fox Animation'],\n ['Village Roadshow Pictures',\n  'Castle Rock Entertainment',\n  'NPV Entertainment',\n  'Kasdan Pictures',\n  'WV Films II'],\n ['DreamWorks',\n  'Amblin Entertainment',\n  'Twentieth Century Fox Film Corporation',\n  'Dune Entertainment',\n  'The Kennedy/Marshall Company',\n  'Participant Media',\n  'Reliance Entertainment'],\n ['Village Roadshow Pictures',\n  'Groucho II Film Partnership',\n  'Silver Pictures',\n  'Warner Bros.'],\n ['Imagine Entertainment', 'Universal Pictures'],\n ['Walt Disney Pictures', 'Outlaw Productions', 'Boxing Cat Films'],\n ['Universal Pictures',\n  'Relativity Media',\n  'CAMERON MACKINTOSH',\n  'Working Title Films'],\n ['Warner Bros.', 'Warner Bros.'],\n ['Columbia Pictures',\n  'Mosaic Media Group',\n  'Gary Sanchez Productions',\n  'Relativity Media',\n  'Apatow Productions'],\n ['Amblin Entertainment', 'TriStar Pictures'],\n ['Legendary Pictures', 'Green Hat Films', 'Warner Bros.'],\n ['Legendary Pictures', '3 Arts Entertainment', 'Jolie Pas'],\n ['Village Roadshow Pictures',\n  'Malpaso Productions',\n  'Mad Chance',\n  'Warner Bros.',\n  'Clipsal Films',\n  'Digital Image Associates'],\n ['TriStar Pictures',\n  'Canal+',\n  'Carolco Pictures',\n  'RCS Video',\n  'Cliffhanger Productions',\n  'Pioneer'],\n ['Twentieth Century Fox Film Corporation',\n  'WCG Entertainment Productions',\n  'Mark Gordon Productions'],\n ['Walt Disney Pictures', 'Walt Disney Pictures'],\n ['Paramount Pictures',\n  'Double Feature Films',\n  'Intermedia Films',\n  'Kernos Filmproduktionsgesellschaft & Company'],\n ['Columbia Pictures', 'Revolution Studios'],\n ['Paramount Pictures', 'Paramount Pictures'],\n ['Hobby Films', 'Pole Star', 'Stanley Kubrick Productions', 'Warner Bros.'],\n ['Columbia Pictures',\n  'Olive Bridge Entertainment',\n  'Sony Pictures Entertainment (SPE)',\n  'Overbrook Entertainment',\n  'Marcy Media'],\n ['Kramer & Sigman Films', 'RatPac-Dune Entertainment', 'Zaftig Films'],\n ['Dune Entertainment', 'Overbrook Films', 'Robert Simonds Productions'],\n ['New Line Cinema',\n  'Amen Ra Films',\n  'Shawn Danielle Productions Ltd.',\n  'Imaginary Forces',\n  'Marvel Enterprises',\n  'Peter Frankfurt Productions'],\n ['United Artists', 'Valkyrie Films'],\n ['Universal Pictures', 'Mutual Film Company'],\n ['Davis-Films', 'Davis-Films'],\n ['Universal Pictures',\n  'Cruise/Wagner Productions',\n  'Impact Pictures',\n  'Relativity Media',\n  'Scion Films',\n  'H2S2 Filmproduktionsgesellschaft'],\n ['New Line Cinema', 'Forge', 'The Steve Tisch Company'],\n ['Castle Rock Entertainment', 'Warner Bros.'],\n ['Columbia Pictures Corporation',\n  'Teitler Film',\n  'Michael De Luca Productions',\n  'Radar Pictures'],\n ['Regency Enterprises',\n  'Fox 2000 Pictures',\n  'Taurus Film',\n  'Linson Films',\n  'Atman Entertainment',\n  'Knickerbocker Films'],\n ['Legendary Pictures',\n  'Thunder Road Pictures',\n  'Wonderland Sound and Vision',\n  'Warner Bros.'],\n ['TriStar Pictures', 'Silver Pictures'],\n ['Paramount Pictures', 'StudioCanal'],\n ['Lakeshore Entertainment',\n  'Sidney Kimmel Entertainment',\n  'Lionsgate',\n  'Hopscotch Films'],\n ['R.P. Productions', 'ETIC Films', 'Runteam III Ltd.'],\n ['Twentieth Century Fox Film Corporation',\n  'Regency Enterprises',\n  'Epsilon Motion Pictures',\n  'New Regency Pictures',\n  'Marvel Enterprises',\n  'Horseshoe Bay Productions',\n  'Elektra Productions',\n  'SAI Productions'],\n ['Miramax Films',\n  'Troublemaker Studios',\n  'AR Films',\n  'Aldamisa Entertainment',\n  'Demarest Films',\n  'Solipsist Film',\n  'Residaco'],\n ['Columbia Pictures', 'Columbia Pictures'],\n ['Universal Pictures',\n  'Working Title Films',\n  'Walden Media',\n  'Cross Creek Pictures',\n  'Free State Pictures',\n  'RVK Studios'],\n ['Davis-Films',\n  'Nouvelles Éditions de Films (NEF)',\n  'Rising Star',\n  'VIP Medienfonds 4',\n  'Ikiru Films',\n  'Constantin Film Produktion',\n  'Castelao Producciones'],\n ['New Line Cinema',\n  \"Eric's Boy\",\n  'Team Todd',\n  'Moving Pictures',\n  'Gratitude International'],\n ['The Weinstein Company',\n  'Summit Entertainment',\n  'Tezuka Production Company Ltd.',\n  'Imagi Animation Studios'],\n ['Universal Pictures', 'Amblin Entertainment'],\n ['Tig Productions',\n  'Warner Bros.',\n  'Kasdan Pictures',\n  'Paragon Entertainment Corp.'],\n ['Paramount Pictures', 'Mace Neufeld Productions'],\n ['Shanghai Film Group',\n  'Jackie & JJ Production',\n  'Sparkle Roll Media',\n  'Huayi Brothers Media',\n  'Alibaba Pictures Group',\n  'Home Media & Entertainment Fund',\n  'Tencent Video',\n  'China Film & TV Capital',\n  'Visualizer Film Company'],\n ['Revolution Studios', 'Wayans Bros. Entertainment'],\n ['Universal Pictures', 'Canal Plus', 'Dino De Laurentiis Company'],\n ['Columbia Pictures', 'Castle Rock Entertainment'],\n ['Paramount Pictures', 'Goldcrest Pictures', 'Internationale Filmproduktion'],\n ['Franchise Pictures', 'Warner Bros.', 'Morgan Creek Productions'],\n ['Double Feature Films', 'The Weinstein Company', 'FilmColony'],\n ['DreamWorks', 'DreamWorks'],\n ['Universal Pictures', 'Illumination Entertainment'],\n ['Virtual Studios',\n  'Legendary Pictures',\n  'Hollywood Gang Productions',\n  'Atmosphere Entertainment MM',\n  'Warner Bros.',\n  'Nimar Studios',\n  'Cruel and Unusual Films'],\n ['DreamWorks SKG',\n  'Universal Pictures',\n  'Everyman Pictures',\n  'Tribeca Productions'],\n ['Sunswept Entertainment', 'Dune Entertainment III'],\n ['Castle Rock Entertainment', 'Darkwoods Productions', 'Warner Bros.'],\n ['Wild Hogs Productions', 'Touchstone Pictures'],\n ['Walt Disney Pictures', 'Walt Disney Feature Animation'],\n ['Twentieth Century Fox Film Corporation',\n  'Regency Enterprises',\n  'New Regency Pictures',\n  'Pacific Standard',\n  'TSG Entertainment',\n  'Artemple - Hollywood'],\n ['Universal Pictures',\n  'Kennedy/Marshall Company, The',\n  'Hypnotic',\n  'Kalima Productions GmbH & Co. KG',\n  'Stillking Films'],\n ['United Artists', 'Eon Productions'],\n ['Paramount Pictures',\n  'MFP Munich Film Partners GmbH & Company I. Produktions KG',\n  'Krane Entertainment',\n  'Neufeld Rehme Productions'],\n ['Paramount Pictures', 'Scott Rudin Productions'],\n ['DreamWorks SKG', 'DreamWorks Animation'],\n ['Columbia Pictures', 'Revolution Studios', 'Davis Entertainment'],\n ['Universal Studios',\n  'Marc Platt Productions',\n  'Emmett/Furla Films',\n  'Envision Entertainment Corporation'],\n ['Village Roadshow Pictures',\n  'NPV Entertainment',\n  'Mad Chance',\n  'Zide-Perry Productions',\n  'Warner Bros.',\n  'BenderSpink'],\n ['De Line Pictures', 'Working Title Films'],\n ['Village Roadshow Pictures',\n  'Castle Rock Entertainment',\n  'NPV Entertainment',\n  'Fortis Films'],\n ['DreamWorks SKG', 'Pacific Data Images (PDI)', 'DreamWorks Animation'],\n ['Universal Pictures',\n  'Wild West Picture Show Productions',\n  'Stuber Productions',\n  'Relativity Media'],\n ['Paramount Pictures', 'Don Simpson/Jerry Bruckheimer Films'],\n ['Twentieth Century Fox Film Corporation',\n  '21 Laps Entertainment',\n  'Dozen Canada Productions'],\n ['Gotham Group', 'Temple Hill Entertainment', 'TSG Entertainment'],\n ['Columbia Pictures', 'Red Om Films', 'Plan B Entertainment'],\n ['Universal Pictures', 'Universal Pictures'],\n ['DC Comics',\n  'Di Bonaventura Pictures',\n  'Summit Entertainment',\n  'DC Entertainment'],\n [\"Donners' Company\", 'Ixtlan', 'Warner Bros.'],\n ['Wildwood Enterprises', 'Touchstone Pictures'],\n ['Paramount Pictures',\n  'DreamWorks SKG',\n  'Parkes/MacDonald Productions',\n  'Edge City'],\n ['Universal Pictures',\n  'Kalima Productions GmbH & Co. KG',\n  'World Wrestling Entertainment (WWE)',\n  'Alphaville Films'],\n ['Casey Silver Productions',\n  'Beacon Communications',\n  'Touchstone Pictures',\n  'Beacon Pictures',\n  'Fantail Films Inc.'],\n ['Paramount Pictures',\n  'Mutual Film Company',\n  'Skydance Productions',\n  'TC Productions'],\n ['Village Roadshow Pictures',\n  'Warner Bros.',\n  'Riche-Ludwig Productions',\n  'Groucho III Film Partnership'],\n ['Columbia Pictures', 'Columbia Pictures'],\n ['Double Feature Films',\n  'Regency Enterprises',\n  'Warner Bros.',\n  'Participant Media',\n  'Imagenation Abu Dhabi FZ'],\n ['Castle Rock Entertainment', 'Jerry Bruckheimer Films', 'Warner Bros.'],\n ['Focus Features', 'Laika Entertainment'],\n ['Spyglass Entertainment',\n  'Twentieth Century Fox Film Corporation',\n  'Dune Entertainment',\n  'UTV Motion Pictures',\n  'Blinding Edge Pictures'],\n ['Regency Enterprises',\n  'Fox 2000 Pictures',\n  'Epsilon Motion Pictures',\n  'Scott Free Productions',\n  'New Regency Pictures'],\n ['Walt Disney Pictures', 'Mandeville Films', 'Boxing Cat Films'],\n ['Weed Road Pictures',\n  'Warner Bros.',\n  'Dimension Films',\n  'Red Hour Films',\n  'AR-TL'],\n ['Twentieth Century Fox Film Corporation', '1492 Pictures'],\n ['Revolution Studios',\n  'Dark Horse Entertainment',\n  'Lawrence Gordon Productions',\n  'Starlite Films'],\n ['Paramount Pictures', 'Wildwood Enterprises', 'Touchstone Pictures'],\n ['Focus Features', 'Laika Entertainment'],\n ['Universal Pictures',\n  'Toho-Towa',\n  'Mutual Film Company',\n  'Marubeni',\n  'Tele München Fernseh Produktionsgesellschaft (TMG)',\n  'Alphaville Films',\n  'British Broadcasting Corporation (BBC)',\n  'UGC PH',\n  \"Mel's Cite du Cinema\"],\n ['Paramount Pictures',\n  'DreamWorks SKG',\n  'Davis Entertainment',\n  'Lion Rock Productions',\n  'Province of British Columbia Film Incentive BC',\n  'Solomon/Hackett Productions'],\n ['Cinergi Pictures Entertainment', 'Touchstone Pictures'],\n ['Larger Than Life Productions', 'Larger Than Life Productions'],\n ['DreamWorks SKG', 'Parkes+MacDonald Image Nation', 'Blue Train Productions'],\n ['Regency Enterprises',\n  'Warner Bros.',\n  'Seagal/Nasso Productions',\n  'Victor Company of Japan (JVC)',\n  'Cutting Edge Films'],\n ['Paramount Pictures',\n  'Di Bonaventura Pictures',\n  'Mace Neufeld Productions',\n  'Skydance Productions',\n  'Etalon film',\n  'Buckaroo Entertainment'],\n ['Fox 2000 Pictures',\n  'Davis Entertainment',\n  'Annapurna Pictures',\n  'TSG Entertainment'],\n ['Millennium Films',\n  'LHF Film',\n  'Gerard Butler Alan Siegel Entertainment',\n  'Nu Boyana Film Studios'],\n ['Twentieth Century Fox Film Corporation', 'Brandywine Productions'],\n ['Paramount Pictures',\n  'Di Bonaventura Pictures',\n  'Grosvenor Park Impact Productions'],\n ['Laika Entertainment', 'Laika Entertainment'],\n ['Village Roadshow Pictures',\n  'DiNovi Pictures',\n  'Fortis Films',\n  'Warner Bros.',\n  'Stargate Studios'],\n ['Village Roadshow Pictures',\n  'DC Comics',\n  'Vertigo Entertainment',\n  'Lin Pictures',\n  'Warner Bros. Animation',\n  'LEGO',\n  'Warner Bros.',\n  'Animal Logic',\n  'Warner Animation Group',\n  'RatPac-Dune Entertainment'],\n ['Village Roadshow Pictures', 'Castle Rock Entertainment', 'Fortis Films'],\n ['The Zanuck Company',\n  'Spyglass Entertainment',\n  'World 2000 Entertainment',\n  'Touchstone Pictures',\n  'Tripod Entertainment'],\n ['Village Roadshow Pictures',\n  'Lin Pictures',\n  'Warner Bros.',\n  'Langley Park Production'],\n ['Columbia Pictures', 'Ocean Pictures', 'Apatow Productions'],\n ['Spyglass Entertainment',\n  'Malpaso Productions',\n  'Revelations Entertainment',\n  'Mace Neufeld Productions',\n  'Warner Bros.',\n  'Liberty Pictures (II)'],\n ['Universal Pictures',\n  'StudioCanal',\n  'Andell Entertainment',\n  'Relativity Media',\n  'Working Title Films'],\n ['Universal Pictures',\n  'Laura Bickford Productions',\n  'Relativity Media',\n  'Medienproduktion Poseidon Filmgesellschaft'],\n ['Walt Disney Pictures', 'Walt Disney Pictures'],\n ['Twentieth Century Fox Film Corporation',\n  'Dune Entertainment',\n  'Major Studio Partners',\n  'Regency Enterprises',\n  'Epsilon Motion Pictures',\n  'New Regency Pictures',\n  'Sentinel Productions',\n  'Furthur Films'],\n ['TriStar Pictures', 'Ilion Animation Studios', 'Hand Made Films'],\n ['Paramount Pictures', 'Paramount Pictures'],\n ['Imagine Entertainment',\n  'Universal Pictures',\n  'Mike Zoss Productions',\n  'Alphaville Productions'],\n ['Malpaso Productions', 'Warner Bros.'],\n ['Icon Productions', 'BBC Films', 'GK Films', 'Warner Bros.'],\n ['Paramount Pictures',\n  'Universal Pictures',\n  'Toho-Towa',\n  'Mutual Film Company',\n  'Pacific Western',\n  'PolyGram Filmed Entertainment',\n  'Marubeni',\n  'Tele München Fernseh Produktionsgesellschaft (TMG)',\n  'British Broadcasting Corporation (BBC)'],\n ['Village Roadshow Pictures',\n  'NPV Entertainment',\n  'Warner Bros.',\n  'Tribeca Productions',\n  'Baltimore Spring Creek Pictures',\n  'Face Productions'],\n ['Grosvenor Park Media Ltd.',\n  'InVenture Entertainment',\n  'Millennium Films',\n  'Emmett/Furla Films',\n  'Nu-Image Films'],\n ['Imagine Entertainment', 'Universal Pictures'],\n ['DreamWorks',\n  'Universal Pictures',\n  'StudioCanal',\n  'Participant Media',\n  'Krasnoff Foster Productions',\n  'Working Title Films'],\n ['DreamWorks SKG',\n  'Twentieth Century Fox Film Corporation',\n  'Wildwood Enterprises',\n  'Epsilon Motion Pictures',\n  'Allied Filmmakers'],\n ['Columbia Pictures', 'Vinyl Films', 'DreamWorks Pictures'],\n ['Twentieth Century Fox Film Corporation',\n  'Dune Entertainment',\n  'Davis Entertainment'],\n ['Original Film', 'Columbia Pictures Corporation', 'Revolution Studios'],\n ['Screen Gems',\n  'Stars Road Entertainment',\n  'Buckaroo Entertainment',\n  'Michael De Luca Productions',\n  'TOKYOPOP'],\n ['DreamWorks Animation', 'DreamWorks Animation'],\n ['Paramount Pictures', 'Impact Pictures', 'Golar Productions'],\n ['Universal Pictures',\n  'Spyglass Entertainment',\n  'Shady Acres Entertainment',\n  'Gran Via Productions',\n  'Kalima Productions GmbH & Co. KG',\n  'NDE Productions'],\n ['Universal Pictures',\n  'Davis-Films',\n  'Signature Pictures',\n  'Linson Entertainment',\n  'Art Linson Productions',\n  'Millennium Films',\n  'Equity Pictures Medienfonds GmbH & Co. KG III',\n  'Nu Image Entertainment GmbH'],\n ['Ingenious Film Partners',\n  'Electric Entertainment',\n  'Skydance Productions',\n  'Flyboys Films'],\n ['DreamWorks SKG', 'DreamWorks SKG'],\n ['United Artists',\n  'Metro-Goldwyn-Mayer (MGM)',\n  'Hammerhead Productions',\n  'Screenland Pictures'],\n ['Village Roadshow Pictures', 'Weed Road Pictures', 'Warner Bros.'],\n ['Constantin Film Produktion',\n  'Don Carmody Productions',\n  'Unique Features',\n  'Mr. Smith Productions'],\n ['Twentieth Century Fox Film Corporation',\n  'Dune Entertainment',\n  'Regency Enterprises',\n  'Guy Walks into a Bar Productions',\n  'Deep River Productions',\n  'Friendly Films (II)'],\n ['Vertigo Entertainment',\n  'Touchstone Pictures',\n  'Post No Bills Films',\n  'Pandemonium Productions'],\n ['Imagine Entertainment', 'Universal Pictures'],\n ['New Line Cinema', 'Internationale Filmproduktion Blackbird Erste'],\n ['DC Comics',\n  'Lionsgate',\n  'Odd Lot Entertainment',\n  'Media Magik Entertainment',\n  'Dark Lot Entertainment',\n  'Continental Entertainment Group (CEG)'],\n ['Lionsgate', 'Mad Chance', 'OddLot Entertainment', 'Huayi Brothers Media'],\n ['Boll Kino Beteiligungs GmbH & Co. KG',\n  'Brightlight Pictures',\n  'Herold Productions'],\n ['Mandalay Pictures',\n  'CP Medien AG',\n  'Camelot Pictures',\n  'Networxx - Film Management',\n  \"Mel's Cite du Cinema\"],\n ['Filmko Pictures', 'Filmko Pictures'],\n ['Lawrence Bender Productions', 'Marty Katz Productions'],\n ['Twentieth Century Fox Film Corporation',\n  'Marvel Entertainment',\n  \"The Donners' Company\",\n  'TSG Entertainment',\n  'Kinberg Genre'],\n ['Caravan Pictures', 'Touchstone Pictures'],\n ['Village Roadshow Pictures',\n  'Malpaso Productions',\n  'Warner Bros.',\n  'RatPac-Dune Entertainment',\n  'Mad Chance Productions',\n  '22 & Indiana Pictures'],\n ['Columbia Pictures',\n  'Village Roadshow Pictures',\n  'Original Film',\n  'Sony Pictures Animation',\n  'Sony Pictures Entertainment (SPE)',\n  'Scholastic Entertainment',\n  'LStar Capital'],\n ['DreamWorks SKG', 'UIP', 'MacDonald/Parkes Productions'],\n ['Universal Pictures', 'Amblin Entertainment'],\n ['TriStar Pictures', 'Carolco Pictures'],\n ['Universal Pictures',\n  'Casey Silver Productions',\n  'Outlaw Productions (I)',\n  'Smokehouse Pictures'],\n ['Happy Madison Productions', 'Happy Madison Productions'],\n ['Columbia Pictures',\n  'Castle Rock Entertainment',\n  'Relativity Media',\n  'Banter'],\n ['Twentieth Century Fox Film Corporation',\n  'Regency Enterprises',\n  '21 Laps Entertainment',\n  'Wild West Picture Show Productions',\n  'TSG Entertainment'],\n ['Impact Pictures', 'Davis-Films', 'Constantin Film Produktion'],\n ['Lucasfilm',\n  'Twentieth Century Fox Film Corporation',\n  'Partnership Pictures'],\n ['Regency Enterprises',\n  'Monarchy Enterprises B.V.',\n  'Kopelson Entertainment',\n  'Warner Bros.',\n  'New Regency Pictures',\n  'Taurus Film'],\n ['Columbia Pictures', 'Happy Madison Productions', 'Relativity Media'],\n ['Universal Pictures', 'Universal Pictures'],\n ['New Line Cinema', 'Contrafilm', 'Firm Films'],\n ['Columbia Pictures',\n  'Imagenation Abu Dhabi FZ',\n  'Marvel Entertainment',\n  'Marvel Knights',\n  'Hyde Park Entertainment',\n  'Crystal Sky Pictures',\n  'Michael De Luca Productions'],\n ['Miramax Films', 'Universal Pictures'],\n ['Walt Disney Pictures', 'Spyglass Entertainment'],\n ['Metro-Goldwyn-Mayer (MGM)',\n  'Mandeville Films',\n  'WWE Studios',\n  'Hyde Park Entertainment',\n  'Burke/Samples/Foster Productions',\n  'Cub Eight Productions'],\n ['Paramount Pictures', 'Paramount Pictures'],\n ['Dune Entertainment',\n  'Regency Enterprises',\n  'Fox 2000 Pictures',\n  'Bagdasarian Productions'],\n ['DreamWorks SKG',\n  'Universal Pictures',\n  'Tribeca Productions',\n  'Nancy Tenenbaum Films'],\n ['Walt Disney Pictures', 'Walt Disney Feature Animation'],\n ['Warner Bros.', 'Dovemead Films', 'Film Export A.G.'],\n ['Imagine Entertainment', 'Universal Pictures'],\n ['Columbia Pictures Corporation', 'Overbrook Entertainment'],\n ['Walt Disney Pictures', 'Mandeville Films'],\n ['Universal Pictures',\n  'Zide-Perry Productions',\n  'LivePlanet',\n  'Loumolo & Co.'],\n ['Columbia Pictures', 'Columbia Pictures'],\n ['Twentieth Century Fox Film Corporation',\n  'Dune Entertainment',\n  '21 Laps Entertainment'],\n ['Universal Pictures',\n  'Amblin Entertainment',\n  'The Harvey Entertainment Company'],\n ['Columbia Pictures',\n  'Village Roadshow Pictures',\n  'Escape Artists',\n  'Mace Neufeld Productions',\n  'LStar Capital',\n  'Lonetree Entertainment'],\n ['Red Om Films', 'Red Om Films'],\n ['Hollywood Pictures', 'Don Simpson/Jerry Bruckheimer Films'],\n ['Columbia Pictures Corporation',\n  'Escape Artists',\n  'Relativity Media',\n  'Overbrook Entertainment'],\n ['Imagine Entertainment', 'Touchstone Pictures'],\n ['Warner Bros.', 'Baltimore Pictures'],\n ['Atlas Entertainment',\n  'Regency Enterprises',\n  'Monarchy Enterprises B.V.',\n  'Warner Bros.',\n  'Taurus Film'],\n ['Miramax Films', 'A Band Apart', 'Super Cool ManChu'],\n ['Universal Pictures', 'Universal Pictures'],\n ['Miramax Films', 'A Band Apart', 'Super Cool ManChu'],\n ['Warner Bros.', 'Warner Bros.'],\n ['Universal Pictures', 'Universal Pictures'],\n ['Spyglass Entertainment',\n  'Roger Birnbaum Productions',\n  'Touchstone Pictures'],\n ['Silver Pictures', 'Warner Bros.'],\n ['Twentieth Century Fox Film Corporation',\n  'Dune Entertainment',\n  'Davis Entertainment',\n  'Dune Entertainment III'],\n ['Casey Silver Productions',\n  'China Film Co-Production Corporation',\n  'Huayi Brothers',\n  'Relativity Media'],\n ['Reel FX Creative Studios', 'Relativity Media'],\n ['Twentieth Century Fox Film Corporation', 'Brandywine Productions'],\n ['Hollywood Pictures', 'Cinergi Pictures Entertainment'],\n ['United Artists', 'FGM Entertainment'],\n ['Constellation Films', 'Paramount'],\n ['The Weinstein Company',\n  'StudioCanal',\n  'TF1 Films Production',\n  'Canal+',\n  'Heyday Films',\n  'Ciné+',\n  'Anton Capital Entertainment (ACE)',\n  'TF1',\n  'Amazon Prime Instant Video'],\n ['Ingenious Film Partners',\n  'Ingenious Media',\n  'Twentieth Century Fox Film Corporation',\n  'Dune Entertainment',\n  '21 Laps Entertainment',\n  'Dune Entertainment III',\n  'Big Screen Productions',\n  'Down Productions'],\n ['Lakeshore Entertainment', 'Alphaville Films'],\n ['Spyglass Entertainment', 'Touchstone Pictures'],\n ['Twentieth Century Fox Film Corporation', 'Conundrum Entertainment'],\n ['New Line Cinema', \"Donners' Company\", 'Mosaic Media Group', 'Road Rebel'],\n ['Columbia Pictures', 'Aardman Animations', 'Sony Pictures Animation'],\n ['Imagine Entertainment', 'Malpaso Productions', 'Relativity Media'],\n ['Twentieth Century Fox Film Corporation',\n  'Chicago Pacific Entertainment',\n  'Zanuck Company, The'],\n ['TriStar Pictures', 'Mandalay Entertainment'],\n ['Odyssey Entertainment',\n  'Warner Bros.',\n  'Scion Films',\n  'Really Useful Films'],\n ['Universal Pictures', 'StudioCanal', 'Working Title Films'],\n ['Paramount Pictures',\n  'Lakeshore Entertainment',\n  'MTV Films',\n  'Colossal Pictures',\n  'Valhalla Motion Pictures',\n  'MTV Productions'],\n ['Warner Bros. Pictures', 'Turner Pictures', 'Antietam Filmworks'],\n ['Metro-Goldwyn-Mayer (MGM)', 'Rysher Entertainment'],\n ['Paramount Pictures',\n  'Di Bonaventura Pictures',\n  'Nickelodeon Movies',\n  'Goldcrest Pictures',\n  'Internationale Filmproduktion Stella-del-Sud Third'],\n ['Buena Vista', 'Disney'],\n ['Studio Canal', 'Working Title Films', 'Tracy Films'],\n ['Bedford Falls Productions', 'Bedford Falls Productions'],\n ['Gerber Pictures',\n  '2003 Productions',\n  'TF1 Films Production',\n  'Canal+',\n  'Warner Bros.',\n  'Région Ile-de-France',\n  'Tapioca Films',\n  'Centre National de la Cinématographie (CNC)',\n  'Région Bretagne',\n  'Région Poitou-Charentes'],\n ['Seven Arts Productions', 'Allied Artists', 'Transworld Pictures'],\n ['Universal Pictures', 'Universal Pictures'],\n ['New Line Cinema',\n  'Amen Ra Films',\n  'Milk & Honey',\n  'Imaginary Forces',\n  'Justin Pictures',\n  'Linovo Productions GmbH & Co. KG',\n  'Pacific Title and Art Studio',\n  'Marvel Enterprises'],\n ['Columbia Pictures',\n  'Escape Artists',\n  'Relativity Media',\n  'Overbrook Entertainment'],\n ['Dark Castle Entertainment',\n  'After Dark Films',\n  'IM Global',\n  'Automatik Entertainment',\n  'Silver Reel',\n  'EMJAG Productions',\n  'Millar Gough Ink',\n  'Headshot Films'],\n ['Paramount Pictures', 'Paramount Pictures'],\n ['Paramount Pictures',\n  'Cruise/Wagner Productions',\n  'Vinyl Films',\n  'KMP Film Invest'],\n ['Universal Pictures',\n  'Kaplan/Perrone Entertainment',\n  'MMCB Film Produktion 2004'],\n ['Warner Bros.', 'Dovemead Films', 'Film Export A.G.'],\n ['City Light Films', 'Revolution Studios', 'Casey Silver Productions'],\n ['Columbia Pictures Corporation',\n  'Rising Star',\n  'Relativity Media',\n  'Phoenix Pictures',\n  'VIP 4 Medienfonds'],\n ['Paramount Pictures', 'Scott Rudin Productions'],\n ['Twentieth Century Fox Film Corporation',\n  'Fox Animation Studios',\n  'Fox Family Films',\n  'The Big Gun Project',\n  'Little Wolf Entertainment'],\n ['Bazmark Films', 'Twentieth Century Fox Film Corporation'],\n ['Paramount Pictures', 'Paramount Pictures'],\n ['Infinitum Nihil',\n  'Head Gear Films',\n  'Cross Creek Pictures',\n  'Free State Pictures',\n  'RatPac-Dune Entertainment',\n  'Le Grisbi Productions',\n  'Vendian Entertainment'],\n ['DreamWorks SKG',\n  'Amblin Entertainment',\n  'Malpaso Productions',\n  'Warner Bros.'],\n ['Film Department, The', 'Evil Twins', 'Warp Films'],\n ['Big Talk Productions',\n  'Yer Dead Productions',\n  'Weinstein Company, The',\n  'Dimension Films',\n  'Troublemaker Studios',\n  'Dartmouth International',\n  'Eyetronics',\n  'Rodriguez International Pictures'],\n ['Harpo Films', 'Touchstone Pictures'],\n ['Village Roadshow Pictures',\n  'Lonely Film Productions GmbH & Co. KG.',\n  'Deuce Three Productions',\n  'DiNovi Pictures',\n  'Warner Bros.'],\n ['Kemp Company', 'Splendid Pictures', 'Parkes/MacDonald Productions'],\n ['Columbia Pictures', 'Annapurna Pictures', 'First Light Production'],\n ['Universal Pictures',\n  'Mosaic Media Group',\n  'Wild West Picture Show Productions'],\n ['Universal Pictures',\n  'Internationale Filmproduktion Richter',\n  'Playtone',\n  'Relativity Media',\n  'Littlestar'],\n ['New Line Cinema', 'Karz Entertainment', 'Rice Films'],\n ['Village Roadshow Pictures',\n  'Gerber Pictures',\n  'Warner Bros.',\n  'WV Films III'],\n ['Fox 2000 Pictures', 'Phoenix Pictures', 'Geisler-Roberdeau'],\n ['Universal Pictures',\n  'Original Film',\n  'Relativity Media',\n  'Big Kid Pictures'],\n ['Mutual Film Company', 'Mutual Film Company'],\n ['Universal Pictures', 'Légende Entreprises', 'Syalis DA', 'De Fina-Cappa'],\n ['Apipoulaï',\n  'M6 Films',\n  'Canal+',\n  'TPS Star',\n  'Grive Productions',\n  'EuropaCorp',\n  'M6',\n  'W9'],\n ['Metro-Goldwyn-Mayer (MGM)', 'Metro-Goldwyn-Mayer (MGM)'],\n ['Twentieth Century Fox Film Corporation', 'Conundrum Entertainment'],\n ['Paramount Pictures', 'Nickelodeon Movies', 'Paramount Animation'],\n ['Regency Enterprises',\n  'New Regency Pictures',\n  'Corduroy Films',\n  'All Lit Up Productions'],\n ['Summit Entertainment',\n  'Maverick Films',\n  'Imprint Entertainment',\n  'Sunswept Entertainment',\n  'Temple Hill Entertainment'],\n ['DreamWorks SKG', 'Pacific Data Images (PDI)', 'DreamWorks Animation'],\n ['Universal Pictures',\n  'Media Rights Capital',\n  'Gambit Pictures',\n  'Electric Shepherd Productions'],\n ['Warner Bros.', 'Morgan Creek Productions'],\n ['Gracie Films', 'TriStar Pictures'],\n ['Universal Pictures', 'Media Rights Capital', 'Fuzzy Door Productions'],\n ['Gracie Films', 'TriStar Pictures'],\n ['Universal Pictures',\n  'Bungalow 78 Productions',\n  'Blue Wolf',\n  'Farrell/Minoff'],\n ['Paramount Pictures', 'Gary Sanchez Productions', 'Apatow Productions'],\n ['New Line Cinema',\n  'Columbia Pictures Corporation',\n  'Out of the Blue... Entertainment',\n  'Happy Madison Productions'],\n ['Paramount Pictures',\n  'Amblin Entertainment',\n  'Bad Robot',\n  'K/O Camera Toys'],\n ['Jersey Films', 'Jersey Films'],\n ['Paramount Pictures', 'Paramount Pictures'],\n ['Columbia Pictures',\n  'Original Film',\n  'Media Rights Capital',\n  'Metro-Goldwyn-Mayer (MGM)',\n  'Cannell Studios',\n  'LStar Capital',\n  '33andOut Productions',\n  'JHF Productions'],\n ['Geffen Pictures', 'Geffen Pictures'],\n ['Village Roadshow Pictures',\n  'The Zanuck Company',\n  'Heyday films',\n  'Warner Bros.'],\n ['New Line Cinema',\n  'Universal Pictures',\n  'Bluegrass Films',\n  'Principato-Young Entertainment'],\n ['Columbia Pictures', '1492 Pictures'],\n ['Paramount Pictures', 'Gary Sanchez Productions', 'Red Granite Pictures'],\n ['Walt Disney Pictures', 'Marc Platt Productions', 'Lucamar Productions'],\n ['Imagine Entertainment',\n  'Universal Pictures',\n  '40 Acres & A Mule Filmworks'],\n ['Paramount Pictures', 'Icon Entertainment International'],\n ['Paramount Pictures', 'Kennedy/Marshall Company, The'],\n ['Twentieth Century Fox Film Corporation',\n  'Dune Entertainment',\n  'Vinyl Films',\n  'LBI Entertainment'],\n ['Summit Entertainment',\n  'Mystery Clock Cinema',\n  'Escape Artists',\n  'Goldcrest Pictures',\n  'Kaplan/Perrone Entertainment',\n  'Wintergreen Productions'],\n ['Paramount Pictures',\n  'Scott Rudin Productions',\n  'Failure to Launch Productions'],\n ['DreamWorks', 'BenderSpink', 'Parkes+MacDonald Image Nation'],\n ['Warner Bros.', 'Warner Bros.'],\n ['Twentieth Century Fox Film Corporation',\n  'Davis Entertainment',\n  'Twentieth Century Fox Animation'],\n ['Columbia Pictures', '1492 Pictures', 'Revolution Studios'],\n ['Columbia Pictures', 'Scott Rudin Productions'],\n ['Kopelson Entertainment',\n  'Punch Productions',\n  'Warner Bros.',\n  'Arnold Kopelson Productions'],\n ['StudioCanal',\n  'Silver Pictures',\n  'TF1 Films Production',\n  'Canal+',\n  'Anton Capital Entertainment (ACE)',\n  'TF1',\n  'LOVEFiLM International'],\n ['Walt Disney Pictures', 'Gunn Films'],\n ['Studio Babelsberg',\n  'DC Comics',\n  'Virtual Studios',\n  'Anarchos Productions',\n  'Silver Pictures',\n  'Warner Bros.',\n  'Medienboard Berlin-Brandenburg',\n  'Fünfte Babelsberg Film'],\n ['Spyglass Entertainment',\n  'Touchstone Pictures',\n  'Birnbaum / Barber Productions',\n  'Jackie Chan Films Limited',\n  'All Knight Productions'],\n ['Imagine Entertainment',\n  'Universal Pictures',\n  'Universal Animation Studios'],\n ['Walt Disney Pictures', 'Robert Simonds Productions'],\n ['Village Roadshow Pictures',\n  'NPV Entertainment',\n  'Regency Enterprises',\n  'Kopelson Entertainment',\n  'Epsilon Motion Pictures',\n  'New Regency Pictures',\n  'Furthur Films'],\n ['Paramount Pictures',\n  'Studio Babelsberg',\n  'MTV Films',\n  'Gary Sanchez Productions',\n  'Metro-Goldwyn-Mayer (MGM)',\n  'Deutsche Filmförderfonds (DFFF)'],\n ['Regency Enterprises',\n  'Fox 2000 Pictures',\n  'Epsilon Motion Pictures',\n  'Unfaithful Filmproduktion GmbH & Co. KG'],\n ['DreamWorks SKG',\n  'Reliance BIG Entertainment',\n  'Bay Films',\n  'Touchstone Pictures'],\n ['Section Eight',\n  'Warner Bros.',\n  'Participant Media',\n  'FilmWorks',\n  '4M',\n  'MID Foundation'],\n ['Paramount Pictures',\n  '3 Arts Entertainment',\n  'Bay Films',\n  'Latina Pictures',\n  'Dune Films'],\n ['Twentieth Century Fox Film Corporation',\n  'Reel FX Creative Studios',\n  'Twentieth Century Fox Animation',\n  'Chatrone'],\n ['Village Roadshow Pictures',\n  'Thunder Road Pictures',\n  'Warner Bros.',\n  'Beacon Pictures',\n  'Jon Shestack Productions'],\n ['Columbia Pictures', 'Castle Rock Entertainment', 'Malpaso Productions'],\n ['Caravan Pictures',\n  'Hollywood Pictures',\n  'First Independent Films',\n  'Largo Entertainment',\n  'Scott Free Productions',\n  'Trap-Two-Zero Productions'],\n ['PolyGram Filmed Entertainment', 'A&B Producoes', 'Popaganda Films'],\n ['Silent Hill DCP Inc.', 'Davis-Films', 'TriStar Pictures', 'Konami'],\n ['Warner Bros.', 'Warner Bros.'],\n ['Universal Pictures', 'Universal Pictures'],\n ['Regency Enterprises', 'Warner Bros.'],\n ['New Line Cinema',\n  'Village Roadshow Pictures',\n  'Broken Road Productions',\n  'RatPac-Dune Entertainment'],\n ['Paramount Pictures', 'Eddie Murphy Productions'],\n ['Amblin Entertainment', 'Warner Bros.'],\n ['Village Roadshow Pictures',\n  'Warner Bros.',\n  'Big Kid Pictures',\n  'Team Downey'],\n ['DreamWorks SKG', 'DreamWorks SKG'],\n ['Impact Pictures', 'Constantin Film Ltd.'],\n ['Miramax Films',\n  'Universal Pictures',\n  'Studio Canal',\n  'Working Title Films',\n  'Atlantic Television',\n  'Little Bird'],\n ['Original Film', 'Monarch Pictures', 'Metro-Goldwyn-Mayer (MGM)'],\n ['Warner Bros.', 'Warner Bros.'],\n ['Troublemaker Studios', 'Troublemaker Studios'],\n ['Figment Films', 'Figment Films'],\n ['Touchstone Pictures', 'Beacon Pictures', 'Mandeville Films'],\n ['Studio Babelsberg',\n  'Anarchos Productions',\n  'Legendary Pictures',\n  'Dark Castle Entertainment',\n  'Silver Pictures',\n  'Warner Bros.',\n  'Medienboard Berlin-Brandenburg',\n  'Deutsche Filmförderfonds (DFFF)',\n  'Rocklock Films'],\n ['Universal Pictures', 'Beacon Pictures'],\n ['Columbia Pictures', 'Castle Rock Entertainment'],\n ['Twentieth Century Fox Film Corporation',\n  'Twentieth Century Fox Film Corporation'],\n ['Amblin Entertainment',\n  'Malpaso Productions',\n  'Warner Bros.',\n  'Kennedy/Marshall Company, The'],\n ['Castle Rock Entertainment',\n  'Warner Bros.',\n  'Schroeder Hoffman Productions'],\n ['Silver Pictures',\n  'Canal+',\n  'Warner Bros.',\n  'Dino De Laurentiis Company',\n  'Donner/Shuler-Donner Productions',\n  'Evansgideon/Lazar'],\n ['Ingenious Film Partners',\n  'ETIC Films',\n  'Quinta Communications',\n  'Dino De Laurentiis Company',\n  'Zephyr Films',\n  'Young Hannibal Productions',\n  'Carthago Films S.a.r.l.'],\n ['Universal Pictures', 'Castle Rock Entertainment'],\n ['Nick Wechsler Productions',\n  'Open Road Films',\n  'Silver Reel',\n  'Chockstone Pictures'],\n ['Intermedia Films', 'Krane Entertainment'],\n ['Malpaso Productions', 'Warner Bros.'],\n ['Studio Babelsberg',\n  'Atlas Entertainment',\n  'Mosaic Media Group',\n  'X-Filme Creative Pool'],\n ['Paramount Pictures', 'Rysher Entertainment'],\n ['Warner Bros. Animation', 'Warner Bros. Animation'],\n ['Touchstone Pictures', 'American Empirical Pictures'],\n ['Larger Than Life Productions', 'Vendian Entertainment', 'Route One Films'],\n ['Mikona Productions GmbH & Co. KG',\n  'Universal Pictures',\n  'Intermedia Films',\n  'Saturn Films',\n  'Dirty Hands Productions'],\n ['Revolution Studios', 'Bel Air Entertainment'],\n ['Vertigo Entertainment',\n  'Energy Entertainment',\n  'RatPac-Dune Entertainment'],\n ['BBC Films',\n  'Serendipity Point Films',\n  'Téléfilm Canada',\n  'Astral Media',\n  'Scion Films',\n  'Focus Features',\n  'Corus Entertainment',\n  'Shine Pictures',\n  'Kudos Film and Television'],\n ['Columbia Pictures Corporation',\n  'Mandalay Pictures',\n  'Metro-Goldwyn-Mayer (MGM)'],\n ['Columbia Pictures', 'Gaumont'],\n ['Universal Pictures', 'Stuber Productions'],\n ['Cliffjack Motion Pictures', 'Morgan Creek Productions'],\n ['Warner Bros.', 'Arnold Kopelson Productions'],\n ['Twentieth Century Fox Film Corporation',\n  'Twentieth Century Fox Film Corporation'],\n ['Hollywood Pictures', 'Cinergi Pictures Entertainment'],\n ['River Road Entertainment', 'Participant Media'],\n ['New Line Cinema',\n  'Davis-Films',\n  'Metropolitan Filmexport',\n  'Scott Free Productions',\n  'Domino 17521'],\n ['Paramount Pictures', 'Paramount Pictures'],\n ['Lakeshore Entertainment', 'Lionsgate'],\n ['Alcon Entertainment',\n  'Warner Bros.',\n  'Belle Pictures',\n  '3 Arts Entertainment'],\n ['Senator Film Produktion', 'Mad Chance', 'Warner Bros.', 'Filmfour'],\n ['Scott Rudin Productions', 'Red Hour Films'],\n ['Shangri-La Entertainment', 'Material', 'Taormina Productions'],\n ['Columbia Pictures', 'Columbia Pictures'],\n ...]"
     },
     "execution_count": 23,
     "metadata": {},
     "output_type": "execute_result"
    }
   ],
   "source": [
    "# まずは空のものがいくつあるのかを確認\n",
    "empty_list = list()\n",
    "companies_dict = dict()\n",
    "companies_list = list()\n",
    "for i,companies in enumerate(production_companies):\n",
    "    if companies == \"[]\":\n",
    "        empty_list.append(i)\n",
    "        companies_list.append(\"\")\n",
    "    else:\n",
    "        companies = ast.literal_eval(companies[1:-1])\n",
    "        append_list = []\n",
    "        for j,company in enumerate(companies):\n",
    "            if type(company) == dict:\n",
    "                name = company[\"name\"]\n",
    "                if name in companies_dict:\n",
    "                    companies_dict[name] += 1\n",
    "                else:\n",
    "                    companies_dict[name] = 1\n",
    "                append_list.append(name)\n",
    "            else:\n",
    "                name = companies[\"name\"]\n",
    "                if name in companies_dict:\n",
    "                    companies_dict[name] += 1\n",
    "                else:\n",
    "                    companies_dict[name] = 1\n",
    "                append_list.append(name)\n",
    "    companies_list.append(append_list)\n",
    "    append_list = []\n",
    "companies_list"
   ],
   "metadata": {
    "collapsed": false,
    "pycharm": {
     "name": "#%%\n"
    }
   }
  },
  {
   "cell_type": "code",
   "execution_count": 24,
   "outputs": [
    {
     "data": {
      "text/plain": "'[{\"name\": \"Ingenious Film Partners\", \"id\": 289}, {\"name\": \"Twentieth Century Fox Film Corporation\", \"id\": 306}, {\"name\": \"Dune Entertainment\", \"id\": 444}, {\"name\": \"Lightstorm Entertainment\", \"id\": 574}]'"
     },
     "execution_count": 24,
     "metadata": {},
     "output_type": "execute_result"
    }
   ],
   "source": [
    "production_companies[0]"
   ],
   "metadata": {
    "collapsed": false,
    "pycharm": {
     "name": "#%%\n"
    }
   }
  },
  {
   "cell_type": "code",
   "execution_count": 25,
   "outputs": [
    {
     "data": {
      "text/plain": "25"
     },
     "execution_count": 25,
     "metadata": {},
     "output_type": "execute_result"
    }
   ],
   "source": [
    "# 流石に会社が多すぎるため,1つのものは消していきたい\n",
    "new_companies_dict = dict()\n",
    "new_companies_list = list()\n",
    "for key,value in companies_dict.items():\n",
    "    if value <= 50:\n",
    "        continue\n",
    "    else:\n",
    "        new_companies_dict[key] = value\n",
    "        new_companies_list.append(key)\n",
    "len(new_companies_dict)"
   ],
   "metadata": {
    "collapsed": false,
    "pycharm": {
     "name": "#%%\n"
    }
   }
  },
  {
   "cell_type": "code",
   "execution_count": 26,
   "outputs": [
    {
     "data": {
      "text/plain": "{'Twentieth Century Fox Film Corporation': 253,\n 'Dune Entertainment': 59,\n 'Walt Disney Pictures': 141,\n 'Columbia Pictures': 238,\n 'Warner Bros.': 346,\n 'Paramount Pictures': 343,\n 'New Line Cinema': 203,\n 'Metro-Goldwyn-Mayer (MGM)': 154,\n 'Universal Pictures': 356,\n 'Relativity Media': 105,\n 'DreamWorks SKG': 85,\n 'Village Roadshow Pictures': 82,\n 'Lionsgate': 61,\n 'Fox 2000 Pictures': 65,\n 'Touchstone Pictures': 144,\n 'Columbia Pictures Corporation': 112,\n 'Summit Entertainment': 56,\n 'Regency Enterprises': 69,\n 'TriStar Pictures': 61,\n 'Canal+': 75,\n 'Miramax Films': 110,\n 'Working Title Films': 55,\n 'United Artists': 87,\n 'Dimension Films': 71,\n 'Fox Searchlight Pictures': 73}"
     },
     "execution_count": 26,
     "metadata": {},
     "output_type": "execute_result"
    }
   ],
   "source": [
    "new_companies_dict"
   ],
   "metadata": {
    "collapsed": false,
    "pycharm": {
     "name": "#%%\n"
    }
   }
  },
  {
   "cell_type": "code",
   "execution_count": 27,
   "outputs": [
    {
     "data": {
      "text/plain": "   Twentieth Century Fox Film Corporation  Dune Entertainment  \\\n0                                       0                   0   \n1                                       0                   0   \n2                                       0                   0   \n3                                       0                   0   \n4                                       0                   0   \n\n   Walt Disney Pictures  Columbia Pictures  Warner Bros.  Paramount Pictures  \\\n0                     0                  0             0                   0   \n1                     0                  0             0                   0   \n2                     0                  0             0                   0   \n3                     0                  0             0                   0   \n4                     0                  0             0                   0   \n\n   New Line Cinema  Metro-Goldwyn-Mayer (MGM)  Universal Pictures  \\\n0                0                          0                   0   \n1                0                          0                   0   \n2                0                          0                   0   \n3                0                          0                   0   \n4                0                          0                   0   \n\n   Relativity Media  ...  Columbia Pictures Corporation  Summit Entertainment  \\\n0                 0  ...                              0                     0   \n1                 0  ...                              0                     0   \n2                 0  ...                              0                     0   \n3                 0  ...                              0                     0   \n4                 0  ...                              0                     0   \n\n   Regency Enterprises  TriStar Pictures  Canal+  Miramax Films  \\\n0                    0                 0       0              0   \n1                    0                 0       0              0   \n2                    0                 0       0              0   \n3                    0                 0       0              0   \n4                    0                 0       0              0   \n\n   Working Title Films  United Artists  Dimension Films  \\\n0                    0               0                0   \n1                    0               0                0   \n2                    0               0                0   \n3                    0               0                0   \n4                    0               0                0   \n\n   Fox Searchlight Pictures  \n0                         0  \n1                         0  \n2                         0  \n3                         0  \n4                         0  \n\n[5 rows x 25 columns]",
      "text/html": "<div>\n<style scoped>\n    .dataframe tbody tr th:only-of-type {\n        vertical-align: middle;\n    }\n\n    .dataframe tbody tr th {\n        vertical-align: top;\n    }\n\n    .dataframe thead th {\n        text-align: right;\n    }\n</style>\n<table border=\"1\" class=\"dataframe\">\n  <thead>\n    <tr style=\"text-align: right;\">\n      <th></th>\n      <th>Twentieth Century Fox Film Corporation</th>\n      <th>Dune Entertainment</th>\n      <th>Walt Disney Pictures</th>\n      <th>Columbia Pictures</th>\n      <th>Warner Bros.</th>\n      <th>Paramount Pictures</th>\n      <th>New Line Cinema</th>\n      <th>Metro-Goldwyn-Mayer (MGM)</th>\n      <th>Universal Pictures</th>\n      <th>Relativity Media</th>\n      <th>...</th>\n      <th>Columbia Pictures Corporation</th>\n      <th>Summit Entertainment</th>\n      <th>Regency Enterprises</th>\n      <th>TriStar Pictures</th>\n      <th>Canal+</th>\n      <th>Miramax Films</th>\n      <th>Working Title Films</th>\n      <th>United Artists</th>\n      <th>Dimension Films</th>\n      <th>Fox Searchlight Pictures</th>\n    </tr>\n  </thead>\n  <tbody>\n    <tr>\n      <th>0</th>\n      <td>0</td>\n      <td>0</td>\n      <td>0</td>\n      <td>0</td>\n      <td>0</td>\n      <td>0</td>\n      <td>0</td>\n      <td>0</td>\n      <td>0</td>\n      <td>0</td>\n      <td>...</td>\n      <td>0</td>\n      <td>0</td>\n      <td>0</td>\n      <td>0</td>\n      <td>0</td>\n      <td>0</td>\n      <td>0</td>\n      <td>0</td>\n      <td>0</td>\n      <td>0</td>\n    </tr>\n    <tr>\n      <th>1</th>\n      <td>0</td>\n      <td>0</td>\n      <td>0</td>\n      <td>0</td>\n      <td>0</td>\n      <td>0</td>\n      <td>0</td>\n      <td>0</td>\n      <td>0</td>\n      <td>0</td>\n      <td>...</td>\n      <td>0</td>\n      <td>0</td>\n      <td>0</td>\n      <td>0</td>\n      <td>0</td>\n      <td>0</td>\n      <td>0</td>\n      <td>0</td>\n      <td>0</td>\n      <td>0</td>\n    </tr>\n    <tr>\n      <th>2</th>\n      <td>0</td>\n      <td>0</td>\n      <td>0</td>\n      <td>0</td>\n      <td>0</td>\n      <td>0</td>\n      <td>0</td>\n      <td>0</td>\n      <td>0</td>\n      <td>0</td>\n      <td>...</td>\n      <td>0</td>\n      <td>0</td>\n      <td>0</td>\n      <td>0</td>\n      <td>0</td>\n      <td>0</td>\n      <td>0</td>\n      <td>0</td>\n      <td>0</td>\n      <td>0</td>\n    </tr>\n    <tr>\n      <th>3</th>\n      <td>0</td>\n      <td>0</td>\n      <td>0</td>\n      <td>0</td>\n      <td>0</td>\n      <td>0</td>\n      <td>0</td>\n      <td>0</td>\n      <td>0</td>\n      <td>0</td>\n      <td>...</td>\n      <td>0</td>\n      <td>0</td>\n      <td>0</td>\n      <td>0</td>\n      <td>0</td>\n      <td>0</td>\n      <td>0</td>\n      <td>0</td>\n      <td>0</td>\n      <td>0</td>\n    </tr>\n    <tr>\n      <th>4</th>\n      <td>0</td>\n      <td>0</td>\n      <td>0</td>\n      <td>0</td>\n      <td>0</td>\n      <td>0</td>\n      <td>0</td>\n      <td>0</td>\n      <td>0</td>\n      <td>0</td>\n      <td>...</td>\n      <td>0</td>\n      <td>0</td>\n      <td>0</td>\n      <td>0</td>\n      <td>0</td>\n      <td>0</td>\n      <td>0</td>\n      <td>0</td>\n      <td>0</td>\n      <td>0</td>\n    </tr>\n  </tbody>\n</table>\n<p>5 rows × 25 columns</p>\n</div>"
     },
     "execution_count": 27,
     "metadata": {},
     "output_type": "execute_result"
    }
   ],
   "source": [
    "# では配給会社をもとにデータフレームを構築する\n",
    "a = [0]*4803*25\n",
    "df_companies = pd.DataFrame(np.array(a).reshape(4803, 25),\n",
    "                  columns=new_companies_list)\n",
    "df_companies.head()"
   ],
   "metadata": {
    "collapsed": false,
    "pycharm": {
     "name": "#%%\n"
    }
   }
  },
  {
   "cell_type": "code",
   "execution_count": 28,
   "outputs": [
    {
     "data": {
      "text/plain": "      Twentieth Century Fox Film Corporation  Dune Entertainment  \\\n0                                          1                   1   \n1                                          0                   0   \n2                                          0                   0   \n3                                          0                   0   \n4                                          0                   0   \n...                                      ...                 ...   \n4798                                       0                   0   \n4799                                       0                   0   \n4800                                       0                   0   \n4801                                       0                   0   \n4802                                       0                   0   \n\n      Walt Disney Pictures  Columbia Pictures  Warner Bros.  \\\n0                        0                  0             0   \n1                        1                  0             0   \n2                        0                  1             0   \n3                        0                  0             1   \n4                        1                  0             0   \n...                    ...                ...           ...   \n4798                     0                  0             0   \n4799                     0                  0             0   \n4800                     0                  0             0   \n4801                     0                  0             0   \n4802                     0                  0             0   \n\n      Paramount Pictures  New Line Cinema  Metro-Goldwyn-Mayer (MGM)  \\\n0                      0                0                          0   \n1                      0                0                          0   \n2                      0                0                          0   \n3                      0                0                          0   \n4                      0                0                          0   \n...                  ...              ...                        ...   \n4798                   0                0                          0   \n4799                   0                0                          0   \n4800                   0                0                          0   \n4801                   0                0                          0   \n4802                   0                0                          0   \n\n      Universal Pictures  Relativity Media  ...  \\\n0                      0                 0  ...   \n1                      0                 0  ...   \n2                      0                 0  ...   \n3                      0                 0  ...   \n4                      0                 0  ...   \n...                  ...               ...  ...   \n4798                   0                 0  ...   \n4799                   0                 0  ...   \n4800                   0                 0  ...   \n4801                   0                 0  ...   \n4802                   0                 0  ...   \n\n      Columbia Pictures Corporation  Summit Entertainment  \\\n0                                 0                     0   \n1                                 0                     0   \n2                                 0                     0   \n3                                 0                     0   \n4                                 0                     0   \n...                             ...                   ...   \n4798                              0                     0   \n4799                              0                     0   \n4800                              0                     0   \n4801                              0                     0   \n4802                              0                     0   \n\n      Regency Enterprises  TriStar Pictures  Canal+  Miramax Films  \\\n0                       0                 0       0              0   \n1                       0                 0       0              0   \n2                       0                 0       0              0   \n3                       0                 0       0              0   \n4                       0                 0       0              0   \n...                   ...               ...     ...            ...   \n4798                    0                 0       0              0   \n4799                    0                 0       0              0   \n4800                    0                 0       0              0   \n4801                    0                 0       0              0   \n4802                    0                 0       0              0   \n\n      Working Title Films  United Artists  Dimension Films  \\\n0                       0               0                0   \n1                       0               0                0   \n2                       0               0                0   \n3                       0               0                0   \n4                       0               0                0   \n...                   ...             ...              ...   \n4798                    0               0                0   \n4799                    0               0                0   \n4800                    0               0                0   \n4801                    0               0                0   \n4802                    0               0                0   \n\n      Fox Searchlight Pictures  \n0                            0  \n1                            0  \n2                            0  \n3                            0  \n4                            0  \n...                        ...  \n4798                         0  \n4799                         0  \n4800                         0  \n4801                         0  \n4802                         0  \n\n[4803 rows x 25 columns]",
      "text/html": "<div>\n<style scoped>\n    .dataframe tbody tr th:only-of-type {\n        vertical-align: middle;\n    }\n\n    .dataframe tbody tr th {\n        vertical-align: top;\n    }\n\n    .dataframe thead th {\n        text-align: right;\n    }\n</style>\n<table border=\"1\" class=\"dataframe\">\n  <thead>\n    <tr style=\"text-align: right;\">\n      <th></th>\n      <th>Twentieth Century Fox Film Corporation</th>\n      <th>Dune Entertainment</th>\n      <th>Walt Disney Pictures</th>\n      <th>Columbia Pictures</th>\n      <th>Warner Bros.</th>\n      <th>Paramount Pictures</th>\n      <th>New Line Cinema</th>\n      <th>Metro-Goldwyn-Mayer (MGM)</th>\n      <th>Universal Pictures</th>\n      <th>Relativity Media</th>\n      <th>...</th>\n      <th>Columbia Pictures Corporation</th>\n      <th>Summit Entertainment</th>\n      <th>Regency Enterprises</th>\n      <th>TriStar Pictures</th>\n      <th>Canal+</th>\n      <th>Miramax Films</th>\n      <th>Working Title Films</th>\n      <th>United Artists</th>\n      <th>Dimension Films</th>\n      <th>Fox Searchlight Pictures</th>\n    </tr>\n  </thead>\n  <tbody>\n    <tr>\n      <th>0</th>\n      <td>1</td>\n      <td>1</td>\n      <td>0</td>\n      <td>0</td>\n      <td>0</td>\n      <td>0</td>\n      <td>0</td>\n      <td>0</td>\n      <td>0</td>\n      <td>0</td>\n      <td>...</td>\n      <td>0</td>\n      <td>0</td>\n      <td>0</td>\n      <td>0</td>\n      <td>0</td>\n      <td>0</td>\n      <td>0</td>\n      <td>0</td>\n      <td>0</td>\n      <td>0</td>\n    </tr>\n    <tr>\n      <th>1</th>\n      <td>0</td>\n      <td>0</td>\n      <td>1</td>\n      <td>0</td>\n      <td>0</td>\n      <td>0</td>\n      <td>0</td>\n      <td>0</td>\n      <td>0</td>\n      <td>0</td>\n      <td>...</td>\n      <td>0</td>\n      <td>0</td>\n      <td>0</td>\n      <td>0</td>\n      <td>0</td>\n      <td>0</td>\n      <td>0</td>\n      <td>0</td>\n      <td>0</td>\n      <td>0</td>\n    </tr>\n    <tr>\n      <th>2</th>\n      <td>0</td>\n      <td>0</td>\n      <td>0</td>\n      <td>1</td>\n      <td>0</td>\n      <td>0</td>\n      <td>0</td>\n      <td>0</td>\n      <td>0</td>\n      <td>0</td>\n      <td>...</td>\n      <td>0</td>\n      <td>0</td>\n      <td>0</td>\n      <td>0</td>\n      <td>0</td>\n      <td>0</td>\n      <td>0</td>\n      <td>0</td>\n      <td>0</td>\n      <td>0</td>\n    </tr>\n    <tr>\n      <th>3</th>\n      <td>0</td>\n      <td>0</td>\n      <td>0</td>\n      <td>0</td>\n      <td>1</td>\n      <td>0</td>\n      <td>0</td>\n      <td>0</td>\n      <td>0</td>\n      <td>0</td>\n      <td>...</td>\n      <td>0</td>\n      <td>0</td>\n      <td>0</td>\n      <td>0</td>\n      <td>0</td>\n      <td>0</td>\n      <td>0</td>\n      <td>0</td>\n      <td>0</td>\n      <td>0</td>\n    </tr>\n    <tr>\n      <th>4</th>\n      <td>0</td>\n      <td>0</td>\n      <td>1</td>\n      <td>0</td>\n      <td>0</td>\n      <td>0</td>\n      <td>0</td>\n      <td>0</td>\n      <td>0</td>\n      <td>0</td>\n      <td>...</td>\n      <td>0</td>\n      <td>0</td>\n      <td>0</td>\n      <td>0</td>\n      <td>0</td>\n      <td>0</td>\n      <td>0</td>\n      <td>0</td>\n      <td>0</td>\n      <td>0</td>\n    </tr>\n    <tr>\n      <th>...</th>\n      <td>...</td>\n      <td>...</td>\n      <td>...</td>\n      <td>...</td>\n      <td>...</td>\n      <td>...</td>\n      <td>...</td>\n      <td>...</td>\n      <td>...</td>\n      <td>...</td>\n      <td>...</td>\n      <td>...</td>\n      <td>...</td>\n      <td>...</td>\n      <td>...</td>\n      <td>...</td>\n      <td>...</td>\n      <td>...</td>\n      <td>...</td>\n      <td>...</td>\n      <td>...</td>\n    </tr>\n    <tr>\n      <th>4798</th>\n      <td>0</td>\n      <td>0</td>\n      <td>0</td>\n      <td>0</td>\n      <td>0</td>\n      <td>0</td>\n      <td>0</td>\n      <td>0</td>\n      <td>0</td>\n      <td>0</td>\n      <td>...</td>\n      <td>0</td>\n      <td>0</td>\n      <td>0</td>\n      <td>0</td>\n      <td>0</td>\n      <td>0</td>\n      <td>0</td>\n      <td>0</td>\n      <td>0</td>\n      <td>0</td>\n    </tr>\n    <tr>\n      <th>4799</th>\n      <td>0</td>\n      <td>0</td>\n      <td>0</td>\n      <td>0</td>\n      <td>0</td>\n      <td>0</td>\n      <td>0</td>\n      <td>0</td>\n      <td>0</td>\n      <td>0</td>\n      <td>...</td>\n      <td>0</td>\n      <td>0</td>\n      <td>0</td>\n      <td>0</td>\n      <td>0</td>\n      <td>0</td>\n      <td>0</td>\n      <td>0</td>\n      <td>0</td>\n      <td>0</td>\n    </tr>\n    <tr>\n      <th>4800</th>\n      <td>0</td>\n      <td>0</td>\n      <td>0</td>\n      <td>0</td>\n      <td>0</td>\n      <td>0</td>\n      <td>0</td>\n      <td>0</td>\n      <td>0</td>\n      <td>0</td>\n      <td>...</td>\n      <td>0</td>\n      <td>0</td>\n      <td>0</td>\n      <td>0</td>\n      <td>0</td>\n      <td>0</td>\n      <td>0</td>\n      <td>0</td>\n      <td>0</td>\n      <td>0</td>\n    </tr>\n    <tr>\n      <th>4801</th>\n      <td>0</td>\n      <td>0</td>\n      <td>0</td>\n      <td>0</td>\n      <td>0</td>\n      <td>0</td>\n      <td>0</td>\n      <td>0</td>\n      <td>0</td>\n      <td>0</td>\n      <td>...</td>\n      <td>0</td>\n      <td>0</td>\n      <td>0</td>\n      <td>0</td>\n      <td>0</td>\n      <td>0</td>\n      <td>0</td>\n      <td>0</td>\n      <td>0</td>\n      <td>0</td>\n    </tr>\n    <tr>\n      <th>4802</th>\n      <td>0</td>\n      <td>0</td>\n      <td>0</td>\n      <td>0</td>\n      <td>0</td>\n      <td>0</td>\n      <td>0</td>\n      <td>0</td>\n      <td>0</td>\n      <td>0</td>\n      <td>...</td>\n      <td>0</td>\n      <td>0</td>\n      <td>0</td>\n      <td>0</td>\n      <td>0</td>\n      <td>0</td>\n      <td>0</td>\n      <td>0</td>\n      <td>0</td>\n      <td>0</td>\n    </tr>\n  </tbody>\n</table>\n<p>4803 rows × 25 columns</p>\n</div>"
     },
     "execution_count": 28,
     "metadata": {},
     "output_type": "execute_result"
    }
   ],
   "source": [
    "# 作成したデータフレームに値を格納していく\n",
    "def put_companies(df,companies_list):\n",
    "    for i in range(len(df)):\n",
    "        for company in companies_list[i]:\n",
    "            if company in df.columns.values:\n",
    "                df.at[i,company] = 1.0\n",
    "put_companies(df_companies,companies_list)\n",
    "df_companies"
   ],
   "metadata": {
    "collapsed": false,
    "pycharm": {
     "name": "#%%\n"
    }
   }
  },
  {
   "cell_type": "code",
   "execution_count": 28,
   "outputs": [],
   "source": [],
   "metadata": {
    "collapsed": false,
    "pycharm": {
     "name": "#%%\n"
    }
   }
  },
  {
   "cell_type": "code",
   "execution_count": 29,
   "outputs": [
    {
     "name": "stdout",
     "output_type": "stream",
     "text": [
      "<class 'pandas.core.frame.DataFrame'>\n",
      "RangeIndex: 4803 entries, 0 to 4802\n",
      "Data columns (total 8 columns):\n",
      " #   Column                Non-Null Count  Dtype  \n",
      "---  ------                --------------  -----  \n",
      " 0   genres                4803 non-null   object \n",
      " 1   original_language     4803 non-null   int64  \n",
      " 2   production_companies  4803 non-null   object \n",
      " 3   release_date          4802 non-null   object \n",
      " 4   runtime               4801 non-null   float64\n",
      " 5   vote_average          4740 non-null   float64\n",
      " 6   release_year          4802 non-null   float64\n",
      " 7   release_month         4802 non-null   float64\n",
      "dtypes: float64(4), int64(1), object(3)\n",
      "memory usage: 300.3+ KB\n"
     ]
    }
   ],
   "source": [
    "df_x.info()"
   ],
   "metadata": {
    "collapsed": false,
    "pycharm": {
     "name": "#%%\n"
    }
   }
  },
  {
   "cell_type": "code",
   "execution_count": 30,
   "outputs": [
    {
     "name": "stdout",
     "output_type": "stream",
     "text": [
      "<class 'pandas.core.frame.DataFrame'>\n",
      "RangeIndex: 4803 entries, 0 to 4802\n",
      "Data columns (total 20 columns):\n",
      " #   Column           Non-Null Count  Dtype\n",
      "---  ------           --------------  -----\n",
      " 0   Action           4803 non-null   int64\n",
      " 1   Adventure        4803 non-null   int64\n",
      " 2   Fantasy          4803 non-null   int64\n",
      " 3   Science Fiction  4803 non-null   int64\n",
      " 4   Crime            4803 non-null   int64\n",
      " 5   Drama            4803 non-null   int64\n",
      " 6   Thriller         4803 non-null   int64\n",
      " 7   Animation        4803 non-null   int64\n",
      " 8   Family           4803 non-null   int64\n",
      " 9   Western          4803 non-null   int64\n",
      " 10  Comedy           4803 non-null   int64\n",
      " 11  Romance          4803 non-null   int64\n",
      " 12  Horror           4803 non-null   int64\n",
      " 13  Mystery          4803 non-null   int64\n",
      " 14  History          4803 non-null   int64\n",
      " 15  War              4803 non-null   int64\n",
      " 16  Music            4803 non-null   int64\n",
      " 17  Documentary      4803 non-null   int64\n",
      " 18  Foreign          4803 non-null   int64\n",
      " 19  TV Movie         4803 non-null   int64\n",
      "dtypes: int64(20)\n",
      "memory usage: 750.6 KB\n"
     ]
    }
   ],
   "source": [
    "df_genre.info()"
   ],
   "metadata": {
    "collapsed": false,
    "pycharm": {
     "name": "#%%\n"
    }
   }
  },
  {
   "cell_type": "code",
   "execution_count": 31,
   "outputs": [
    {
     "name": "stdout",
     "output_type": "stream",
     "text": [
      "<class 'pandas.core.frame.DataFrame'>\n",
      "RangeIndex: 4803 entries, 0 to 4802\n",
      "Data columns (total 25 columns):\n",
      " #   Column                                  Non-Null Count  Dtype\n",
      "---  ------                                  --------------  -----\n",
      " 0   Twentieth Century Fox Film Corporation  4803 non-null   int64\n",
      " 1   Dune Entertainment                      4803 non-null   int64\n",
      " 2   Walt Disney Pictures                    4803 non-null   int64\n",
      " 3   Columbia Pictures                       4803 non-null   int64\n",
      " 4   Warner Bros.                            4803 non-null   int64\n",
      " 5   Paramount Pictures                      4803 non-null   int64\n",
      " 6   New Line Cinema                         4803 non-null   int64\n",
      " 7   Metro-Goldwyn-Mayer (MGM)               4803 non-null   int64\n",
      " 8   Universal Pictures                      4803 non-null   int64\n",
      " 9   Relativity Media                        4803 non-null   int64\n",
      " 10  DreamWorks SKG                          4803 non-null   int64\n",
      " 11  Village Roadshow Pictures               4803 non-null   int64\n",
      " 12  Lionsgate                               4803 non-null   int64\n",
      " 13  Fox 2000 Pictures                       4803 non-null   int64\n",
      " 14  Touchstone Pictures                     4803 non-null   int64\n",
      " 15  Columbia Pictures Corporation           4803 non-null   int64\n",
      " 16  Summit Entertainment                    4803 non-null   int64\n",
      " 17  Regency Enterprises                     4803 non-null   int64\n",
      " 18  TriStar Pictures                        4803 non-null   int64\n",
      " 19  Canal+                                  4803 non-null   int64\n",
      " 20  Miramax Films                           4803 non-null   int64\n",
      " 21  Working Title Films                     4803 non-null   int64\n",
      " 22  United Artists                          4803 non-null   int64\n",
      " 23  Dimension Films                         4803 non-null   int64\n",
      " 24  Fox Searchlight Pictures                4803 non-null   int64\n",
      "dtypes: int64(25)\n",
      "memory usage: 938.2 KB\n"
     ]
    }
   ],
   "source": [
    "df_companies.info()"
   ],
   "metadata": {
    "collapsed": false,
    "pycharm": {
     "name": "#%%\n"
    }
   }
  },
  {
   "cell_type": "code",
   "execution_count": 32,
   "outputs": [],
   "source": [
    "df_x = df_x.drop(columns=[\"genres\",\"production_companies\",\"release_date\",])"
   ],
   "metadata": {
    "collapsed": false,
    "pycharm": {
     "name": "#%%\n"
    }
   }
  },
  {
   "cell_type": "code",
   "execution_count": 33,
   "outputs": [
    {
     "name": "stdout",
     "output_type": "stream",
     "text": [
      "<class 'pandas.core.frame.DataFrame'>\n",
      "RangeIndex: 4803 entries, 0 to 4802\n",
      "Data columns (total 5 columns):\n",
      " #   Column             Non-Null Count  Dtype  \n",
      "---  ------             --------------  -----  \n",
      " 0   original_language  4803 non-null   int64  \n",
      " 1   runtime            4801 non-null   float64\n",
      " 2   vote_average       4740 non-null   float64\n",
      " 3   release_year       4802 non-null   float64\n",
      " 4   release_month      4802 non-null   float64\n",
      "dtypes: float64(4), int64(1)\n",
      "memory usage: 187.7 KB\n"
     ]
    }
   ],
   "source": [
    "df_x.info()"
   ],
   "metadata": {
    "collapsed": false,
    "pycharm": {
     "name": "#%%\n"
    }
   }
  },
  {
   "cell_type": "code",
   "execution_count": 34,
   "outputs": [],
   "source": [
    "df_x = pd.concat([df_x,df_companies,df_genre],axis=1)"
   ],
   "metadata": {
    "collapsed": false,
    "pycharm": {
     "name": "#%%\n"
    }
   }
  },
  {
   "cell_type": "code",
   "execution_count": 35,
   "outputs": [
    {
     "name": "stdout",
     "output_type": "stream",
     "text": [
      "<class 'pandas.core.frame.DataFrame'>\n",
      "RangeIndex: 4803 entries, 0 to 4802\n",
      "Data columns (total 50 columns):\n",
      " #   Column                                  Non-Null Count  Dtype  \n",
      "---  ------                                  --------------  -----  \n",
      " 0   original_language                       4803 non-null   int64  \n",
      " 1   runtime                                 4801 non-null   float64\n",
      " 2   vote_average                            4740 non-null   float64\n",
      " 3   release_year                            4802 non-null   float64\n",
      " 4   release_month                           4802 non-null   float64\n",
      " 5   Twentieth Century Fox Film Corporation  4803 non-null   int64  \n",
      " 6   Dune Entertainment                      4803 non-null   int64  \n",
      " 7   Walt Disney Pictures                    4803 non-null   int64  \n",
      " 8   Columbia Pictures                       4803 non-null   int64  \n",
      " 9   Warner Bros.                            4803 non-null   int64  \n",
      " 10  Paramount Pictures                      4803 non-null   int64  \n",
      " 11  New Line Cinema                         4803 non-null   int64  \n",
      " 12  Metro-Goldwyn-Mayer (MGM)               4803 non-null   int64  \n",
      " 13  Universal Pictures                      4803 non-null   int64  \n",
      " 14  Relativity Media                        4803 non-null   int64  \n",
      " 15  DreamWorks SKG                          4803 non-null   int64  \n",
      " 16  Village Roadshow Pictures               4803 non-null   int64  \n",
      " 17  Lionsgate                               4803 non-null   int64  \n",
      " 18  Fox 2000 Pictures                       4803 non-null   int64  \n",
      " 19  Touchstone Pictures                     4803 non-null   int64  \n",
      " 20  Columbia Pictures Corporation           4803 non-null   int64  \n",
      " 21  Summit Entertainment                    4803 non-null   int64  \n",
      " 22  Regency Enterprises                     4803 non-null   int64  \n",
      " 23  TriStar Pictures                        4803 non-null   int64  \n",
      " 24  Canal+                                  4803 non-null   int64  \n",
      " 25  Miramax Films                           4803 non-null   int64  \n",
      " 26  Working Title Films                     4803 non-null   int64  \n",
      " 27  United Artists                          4803 non-null   int64  \n",
      " 28  Dimension Films                         4803 non-null   int64  \n",
      " 29  Fox Searchlight Pictures                4803 non-null   int64  \n",
      " 30  Action                                  4803 non-null   int64  \n",
      " 31  Adventure                               4803 non-null   int64  \n",
      " 32  Fantasy                                 4803 non-null   int64  \n",
      " 33  Science Fiction                         4803 non-null   int64  \n",
      " 34  Crime                                   4803 non-null   int64  \n",
      " 35  Drama                                   4803 non-null   int64  \n",
      " 36  Thriller                                4803 non-null   int64  \n",
      " 37  Animation                               4803 non-null   int64  \n",
      " 38  Family                                  4803 non-null   int64  \n",
      " 39  Western                                 4803 non-null   int64  \n",
      " 40  Comedy                                  4803 non-null   int64  \n",
      " 41  Romance                                 4803 non-null   int64  \n",
      " 42  Horror                                  4803 non-null   int64  \n",
      " 43  Mystery                                 4803 non-null   int64  \n",
      " 44  History                                 4803 non-null   int64  \n",
      " 45  War                                     4803 non-null   int64  \n",
      " 46  Music                                   4803 non-null   int64  \n",
      " 47  Documentary                             4803 non-null   int64  \n",
      " 48  Foreign                                 4803 non-null   int64  \n",
      " 49  TV Movie                                4803 non-null   int64  \n",
      "dtypes: float64(4), int64(46)\n",
      "memory usage: 1.8 MB\n"
     ]
    }
   ],
   "source": [
    "df_x.info()"
   ],
   "metadata": {
    "collapsed": false,
    "pycharm": {
     "name": "#%%\n"
    }
   }
  },
  {
   "cell_type": "code",
   "execution_count": 36,
   "outputs": [
    {
     "name": "stdout",
     "output_type": "stream",
     "text": [
      "<class 'pandas.core.frame.DataFrame'>\n",
      "Int64Index: 4739 entries, 0 to 4802\n",
      "Data columns (total 50 columns):\n",
      " #   Column                                  Non-Null Count  Dtype  \n",
      "---  ------                                  --------------  -----  \n",
      " 0   original_language                       4739 non-null   int64  \n",
      " 1   runtime                                 4739 non-null   float64\n",
      " 2   vote_average                            4739 non-null   float64\n",
      " 3   release_year                            4739 non-null   float64\n",
      " 4   release_month                           4739 non-null   float64\n",
      " 5   Twentieth Century Fox Film Corporation  4739 non-null   int64  \n",
      " 6   Dune Entertainment                      4739 non-null   int64  \n",
      " 7   Walt Disney Pictures                    4739 non-null   int64  \n",
      " 8   Columbia Pictures                       4739 non-null   int64  \n",
      " 9   Warner Bros.                            4739 non-null   int64  \n",
      " 10  Paramount Pictures                      4739 non-null   int64  \n",
      " 11  New Line Cinema                         4739 non-null   int64  \n",
      " 12  Metro-Goldwyn-Mayer (MGM)               4739 non-null   int64  \n",
      " 13  Universal Pictures                      4739 non-null   int64  \n",
      " 14  Relativity Media                        4739 non-null   int64  \n",
      " 15  DreamWorks SKG                          4739 non-null   int64  \n",
      " 16  Village Roadshow Pictures               4739 non-null   int64  \n",
      " 17  Lionsgate                               4739 non-null   int64  \n",
      " 18  Fox 2000 Pictures                       4739 non-null   int64  \n",
      " 19  Touchstone Pictures                     4739 non-null   int64  \n",
      " 20  Columbia Pictures Corporation           4739 non-null   int64  \n",
      " 21  Summit Entertainment                    4739 non-null   int64  \n",
      " 22  Regency Enterprises                     4739 non-null   int64  \n",
      " 23  TriStar Pictures                        4739 non-null   int64  \n",
      " 24  Canal+                                  4739 non-null   int64  \n",
      " 25  Miramax Films                           4739 non-null   int64  \n",
      " 26  Working Title Films                     4739 non-null   int64  \n",
      " 27  United Artists                          4739 non-null   int64  \n",
      " 28  Dimension Films                         4739 non-null   int64  \n",
      " 29  Fox Searchlight Pictures                4739 non-null   int64  \n",
      " 30  Action                                  4739 non-null   int64  \n",
      " 31  Adventure                               4739 non-null   int64  \n",
      " 32  Fantasy                                 4739 non-null   int64  \n",
      " 33  Science Fiction                         4739 non-null   int64  \n",
      " 34  Crime                                   4739 non-null   int64  \n",
      " 35  Drama                                   4739 non-null   int64  \n",
      " 36  Thriller                                4739 non-null   int64  \n",
      " 37  Animation                               4739 non-null   int64  \n",
      " 38  Family                                  4739 non-null   int64  \n",
      " 39  Western                                 4739 non-null   int64  \n",
      " 40  Comedy                                  4739 non-null   int64  \n",
      " 41  Romance                                 4739 non-null   int64  \n",
      " 42  Horror                                  4739 non-null   int64  \n",
      " 43  Mystery                                 4739 non-null   int64  \n",
      " 44  History                                 4739 non-null   int64  \n",
      " 45  War                                     4739 non-null   int64  \n",
      " 46  Music                                   4739 non-null   int64  \n",
      " 47  Documentary                             4739 non-null   int64  \n",
      " 48  Foreign                                 4739 non-null   int64  \n",
      " 49  TV Movie                                4739 non-null   int64  \n",
      "dtypes: float64(4), int64(46)\n",
      "memory usage: 1.8 MB\n"
     ]
    }
   ],
   "source": [
    "# まずは欠損値があるものを削除していく(今回はもう欠損値処理せずに消す)\n",
    "df_x = df_x.dropna(axis=0,how=\"any\")\n",
    "df_x.info()"
   ],
   "metadata": {
    "collapsed": false,
    "pycharm": {
     "name": "#%%\n"
    }
   }
  },
  {
   "cell_type": "code",
   "execution_count": 37,
   "outputs": [
    {
     "data": {
      "text/plain": "11"
     },
     "execution_count": 37,
     "metadata": {},
     "output_type": "execute_result"
    }
   ],
   "source": [
    "df_x[\"vote_average\"].nunique()"
   ],
   "metadata": {
    "collapsed": false,
    "pycharm": {
     "name": "#%%\n"
    }
   }
  },
  {
   "cell_type": "code",
   "execution_count": 38,
   "outputs": [],
   "source": [
    "# とりあえずテストデータと検証データに分ける\n",
    "\n",
    "# 説明変数,目的変数\n",
    "X = df_x.drop(\"vote_average\",axis=1).values # 説明変数(target以外の特徴量)\n",
    "y = df_x[\"vote_average\"].values # 目的変数(target)\n",
    "\n",
    "X_train, X_test, y_train, y_test = train_test_split(X, y,test_size=0.20, random_state=2)\n",
    "\n",
    "\n",
    "lgb_train = lgb.Dataset(X_train, y_train)\n",
    "lgb_eval = lgb.Dataset(X_test, y_test, reference=lgb_train)\n",
    "\n",
    "# LightGBM parameters\n",
    "params = {\n",
    "        'task': 'train',\n",
    "        'boosting_type': 'gbdt',\n",
    "        'objective': 'multiclass', # 目的 : 多クラス分類\n",
    "        'num_class': 11, # クラス数 : 11\n",
    "        'metric': {'multi_error'}, # 評価指標 : 誤り率(= 1-正答率)\n",
    "        # 他には'multi_logloss'など\n",
    "}"
   ],
   "metadata": {
    "collapsed": false,
    "pycharm": {
     "name": "#%%\n"
    }
   }
  },
  {
   "cell_type": "code",
   "execution_count": null,
   "outputs": [],
   "source": [
    "# モデルの学習\n",
    "model = lgb.train(params,\n",
    "train_set=lgb_train, # トレーニングデータの指定\n",
    "valid_sets=lgb_eval, # 検証データの指定\n",
    ")\n",
    "\n",
    "# テストデータの予測 ((各クラスの予測確率 [クラス0の予測確率,クラス1の予測確率,クラス2の予測確率] を返す))\n",
    "y_pred_prob = model.predict(X_test)\n",
    "# テストデータの予測 (予測クラス(0 or 1 or 2)を返す)\n",
    "y_pred = np.argmax(y_pred_prob, axis=1) # 一番大きい予測確率のクラスを予測クラスに"
   ],
   "metadata": {
    "collapsed": false,
    "pycharm": {
     "name": "#%%\n",
     "is_executing": true
    }
   }
  },
  {
   "cell_type": "code",
   "execution_count": null,
   "outputs": [],
   "source": [
    "# 真値と予測値の表示\n",
    "df_pred = pd.DataFrame({'target':y_test,'target_pred':y_pred})\n",
    "display(df_pred)\n",
    "\n",
    "# 真値と予測確率の表示\n",
    "df_pred_prob = pd.DataFrame({'y':y_test, 'target0_prob':y_pred_prob[:,0], 'target1_prob':y_pred_prob[:,1], 'target2_prob':y_pred_prob[:,2]})\n",
    "display(df_pred_prob)"
   ],
   "metadata": {
    "collapsed": false,
    "pycharm": {
     "name": "#%%\n",
     "is_executing": true
    }
   }
  },
  {
   "cell_type": "code",
   "execution_count": null,
   "outputs": [],
   "source": [
    "#予測値の確認\n",
    "# 真値と予測値の表示\n",
    "from sklearn.metrics import accuracy_score\n",
    "# モデル評価\n",
    "# acc : 正答率\n",
    "acc = accuracy_score(y_test,y_pred)\n",
    "print('Acc :', acc)"
   ],
   "metadata": {
    "collapsed": false,
    "pycharm": {
     "name": "#%%\n",
     "is_executing": true
    }
   }
  }
 ],
 "metadata": {
  "kernelspec": {
   "display_name": "Python 3",
   "language": "python",
   "name": "python3"
  },
  "language_info": {
   "codemirror_mode": {
    "name": "ipython",
    "version": 2
   },
   "file_extension": ".py",
   "mimetype": "text/x-python",
   "name": "python",
   "nbconvert_exporter": "python",
   "pygments_lexer": "ipython2",
   "version": "2.7.6"
  }
 },
 "nbformat": 4,
 "nbformat_minor": 0
}