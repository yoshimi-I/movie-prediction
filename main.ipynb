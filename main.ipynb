{
 "cells": [
  {
   "cell_type": "code",
   "execution_count": 203,
   "metadata": {
    "collapsed": true,
    "pycharm": {
     "name": "#%%\n"
    }
   },
   "outputs": [],
   "source": [
    "import pandas as pd\n",
    "import numpy as np\n",
    "import json\n",
    "import ast\n",
    "from sklearn.preprocessing import LabelEncoder"
   ]
  },
  {
   "cell_type": "code",
   "execution_count": 177,
   "outputs": [
    {
     "data": {
      "text/plain": "      budget                                             genres  \\\n0  237000000  [{\"id\": 28, \"name\": \"Action\"}, {\"id\": 12, \"nam...   \n1  300000000  [{\"id\": 12, \"name\": \"Adventure\"}, {\"id\": 14, \"...   \n2  245000000  [{\"id\": 28, \"name\": \"Action\"}, {\"id\": 12, \"nam...   \n3  250000000  [{\"id\": 28, \"name\": \"Action\"}, {\"id\": 80, \"nam...   \n4  260000000  [{\"id\": 28, \"name\": \"Action\"}, {\"id\": 12, \"nam...   \n\n                                       homepage      id  \\\n0                   http://www.avatarmovie.com/   19995   \n1  http://disney.go.com/disneypictures/pirates/     285   \n2   http://www.sonypictures.com/movies/spectre/  206647   \n3            http://www.thedarkknightrises.com/   49026   \n4          http://movies.disney.com/john-carter   49529   \n\n                                            keywords original_language  \\\n0  [{\"id\": 1463, \"name\": \"culture clash\"}, {\"id\":...                en   \n1  [{\"id\": 270, \"name\": \"ocean\"}, {\"id\": 726, \"na...                en   \n2  [{\"id\": 470, \"name\": \"spy\"}, {\"id\": 818, \"name...                en   \n3  [{\"id\": 849, \"name\": \"dc comics\"}, {\"id\": 853,...                en   \n4  [{\"id\": 818, \"name\": \"based on novel\"}, {\"id\":...                en   \n\n                             original_title  \\\n0                                    Avatar   \n1  Pirates of the Caribbean: At World's End   \n2                                   Spectre   \n3                     The Dark Knight Rises   \n4                               John Carter   \n\n                                            overview  popularity  \\\n0  In the 22nd century, a paraplegic Marine is di...  150.437577   \n1  Captain Barbossa, long believed to be dead, ha...  139.082615   \n2  A cryptic message from Bond’s past sends him o...  107.376788   \n3  Following the death of District Attorney Harve...  112.312950   \n4  John Carter is a war-weary, former military ca...   43.926995   \n\n                                production_companies  ...  \\\n0  [{\"name\": \"Ingenious Film Partners\", \"id\": 289...  ...   \n1  [{\"name\": \"Walt Disney Pictures\", \"id\": 2}, {\"...  ...   \n2  [{\"name\": \"Columbia Pictures\", \"id\": 5}, {\"nam...  ...   \n3  [{\"name\": \"Legendary Pictures\", \"id\": 923}, {\"...  ...   \n4        [{\"name\": \"Walt Disney Pictures\", \"id\": 2}]  ...   \n\n                                    spoken_languages    status  \\\n0  [{\"iso_639_1\": \"en\", \"name\": \"English\"}, {\"iso...  Released   \n1           [{\"iso_639_1\": \"en\", \"name\": \"English\"}]  Released   \n2  [{\"iso_639_1\": \"fr\", \"name\": \"Fran\\u00e7ais\"},...  Released   \n3           [{\"iso_639_1\": \"en\", \"name\": \"English\"}]  Released   \n4           [{\"iso_639_1\": \"en\", \"name\": \"English\"}]  Released   \n\n                                          tagline  \\\n0                     Enter the World of Pandora.   \n1  At the end of the world, the adventure begins.   \n2                           A Plan No One Escapes   \n3                                 The Legend Ends   \n4            Lost in our world, found in another.   \n\n                                      title vote_average vote_count movie_id  \\\n0                                    Avatar          7.2      11800    19995   \n1  Pirates of the Caribbean: At World's End          6.9       4500      285   \n2                                   Spectre          6.3       4466   206647   \n3                     The Dark Knight Rises          7.6       9106    49026   \n4                               John Carter          6.1       2124    49529   \n\n                                      title  \\\n0                                    Avatar   \n1  Pirates of the Caribbean: At World's End   \n2                                   Spectre   \n3                     The Dark Knight Rises   \n4                               John Carter   \n\n                                                cast  \\\n0  [{\"cast_id\": 242, \"character\": \"Jake Sully\", \"...   \n1  [{\"cast_id\": 4, \"character\": \"Captain Jack Spa...   \n2  [{\"cast_id\": 1, \"character\": \"James Bond\", \"cr...   \n3  [{\"cast_id\": 2, \"character\": \"Bruce Wayne / Ba...   \n4  [{\"cast_id\": 5, \"character\": \"John Carter\", \"c...   \n\n                                                crew  \n0  [{\"credit_id\": \"52fe48009251416c750aca23\", \"de...  \n1  [{\"credit_id\": \"52fe4232c3a36847f800b579\", \"de...  \n2  [{\"credit_id\": \"54805967c3a36829b5002c41\", \"de...  \n3  [{\"credit_id\": \"52fe4781c3a36847f81398c3\", \"de...  \n4  [{\"credit_id\": \"52fe479ac3a36847f813eaa3\", \"de...  \n\n[5 rows x 24 columns]",
      "text/html": "<div>\n<style scoped>\n    .dataframe tbody tr th:only-of-type {\n        vertical-align: middle;\n    }\n\n    .dataframe tbody tr th {\n        vertical-align: top;\n    }\n\n    .dataframe thead th {\n        text-align: right;\n    }\n</style>\n<table border=\"1\" class=\"dataframe\">\n  <thead>\n    <tr style=\"text-align: right;\">\n      <th></th>\n      <th>budget</th>\n      <th>genres</th>\n      <th>homepage</th>\n      <th>id</th>\n      <th>keywords</th>\n      <th>original_language</th>\n      <th>original_title</th>\n      <th>overview</th>\n      <th>popularity</th>\n      <th>production_companies</th>\n      <th>...</th>\n      <th>spoken_languages</th>\n      <th>status</th>\n      <th>tagline</th>\n      <th>title</th>\n      <th>vote_average</th>\n      <th>vote_count</th>\n      <th>movie_id</th>\n      <th>title</th>\n      <th>cast</th>\n      <th>crew</th>\n    </tr>\n  </thead>\n  <tbody>\n    <tr>\n      <th>0</th>\n      <td>237000000</td>\n      <td>[{\"id\": 28, \"name\": \"Action\"}, {\"id\": 12, \"nam...</td>\n      <td>http://www.avatarmovie.com/</td>\n      <td>19995</td>\n      <td>[{\"id\": 1463, \"name\": \"culture clash\"}, {\"id\":...</td>\n      <td>en</td>\n      <td>Avatar</td>\n      <td>In the 22nd century, a paraplegic Marine is di...</td>\n      <td>150.437577</td>\n      <td>[{\"name\": \"Ingenious Film Partners\", \"id\": 289...</td>\n      <td>...</td>\n      <td>[{\"iso_639_1\": \"en\", \"name\": \"English\"}, {\"iso...</td>\n      <td>Released</td>\n      <td>Enter the World of Pandora.</td>\n      <td>Avatar</td>\n      <td>7.2</td>\n      <td>11800</td>\n      <td>19995</td>\n      <td>Avatar</td>\n      <td>[{\"cast_id\": 242, \"character\": \"Jake Sully\", \"...</td>\n      <td>[{\"credit_id\": \"52fe48009251416c750aca23\", \"de...</td>\n    </tr>\n    <tr>\n      <th>1</th>\n      <td>300000000</td>\n      <td>[{\"id\": 12, \"name\": \"Adventure\"}, {\"id\": 14, \"...</td>\n      <td>http://disney.go.com/disneypictures/pirates/</td>\n      <td>285</td>\n      <td>[{\"id\": 270, \"name\": \"ocean\"}, {\"id\": 726, \"na...</td>\n      <td>en</td>\n      <td>Pirates of the Caribbean: At World's End</td>\n      <td>Captain Barbossa, long believed to be dead, ha...</td>\n      <td>139.082615</td>\n      <td>[{\"name\": \"Walt Disney Pictures\", \"id\": 2}, {\"...</td>\n      <td>...</td>\n      <td>[{\"iso_639_1\": \"en\", \"name\": \"English\"}]</td>\n      <td>Released</td>\n      <td>At the end of the world, the adventure begins.</td>\n      <td>Pirates of the Caribbean: At World's End</td>\n      <td>6.9</td>\n      <td>4500</td>\n      <td>285</td>\n      <td>Pirates of the Caribbean: At World's End</td>\n      <td>[{\"cast_id\": 4, \"character\": \"Captain Jack Spa...</td>\n      <td>[{\"credit_id\": \"52fe4232c3a36847f800b579\", \"de...</td>\n    </tr>\n    <tr>\n      <th>2</th>\n      <td>245000000</td>\n      <td>[{\"id\": 28, \"name\": \"Action\"}, {\"id\": 12, \"nam...</td>\n      <td>http://www.sonypictures.com/movies/spectre/</td>\n      <td>206647</td>\n      <td>[{\"id\": 470, \"name\": \"spy\"}, {\"id\": 818, \"name...</td>\n      <td>en</td>\n      <td>Spectre</td>\n      <td>A cryptic message from Bond’s past sends him o...</td>\n      <td>107.376788</td>\n      <td>[{\"name\": \"Columbia Pictures\", \"id\": 5}, {\"nam...</td>\n      <td>...</td>\n      <td>[{\"iso_639_1\": \"fr\", \"name\": \"Fran\\u00e7ais\"},...</td>\n      <td>Released</td>\n      <td>A Plan No One Escapes</td>\n      <td>Spectre</td>\n      <td>6.3</td>\n      <td>4466</td>\n      <td>206647</td>\n      <td>Spectre</td>\n      <td>[{\"cast_id\": 1, \"character\": \"James Bond\", \"cr...</td>\n      <td>[{\"credit_id\": \"54805967c3a36829b5002c41\", \"de...</td>\n    </tr>\n    <tr>\n      <th>3</th>\n      <td>250000000</td>\n      <td>[{\"id\": 28, \"name\": \"Action\"}, {\"id\": 80, \"nam...</td>\n      <td>http://www.thedarkknightrises.com/</td>\n      <td>49026</td>\n      <td>[{\"id\": 849, \"name\": \"dc comics\"}, {\"id\": 853,...</td>\n      <td>en</td>\n      <td>The Dark Knight Rises</td>\n      <td>Following the death of District Attorney Harve...</td>\n      <td>112.312950</td>\n      <td>[{\"name\": \"Legendary Pictures\", \"id\": 923}, {\"...</td>\n      <td>...</td>\n      <td>[{\"iso_639_1\": \"en\", \"name\": \"English\"}]</td>\n      <td>Released</td>\n      <td>The Legend Ends</td>\n      <td>The Dark Knight Rises</td>\n      <td>7.6</td>\n      <td>9106</td>\n      <td>49026</td>\n      <td>The Dark Knight Rises</td>\n      <td>[{\"cast_id\": 2, \"character\": \"Bruce Wayne / Ba...</td>\n      <td>[{\"credit_id\": \"52fe4781c3a36847f81398c3\", \"de...</td>\n    </tr>\n    <tr>\n      <th>4</th>\n      <td>260000000</td>\n      <td>[{\"id\": 28, \"name\": \"Action\"}, {\"id\": 12, \"nam...</td>\n      <td>http://movies.disney.com/john-carter</td>\n      <td>49529</td>\n      <td>[{\"id\": 818, \"name\": \"based on novel\"}, {\"id\":...</td>\n      <td>en</td>\n      <td>John Carter</td>\n      <td>John Carter is a war-weary, former military ca...</td>\n      <td>43.926995</td>\n      <td>[{\"name\": \"Walt Disney Pictures\", \"id\": 2}]</td>\n      <td>...</td>\n      <td>[{\"iso_639_1\": \"en\", \"name\": \"English\"}]</td>\n      <td>Released</td>\n      <td>Lost in our world, found in another.</td>\n      <td>John Carter</td>\n      <td>6.1</td>\n      <td>2124</td>\n      <td>49529</td>\n      <td>John Carter</td>\n      <td>[{\"cast_id\": 5, \"character\": \"John Carter\", \"c...</td>\n      <td>[{\"credit_id\": \"52fe479ac3a36847f813eaa3\", \"de...</td>\n    </tr>\n  </tbody>\n</table>\n<p>5 rows × 24 columns</p>\n</div>"
     },
     "execution_count": 177,
     "metadata": {},
     "output_type": "execute_result"
    }
   ],
   "source": [
    "df = pd.read_csv(\"movie/tmdb_5000_movies.csv\")\n",
    "df2 = pd.read_csv(\"movie/tmdb_5000_credits.csv\")\n",
    "df3 = pd.concat([df,df2],axis=1)\n",
    "df3.head()"
   ],
   "metadata": {
    "collapsed": false,
    "pycharm": {
     "name": "#%%\n"
    }
   }
  },
  {
   "cell_type": "code",
   "execution_count": 181,
   "outputs": [
    {
     "data": {
      "text/plain": "0       [{\"cast_id\": 242, \"character\": \"Jake Sully\", \"...\n1       [{\"cast_id\": 4, \"character\": \"Captain Jack Spa...\n2       [{\"cast_id\": 1, \"character\": \"James Bond\", \"cr...\n3       [{\"cast_id\": 2, \"character\": \"Bruce Wayne / Ba...\n4       [{\"cast_id\": 5, \"character\": \"John Carter\", \"c...\n                              ...                        \n4798    [{\"cast_id\": 1, \"character\": \"El Mariachi\", \"c...\n4799    [{\"cast_id\": 1, \"character\": \"Buzzy\", \"credit_...\n4800    [{\"cast_id\": 8, \"character\": \"Oliver O\\u2019To...\n4801    [{\"cast_id\": 3, \"character\": \"Sam\", \"credit_id...\n4802    [{\"cast_id\": 3, \"character\": \"Herself\", \"credi...\nName: cast, Length: 4803, dtype: object"
     },
     "execution_count": 181,
     "metadata": {},
     "output_type": "execute_result"
    }
   ],
   "source": [
    "characters = df3[\"cast\"]\n",
    "characters"
   ],
   "metadata": {
    "collapsed": false,
    "pycharm": {
     "name": "#%%\n"
    }
   }
  },
  {
   "cell_type": "code",
   "execution_count": 182,
   "outputs": [
    {
     "data": {
      "text/plain": "({'cast_id': 242,\n  'character': 'Jake Sully',\n  'credit_id': '5602a8a7c3a3685532001c9a',\n  'gender': 2,\n  'id': 65731,\n  'name': 'Sam Worthington',\n  'order': 0},\n {'cast_id': 3,\n  'character': 'Neytiri',\n  'credit_id': '52fe48009251416c750ac9cb',\n  'gender': 1,\n  'id': 8691,\n  'name': 'Zoe Saldana',\n  'order': 1},\n {'cast_id': 25,\n  'character': 'Dr. Grace Augustine',\n  'credit_id': '52fe48009251416c750aca39',\n  'gender': 1,\n  'id': 10205,\n  'name': 'Sigourney Weaver',\n  'order': 2},\n {'cast_id': 4,\n  'character': 'Col. Quaritch',\n  'credit_id': '52fe48009251416c750ac9cf',\n  'gender': 2,\n  'id': 32747,\n  'name': 'Stephen Lang',\n  'order': 3},\n {'cast_id': 5,\n  'character': 'Trudy Chacon',\n  'credit_id': '52fe48009251416c750ac9d3',\n  'gender': 1,\n  'id': 17647,\n  'name': 'Michelle Rodriguez',\n  'order': 4},\n {'cast_id': 8,\n  'character': 'Selfridge',\n  'credit_id': '52fe48009251416c750ac9e1',\n  'gender': 2,\n  'id': 1771,\n  'name': 'Giovanni Ribisi',\n  'order': 5},\n {'cast_id': 7,\n  'character': 'Norm Spellman',\n  'credit_id': '52fe48009251416c750ac9dd',\n  'gender': 2,\n  'id': 59231,\n  'name': 'Joel David Moore',\n  'order': 6},\n {'cast_id': 9,\n  'character': 'Moat',\n  'credit_id': '52fe48009251416c750ac9e5',\n  'gender': 1,\n  'id': 30485,\n  'name': 'CCH Pounder',\n  'order': 7},\n {'cast_id': 11,\n  'character': 'Eytukan',\n  'credit_id': '52fe48009251416c750ac9ed',\n  'gender': 2,\n  'id': 15853,\n  'name': 'Wes Studi',\n  'order': 8},\n {'cast_id': 10,\n  'character': \"Tsu'Tey\",\n  'credit_id': '52fe48009251416c750ac9e9',\n  'gender': 2,\n  'id': 10964,\n  'name': 'Laz Alonso',\n  'order': 9},\n {'cast_id': 12,\n  'character': 'Dr. Max Patel',\n  'credit_id': '52fe48009251416c750ac9f1',\n  'gender': 2,\n  'id': 95697,\n  'name': 'Dileep Rao',\n  'order': 10},\n {'cast_id': 13,\n  'character': 'Lyle Wainfleet',\n  'credit_id': '52fe48009251416c750ac9f5',\n  'gender': 2,\n  'id': 98215,\n  'name': 'Matt Gerald',\n  'order': 11},\n {'cast_id': 32,\n  'character': 'Private Fike',\n  'credit_id': '52fe48009251416c750aca5b',\n  'gender': 2,\n  'id': 154153,\n  'name': 'Sean Anthony Moran',\n  'order': 12},\n {'cast_id': 33,\n  'character': 'Cryo Vault Med Tech',\n  'credit_id': '52fe48009251416c750aca5f',\n  'gender': 2,\n  'id': 397312,\n  'name': 'Jason Whyte',\n  'order': 13},\n {'cast_id': 34,\n  'character': 'Venture Star Crew Chief',\n  'credit_id': '52fe48009251416c750aca63',\n  'gender': 2,\n  'id': 42317,\n  'name': 'Scott Lawrence',\n  'order': 14},\n {'cast_id': 35,\n  'character': 'Lock Up Trooper',\n  'credit_id': '52fe48009251416c750aca67',\n  'gender': 2,\n  'id': 986734,\n  'name': 'Kelly Kilgour',\n  'order': 15},\n {'cast_id': 36,\n  'character': 'Shuttle Pilot',\n  'credit_id': '52fe48009251416c750aca6b',\n  'gender': 0,\n  'id': 1207227,\n  'name': 'James Patrick Pitt',\n  'order': 16},\n {'cast_id': 37,\n  'character': 'Shuttle Co-Pilot',\n  'credit_id': '52fe48009251416c750aca6f',\n  'gender': 0,\n  'id': 1180936,\n  'name': 'Sean Patrick Murphy',\n  'order': 17},\n {'cast_id': 38,\n  'character': 'Shuttle Crew Chief',\n  'credit_id': '52fe48009251416c750aca73',\n  'gender': 2,\n  'id': 1019578,\n  'name': 'Peter Dillon',\n  'order': 18},\n {'cast_id': 39,\n  'character': 'Tractor Operator / Troupe',\n  'credit_id': '52fe48009251416c750aca77',\n  'gender': 0,\n  'id': 91443,\n  'name': 'Kevin Dorman',\n  'order': 19},\n {'cast_id': 40,\n  'character': 'Dragon Gunship Pilot',\n  'credit_id': '52fe48009251416c750aca7b',\n  'gender': 2,\n  'id': 173391,\n  'name': 'Kelson Henderson',\n  'order': 20},\n {'cast_id': 41,\n  'character': 'Dragon Gunship Gunner',\n  'credit_id': '52fe48009251416c750aca7f',\n  'gender': 0,\n  'id': 1207236,\n  'name': 'David Van Horn',\n  'order': 21},\n {'cast_id': 42,\n  'character': 'Dragon Gunship Navigator',\n  'credit_id': '52fe48009251416c750aca83',\n  'gender': 0,\n  'id': 215913,\n  'name': 'Jacob Tomuri',\n  'order': 22},\n {'cast_id': 43,\n  'character': 'Suit #1',\n  'credit_id': '52fe48009251416c750aca87',\n  'gender': 0,\n  'id': 143206,\n  'name': 'Michael Blain-Rozgay',\n  'order': 23},\n {'cast_id': 44,\n  'character': 'Suit #2',\n  'credit_id': '52fe48009251416c750aca8b',\n  'gender': 2,\n  'id': 169676,\n  'name': 'Jon Curry',\n  'order': 24},\n {'cast_id': 46,\n  'character': 'Ambient Room Tech',\n  'credit_id': '52fe48009251416c750aca8f',\n  'gender': 0,\n  'id': 1048610,\n  'name': 'Luke Hawker',\n  'order': 25},\n {'cast_id': 47,\n  'character': 'Ambient Room Tech / Troupe',\n  'credit_id': '52fe48009251416c750aca93',\n  'gender': 0,\n  'id': 42288,\n  'name': 'Woody Schultz',\n  'order': 26},\n {'cast_id': 48,\n  'character': 'Horse Clan Leader',\n  'credit_id': '52fe48009251416c750aca97',\n  'gender': 2,\n  'id': 68278,\n  'name': 'Peter Mensah',\n  'order': 27},\n {'cast_id': 49,\n  'character': 'Link Room Tech',\n  'credit_id': '52fe48009251416c750aca9b',\n  'gender': 0,\n  'id': 1207247,\n  'name': 'Sonia Yee',\n  'order': 28},\n {'cast_id': 50,\n  'character': 'Basketball Avatar / Troupe',\n  'credit_id': '52fe48009251416c750aca9f',\n  'gender': 1,\n  'id': 1207248,\n  'name': 'Jahnel Curfman',\n  'order': 29},\n {'cast_id': 51,\n  'character': 'Basketball Avatar',\n  'credit_id': '52fe48009251416c750acaa3',\n  'gender': 0,\n  'id': 89714,\n  'name': 'Ilram Choi',\n  'order': 30},\n {'cast_id': 52,\n  'character': \"Na'vi Child\",\n  'credit_id': '52fe48009251416c750acaa7',\n  'gender': 0,\n  'id': 1207249,\n  'name': 'Kyla Warren',\n  'order': 31},\n {'cast_id': 53,\n  'character': 'Troupe',\n  'credit_id': '52fe48009251416c750acaab',\n  'gender': 0,\n  'id': 1207250,\n  'name': 'Lisa Roumain',\n  'order': 32},\n {'cast_id': 54,\n  'character': 'Troupe',\n  'credit_id': '52fe48009251416c750acaaf',\n  'gender': 1,\n  'id': 83105,\n  'name': 'Debra Wilson',\n  'order': 33},\n {'cast_id': 57,\n  'character': 'Troupe',\n  'credit_id': '52fe48009251416c750acabb',\n  'gender': 0,\n  'id': 1207253,\n  'name': 'Chris Mala',\n  'order': 34},\n {'cast_id': 55,\n  'character': 'Troupe',\n  'credit_id': '52fe48009251416c750acab3',\n  'gender': 0,\n  'id': 1207251,\n  'name': 'Taylor Kibby',\n  'order': 35},\n {'cast_id': 56,\n  'character': 'Troupe',\n  'credit_id': '52fe48009251416c750acab7',\n  'gender': 0,\n  'id': 1207252,\n  'name': 'Jodie Landau',\n  'order': 36},\n {'cast_id': 58,\n  'character': 'Troupe',\n  'credit_id': '52fe48009251416c750acabf',\n  'gender': 0,\n  'id': 1207254,\n  'name': 'Julie Lamm',\n  'order': 37},\n {'cast_id': 59,\n  'character': 'Troupe',\n  'credit_id': '52fe48009251416c750acac3',\n  'gender': 0,\n  'id': 1207257,\n  'name': 'Cullen B. Madden',\n  'order': 38},\n {'cast_id': 60,\n  'character': 'Troupe',\n  'credit_id': '52fe48009251416c750acac7',\n  'gender': 0,\n  'id': 1207259,\n  'name': 'Joseph Brady Madden',\n  'order': 39},\n {'cast_id': 61,\n  'character': 'Troupe',\n  'credit_id': '52fe48009251416c750acacb',\n  'gender': 0,\n  'id': 1207262,\n  'name': 'Frankie Torres',\n  'order': 40},\n {'cast_id': 62,\n  'character': 'Troupe',\n  'credit_id': '52fe48009251416c750acacf',\n  'gender': 1,\n  'id': 1158600,\n  'name': 'Austin Wilson',\n  'order': 41},\n {'cast_id': 63,\n  'character': 'Troupe',\n  'credit_id': '52fe48019251416c750acad3',\n  'gender': 1,\n  'id': 983705,\n  'name': 'Sara Wilson',\n  'order': 42},\n {'cast_id': 64,\n  'character': 'Troupe',\n  'credit_id': '52fe48019251416c750acad7',\n  'gender': 0,\n  'id': 1207263,\n  'name': 'Tamica Washington-Miller',\n  'order': 43},\n {'cast_id': 65,\n  'character': 'Op Center Staff',\n  'credit_id': '52fe48019251416c750acadb',\n  'gender': 1,\n  'id': 1145098,\n  'name': 'Lucy Briant',\n  'order': 44},\n {'cast_id': 66,\n  'character': 'Op Center Staff',\n  'credit_id': '52fe48019251416c750acadf',\n  'gender': 2,\n  'id': 33305,\n  'name': 'Nathan Meister',\n  'order': 45},\n {'cast_id': 67,\n  'character': 'Op Center Staff',\n  'credit_id': '52fe48019251416c750acae3',\n  'gender': 0,\n  'id': 1207264,\n  'name': 'Gerry Blair',\n  'order': 46},\n {'cast_id': 68,\n  'character': 'Op Center Staff',\n  'credit_id': '52fe48019251416c750acae7',\n  'gender': 2,\n  'id': 33311,\n  'name': 'Matthew Chamberlain',\n  'order': 47},\n {'cast_id': 69,\n  'character': 'Op Center Staff',\n  'credit_id': '52fe48019251416c750acaeb',\n  'gender': 0,\n  'id': 1207265,\n  'name': 'Paul Yates',\n  'order': 48},\n {'cast_id': 70,\n  'character': 'Op Center Duty Officer',\n  'credit_id': '52fe48019251416c750acaef',\n  'gender': 0,\n  'id': 1207266,\n  'name': 'Wray Wilson',\n  'order': 49},\n {'cast_id': 71,\n  'character': 'Op Center Staff',\n  'credit_id': '52fe48019251416c750acaf3',\n  'gender': 2,\n  'id': 54492,\n  'name': 'James Gaylyn',\n  'order': 50},\n {'cast_id': 72,\n  'character': 'Dancer',\n  'credit_id': '52fe48019251416c750acaf7',\n  'gender': 0,\n  'id': 1207267,\n  'name': 'Melvin Leno Clark III',\n  'order': 51},\n {'cast_id': 73,\n  'character': 'Dancer',\n  'credit_id': '52fe48019251416c750acafb',\n  'gender': 0,\n  'id': 1207268,\n  'name': 'Carvon Futrell',\n  'order': 52},\n {'cast_id': 74,\n  'character': 'Dancer',\n  'credit_id': '52fe48019251416c750acaff',\n  'gender': 0,\n  'id': 1207269,\n  'name': 'Brandon Jelkes',\n  'order': 53},\n {'cast_id': 75,\n  'character': 'Dancer',\n  'credit_id': '52fe48019251416c750acb03',\n  'gender': 0,\n  'id': 1207270,\n  'name': 'Micah Moch',\n  'order': 54},\n {'cast_id': 76,\n  'character': 'Dancer',\n  'credit_id': '52fe48019251416c750acb07',\n  'gender': 0,\n  'id': 1207271,\n  'name': 'Hanniyah Muhammad',\n  'order': 55},\n {'cast_id': 77,\n  'character': 'Dancer',\n  'credit_id': '52fe48019251416c750acb0b',\n  'gender': 0,\n  'id': 1207272,\n  'name': 'Christopher Nolen',\n  'order': 56},\n {'cast_id': 78,\n  'character': 'Dancer',\n  'credit_id': '52fe48019251416c750acb0f',\n  'gender': 0,\n  'id': 1207273,\n  'name': 'Christa Oliver',\n  'order': 57},\n {'cast_id': 79,\n  'character': 'Dancer',\n  'credit_id': '52fe48019251416c750acb13',\n  'gender': 0,\n  'id': 1207274,\n  'name': 'April Marie Thomas',\n  'order': 58},\n {'cast_id': 80,\n  'character': 'Dancer',\n  'credit_id': '52fe48019251416c750acb17',\n  'gender': 0,\n  'id': 1207275,\n  'name': 'Bravita A. Threatt',\n  'order': 59},\n {'cast_id': 81,\n  'character': 'Mining Chief (uncredited)',\n  'credit_id': '52fe48019251416c750acb1b',\n  'gender': 0,\n  'id': 1207276,\n  'name': 'Colin Bleasdale',\n  'order': 60},\n {'cast_id': 82,\n  'character': 'Veteran Miner (uncredited)',\n  'credit_id': '52fe48019251416c750acb1f',\n  'gender': 0,\n  'id': 107969,\n  'name': 'Mike Bodnar',\n  'order': 61},\n {'cast_id': 83,\n  'character': 'Richard (uncredited)',\n  'credit_id': '52fe48019251416c750acb23',\n  'gender': 0,\n  'id': 1207278,\n  'name': 'Matt Clayton',\n  'order': 62},\n {'cast_id': 84,\n  'character': \"Nav'i (uncredited)\",\n  'credit_id': '52fe48019251416c750acb27',\n  'gender': 1,\n  'id': 147898,\n  'name': 'Nicole Dionne',\n  'order': 63},\n {'cast_id': 85,\n  'character': 'Trooper (uncredited)',\n  'credit_id': '52fe48019251416c750acb2b',\n  'gender': 0,\n  'id': 1207280,\n  'name': 'Jamie Harrison',\n  'order': 64},\n {'cast_id': 86,\n  'character': 'Trooper (uncredited)',\n  'credit_id': '52fe48019251416c750acb2f',\n  'gender': 0,\n  'id': 1207281,\n  'name': 'Allan Henry',\n  'order': 65},\n {'cast_id': 87,\n  'character': 'Ground Technician (uncredited)',\n  'credit_id': '52fe48019251416c750acb33',\n  'gender': 2,\n  'id': 1207282,\n  'name': 'Anthony Ingruber',\n  'order': 66},\n {'cast_id': 88,\n  'character': 'Flight Crew Mechanic (uncredited)',\n  'credit_id': '52fe48019251416c750acb37',\n  'gender': 0,\n  'id': 1207283,\n  'name': 'Ashley Jeffery',\n  'order': 67},\n {'cast_id': 14,\n  'character': 'Samson Pilot',\n  'credit_id': '52fe48009251416c750ac9f9',\n  'gender': 0,\n  'id': 98216,\n  'name': 'Dean Knowsley',\n  'order': 68},\n {'cast_id': 89,\n  'character': 'Trooper (uncredited)',\n  'credit_id': '52fe48019251416c750acb3b',\n  'gender': 0,\n  'id': 1201399,\n  'name': 'Joseph Mika-Hunt',\n  'order': 69},\n {'cast_id': 90,\n  'character': 'Banshee (uncredited)',\n  'credit_id': '52fe48019251416c750acb3f',\n  'gender': 0,\n  'id': 236696,\n  'name': 'Terry Notary',\n  'order': 70},\n {'cast_id': 91,\n  'character': 'Soldier (uncredited)',\n  'credit_id': '52fe48019251416c750acb43',\n  'gender': 0,\n  'id': 1207287,\n  'name': 'Kai Pantano',\n  'order': 71},\n {'cast_id': 92,\n  'character': 'Blast Technician (uncredited)',\n  'credit_id': '52fe48019251416c750acb47',\n  'gender': 0,\n  'id': 1207288,\n  'name': 'Logan Pithyou',\n  'order': 72},\n {'cast_id': 93,\n  'character': 'Vindum Raah (uncredited)',\n  'credit_id': '52fe48019251416c750acb4b',\n  'gender': 0,\n  'id': 1207289,\n  'name': 'Stuart Pollock',\n  'order': 73},\n {'cast_id': 94,\n  'character': 'Hero (uncredited)',\n  'credit_id': '52fe48019251416c750acb4f',\n  'gender': 0,\n  'id': 584868,\n  'name': 'Raja',\n  'order': 74},\n {'cast_id': 95,\n  'character': 'Ops Centreworker (uncredited)',\n  'credit_id': '52fe48019251416c750acb53',\n  'gender': 0,\n  'id': 1207290,\n  'name': 'Gareth Ruck',\n  'order': 75},\n {'cast_id': 96,\n  'character': 'Engineer (uncredited)',\n  'credit_id': '52fe48019251416c750acb57',\n  'gender': 0,\n  'id': 1062463,\n  'name': 'Rhian Sheehan',\n  'order': 76},\n {'cast_id': 97,\n  'character': \"Col. Quaritch's Mech Suit (uncredited)\",\n  'credit_id': '52fe48019251416c750acb5b',\n  'gender': 0,\n  'id': 60656,\n  'name': 'T. J. Storm',\n  'order': 77},\n {'cast_id': 98,\n  'character': 'Female Marine (uncredited)',\n  'credit_id': '52fe48019251416c750acb5f',\n  'gender': 0,\n  'id': 1207291,\n  'name': 'Jodie Taylor',\n  'order': 78},\n {'cast_id': 99,\n  'character': 'Ikran Clan Leader (uncredited)',\n  'credit_id': '52fe48019251416c750acb63',\n  'gender': 1,\n  'id': 1186027,\n  'name': 'Alicia Vela-Bailey',\n  'order': 79},\n {'cast_id': 100,\n  'character': 'Geologist (uncredited)',\n  'credit_id': '52fe48019251416c750acb67',\n  'gender': 0,\n  'id': 1207292,\n  'name': 'Richard Whiteside',\n  'order': 80},\n {'cast_id': 101,\n  'character': \"Na'vi (uncredited)\",\n  'credit_id': '52fe48019251416c750acb6b',\n  'gender': 0,\n  'id': 103259,\n  'name': 'Nikie Zambo',\n  'order': 81},\n {'cast_id': 102,\n  'character': 'Ambient Room Tech / Troupe',\n  'credit_id': '52fe48019251416c750acb6f',\n  'gender': 1,\n  'id': 42286,\n  'name': 'Julene Renee',\n  'order': 82})"
     },
     "execution_count": 182,
     "metadata": {},
     "output_type": "execute_result"
    }
   ],
   "source": [
    "characters = characters[0]\n",
    "cha_list = ast.literal_eval(characters[1:-1])\n",
    "cha_list"
   ],
   "metadata": {
    "collapsed": false,
    "pycharm": {
     "name": "#%%\n"
    }
   }
  },
  {
   "cell_type": "code",
   "execution_count": 198,
   "outputs": [],
   "source": [
    "# 今回使う説明変数を決める\n",
    "x_col = [\"genres\",\"original_language\",\"production_companies\",\"release_date\",\"runtime\",\"spoken_languages\"]\n",
    "y_col = [\"vote_average\"]\n",
    "df = pd.concat([df,df2],axis=1)\n",
    "df_x = df[x_col]\n",
    "df_y = df[y_col]"
   ],
   "metadata": {
    "collapsed": false,
    "pycharm": {
     "name": "#%%\n"
    }
   }
  },
  {
   "cell_type": "code",
   "execution_count": 201,
   "outputs": [
    {
     "data": {
      "text/plain": "                                              genres original_language  \\\n0  [{\"id\": 28, \"name\": \"Action\"}, {\"id\": 12, \"nam...                en   \n1  [{\"id\": 12, \"name\": \"Adventure\"}, {\"id\": 14, \"...                en   \n2  [{\"id\": 28, \"name\": \"Action\"}, {\"id\": 12, \"nam...                en   \n3  [{\"id\": 28, \"name\": \"Action\"}, {\"id\": 80, \"nam...                en   \n4  [{\"id\": 28, \"name\": \"Action\"}, {\"id\": 12, \"nam...                en   \n\n                                production_companies release_date  runtime  \\\n0  [{\"name\": \"Ingenious Film Partners\", \"id\": 289...   2009-12-10    162.0   \n1  [{\"name\": \"Walt Disney Pictures\", \"id\": 2}, {\"...   2007-05-19    169.0   \n2  [{\"name\": \"Columbia Pictures\", \"id\": 5}, {\"nam...   2015-10-26    148.0   \n3  [{\"name\": \"Legendary Pictures\", \"id\": 923}, {\"...   2012-07-16    165.0   \n4        [{\"name\": \"Walt Disney Pictures\", \"id\": 2}]   2012-03-07    132.0   \n\n                                    spoken_languages  \n0  [{\"iso_639_1\": \"en\", \"name\": \"English\"}, {\"iso...  \n1           [{\"iso_639_1\": \"en\", \"name\": \"English\"}]  \n2  [{\"iso_639_1\": \"fr\", \"name\": \"Fran\\u00e7ais\"},...  \n3           [{\"iso_639_1\": \"en\", \"name\": \"English\"}]  \n4           [{\"iso_639_1\": \"en\", \"name\": \"English\"}]  ",
      "text/html": "<div>\n<style scoped>\n    .dataframe tbody tr th:only-of-type {\n        vertical-align: middle;\n    }\n\n    .dataframe tbody tr th {\n        vertical-align: top;\n    }\n\n    .dataframe thead th {\n        text-align: right;\n    }\n</style>\n<table border=\"1\" class=\"dataframe\">\n  <thead>\n    <tr style=\"text-align: right;\">\n      <th></th>\n      <th>genres</th>\n      <th>original_language</th>\n      <th>production_companies</th>\n      <th>release_date</th>\n      <th>runtime</th>\n      <th>spoken_languages</th>\n    </tr>\n  </thead>\n  <tbody>\n    <tr>\n      <th>0</th>\n      <td>[{\"id\": 28, \"name\": \"Action\"}, {\"id\": 12, \"nam...</td>\n      <td>en</td>\n      <td>[{\"name\": \"Ingenious Film Partners\", \"id\": 289...</td>\n      <td>2009-12-10</td>\n      <td>162.0</td>\n      <td>[{\"iso_639_1\": \"en\", \"name\": \"English\"}, {\"iso...</td>\n    </tr>\n    <tr>\n      <th>1</th>\n      <td>[{\"id\": 12, \"name\": \"Adventure\"}, {\"id\": 14, \"...</td>\n      <td>en</td>\n      <td>[{\"name\": \"Walt Disney Pictures\", \"id\": 2}, {\"...</td>\n      <td>2007-05-19</td>\n      <td>169.0</td>\n      <td>[{\"iso_639_1\": \"en\", \"name\": \"English\"}]</td>\n    </tr>\n    <tr>\n      <th>2</th>\n      <td>[{\"id\": 28, \"name\": \"Action\"}, {\"id\": 12, \"nam...</td>\n      <td>en</td>\n      <td>[{\"name\": \"Columbia Pictures\", \"id\": 5}, {\"nam...</td>\n      <td>2015-10-26</td>\n      <td>148.0</td>\n      <td>[{\"iso_639_1\": \"fr\", \"name\": \"Fran\\u00e7ais\"},...</td>\n    </tr>\n    <tr>\n      <th>3</th>\n      <td>[{\"id\": 28, \"name\": \"Action\"}, {\"id\": 80, \"nam...</td>\n      <td>en</td>\n      <td>[{\"name\": \"Legendary Pictures\", \"id\": 923}, {\"...</td>\n      <td>2012-07-16</td>\n      <td>165.0</td>\n      <td>[{\"iso_639_1\": \"en\", \"name\": \"English\"}]</td>\n    </tr>\n    <tr>\n      <th>4</th>\n      <td>[{\"id\": 28, \"name\": \"Action\"}, {\"id\": 12, \"nam...</td>\n      <td>en</td>\n      <td>[{\"name\": \"Walt Disney Pictures\", \"id\": 2}]</td>\n      <td>2012-03-07</td>\n      <td>132.0</td>\n      <td>[{\"iso_639_1\": \"en\", \"name\": \"English\"}]</td>\n    </tr>\n  </tbody>\n</table>\n</div>"
     },
     "execution_count": 201,
     "metadata": {},
     "output_type": "execute_result"
    }
   ],
   "source": [
    "df_x.head()"
   ],
   "metadata": {
    "collapsed": false,
    "pycharm": {
     "name": "#%%\n"
    }
   }
  },
  {
   "cell_type": "code",
   "execution_count": 162,
   "outputs": [],
   "source": [
    "#ではここから全てをfloat型に変えていく\n",
    "genres = df_x[\"genres\"]\n",
    "# とりあえず種類が欲しいので種類を確認\n",
    "# まずは辞書を作成\n",
    "movie_genre_dict = dict()\n",
    "movie_genre_list = list()\n",
    "\n",
    "for movie_genre in genres:\n",
    "    if movie_genre == \"[]\":\n",
    "        movie_genre_list.append(\"\")\n",
    "    else:\n",
    "        per_genre_list = ast.literal_eval(movie_genre[1:-1])\n",
    "        genre_list = []\n",
    "        for per_genre in per_genre_list:\n",
    "            if type(per_genre) == dict:\n",
    "                movie_id = per_genre[\"id\"]\n",
    "                movie_name = per_genre[\"name\"]\n",
    "                movie_genre_dict[movie_id] = movie_name\n",
    "                genre_list.append(movie_name)\n",
    "            else:\n",
    "                movie_id = per_genre_list[\"id\"]\n",
    "                movie_name = per_genre_list[\"name\"]\n",
    "                movie_genre_dict[movie_id] = movie_name\n",
    "                genre_list.append(movie_name)\n",
    "                break\n",
    "        movie_genre_list.append(genre_list)\n",
    "        genre_list = []"
   ],
   "metadata": {
    "collapsed": false,
    "pycharm": {
     "name": "#%%\n"
    }
   }
  },
  {
   "cell_type": "code",
   "execution_count": 163,
   "outputs": [
    {
     "name": "stdout",
     "output_type": "stream",
     "text": [
      "4803\n",
      "4803\n"
     ]
    }
   ],
   "source": [
    "print(len(genres))\n",
    "print(len(movie_genre_list))"
   ],
   "metadata": {
    "collapsed": false,
    "pycharm": {
     "name": "#%%\n"
    }
   }
  },
  {
   "cell_type": "code",
   "execution_count": 164,
   "outputs": [],
   "source": [
    "# 俳優の種類の確認\n",
    "actor_dict = dict()\n",
    "actor_list = list()\n",
    "for character in characters:\n",
    "    self_characters = ast.literal_eval(character[1:-1])\n",
    "    for self_character in self_characters:\n",
    "        actor_name = self_character[\"\"]\n",
    "\n"
   ],
   "metadata": {
    "collapsed": false,
    "pycharm": {
     "name": "#%%\n"
    }
   }
  },
  {
   "cell_type": "code",
   "execution_count": 165,
   "outputs": [],
   "source": [
    "# 20種類のジャンルがあることがわかった\n",
    "# ここからワンホットエンコーディングを行う"
   ],
   "metadata": {
    "collapsed": false,
    "pycharm": {
     "name": "#%%\n"
    }
   }
  },
  {
   "cell_type": "code",
   "execution_count": 166,
   "outputs": [],
   "source": [
    "genres_list = [\"Action\",\"Adventure\",\"Fantasy\",\"Science Fiction\",\"Crime\",\"Drama\",\"Thriller\",\"Animation\",\"Family\",\"Western\",\"Comedy\",\"Romance\",\"Horror\",\"Mystery\",\"History\",\"War\",\"Music\",\"Documentary\",\"Foreign\",\"TV Movie\"]"
   ],
   "metadata": {
    "collapsed": false,
    "pycharm": {
     "name": "#%%\n"
    }
   }
  },
  {
   "cell_type": "code",
   "execution_count": 167,
   "outputs": [
    {
     "data": {
      "text/plain": "   Action  Adventure  Fantasy  Science Fiction  Crime  Drama  Thriller  \\\n0       0          0        0                0      0      0         0   \n1       0          0        0                0      0      0         0   \n2       0          0        0                0      0      0         0   \n3       0          0        0                0      0      0         0   \n4       0          0        0                0      0      0         0   \n\n   Animation  Family  Western  Comedy  Romance  Horror  Mystery  History  War  \\\n0          0       0        0       0        0       0        0        0    0   \n1          0       0        0       0        0       0        0        0    0   \n2          0       0        0       0        0       0        0        0    0   \n3          0       0        0       0        0       0        0        0    0   \n4          0       0        0       0        0       0        0        0    0   \n\n   Music  Documentary  Foreign  TV Movie  \n0      0            0        0         0  \n1      0            0        0         0  \n2      0            0        0         0  \n3      0            0        0         0  \n4      0            0        0         0  ",
      "text/html": "<div>\n<style scoped>\n    .dataframe tbody tr th:only-of-type {\n        vertical-align: middle;\n    }\n\n    .dataframe tbody tr th {\n        vertical-align: top;\n    }\n\n    .dataframe thead th {\n        text-align: right;\n    }\n</style>\n<table border=\"1\" class=\"dataframe\">\n  <thead>\n    <tr style=\"text-align: right;\">\n      <th></th>\n      <th>Action</th>\n      <th>Adventure</th>\n      <th>Fantasy</th>\n      <th>Science Fiction</th>\n      <th>Crime</th>\n      <th>Drama</th>\n      <th>Thriller</th>\n      <th>Animation</th>\n      <th>Family</th>\n      <th>Western</th>\n      <th>Comedy</th>\n      <th>Romance</th>\n      <th>Horror</th>\n      <th>Mystery</th>\n      <th>History</th>\n      <th>War</th>\n      <th>Music</th>\n      <th>Documentary</th>\n      <th>Foreign</th>\n      <th>TV Movie</th>\n    </tr>\n  </thead>\n  <tbody>\n    <tr>\n      <th>0</th>\n      <td>0</td>\n      <td>0</td>\n      <td>0</td>\n      <td>0</td>\n      <td>0</td>\n      <td>0</td>\n      <td>0</td>\n      <td>0</td>\n      <td>0</td>\n      <td>0</td>\n      <td>0</td>\n      <td>0</td>\n      <td>0</td>\n      <td>0</td>\n      <td>0</td>\n      <td>0</td>\n      <td>0</td>\n      <td>0</td>\n      <td>0</td>\n      <td>0</td>\n    </tr>\n    <tr>\n      <th>1</th>\n      <td>0</td>\n      <td>0</td>\n      <td>0</td>\n      <td>0</td>\n      <td>0</td>\n      <td>0</td>\n      <td>0</td>\n      <td>0</td>\n      <td>0</td>\n      <td>0</td>\n      <td>0</td>\n      <td>0</td>\n      <td>0</td>\n      <td>0</td>\n      <td>0</td>\n      <td>0</td>\n      <td>0</td>\n      <td>0</td>\n      <td>0</td>\n      <td>0</td>\n    </tr>\n    <tr>\n      <th>2</th>\n      <td>0</td>\n      <td>0</td>\n      <td>0</td>\n      <td>0</td>\n      <td>0</td>\n      <td>0</td>\n      <td>0</td>\n      <td>0</td>\n      <td>0</td>\n      <td>0</td>\n      <td>0</td>\n      <td>0</td>\n      <td>0</td>\n      <td>0</td>\n      <td>0</td>\n      <td>0</td>\n      <td>0</td>\n      <td>0</td>\n      <td>0</td>\n      <td>0</td>\n    </tr>\n    <tr>\n      <th>3</th>\n      <td>0</td>\n      <td>0</td>\n      <td>0</td>\n      <td>0</td>\n      <td>0</td>\n      <td>0</td>\n      <td>0</td>\n      <td>0</td>\n      <td>0</td>\n      <td>0</td>\n      <td>0</td>\n      <td>0</td>\n      <td>0</td>\n      <td>0</td>\n      <td>0</td>\n      <td>0</td>\n      <td>0</td>\n      <td>0</td>\n      <td>0</td>\n      <td>0</td>\n    </tr>\n    <tr>\n      <th>4</th>\n      <td>0</td>\n      <td>0</td>\n      <td>0</td>\n      <td>0</td>\n      <td>0</td>\n      <td>0</td>\n      <td>0</td>\n      <td>0</td>\n      <td>0</td>\n      <td>0</td>\n      <td>0</td>\n      <td>0</td>\n      <td>0</td>\n      <td>0</td>\n      <td>0</td>\n      <td>0</td>\n      <td>0</td>\n      <td>0</td>\n      <td>0</td>\n      <td>0</td>\n    </tr>\n  </tbody>\n</table>\n</div>"
     },
     "execution_count": 167,
     "metadata": {},
     "output_type": "execute_result"
    }
   ],
   "source": [
    "a = [0]*4803*20\n",
    "df = pd.DataFrame(np.array(a).reshape(4803, 20),\n",
    "                  columns=genres_list)\n",
    "df.head()"
   ],
   "metadata": {
    "collapsed": false,
    "pycharm": {
     "name": "#%%\n"
    }
   }
  },
  {
   "cell_type": "code",
   "execution_count": 168,
   "outputs": [
    {
     "data": {
      "text/plain": "[['Action', 'Adventure', 'Fantasy', 'Science Fiction'],\n ['Adventure', 'Fantasy', 'Action'],\n ['Action', 'Adventure', 'Crime'],\n ['Action', 'Crime', 'Drama', 'Thriller'],\n ['Action', 'Adventure', 'Science Fiction'],\n ['Fantasy', 'Action', 'Adventure'],\n ['Animation', 'Family'],\n ['Action', 'Adventure', 'Science Fiction'],\n ['Adventure', 'Fantasy', 'Family'],\n ['Action', 'Adventure', 'Fantasy'],\n ['Adventure', 'Fantasy', 'Action', 'Science Fiction'],\n ['Adventure', 'Action', 'Thriller', 'Crime'],\n ['Adventure', 'Fantasy', 'Action'],\n ['Action', 'Adventure', 'Western'],\n ['Action', 'Adventure', 'Fantasy', 'Science Fiction'],\n ['Adventure', 'Family', 'Fantasy'],\n ['Science Fiction', 'Action', 'Adventure'],\n ['Adventure', 'Action', 'Fantasy'],\n ['Action', 'Comedy', 'Science Fiction'],\n ['Action', 'Adventure', 'Fantasy'],\n ['Action', 'Adventure', 'Fantasy'],\n ['Action', 'Adventure'],\n ['Adventure', 'Fantasy'],\n ['Adventure', 'Fantasy'],\n ['Adventure', 'Drama', 'Action'],\n ['Drama', 'Romance', 'Thriller'],\n ['Adventure', 'Action', 'Science Fiction'],\n ['Thriller', 'Action', 'Adventure', 'Science Fiction'],\n ['Action', 'Adventure', 'Science Fiction', 'Thriller'],\n ['Action', 'Adventure', 'Thriller'],\n ['Action', 'Adventure', 'Fantasy'],\n ['Action', 'Adventure', 'Science Fiction'],\n ['Family', 'Fantasy', 'Adventure'],\n ['Adventure', 'Action', 'Science Fiction', 'Thriller'],\n ['Animation', 'Family'],\n ['Science Fiction', 'Action', 'Adventure'],\n ['Science Fiction', 'Action', 'Adventure'],\n ['Fantasy', 'Adventure', 'Family'],\n ['Action', 'Adventure', 'Fantasy'],\n ['Adventure', 'Action', 'Science Fiction'],\n ['Animation', 'Family', 'Adventure', 'Comedy'],\n ['Adventure', 'Action', 'Thriller', 'Science Fiction'],\n ['Animation', 'Family', 'Comedy'],\n ['Action', 'Science Fiction', 'Thriller'],\n ['Action'],\n ['Action', 'Drama', 'Horror', 'Science Fiction', 'Thriller'],\n ['Action', 'Adventure', 'Fantasy', 'Science Fiction'],\n ['Action', 'Adventure', 'Science Fiction'],\n ['Action', 'Family', 'Fantasy'],\n ['Drama', 'Romance'],\n ['Adventure', 'Fantasy', 'Action', 'Romance'],\n ['Action', 'Science Fiction', 'Adventure'],\n ['Action', 'Science Fiction', 'Adventure'],\n ['Adventure', 'Action'],\n ['Adventure', 'Animation', 'Family'],\n ['Animation', 'Adventure', 'Comedy', 'Family', 'Action', 'Fantasy'],\n ['Action', 'Adventure', 'Science Fiction'],\n ['Animation', 'Family'],\n ['Action', 'Comedy', 'Crime', 'Thriller'],\n ['Action', 'Adventure', 'Science Fiction'],\n ['Animation', 'Drama'],\n ['Science Fiction', 'Fantasy', 'Action', 'Adventure'],\n ['Action', 'Adventure'],\n ['Adventure', 'Family', 'Fantasy'],\n ['Science Fiction'],\n ['Drama', 'Action', 'Crime', 'Thriller'],\n ['Animation', 'Comedy', 'Family', 'Adventure'],\n ['Animation', 'Family', 'Adventure', 'Science Fiction'],\n ['Action', 'Science Fiction', 'Adventure'],\n ['Adventure', 'Drama', 'Family'],\n ['Action', 'Adventure', 'Comedy', 'Science Fiction', 'Western'],\n ['Adventure', 'Action', 'Fantasy'],\n ['Action', 'Adventure', 'Crime', 'Fantasy', 'Science Fiction'],\n ['Fantasy', 'Comedy', 'Family'],\n ['Action', 'Science Fiction'],\n ['Adventure', 'Action'],\n ['Adventure', 'Action', 'Thriller', 'Science Fiction'],\n ['Drama', 'Comedy', 'Animation', 'Family'],\n ['Family', 'Adventure', 'Drama', 'Fantasy'],\n ['Adventure', 'Action', 'Science Fiction'],\n ['Adventure', 'Fantasy', 'Drama'],\n ['Fantasy', 'Adventure', 'Action', 'Family', 'Romance'],\n ['Science Fiction', 'Action', 'Drama', 'Thriller'],\n ['Action', 'Adventure', 'Science Fiction', 'Romance'],\n ['Drama', 'Action', 'Adventure', 'Fantasy'],\n ['Action', 'Adventure', 'Science Fiction'],\n ['Comedy', 'Adventure', 'Fantasy', 'Animation', 'Family'],\n ['Adventure', 'Family', 'Mystery', 'Science Fiction'],\n ['Adventure', 'Family', 'Animation', 'Action', 'Comedy'],\n ['Family', 'Animation', 'Comedy', 'Adventure'],\n ['Adventure', 'Animation', 'Family', 'Fantasy'],\n ['Action', 'Adventure', 'Science Fiction'],\n ['Fantasy', 'Adventure', 'Animation', 'Family'],\n ['Action', 'Thriller', 'Science Fiction'],\n ['Action', 'Science Fiction', 'Adventure'],\n ['Adventure', 'Drama', 'Science Fiction'],\n ['Action', 'Thriller', 'Science Fiction', 'Mystery', 'Adventure'],\n ['Action', 'Adventure', 'Drama', 'Horror', 'Science Fiction'],\n ['Adventure', 'Fantasy', 'Action'],\n ['Action', 'Crime', 'Thriller'],\n ['Fantasy', 'Drama', 'Thriller', 'Mystery', 'Romance'],\n ['Action', 'Science Fiction', 'Adventure'],\n ['Action', 'Adventure', 'Science Fiction'],\n ['Fantasy', 'Adventure', 'Action', 'Comedy', 'Drama'],\n ['Adventure', 'Action', 'Drama', 'Thriller'],\n ['Fantasy'],\n ['Fantasy', 'Adventure', 'Animation', 'Comedy', 'Family'],\n ['Action', 'Adventure', 'Fantasy'],\n ['Science Fiction', 'Action', 'Thriller', 'Adventure'],\n ['Adventure', 'Family', 'Fantasy'],\n ['History', 'Romance', 'War'],\n ['Adventure', 'Science Fiction', 'Action'],\n ['War', 'History', 'Action', 'Adventure', 'Drama', 'Romance'],\n ['Adventure', 'Fantasy', 'Family', 'Mystery'],\n ['Adventure', 'Fantasy', 'Family'],\n ['Fantasy', 'Action'],\n ['Drama', 'Horror', 'Action', 'Thriller', 'Science Fiction'],\n ['Adventure', 'Comedy', 'Family', 'Fantasy'],\n ['Animation', 'Comedy', 'Family', 'Fantasy'],\n ['Action', 'Crime', 'Drama'],\n ['Family', 'Animation'],\n ['Adventure', 'Fantasy', 'Action', 'Comedy', 'Family'],\n ['Adventure', 'Action', 'Thriller', 'Science Fiction'],\n ['Adventure', 'Action', 'Thriller', 'Science Fiction'],\n ['Animation', 'Adventure', 'Family'],\n ['Adventure', 'Action', 'Thriller', 'Science Fiction'],\n ['Action', 'Adventure', 'Fantasy'],\n ['Action', 'Adventure', 'Science Fiction', 'Thriller'],\n ['Thriller', 'Mystery'],\n ['Adventure', 'Fantasy', 'Action'],\n ['Animation', 'Family', 'Adventure', 'Comedy'],\n ['Fantasy', 'Action', 'Adventure', 'Family', 'Comedy'],\n ['Adventure'],\n ['Comedy', 'Fantasy'],\n ['Action', 'Adventure', 'Thriller'],\n ['Drama', 'Horror', 'Thriller'],\n ['Family', 'Animation', 'Adventure', 'Comedy'],\n ['Animation', 'Family'],\n ['Action', 'Adventure', 'Family', 'Fantasy'],\n ['Adventure', 'Action', 'Thriller'],\n ['Action', 'Drama', 'Thriller'],\n ['Adventure', 'Animation', 'Family'],\n ['Adventure', 'Animation', 'Comedy', 'Family'],\n ['Adventure', 'Family', 'Fantasy'],\n ['Animation', 'Adventure', 'Family'],\n ['Adventure', 'Drama', 'War'],\n ['Animation', 'Family'],\n ['Adventure', 'Action', 'Thriller'],\n ['Action', 'Fantasy', 'Comedy'],\n ['Action', 'Thriller', 'Science Fiction', 'Adventure'],\n ['Action', 'Adventure', 'Comedy', 'Science Fiction'],\n ['Adventure', 'Action', 'Animation'],\n ['Action', 'Adventure', 'Animation', 'Comedy', 'Family'],\n ['Action', 'Thriller', 'Adventure'],\n ['Fantasy', 'Animation', 'Family'],\n ['Comedy'],\n ['Drama', 'Action', 'War', 'History'],\n ['Adventure', 'Drama', 'Action'],\n ['Science Fiction', 'Action', 'Adventure'],\n ['Fantasy', 'Action'],\n ['Fantasy', 'Action', 'Adventure', 'Animation', 'Comedy', 'Family'],\n ['Fantasy'],\n ['Action'],\n ['Action', 'Mystery', 'Science Fiction'],\n ['Action', 'Adventure', 'Comedy', 'Crime', 'Thriller'],\n ['Drama', 'Action', 'Science Fiction'],\n ['Adventure', 'Action', 'Science Fiction', 'Thriller'],\n ['Action', 'Adventure', 'Comedy', 'Drama', 'Mystery'],\n ['Adventure',\n  'Action',\n  'Animation',\n  'Fantasy',\n  'Science Fiction',\n  'Thriller'],\n ['Action', 'Adventure', 'Science Fiction'],\n ['Adventure', 'Action', 'Thriller'],\n ['Adventure'],\n ['Adventure', 'Fantasy', 'Drama', 'Romance'],\n ['Animation', 'Comedy', 'Family'],\n ['Science Fiction', 'Action', 'Adventure'],\n ['Adventure', 'Family', 'Fantasy'],\n ['Western', 'Drama', 'Adventure', 'Thriller'],\n ['Animation', 'Family'],\n ['Animation', 'Comedy', 'Family', 'Western', 'Adventure'],\n ['Family', 'Animation', 'Adventure', 'Comedy'],\n ['Action', 'Drama', 'Mystery', 'Thriller'],\n ['Adventure', 'Animation', 'Family', 'Comedy'],\n ['Science Fiction', 'Action', 'Adventure'],\n ['Adventure', 'Action', 'Science Fiction'],\n ['Fantasy', 'Comedy', 'Animation', 'Science Fiction', 'Family'],\n ['Adventure', 'Thriller', 'Science Fiction'],\n ['Adventure', 'Action', 'Comedy', 'Thriller', 'Crime'],\n ['Action', 'Adventure', 'Animation', 'Family', 'Fantasy'],\n ['Action', 'Mystery', 'Thriller'],\n ['Drama', 'Adventure'],\n ['Adventure', 'Animation', 'Mystery'],\n ['Adventure', 'Fantasy', 'Family'],\n ['Drama'],\n ['Science Fiction', 'Action', 'Adventure'],\n ['Animation', 'Family'],\n ['Adventure', 'Comedy', 'Fantasy', 'Family'],\n ['Animation', 'Action', 'Comedy', 'Family', 'Science Fiction'],\n ['Adventure', 'Fantasy', 'Family'],\n ['Fantasy', 'Action', 'Comedy', 'Crime'],\n ['Adventure', 'Fantasy', 'Action'],\n ['Science Fiction', 'Adventure', 'Thriller'],\n ['Thriller', 'Mystery'],\n ['Animation', 'Adventure', 'Comedy', 'Family'],\n ['Adventure', 'Action', 'Science Fiction', 'Thriller'],\n ['Action', 'Thriller', 'Crime'],\n ['Adventure', 'Action', 'Crime', 'Mystery'],\n ['Adventure', 'Fantasy', 'Action'],\n ['Action', 'Adventure', 'Science Fiction'],\n ['Adventure', 'Fantasy', 'Action'],\n ['Action', 'Thriller'],\n ['Action', 'Crime', 'Fantasy'],\n ['Family', 'Comedy', 'Fantasy'],\n ['Action', 'Adventure', 'Science Fiction', 'Thriller'],\n ['Adventure', 'Action', 'Thriller'],\n ['Drama'],\n ['Adventure', 'Fantasy', 'Action', 'Thriller'],\n ['Adventure', 'Drama', 'Action'],\n ['Thriller', 'Action', 'Fantasy', 'Horror'],\n ['Action', 'Thriller'],\n ['Action', 'Adventure', 'Comedy'],\n ['Science Fiction', 'Adventure', 'Mystery'],\n ['Family', 'Adventure', 'Animation', 'Comedy'],\n ['Science Fiction', 'Action', 'Drama', 'Thriller'],\n ['Action', 'Science Fiction'],\n ['Action', 'Science Fiction'],\n ['Action', 'Family', 'Science Fiction'],\n ['Comedy', 'Drama', 'Romance'],\n ['Action', 'Comedy'],\n ['Action', 'Science Fiction', 'Adventure', 'Mystery'],\n ['Science Fiction', 'Adventure', 'Action'],\n ['Adventure', 'Action', 'Science Fiction'],\n ['Animation', 'Comedy', 'Family'],\n ['Action', 'Science Fiction', 'Adventure', 'Fantasy'],\n ['Adventure', 'Action', 'Science Fiction'],\n ['Adventure', 'Animation', 'Comedy', 'Family', 'Fantasy'],\n ['Fantasy', 'Adventure', 'Comedy', 'Family'],\n ['Drama', 'Action', 'History', 'War'],\n ['Action', 'Adventure', 'Drama'],\n ['Science Fiction', 'Action', 'Adventure', 'Fantasy', 'Comedy'],\n ['Science Fiction', 'Thriller', 'Drama'],\n ['Action', 'Adventure', 'Thriller'],\n ['Fantasy', 'Action', 'Adventure', 'Comedy'],\n ['Action', 'Adventure', 'Science Fiction'],\n ['Action', 'Adventure', 'Comedy', 'Family', 'Fantasy'],\n ['Action', 'Drama', 'Thriller'],\n ['Adventure', 'Action', 'Thriller'],\n ['Drama', 'History', 'War', 'Action'],\n ['Thriller', 'Crime'],\n ['Action', 'Comedy', 'Drama', 'Thriller'],\n ['Adventure', 'Science Fiction', 'Thriller'],\n ['Drama'],\n ['Comedy'],\n ['Action', 'Crime', 'Comedy'],\n ['Action', 'War'],\n ['Animation', 'Family', 'Adventure', 'Comedy', 'Fantasy'],\n ['Animation', 'Family'],\n ['Adventure', 'Science Fiction'],\n ['Action', 'Science Fiction', 'Drama'],\n ['Fantasy', 'Family', 'Comedy', 'Animation'],\n ['Action', 'Adventure', 'Thriller'],\n ['Science Fiction', 'Action', 'Adventure'],\n ['Action', 'Thriller'],\n ['Adventure', 'Fantasy', 'Action'],\n ['Action', 'Adventure', 'Comedy'],\n ['Drama'],\n ['Comedy', 'Fantasy', 'Family'],\n ['Action', 'Science Fiction'],\n ['Drama', 'Action', 'Adventure', 'History', 'War'],\n ['Animation', 'Fantasy', 'Family', 'Comedy'],\n ['Romance', 'Family', 'Animation', 'Music'],\n ['Drama', 'Adventure', 'Science Fiction'],\n ['Action', 'Thriller', 'Science Fiction', 'Adventure'],\n ['Comedy', 'Romance'],\n ['Action', 'Crime', 'Thriller'],\n ['Action', 'Drama', 'Adventure'],\n ['Action', 'Thriller', 'Science Fiction', 'Mystery'],\n ['Adventure', 'Fantasy', 'Family'],\n ['Adventure', 'Action', 'Thriller'],\n ['Thriller', 'Science Fiction', 'Action', 'Adventure'],\n ['Action', 'Thriller', 'Science Fiction'],\n ['History', 'Crime', 'Drama'],\n ['Drama', 'Crime'],\n ['Action', 'Thriller'],\n ['Thriller', 'Drama', 'Crime'],\n ['Comedy', 'Romance'],\n ['Action', 'Comedy', 'Crime'],\n ['Action', 'Drama', 'Mystery', 'Thriller'],\n ['Drama', 'Western'],\n ['Drama', 'Animation', 'Family'],\n ['Adventure', 'Animation', 'Comedy', 'Family', 'Fantasy'],\n ['Action', 'Adventure', 'Thriller'],\n ['Adventure', 'Action', 'Thriller', 'Mystery'],\n ['Fantasy', 'Action', 'Adventure', 'Family'],\n ['Family', 'Fantasy'],\n ['Animation', 'Adventure', 'Family', 'Fantasy'],\n ['Action', 'Thriller', 'Romance'],\n ['Action', 'Fantasy', 'Horror', 'Mystery'],\n ['Drama', 'Thriller', 'Action'],\n ['Crime', 'Drama', 'Comedy'],\n ['Action', 'Crime', 'Fantasy'],\n ['Adventure', 'Action', 'Thriller', 'Science Fiction'],\n ['Drama', 'Science Fiction'],\n ['Animation', 'Adventure', 'Family', 'Fantasy'],\n ['Action', 'Crime'],\n ['Action', 'Adventure'],\n ['Adventure', 'Animation', 'Family', 'Fantasy', 'Science Fiction'],\n ['Adventure', 'Comedy', 'Science Fiction'],\n ['Action', 'Adventure', 'Thriller'],\n ['Action', 'Crime', 'Thriller'],\n ['Fantasy', 'Comedy', 'Family', 'Adventure'],\n ['Thriller', 'Drama', 'Adventure', 'Action', 'History'],\n ['Action', 'Comedy', 'Science Fiction'],\n ['War', 'Action', 'Adventure', 'Drama', 'Thriller'],\n ['Animation'],\n ['Crime', 'Drama', 'Mystery', 'Thriller'],\n ['Adventure', 'Action', 'Fantasy'],\n ['Drama', 'History', 'Crime'],\n ['Drama', 'History', 'War'],\n ['Animation', 'Comedy', 'Family'],\n ['Action', 'Comedy', 'Science Fiction'],\n ['Action', 'History', 'War'],\n ['Comedy'],\n ['Adventure', 'Fantasy', 'Action', 'Thriller', 'Science Fiction'],\n ['Comedy', 'Drama', 'Romance'],\n ['Adventure', 'Animation', 'Comedy', 'Family'],\n ['Animation', 'Comedy', 'Adventure', 'Family'],\n ['Romance', 'Fantasy', 'Family', 'Drama'],\n ['Fantasy', 'Drama'],\n ['Animation', 'Family'],\n ['Adventure', 'Fantasy', 'Action'],\n ['Adventure', 'Fantasy', 'Action'],\n ['Adventure', 'Fantasy'],\n ['Adventure', 'Fantasy', 'Action', 'Thriller'],\n ['Thriller', 'Science Fiction', 'Drama', 'Mystery'],\n ['Adventure', 'Action', 'Thriller', 'Science Fiction'],\n ['Thriller', 'Action', 'Drama', 'Science Fiction'],\n ['Adventure', 'Family', 'Fantasy'],\n ['Action', 'Thriller'],\n ['Western', 'History', 'War'],\n ['Action', 'Adventure', 'Animation', 'Family'],\n ['Action', 'Adventure'],\n ['Adventure', 'Fantasy', 'Family'],\n ['Action', 'Adventure', 'Comedy', 'Science Fiction'],\n ['Animation', 'Comedy', 'Family'],\n ['Action', 'Thriller'],\n ['Action', 'Comedy', 'Crime', 'Thriller'],\n ['Drama', 'Horror', 'Mystery', 'Thriller'],\n ['Animation', 'Comedy', 'Family'],\n ['Animation', 'Comedy', 'Family', 'Adventure'],\n ['Adventure', 'Comedy', 'Drama', 'Fantasy'],\n ['Action', 'Adventure', 'Comedy', 'Crime', 'Thriller'],\n ['Drama', 'Thriller', 'Crime'],\n ['Animation', 'Family', 'Adventure'],\n ['Action', 'Comedy'],\n ['Thriller', 'Crime', 'Mystery', 'Drama'],\n ['Action', 'Thriller'],\n ['Action', 'Adventure', 'Crime', 'Mystery'],\n ['Drama'],\n ['Animation', 'Family', 'Adventure', 'Science Fiction'],\n ['Adventure', 'Animation', 'Comedy', 'Family'],\n ['Drama', 'Thriller', 'History', 'War'],\n ['Comedy', 'Action'],\n ['Action', 'Comedy', 'Science Fiction'],\n ['Drama', 'Science Fiction', 'Adventure'],\n ['Thriller', 'Fantasy', 'Comedy', 'Family', 'Mystery'],\n ['Drama', 'Science Fiction', 'Mystery'],\n ['Action', 'Science Fiction', 'Thriller'],\n ['Crime', 'Thriller'],\n ['Adventure', 'Family', 'Fantasy'],\n ['Action', 'Adventure', 'Fantasy', 'Thriller'],\n ['Action', 'Adventure', 'Comedy', 'Crime', 'Mystery', 'Thriller'],\n ['Thriller', 'Action', 'Romance', 'Science Fiction', 'Adventure'],\n ['Action', 'Crime', 'Thriller'],\n ['Science Fiction'],\n ['Animation', 'Adventure', 'Comedy', 'Family'],\n ['Comedy', 'Science Fiction'],\n ['Science Fiction', 'Action', 'Drama', 'Thriller'],\n ['Crime', 'Thriller', 'Drama'],\n ['Drama', 'History', 'Thriller'],\n ['Adventure', 'Fantasy', 'Action'],\n ['Romance', 'Drama', 'History'],\n ['Fantasy', 'Action', 'Family'],\n ['Drama', 'History'],\n ['Action', 'Adventure', 'Drama'],\n ['Adventure', 'Drama'],\n ['Animation', 'Comedy'],\n ['Action', 'Drama', 'Thriller'],\n ['Action', 'Thriller'],\n ['Thriller', 'Crime'],\n ['Adventure', 'Action', 'Thriller'],\n ['Animation', 'Comedy', 'Family', 'Fantasy'],\n ['Comedy', 'Family', 'Fantasy', 'Romance'],\n ['Action', 'Thriller'],\n ['Comedy', 'Family'],\n ['Action', 'Comedy'],\n ['Comedy', 'Romance'],\n ['Action', 'Drama', 'Thriller'],\n ['Comedy', 'Romance'],\n ['Crime', 'Thriller'],\n ['Adventure', 'Animation', 'Family'],\n ['Adventure', 'Action', 'Science Fiction'],\n ['War'],\n ['Adventure', 'Action', 'Comedy', 'Thriller'],\n ['Adventure', 'Fantasy', 'Action', 'Comedy', 'Family'],\n ['Drama', 'History', 'Romance'],\n ['Action', 'Crime', 'Drama', 'Thriller'],\n ['Drama', 'Animation', 'Family', 'Comedy'],\n ['Fantasy', 'Drama', 'Mystery'],\n ['Action', 'Thriller', 'Drama'],\n ['Drama', 'Music'],\n ['Adventure', 'Fantasy', 'Drama', 'Comedy', 'Science Fiction', 'Family'],\n ['Action', 'Adventure', 'Comedy'],\n ['Action', 'Thriller', 'Adventure', 'Science Fiction'],\n ['Fantasy', 'Comedy', 'Romance', 'Science Fiction'],\n ['Mystery', 'Adventure', 'Comedy'],\n ['Action', 'Science Fiction'],\n ['Comedy', 'Drama', 'Fantasy', 'Romance'],\n ['Horror', 'Comedy', 'Fantasy'],\n ['Comedy', 'Family'],\n ['Adventure', 'Fantasy', 'Science Fiction'],\n ['Adventure', 'Fantasy', 'Science Fiction'],\n ['Crime', 'Drama', 'Mystery', 'Thriller'],\n ['Science Fiction'],\n ['Fantasy', 'Comedy'],\n ['Thriller', 'Adventure', 'Action'],\n ['Adventure', 'Action', 'Thriller'],\n ['Science Fiction', 'Adventure', 'Fantasy'],\n ['Comedy'],\n ['Action', 'Fantasy'],\n ['Comedy', 'Animation', 'Family'],\n ['Animation', 'Family'],\n ['Comedy', 'Family', 'Fantasy'],\n ['Action', 'Drama', 'Romance'],\n ['Action', 'Comedy', 'Crime', 'Thriller'],\n ['Comedy', 'Drama'],\n ['Comedy', 'Fantasy', 'Family', 'Music', 'Animation'],\n ['Comedy'],\n ['Action', 'Comedy', 'Thriller'],\n ['Drama', 'Comedy', 'Romance'],\n ['Drama', 'Thriller', 'Mystery'],\n ['Comedy', 'Romance', 'Drama'],\n ['Animation', 'Comedy', 'Family', 'Science Fiction'],\n ['Action', 'Crime', 'Science Fiction', 'Thriller'],\n ['Fantasy', 'Comedy', 'Family', 'Romance'],\n ['Thriller', 'Crime', 'Drama'],\n ['Romance', 'Comedy'],\n ['Action', 'Thriller', 'Crime'],\n ['Mystery', 'Thriller', 'Action'],\n ['Drama'],\n ['Action', 'Thriller', 'Science Fiction'],\n ['Comedy', 'Family', 'Science Fiction'],\n ['Horror', 'Thriller', 'Fantasy', 'Mystery'],\n ['Animation', 'Comedy', 'Drama', 'Family', 'Fantasy'],\n ['Action', 'Comedy', 'Crime', 'Mystery', 'Family'],\n ['Drama', 'Science Fiction', 'Thriller'],\n ['Action', 'Drama', 'Mystery', 'Thriller'],\n ['War', 'Drama', 'Action'],\n ['Action', 'Adventure', 'Comedy', 'Romance'],\n ['Comedy', 'Family', 'Animation', 'Adventure'],\n ['Western', 'Animation', 'Adventure', 'Comedy', 'Family'],\n ['Comedy', 'Romance', 'Family'],\n ['Adventure', 'Family', 'Science Fiction'],\n ['Drama', 'Thriller', 'Mystery'],\n ['Romance', 'Drama'],\n ['Animation', 'Comedy', 'Family'],\n ['Animation', 'Family', 'Music'],\n ['Science Fiction', 'Adventure', 'Action'],\n ['Action', 'Adventure', 'Family', 'Fantasy'],\n ['Action', 'Crime', 'Thriller'],\n ['Action', 'Adventure'],\n ['Drama', 'Fantasy', 'Romance'],\n ['Comedy', 'Fantasy', 'Romance'],\n ['Adventure', 'Fantasy', 'Action', 'Comedy', 'Thriller'],\n ['Comedy', 'Fantasy', 'Science Fiction'],\n ['Mystery', 'Drama', 'Horror'],\n ['Action', 'Adventure', 'Drama'],\n ['Action', 'Science Fiction', 'Thriller'],\n ['Drama', 'Thriller'],\n ['Action', 'Adventure', 'Thriller'],\n ['Animation', 'Family', 'Adventure'],\n ['Action', 'Science Fiction', 'War'],\n ['Animation', 'Comedy', 'Family'],\n ['Drama', 'Music', 'Romance'],\n ['Action', 'Adventure', 'Science Fiction'],\n ['Drama', 'Adventure'],\n ['Adventure', 'Comedy', 'Drama', 'Family', 'Fantasy'],\n ['Fantasy', 'Action', 'Adventure'],\n ['Thriller', 'Action', 'Science Fiction'],\n ['Adventure', 'Fantasy', 'Animation', 'Family'],\n ['Documentary', 'Family'],\n ['Thriller', 'Science Fiction', 'Adventure', 'Action'],\n ['Action', 'Adventure', 'History', 'Romance', 'Drama'],\n ['Comedy', 'Animation'],\n ['Drama', 'Romance'],\n ['Family', 'Animation', 'Drama'],\n ['Adventure', 'Action', 'Science Fiction'],\n ['Animation', 'Family', 'Comedy'],\n ['Crime', 'Thriller', 'Horror'],\n ['Western', 'Adventure'],\n ['Comedy'],\n ['Action', 'Crime', 'Thriller'],\n ['Adventure', 'Animation', 'Fantasy'],\n ['Science Fiction', 'Thriller'],\n ['Action', 'Adventure', 'Animation', 'Comedy', 'Family'],\n ['Animation', 'Family'],\n ['Fantasy', 'Action', 'Thriller', 'Science Fiction'],\n ['Animation', 'Comedy', 'Family'],\n ['Action', 'Adventure', 'Science Fiction'],\n ['Adventure', 'Action', 'Science Fiction'],\n ['Family', 'Animation'],\n ['Drama', 'Action', 'Thriller', 'Science Fiction'],\n ['Adventure', 'Action', 'Science Fiction'],\n ['Action', 'Thriller', 'Crime'],\n ['Action', 'Adventure', 'Thriller'],\n ['Animation', 'Family', 'Comedy', 'Adventure'],\n ['Comedy', 'Romance'],\n ['Family', 'Comedy', 'Music', 'Romance'],\n ['Horror', 'Mystery', 'Thriller'],\n ['Action', 'Adventure', 'Comedy', 'Family'],\n ['Thriller', 'Crime'],\n ['Comedy'],\n ['Comedy', 'Drama'],\n ['Comedy', 'Family'],\n ['Action', 'Adventure', 'Thriller'],\n ['Comedy', 'Drama', 'History'],\n ['Animation', 'Action', 'Comedy', 'Family'],\n ['Drama'],\n ['Comedy', 'Crime'],\n ['Drama', 'Action', 'History', 'Thriller'],\n ['Action', 'Drama', 'War'],\n ['Action', 'Comedy', 'Thriller', 'Romance'],\n ['Comedy', 'Action', 'Adventure'],\n ['Comedy'],\n ['Animation', 'Comedy', 'Family', 'Fantasy'],\n ['Action', 'Comedy', 'Crime', 'Romance'],\n ['Action', 'Adventure', 'Drama', 'Romance'],\n ['Drama', 'History', 'Romance'],\n ['Fantasy', 'Action', 'Drama'],\n ['Mystery', 'Drama', 'Thriller', 'Crime'],\n ['Animation', 'Action', 'Science Fiction', 'Family', 'Adventure'],\n ['Action', 'Adventure', 'Comedy', 'Thriller'],\n ['Action', 'War', 'Science Fiction'],\n ['Action', 'Drama', 'Horror', 'Science Fiction', 'Thriller'],\n ['Adventure', 'Fantasy', 'Animation', 'Action', 'Comedy'],\n ['Action', 'Adventure', 'Drama', 'Thriller'],\n ['Science Fiction', 'Thriller', 'Drama'],\n ['Family', 'Animation', 'Adventure', 'Comedy'],\n ['Action', 'Fantasy', 'Thriller'],\n ['Crime', 'Mystery'],\n ['Science Fiction'],\n ['Family', 'Animation'],\n ['Romance', 'Comedy', 'Adventure'],\n ['Comedy', 'Drama'],\n ['Thriller', 'Action', 'Drama'],\n ['Comedy'],\n ['Comedy', 'Family', 'Romance', 'Fantasy'],\n ['Action', 'Drama', 'History', 'War'],\n ['Drama', 'War'],\n ['Animation', 'Comedy', 'Family'],\n ['Drama', 'Romance'],\n ['Action'],\n ['Adventure', 'Drama', 'Family'],\n ['Drama', 'Mystery', 'Thriller'],\n ['Comedy', 'Family', 'Fantasy'],\n ['Drama', 'Thriller', 'Science Fiction', 'Mystery'],\n ['Adventure', 'Animation', 'Comedy', 'Family', 'Fantasy'],\n ['Animation', 'Adventure', 'Comedy', 'Family'],\n ['Comedy', 'Romance'],\n ['Action', 'Adventure', 'Thriller'],\n ['Animation', 'Adventure', 'Comedy', 'Family'],\n ['Action', 'Thriller'],\n ['Drama', 'Action', 'Thriller', 'War'],\n ['Adventure', 'Fantasy', 'Comedy', 'Family'],\n ['Action', 'Thriller'],\n ['Action', 'Thriller', 'Crime'],\n ['Drama', 'Mystery', 'Romance', 'Science Fiction', 'Thriller'],\n ['Drama', 'Thriller', 'Fantasy', 'Mystery'],\n ['Adventure', 'Science Fiction', 'Action'],\n ['Comedy', 'Family', 'Animation', 'Fantasy', 'Music'],\n ['Action', 'History', 'War'],\n ['Action', 'Thriller'],\n ['Science Fiction', 'Action', 'Adventure', 'Thriller'],\n ['Action', 'Science Fiction'],\n ['Adventure', 'Fantasy', 'Drama'],\n ['Fantasy'],\n ['Drama', 'War'],\n ['War', 'Drama', 'History', 'Action'],\n ['Adventure', 'Action', 'Thriller', 'Science Fiction'],\n ['Drama', 'Crime'],\n ['Horror', 'Action', 'Drama', 'Fantasy', 'War'],\n ['Drama', 'Action', 'Thriller', 'Crime'],\n ['Adventure', 'Fantasy', 'Romance', 'Family'],\n ['Adventure', 'Drama', 'History'],\n ['Comedy', 'Drama'],\n ['Action', 'Adventure', 'Comedy', 'Thriller'],\n ['Adventure', 'Action', 'Horror'],\n ['Action', 'Adventure', 'Comedy', 'Thriller'],\n ['Fantasy', 'Action', 'Horror'],\n ['Comedy', 'Drama', 'Music', 'Romance'],\n ['Drama', 'War'],\n ['Action', 'Adventure', 'Thriller'],\n ['Action', 'Science Fiction', 'Thriller'],\n ['Action', 'Adventure', 'Thriller'],\n ['Thriller'],\n ['Adventure', 'Animation', 'Action', 'Comedy', 'Family'],\n ['Animation', 'Music', 'Family'],\n ['Crime', 'Drama', 'Mystery'],\n ['Mystery', 'Action', 'Thriller', 'Science Fiction', 'Adventure'],\n ['Crime', 'Mystery', 'Thriller'],\n ['Action', 'Thriller'],\n ['Action', 'Adventure'],\n ['Thriller', 'Action', 'Drama'],\n ['Adventure', 'Fantasy', 'Drama', 'Romance'],\n ['Action', 'Crime', 'Thriller'],\n ['Animation', 'Family'],\n ['Action', 'Comedy', 'Crime'],\n ['Comedy'],\n ['Adventure', 'Drama', 'History'],\n ['Adventure', 'Fantasy', 'Action', 'Comedy', 'Science Fiction'],\n ['Comedy'],\n ['Drama', 'Thriller'],\n ['Action', 'Drama', 'History', 'Thriller'],\n ['Action', 'Drama', 'Thriller'],\n ['Comedy'],\n ['Action', 'Fantasy', 'Horror'],\n ['Romance', 'Drama', 'Mystery'],\n ['Mystery', 'Science Fiction', 'Thriller'],\n ['Action', 'Adventure', 'Fantasy', 'War'],\n ['Drama', 'History', 'War'],\n ['Action', 'Crime', 'Drama', 'Thriller'],\n ['Comedy', 'Romance'],\n ['Animation', 'Comedy', 'Family', 'Adventure'],\n ['Drama', 'Horror', 'Science Fiction', 'Thriller'],\n ['History', 'Drama'],\n ['Action', 'Science Fiction'],\n ['Drama'],\n ['Fantasy', 'Comedy', 'Family'],\n ['Drama', 'Music', 'Romance'],\n ['Comedy', 'Romance'],\n ['Comedy'],\n ['Action', 'Adventure'],\n ['Comedy', 'Drama'],\n ['Drama', 'War'],\n ['Action', 'Adventure', 'Thriller'],\n ['Action', 'Adventure', 'Thriller'],\n ['Action', 'Adventure', 'Drama', 'Thriller'],\n ['Fantasy', 'Comedy', 'Family'],\n ['Drama', 'History', 'Thriller'],\n ['Drama', 'Romance'],\n ['Comedy'],\n ['Mystery', 'Drama'],\n ['Comedy', 'Drama', 'Family'],\n ['Romance', 'Comedy', 'Crime', 'Drama'],\n ['Action', 'Comedy', 'Romance'],\n ['Science Fiction', 'Action', 'Horror', 'Thriller', 'Adventure', 'Fantasy'],\n ['Action', 'Thriller'],\n ['Comedy', 'Drama'],\n ['Action', 'Horror', 'Science Fiction'],\n ['Action', 'Thriller', 'Science Fiction'],\n ['Crime', 'Action', 'Mystery', 'Thriller'],\n ['Action', 'Adventure', 'Drama', 'Romance', 'Thriller'],\n ['Family', 'Fantasy', 'Science Fiction', 'Adventure'],\n ['Drama'],\n ['Drama'],\n ['Action', 'Adventure', 'Comedy'],\n ['Action', 'Adventure', 'Comedy', 'Crime', 'Romance', 'Thriller'],\n ['Horror', 'Thriller'],\n ['Crime', 'Drama', 'Family'],\n ['Action', 'Fantasy'],\n ['Crime', 'Thriller'],\n ['Drama', 'Romance'],\n ['Adventure', 'Drama'],\n ['Crime', 'Fantasy', 'Drama'],\n ['Comedy', 'Crime', 'Science Fiction'],\n ['Animation', 'Action', 'Family', 'Science Fiction'],\n ['Adventure', 'Science Fiction'],\n ['Drama', 'Action', 'Western'],\n ['Action', 'Drama', 'Thriller'],\n ['Action', 'Drama', 'Adventure'],\n ['Comedy', 'Crime'],\n ['Action', 'Drama', 'Thriller', 'War'],\n ['Comedy', 'Drama', 'Romance'],\n ['Comedy', 'Romance'],\n ['Action', 'Adventure', 'Comedy', 'Thriller', 'Crime'],\n ['Crime', 'Drama', 'Mystery', 'Western'],\n ['Action', 'Comedy', 'Drama'],\n ['Animation', 'Comedy', 'Family'],\n ['Action', 'Adventure', 'War'],\n ['Comedy', 'Romance'],\n ['Comedy', 'Family'],\n ['Fantasy', 'Drama', 'Crime'],\n ['Action', 'Adventure', 'Comedy'],\n ['Animation', 'Family', 'Comedy'],\n ['Mystery', 'Thriller', 'Drama'],\n ['Action', 'Drama', 'Mystery', 'Thriller'],\n ['Adventure', 'Action', 'Thriller'],\n ['Crime', 'Drama', 'Mystery', 'Thriller'],\n ['Comedy', 'Drama'],\n ['Adventure', 'Animation', 'Drama', 'Family', 'Music'],\n ['Comedy', 'Family'],\n ['Action', 'Comedy', 'Crime'],\n ['Comedy', 'Family'],\n ['Action', 'Crime'],\n ['Romance', 'Comedy'],\n ['Adventure', 'Animation', 'Comedy', 'Family'],\n ['Comedy', 'Romance'],\n ['Adventure'],\n ['Comedy'],\n ['Action'],\n ['Drama'],\n ['Comedy', 'Drama', 'Romance', 'Fantasy'],\n ['Action', 'Adventure', 'Comedy', 'Crime', 'Thriller'],\n ['Drama'],\n ['Drama', 'Romance'],\n ['Drama', 'Crime', 'Thriller'],\n ['Action', 'Fantasy', 'Adventure'],\n ['Drama', 'Action', 'Thriller'],\n ['Crime', 'Drama', 'Thriller'],\n ['Action', 'Science Fiction', 'Thriller'],\n ['Music', 'Documentary'],\n ['Drama', 'Thriller', 'Science Fiction'],\n ['Comedy', 'Adventure', 'Crime'],\n ['Animation', 'Family'],\n ['Thriller', 'Science Fiction'],\n ['Action', 'Drama', 'Thriller', 'Crime'],\n ['Comedy', 'Family'],\n ['Comedy', 'Crime'],\n ['Family', 'Comedy'],\n ['Fantasy', 'Action', 'Science Fiction'],\n ['Drama'],\n ['Family', 'Animation', 'Adventure', 'Comedy'],\n ['Action', 'Thriller', 'Adventure', 'Crime'],\n ['Action', 'Adventure', 'Mystery', 'Science Fiction', 'Thriller'],\n ['Drama', 'Romance'],\n ['Adventure', 'Animation', 'Family'],\n ['Thriller', 'Action', 'Comedy', 'Science Fiction'],\n ['Action', 'Thriller'],\n ['Action', 'Drama', 'Thriller'],\n ['Drama', 'Comedy'],\n ['Action', 'Crime', 'Thriller'],\n ['Science Fiction', 'Horror', 'Action'],\n ['Action', 'Drama', 'Mystery', 'Thriller', 'Crime'],\n ['Animation', 'Comedy', 'Family', 'Fantasy'],\n ['Drama', 'Fantasy', 'Comedy'],\n ['Adventure', 'Animation', 'Comedy', 'Family', 'Fantasy'],\n ['Action', 'Comedy'],\n ['Adventure', 'Action', 'Fantasy'],\n ['Crime', 'Drama', 'Action', 'Thriller'],\n ['Comedy', 'Adventure'],\n ['Drama', 'History'],\n ['Action'],\n ['Romance', 'Comedy', 'Crime'],\n ['Comedy', 'Drama', 'Family', 'Science Fiction'],\n ['Action', 'Thriller', 'Crime'],\n ['Science Fiction', 'Animation', 'Family', 'Comedy', 'Adventure'],\n ['Science Fiction', 'Action', 'Adventure', 'Thriller'],\n ['Crime', 'Comedy', 'Romance'],\n ['Drama', 'Romance'],\n ['Crime', 'Drama', 'Mystery', 'Thriller'],\n ['Horror', 'Mystery', 'Thriller'],\n ['Comedy', 'Crime'],\n ['Action', 'Crime', 'Drama', 'Thriller'],\n ['Action', 'Crime', 'Drama', 'Thriller'],\n ['Drama'],\n ['Fantasy', 'Drama'],\n ['Drama', 'Music'],\n ['Animation', 'Comedy', 'Family'],\n ['Action', 'Adventure', 'Crime', 'Drama', 'Mystery', 'Thriller'],\n ['Action', 'Science Fiction', 'Fantasy', 'Thriller', 'Horror'],\n ['Family', 'Animation', 'Adventure'],\n ['Horror', 'Science Fiction', 'Mystery'],\n ['Drama'],\n ['Drama'],\n ['Action', 'Adventure', 'Drama', 'History', 'Romance', 'War'],\n ['Action', 'Drama', 'Thriller'],\n ['Horror', 'Science Fiction', 'Thriller'],\n ['Drama', 'Fantasy', 'Mystery', 'Romance'],\n ['Action', 'Adventure', 'Drama', 'Mystery', 'Romance', 'Fantasy'],\n ['Comedy', 'Science Fiction', 'Adventure', 'Family'],\n ['Drama', 'Horror', 'Thriller'],\n ['Comedy'],\n ['Adventure', 'Family', 'Fantasy'],\n ['Action', 'Comedy', 'Thriller', 'Crime', 'Science Fiction'],\n ['Comedy', 'Adventure'],\n ['Adventure', 'Fantasy', 'Action', 'Drama'],\n ['Drama', 'Romance', 'Adventure', 'War'],\n ['Action', 'Adventure', 'Fantasy'],\n ['Action', 'History', 'War'],\n ['Action', 'Adventure', 'Comedy'],\n ['Drama', 'Comedy'],\n ['War', 'Action'],\n ['Adventure', 'Horror', 'Comedy'],\n ['Comedy', 'Fantasy', 'Romance'],\n ['Science Fiction', 'Comedy', 'Family', 'Romance'],\n ['Action', 'Adventure', 'Thriller', 'War'],\n ['Comedy', 'Romance', 'Drama'],\n ['Comedy', 'Western'],\n ['Comedy'],\n ['Comedy'],\n ['Action', 'Adventure', 'Horror', 'Science Fiction'],\n ['Drama', 'Action', 'Adventure', 'History', 'War'],\n ['Drama', 'Horror', 'Mystery', 'Thriller'],\n ['Comedy'],\n ['Fantasy'],\n ['Action', 'Comedy', 'Crime', 'Drama'],\n ['Action', 'Fantasy', 'Thriller'],\n ['Drama', 'History', 'Romance'],\n ['Action', 'Comedy', 'Drama', 'Family', 'Thriller'],\n ['Adventure', 'Drama', 'Action', 'Thriller'],\n ['Comedy', 'Drama', 'Romance'],\n ['Comedy', 'Music', 'Family', 'Fantasy', 'Animation'],\n ['Comedy', 'Romance'],\n ['Adventure', 'Animation', 'Drama', 'Family'],\n ['Action', 'Adventure', 'Fantasy', 'Science Fiction'],\n ['Fantasy', 'Comedy', 'Romance', 'Science Fiction'],\n ['Comedy', 'Drama', 'Romance'],\n ['Adventure', 'Comedy', 'Family', 'Romance'],\n ['Comedy', 'Romance'],\n ['Action', 'Drama', 'Thriller'],\n ['Comedy'],\n ['Fantasy', 'Comedy', 'Family'],\n ['Thriller', 'Action', 'Crime'],\n ['Comedy', 'Drama', 'Romance'],\n ['Action', 'Thriller', 'Drama'],\n ['Drama'],\n ['Thriller', 'Drama', 'Mystery'],\n ['Drama', 'Thriller', 'Crime', 'Mystery', 'Romance'],\n ['Drama', 'Fantasy', 'Romance'],\n ['Action', 'Crime'],\n ['Comedy'],\n ['Action', 'Crime', 'Thriller'],\n ['Action', 'Adventure', 'Comedy'],\n ['Fantasy', 'Comedy'],\n ['Adventure', 'Action', 'Comedy', 'Western'],\n ['Action', 'Adventure', 'Drama', 'Thriller'],\n ['Comedy', 'Family'],\n ['Action', 'Adventure', 'Fantasy'],\n ['Animation', 'Comedy', 'Family'],\n ['Science Fiction', 'Action', 'Horror'],\n ['History', 'Drama', 'Music'],\n ['Action', 'Thriller', 'Crime', 'Adventure'],\n ['Adventure'],\n ['Family', 'Comedy'],\n ['Comedy'],\n ['Drama', 'Action', 'Thriller', 'Crime'],\n ['Drama', 'Mystery', 'Thriller'],\n ['Comedy'],\n ['Comedy'],\n ['Animation', 'Adventure', 'Family', 'Comedy'],\n ['Crime', 'Drama', 'Mystery'],\n ['Action', 'Drama', 'Science Fiction', 'Thriller'],\n ['Drama', 'Mystery', 'Thriller'],\n ['Thriller', 'Drama', 'Romance'],\n ['Drama', 'History', 'Romance'],\n ['Action', 'Science Fiction'],\n ['Drama', 'History', 'War'],\n ['Action', 'Thriller', 'Crime'],\n ['Comedy'],\n ['Comedy', 'Adventure', 'Crime', 'Family'],\n ['Action', 'Adventure', 'Comedy', 'Family', 'Fantasy', 'Science Fiction'],\n ['Drama', 'Romance'],\n ['Drama'],\n ['Drama', 'Romance'],\n ['Action', 'Thriller'],\n ['Fantasy', 'Horror', 'Action', 'Thriller'],\n ['Drama'],\n ['Action', 'Crime', 'Thriller'],\n ['Crime', 'Drama', 'Thriller'],\n ['Comedy', 'Drama', 'Romance'],\n ['Comedy', 'Romance'],\n ['Action', 'Adventure', 'Fantasy', 'Science Fiction'],\n ['Drama'],\n ['Drama', 'Thriller'],\n ['Action', 'Adventure', 'Crime', 'Thriller'],\n ['Animation', 'Family'],\n ['Drama', 'Music', 'Romance'],\n ['Mystery', 'Thriller', 'Crime'],\n ['Crime', 'Drama'],\n ['War', 'Drama', 'History'],\n ['Drama', 'Crime', 'Thriller'],\n ['Thriller', 'Action', 'Horror'],\n ['Drama', 'Thriller'],\n ['Drama', 'Romance'],\n ['Drama', 'Crime'],\n ['Thriller', 'Drama', 'History'],\n ['Romance', 'Comedy'],\n ['Comedy', 'Romance'],\n ['Comedy', 'Romance'],\n ['Action', 'Adventure', 'Comedy'],\n ['Drama', 'History', 'War'],\n ['Comedy'],\n ['Comedy', 'Drama', 'Romance'],\n ['Drama', 'Crime'],\n ['Action', 'Crime', 'Thriller'],\n ['Action', 'Comedy', 'Fantasy'],\n ['Comedy'],\n ['Animation', 'Comedy', 'Family'],\n ['Comedy', 'Family'],\n ['Adventure', 'Fantasy', 'Drama', 'Romance'],\n ['Adventure', 'Animation', 'Comedy', 'Family', 'Fantasy'],\n ['Science Fiction', 'Thriller', 'Romance'],\n ['Adventure'],\n ['Comedy', 'Drama', 'Romance'],\n ['Comedy', 'Fantasy'],\n ['Comedy', 'Romance'],\n ['Comedy', 'Drama'],\n ['Comedy'],\n ['Comedy', 'Romance'],\n ['Thriller', 'Science Fiction', 'Mystery'],\n ['Drama'],\n ['Comedy', 'Romance'],\n ['Crime', 'Comedy', 'Action'],\n ['Horror', 'Romance'],\n ['Comedy'],\n ['Action', 'Comedy'],\n ['Drama', 'Romance'],\n ['Comedy'],\n ['Fantasy', 'Comedy', 'Music'],\n ['Crime', 'Drama', 'Thriller'],\n ['Drama', 'Action', 'Thriller', 'Crime'],\n ['Action', 'Adventure', 'Drama', 'Mystery', 'Science Fiction', 'Thriller'],\n ['Drama', 'Comedy', 'Family'],\n ['Action', 'Adventure', 'Drama', 'Mystery', 'Science Fiction', 'Thriller'],\n ['Comedy'],\n ['Drama', 'Horror', 'Thriller'],\n ['Comedy', 'Drama', 'Romance'],\n ['Animation', 'Comedy', 'Family'],\n ['Comedy', 'Family'],\n ['Drama'],\n ['Action', 'Drama', 'Science Fiction', 'Thriller'],\n ['Action', 'Thriller', 'Mystery'],\n ['Adventure', 'Family', 'Fantasy', 'Science Fiction', 'Thriller', 'Action'],\n ['Action', 'Thriller', 'Fantasy'],\n ['Action', 'Adventure', 'Comedy', 'Western'],\n ['Adventure', 'Animation', 'Comedy', 'Family'],\n ['Comedy', 'Family', 'Adventure', 'Fantasy', 'Romance'],\n ['Thriller'],\n ['Fantasy', 'Horror', 'Action'],\n ['Thriller', 'Drama'],\n ['Action', 'Thriller', 'Science Fiction', 'Adventure'],\n ['Drama', 'Thriller'],\n ['Action', 'Drama', 'History', 'Thriller', 'War'],\n ['Romance', 'Animation', 'Adventure', 'Comedy', 'Family', 'Fantasy'],\n ['Thriller'],\n ['Crime', 'Drama', 'Thriller'],\n ['Action', 'Drama'],\n ['Drama', 'Thriller', 'Mystery'],\n ['Horror', 'Mystery'],\n ['Comedy'],\n ['Comedy'],\n ['Action', 'Adventure', 'Crime', 'Drama', 'Mystery', 'Thriller'],\n ['Action', 'Thriller'],\n ['Action', 'Comedy', 'Crime'],\n ['Comedy', 'Horror', 'Fantasy'],\n ['Drama'],\n ['Action', 'Thriller'],\n ['Horror', 'Action', 'Science Fiction'],\n ['Comedy', 'Romance'],\n ['Thriller', 'Crime', 'Drama'],\n ['Action', 'Thriller'],\n ['Adventure', 'Family', 'Science Fiction'],\n ['Drama', 'Adventure', 'Romance', 'Thriller'],\n ['Drama', 'Comedy', 'Romance'],\n ['Action', 'Crime', 'Thriller'],\n ['Drama', 'Romance'],\n ['Drama', 'Thriller', 'Crime'],\n ['Family', 'Comedy'],\n ['Drama', 'Fantasy'],\n ['Crime', 'Drama', 'Thriller'],\n ['Action', 'Adventure', 'Crime', 'Thriller'],\n ['Crime', 'Drama', 'Thriller'],\n ['Comedy', 'Drama', 'Romance'],\n ['Action', 'Adventure', 'Romance', 'Science Fiction', 'Thriller'],\n ['Action', 'Drama', 'Mystery', 'Thriller', 'Crime'],\n ['Crime', 'Drama', 'Mystery', 'Thriller'],\n ['Drama', 'Thriller', 'Crime'],\n ['Action', 'Adventure', 'Science Fiction', 'Thriller'],\n ['Adventure', 'Animation', 'Family', 'Fantasy', 'Science Fiction'],\n ['Adventure', 'Comedy', 'Drama'],\n ['War', 'Action', 'Drama', 'History', 'Thriller'],\n ['Drama', 'Thriller', 'Crime'],\n ['Comedy', 'Action'],\n ['Action', 'Crime', 'Drama', 'Mystery', 'Thriller'],\n ['Thriller', 'Crime', 'Mystery'],\n ['Action', 'Thriller', 'Adventure', 'Crime'],\n ['Adventure', 'Drama', 'Action', 'History', 'War'],\n ['Comedy'],\n ['Drama', 'Thriller', 'Mystery'],\n ['Action', 'Drama', 'Thriller'],\n ['Action', 'Adventure', 'Comedy', 'Family'],\n ['Drama', 'History', 'Romance'],\n ['Drama', 'Thriller'],\n ['Action', 'Crime'],\n ['Action', 'Thriller', 'Mystery', 'Romance'],\n ['Action', 'Thriller', 'Science Fiction'],\n ['Fantasy', 'Drama', 'Romance'],\n ['Comedy', 'Crime', 'Drama', 'Thriller'],\n ['Comedy'],\n ['Comedy', 'Crime'],\n ['Comedy', 'Drama', 'Romance', 'Science Fiction'],\n ...]"
     },
     "execution_count": 168,
     "metadata": {},
     "output_type": "execute_result"
    }
   ],
   "source": [
    "movie_genre_list"
   ],
   "metadata": {
    "collapsed": false,
    "pycharm": {
     "name": "#%%\n"
    }
   }
  },
  {
   "cell_type": "code",
   "execution_count": 171,
   "outputs": [],
   "source": [
    "# df.at[0,\"Action\"]とすると任意の値を取得できる\n",
    "def put_genre(df,movie_genre_list):\n",
    "    for i in range(len(df)):\n",
    "        for genre in movie_genre_list[i]:\n",
    "            df.at[i,genre] = 1.0\n",
    "put_genre(df,movie_genre_list)"
   ],
   "metadata": {
    "collapsed": false,
    "pycharm": {
     "name": "#%%\n"
    }
   }
  },
  {
   "cell_type": "code",
   "execution_count": 176,
   "outputs": [
    {
     "data": {
      "text/plain": "      Action  Adventure  Fantasy  Science Fiction  Crime  Drama  Thriller  \\\n4798       1          0        0                0      1      0         1   \n4799       0          0        0                0      0      0         0   \n4800       0          0        0                0      0      1         0   \n4801       0          0        0                0      0      0         0   \n4802       0          0        0                0      0      0         0   \n\n      Animation  Family  Western  Comedy  Romance  Horror  Mystery  History  \\\n4798          0       0        0       0        0       0        0        0   \n4799          0       0        0       1        1       0        0        0   \n4800          0       0        0       1        1       0        0        0   \n4801          0       0        0       0        0       0        0        0   \n4802          0       0        0       0        0       0        0        0   \n\n      War  Music  Documentary  Foreign  TV Movie  \n4798    0      0            0        0         0  \n4799    0      0            0        0         0  \n4800    0      0            0        0         1  \n4801    0      0            0        0         0  \n4802    0      0            1        0         0  ",
      "text/html": "<div>\n<style scoped>\n    .dataframe tbody tr th:only-of-type {\n        vertical-align: middle;\n    }\n\n    .dataframe tbody tr th {\n        vertical-align: top;\n    }\n\n    .dataframe thead th {\n        text-align: right;\n    }\n</style>\n<table border=\"1\" class=\"dataframe\">\n  <thead>\n    <tr style=\"text-align: right;\">\n      <th></th>\n      <th>Action</th>\n      <th>Adventure</th>\n      <th>Fantasy</th>\n      <th>Science Fiction</th>\n      <th>Crime</th>\n      <th>Drama</th>\n      <th>Thriller</th>\n      <th>Animation</th>\n      <th>Family</th>\n      <th>Western</th>\n      <th>Comedy</th>\n      <th>Romance</th>\n      <th>Horror</th>\n      <th>Mystery</th>\n      <th>History</th>\n      <th>War</th>\n      <th>Music</th>\n      <th>Documentary</th>\n      <th>Foreign</th>\n      <th>TV Movie</th>\n    </tr>\n  </thead>\n  <tbody>\n    <tr>\n      <th>4798</th>\n      <td>1</td>\n      <td>0</td>\n      <td>0</td>\n      <td>0</td>\n      <td>1</td>\n      <td>0</td>\n      <td>1</td>\n      <td>0</td>\n      <td>0</td>\n      <td>0</td>\n      <td>0</td>\n      <td>0</td>\n      <td>0</td>\n      <td>0</td>\n      <td>0</td>\n      <td>0</td>\n      <td>0</td>\n      <td>0</td>\n      <td>0</td>\n      <td>0</td>\n    </tr>\n    <tr>\n      <th>4799</th>\n      <td>0</td>\n      <td>0</td>\n      <td>0</td>\n      <td>0</td>\n      <td>0</td>\n      <td>0</td>\n      <td>0</td>\n      <td>0</td>\n      <td>0</td>\n      <td>0</td>\n      <td>1</td>\n      <td>1</td>\n      <td>0</td>\n      <td>0</td>\n      <td>0</td>\n      <td>0</td>\n      <td>0</td>\n      <td>0</td>\n      <td>0</td>\n      <td>0</td>\n    </tr>\n    <tr>\n      <th>4800</th>\n      <td>0</td>\n      <td>0</td>\n      <td>0</td>\n      <td>0</td>\n      <td>0</td>\n      <td>1</td>\n      <td>0</td>\n      <td>0</td>\n      <td>0</td>\n      <td>0</td>\n      <td>1</td>\n      <td>1</td>\n      <td>0</td>\n      <td>0</td>\n      <td>0</td>\n      <td>0</td>\n      <td>0</td>\n      <td>0</td>\n      <td>0</td>\n      <td>1</td>\n    </tr>\n    <tr>\n      <th>4801</th>\n      <td>0</td>\n      <td>0</td>\n      <td>0</td>\n      <td>0</td>\n      <td>0</td>\n      <td>0</td>\n      <td>0</td>\n      <td>0</td>\n      <td>0</td>\n      <td>0</td>\n      <td>0</td>\n      <td>0</td>\n      <td>0</td>\n      <td>0</td>\n      <td>0</td>\n      <td>0</td>\n      <td>0</td>\n      <td>0</td>\n      <td>0</td>\n      <td>0</td>\n    </tr>\n    <tr>\n      <th>4802</th>\n      <td>0</td>\n      <td>0</td>\n      <td>0</td>\n      <td>0</td>\n      <td>0</td>\n      <td>0</td>\n      <td>0</td>\n      <td>0</td>\n      <td>0</td>\n      <td>0</td>\n      <td>0</td>\n      <td>0</td>\n      <td>0</td>\n      <td>0</td>\n      <td>0</td>\n      <td>0</td>\n      <td>0</td>\n      <td>1</td>\n      <td>0</td>\n      <td>0</td>\n    </tr>\n  </tbody>\n</table>\n</div>"
     },
     "execution_count": 176,
     "metadata": {},
     "output_type": "execute_result"
    }
   ],
   "source": [
    "df.tail()"
   ],
   "metadata": {
    "collapsed": false,
    "pycharm": {
     "name": "#%%\n"
    }
   }
  },
  {
   "cell_type": "code",
   "execution_count": 184,
   "outputs": [
    {
     "data": {
      "text/plain": "0       [{\"id\": 1463, \"name\": \"culture clash\"}, {\"id\":...\n1       [{\"id\": 270, \"name\": \"ocean\"}, {\"id\": 726, \"na...\n2       [{\"id\": 470, \"name\": \"spy\"}, {\"id\": 818, \"name...\n3       [{\"id\": 849, \"name\": \"dc comics\"}, {\"id\": 853,...\n4       [{\"id\": 818, \"name\": \"based on novel\"}, {\"id\":...\n                              ...                        \n4798    [{\"id\": 5616, \"name\": \"united states\\u2013mexi...\n4799                                                   []\n4800    [{\"id\": 248, \"name\": \"date\"}, {\"id\": 699, \"nam...\n4801                                                   []\n4802    [{\"id\": 1523, \"name\": \"obsession\"}, {\"id\": 224...\nName: keywords, Length: 4803, dtype: object"
     },
     "execution_count": 184,
     "metadata": {},
     "output_type": "execute_result"
    }
   ],
   "source": [
    "keywords = df_x[\"keywords\"]\n",
    "keywords"
   ],
   "metadata": {
    "collapsed": false,
    "pycharm": {
     "name": "#%%\n"
    }
   }
  },
  {
   "cell_type": "code",
   "execution_count": 196,
   "outputs": [
    {
     "data": {
      "text/plain": "4803"
     },
     "execution_count": 196,
     "metadata": {},
     "output_type": "execute_result"
    }
   ],
   "source": [
    "keywords_list = list()\n",
    "keywords_dict = dict()\n",
    "for keyword in keywords:\n",
    "    if keyword == \"[]\":\n",
    "        keywords_list.append(\"\")\n",
    "    else:\n",
    "        keyword = ast.literal_eval(keyword[1:-1])\n",
    "        genre_list = []\n",
    "\n",
    "        for per_keyword in keyword:\n",
    "            if type(per_keyword) == dict:\n",
    "                keyword_id = per_keyword[\"id\"]\n",
    "                keyword_name = per_keyword[\"name\"]\n",
    "                keywords_dict[keyword_id] = keyword_name\n",
    "                genre_list.append(keyword_name)\n",
    "            else:\n",
    "                keyword_id = keyword[\"id\"]\n",
    "                keyword_name = keyword[\"name\"]\n",
    "                movie_genre_dict[keyword_id] = keyword_name\n",
    "                genre_list.append(keyword_name)\n",
    "                break\n",
    "        keywords_list.append(genre_list)\n",
    "        genre_list = []\n",
    "\n",
    "len(keywords_dict)\n",
    "len(keywords_list)"
   ],
   "metadata": {
    "collapsed": false,
    "pycharm": {
     "name": "#%%\n"
    }
   }
  },
  {
   "cell_type": "code",
   "execution_count": 220,
   "outputs": [
    {
     "data": {
      "text/plain": "7     4505\n10      70\n8       32\n36      27\n5       27\n12      19\n17      16\n16      14\n2       12\n27      11\n18      11\n25       9\n4        7\n29       5\n21       4\n9        4\n32       3\n11       3\n30       2\n3        2\n26       2\n14       2\n1        2\n34       1\n28       1\n24       1\n22       1\n19       1\n13       1\n23       1\n0        1\n20       1\n33       1\n15       1\n35       1\n31       1\n6        1\nName: original_language, dtype: int64"
     },
     "execution_count": 220,
     "metadata": {},
     "output_type": "execute_result"
    }
   ],
   "source": [
    "language = df3[\"original_language\"]\n",
    "language.value_counts()"
   ],
   "metadata": {
    "collapsed": false,
    "pycharm": {
     "name": "#%%\n"
    }
   }
  },
  {
   "cell_type": "code",
   "execution_count": 221,
   "outputs": [],
   "source": [
    "# 映画が造られた国をラベルエンコーディング\n",
    "le = LabelEncoder()"
   ],
   "metadata": {
    "collapsed": false,
    "pycharm": {
     "name": "#%%\n"
    }
   }
  },
  {
   "cell_type": "code",
   "execution_count": 222,
   "outputs": [
    {
     "name": "stderr",
     "output_type": "stream",
     "text": [
      "/var/folders/38/75h5lv4d3_5bm79gp3zs7l4r0000gn/T/ipykernel_27366/963953020.py:1: SettingWithCopyWarning: \n",
      "A value is trying to be set on a copy of a slice from a DataFrame.\n",
      "Try using .loc[row_indexer,col_indexer] = value instead\n",
      "\n",
      "See the caveats in the documentation: https://pandas.pydata.org/pandas-docs/stable/user_guide/indexing.html#returning-a-view-versus-a-copy\n",
      "  df_x[\"original_language\"] = le.fit_transform(df_x[\"original_language\"])\n"
     ]
    }
   ],
   "source": [
    "df_x[\"original_language\"] = le.fit_transform(df_x[\"original_language\"])"
   ],
   "metadata": {
    "collapsed": false,
    "pycharm": {
     "name": "#%%\n"
    }
   }
  },
  {
   "cell_type": "code",
   "execution_count": 225,
   "outputs": [
    {
     "name": "stdout",
     "output_type": "stream",
     "text": [
      "<class 'pandas.core.frame.DataFrame'>\n",
      "RangeIndex: 4803 entries, 0 to 4802\n",
      "Data columns (total 6 columns):\n",
      " #   Column                Non-Null Count  Dtype  \n",
      "---  ------                --------------  -----  \n",
      " 0   genres                4803 non-null   object \n",
      " 1   original_language     4803 non-null   int64  \n",
      " 2   production_companies  4803 non-null   object \n",
      " 3   release_date          4802 non-null   object \n",
      " 4   runtime               4801 non-null   float64\n",
      " 5   spoken_languages      4803 non-null   object \n",
      "dtypes: float64(1), int64(1), object(4)\n",
      "memory usage: 225.3+ KB\n"
     ]
    }
   ],
   "source": [
    "df_x.info()"
   ],
   "metadata": {
    "collapsed": false,
    "pycharm": {
     "name": "#%%\n"
    }
   }
  },
  {
   "cell_type": "code",
   "execution_count": 230,
   "outputs": [
    {
     "name": "stdout",
     "output_type": "stream",
     "text": [
      "<class 'pandas.core.frame.DataFrame'>\n",
      "RangeIndex: 4803 entries, 0 to 4802\n",
      "Data columns (total 6 columns):\n",
      " #   Column                Non-Null Count  Dtype  \n",
      "---  ------                --------------  -----  \n",
      " 0   genres                4803 non-null   object \n",
      " 1   original_language     4803 non-null   int64  \n",
      " 2   production_companies  4803 non-null   object \n",
      " 3   release_date          4802 non-null   object \n",
      " 4   runtime               4801 non-null   float64\n",
      " 5   spoken_languages      4803 non-null   object \n",
      "dtypes: float64(1), int64(1), object(4)\n",
      "memory usage: 225.3+ KB\n"
     ]
    }
   ],
   "source": [
    "df_x.drop(columns=\"genres\")\n",
    "df_x.info()"
   ],
   "metadata": {
    "collapsed": false,
    "pycharm": {
     "name": "#%%\n"
    }
   }
  },
  {
   "cell_type": "code",
   "execution_count": 231,
   "outputs": [
    {
     "data": {
      "text/plain": "2006-01-01    10\n2002-01-01     8\n2004-09-03     7\n1999-10-22     7\n2013-07-18     7\n              ..\n2002-12-30     1\n2002-08-20     1\n1987-11-05     1\n2004-11-11     1\n2012-05-03     1\nName: release_date, Length: 3280, dtype: int64"
     },
     "execution_count": 231,
     "metadata": {},
     "output_type": "execute_result"
    }
   ],
   "source": [
    "# 次はリリース日を数値型へと変換していく\n",
    "df3[\"release_date\"].value_counts()"
   ],
   "metadata": {
    "collapsed": false,
    "pycharm": {
     "name": "#%%\n"
    }
   }
  },
  {
   "cell_type": "code",
   "execution_count": null,
   "outputs": [],
   "source": [],
   "metadata": {
    "collapsed": false,
    "pycharm": {
     "name": "#%%\n"
    }
   }
  }
 ],
 "metadata": {
  "kernelspec": {
   "display_name": "Python 3",
   "language": "python",
   "name": "python3"
  },
  "language_info": {
   "codemirror_mode": {
    "name": "ipython",
    "version": 2
   },
   "file_extension": ".py",
   "mimetype": "text/x-python",
   "name": "python",
   "nbconvert_exporter": "python",
   "pygments_lexer": "ipython2",
   "version": "2.7.6"
  }
 },
 "nbformat": 4,
 "nbformat_minor": 0
}