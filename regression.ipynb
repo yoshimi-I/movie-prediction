{
 "cells": [
  {
   "cell_type": "code",
   "execution_count": 5,
   "metadata": {
    "collapsed": true,
    "pycharm": {
     "name": "#%%\n"
    }
   },
   "outputs": [],
   "source": [
    "import math\n",
    "\n",
    "import pandas as pd\n",
    "import numpy as np\n",
    "import json\n",
    "import ast\n",
    "from sklearn.preprocessing import LabelEncoder\n",
    "import lightgbm as lgb\n",
    "from sklearn.model_selection import train_test_split\n",
    "from sklearn.metrics import mean_absolute_error as mae\n",
    "import matplotlib.pyplot as plt # グラフ描画用\n",
    "from sklearn.metrics import accuracy_score\n",
    "from sklearn.metrics import mean_squared_error\n",
    "from sklearn.metrics import r2_score # モデル評価用(決定係数)"
   ]
  },
  {
   "cell_type": "code",
   "execution_count": 6,
   "outputs": [],
   "source": [
    "# 今回使う説明変数を決める\n",
    "x_col = [\"genres\",\"original_language\",\"production_companies\",\"release_date\",\"runtime\",\"vote_average\"]\n",
    "df = pd.read_csv(\"movie/tmdb_5000_movies.csv\")\n",
    "df_x = df[x_col]"
   ],
   "metadata": {
    "collapsed": false,
    "pycharm": {
     "name": "#%%\n"
    }
   }
  },
  {
   "cell_type": "code",
   "execution_count": 7,
   "outputs": [
    {
     "data": {
      "text/plain": "                                              genres original_language  \\\n0  [{\"id\": 28, \"name\": \"Action\"}, {\"id\": 12, \"nam...                en   \n1  [{\"id\": 12, \"name\": \"Adventure\"}, {\"id\": 14, \"...                en   \n2  [{\"id\": 28, \"name\": \"Action\"}, {\"id\": 12, \"nam...                en   \n3  [{\"id\": 28, \"name\": \"Action\"}, {\"id\": 80, \"nam...                en   \n4  [{\"id\": 28, \"name\": \"Action\"}, {\"id\": 12, \"nam...                en   \n\n                                production_companies release_date  runtime  \\\n0  [{\"name\": \"Ingenious Film Partners\", \"id\": 289...   2009-12-10    162.0   \n1  [{\"name\": \"Walt Disney Pictures\", \"id\": 2}, {\"...   2007-05-19    169.0   \n2  [{\"name\": \"Columbia Pictures\", \"id\": 5}, {\"nam...   2015-10-26    148.0   \n3  [{\"name\": \"Legendary Pictures\", \"id\": 923}, {\"...   2012-07-16    165.0   \n4        [{\"name\": \"Walt Disney Pictures\", \"id\": 2}]   2012-03-07    132.0   \n\n   vote_average  \n0           7.2  \n1           6.9  \n2           6.3  \n3           7.6  \n4           6.1  ",
      "text/html": "<div>\n<style scoped>\n    .dataframe tbody tr th:only-of-type {\n        vertical-align: middle;\n    }\n\n    .dataframe tbody tr th {\n        vertical-align: top;\n    }\n\n    .dataframe thead th {\n        text-align: right;\n    }\n</style>\n<table border=\"1\" class=\"dataframe\">\n  <thead>\n    <tr style=\"text-align: right;\">\n      <th></th>\n      <th>genres</th>\n      <th>original_language</th>\n      <th>production_companies</th>\n      <th>release_date</th>\n      <th>runtime</th>\n      <th>vote_average</th>\n    </tr>\n  </thead>\n  <tbody>\n    <tr>\n      <th>0</th>\n      <td>[{\"id\": 28, \"name\": \"Action\"}, {\"id\": 12, \"nam...</td>\n      <td>en</td>\n      <td>[{\"name\": \"Ingenious Film Partners\", \"id\": 289...</td>\n      <td>2009-12-10</td>\n      <td>162.0</td>\n      <td>7.2</td>\n    </tr>\n    <tr>\n      <th>1</th>\n      <td>[{\"id\": 12, \"name\": \"Adventure\"}, {\"id\": 14, \"...</td>\n      <td>en</td>\n      <td>[{\"name\": \"Walt Disney Pictures\", \"id\": 2}, {\"...</td>\n      <td>2007-05-19</td>\n      <td>169.0</td>\n      <td>6.9</td>\n    </tr>\n    <tr>\n      <th>2</th>\n      <td>[{\"id\": 28, \"name\": \"Action\"}, {\"id\": 12, \"nam...</td>\n      <td>en</td>\n      <td>[{\"name\": \"Columbia Pictures\", \"id\": 5}, {\"nam...</td>\n      <td>2015-10-26</td>\n      <td>148.0</td>\n      <td>6.3</td>\n    </tr>\n    <tr>\n      <th>3</th>\n      <td>[{\"id\": 28, \"name\": \"Action\"}, {\"id\": 80, \"nam...</td>\n      <td>en</td>\n      <td>[{\"name\": \"Legendary Pictures\", \"id\": 923}, {\"...</td>\n      <td>2012-07-16</td>\n      <td>165.0</td>\n      <td>7.6</td>\n    </tr>\n    <tr>\n      <th>4</th>\n      <td>[{\"id\": 28, \"name\": \"Action\"}, {\"id\": 12, \"nam...</td>\n      <td>en</td>\n      <td>[{\"name\": \"Walt Disney Pictures\", \"id\": 2}]</td>\n      <td>2012-03-07</td>\n      <td>132.0</td>\n      <td>6.1</td>\n    </tr>\n  </tbody>\n</table>\n</div>"
     },
     "execution_count": 7,
     "metadata": {},
     "output_type": "execute_result"
    }
   ],
   "source": [
    "df_x.head()"
   ],
   "metadata": {
    "collapsed": false,
    "pycharm": {
     "name": "#%%\n"
    }
   }
  },
  {
   "cell_type": "code",
   "execution_count": 8,
   "outputs": [],
   "source": [
    "#ではここから全てをfloat型に変えていく\n",
    "genres = df_x[\"genres\"]\n",
    "# とりあえず種類が欲しいので種類を確認\n",
    "# まずは辞書を作成\n",
    "movie_genre_dict = dict()\n",
    "movie_genre_list = list()\n",
    "\n",
    "for movie_genre in genres:\n",
    "    if movie_genre == \"[]\":\n",
    "        movie_genre_list.append(\"\")\n",
    "    else:\n",
    "        per_genre_list = ast.literal_eval(movie_genre[1:-1])\n",
    "        genre_list = []\n",
    "        for per_genre in per_genre_list:\n",
    "            if type(per_genre) == dict:\n",
    "                movie_id = per_genre[\"id\"]\n",
    "                movie_name = per_genre[\"name\"]\n",
    "                movie_genre_dict[movie_id] = movie_name\n",
    "                genre_list.append(movie_name)\n",
    "            else:\n",
    "                movie_id = per_genre_list[\"id\"]\n",
    "                movie_name = per_genre_list[\"name\"]\n",
    "                movie_genre_dict[movie_id] = movie_name\n",
    "                genre_list.append(movie_name)\n",
    "                break\n",
    "        movie_genre_list.append(genre_list)\n",
    "        genre_list = []"
   ],
   "metadata": {
    "collapsed": false,
    "pycharm": {
     "name": "#%%\n"
    }
   }
  },
  {
   "cell_type": "code",
   "execution_count": 9,
   "outputs": [
    {
     "name": "stdout",
     "output_type": "stream",
     "text": [
      "4803\n",
      "4803\n"
     ]
    }
   ],
   "source": [
    "print(len(genres))\n",
    "print(len(movie_genre_list))"
   ],
   "metadata": {
    "collapsed": false,
    "pycharm": {
     "name": "#%%\n"
    }
   }
  },
  {
   "cell_type": "code",
   "execution_count": 10,
   "outputs": [],
   "source": [
    "# 20種類のジャンルがあることがわかった\n",
    "# ここからワンホットエンコーディングを行う"
   ],
   "metadata": {
    "collapsed": false,
    "pycharm": {
     "name": "#%%\n"
    }
   }
  },
  {
   "cell_type": "code",
   "execution_count": 11,
   "outputs": [],
   "source": [
    "genres_list = [\"Action\",\"Adventure\",\"Fantasy\",\"Science Fiction\",\"Crime\",\"Drama\",\"Thriller\",\"Animation\",\"Family\",\"Western\",\"Comedy\",\"Romance\",\"Horror\",\"Mystery\",\"History\",\"War\",\"Music\",\"Documentary\",\"Foreign\",\"TV Movie\"]"
   ],
   "metadata": {
    "collapsed": false,
    "pycharm": {
     "name": "#%%\n"
    }
   }
  },
  {
   "cell_type": "code",
   "execution_count": 12,
   "outputs": [
    {
     "data": {
      "text/plain": "   Action  Adventure  Fantasy  Science Fiction  Crime  Drama  Thriller  \\\n0       0          0        0                0      0      0         0   \n1       0          0        0                0      0      0         0   \n2       0          0        0                0      0      0         0   \n3       0          0        0                0      0      0         0   \n4       0          0        0                0      0      0         0   \n\n   Animation  Family  Western  Comedy  Romance  Horror  Mystery  History  War  \\\n0          0       0        0       0        0       0        0        0    0   \n1          0       0        0       0        0       0        0        0    0   \n2          0       0        0       0        0       0        0        0    0   \n3          0       0        0       0        0       0        0        0    0   \n4          0       0        0       0        0       0        0        0    0   \n\n   Music  Documentary  Foreign  TV Movie  \n0      0            0        0         0  \n1      0            0        0         0  \n2      0            0        0         0  \n3      0            0        0         0  \n4      0            0        0         0  ",
      "text/html": "<div>\n<style scoped>\n    .dataframe tbody tr th:only-of-type {\n        vertical-align: middle;\n    }\n\n    .dataframe tbody tr th {\n        vertical-align: top;\n    }\n\n    .dataframe thead th {\n        text-align: right;\n    }\n</style>\n<table border=\"1\" class=\"dataframe\">\n  <thead>\n    <tr style=\"text-align: right;\">\n      <th></th>\n      <th>Action</th>\n      <th>Adventure</th>\n      <th>Fantasy</th>\n      <th>Science Fiction</th>\n      <th>Crime</th>\n      <th>Drama</th>\n      <th>Thriller</th>\n      <th>Animation</th>\n      <th>Family</th>\n      <th>Western</th>\n      <th>Comedy</th>\n      <th>Romance</th>\n      <th>Horror</th>\n      <th>Mystery</th>\n      <th>History</th>\n      <th>War</th>\n      <th>Music</th>\n      <th>Documentary</th>\n      <th>Foreign</th>\n      <th>TV Movie</th>\n    </tr>\n  </thead>\n  <tbody>\n    <tr>\n      <th>0</th>\n      <td>0</td>\n      <td>0</td>\n      <td>0</td>\n      <td>0</td>\n      <td>0</td>\n      <td>0</td>\n      <td>0</td>\n      <td>0</td>\n      <td>0</td>\n      <td>0</td>\n      <td>0</td>\n      <td>0</td>\n      <td>0</td>\n      <td>0</td>\n      <td>0</td>\n      <td>0</td>\n      <td>0</td>\n      <td>0</td>\n      <td>0</td>\n      <td>0</td>\n    </tr>\n    <tr>\n      <th>1</th>\n      <td>0</td>\n      <td>0</td>\n      <td>0</td>\n      <td>0</td>\n      <td>0</td>\n      <td>0</td>\n      <td>0</td>\n      <td>0</td>\n      <td>0</td>\n      <td>0</td>\n      <td>0</td>\n      <td>0</td>\n      <td>0</td>\n      <td>0</td>\n      <td>0</td>\n      <td>0</td>\n      <td>0</td>\n      <td>0</td>\n      <td>0</td>\n      <td>0</td>\n    </tr>\n    <tr>\n      <th>2</th>\n      <td>0</td>\n      <td>0</td>\n      <td>0</td>\n      <td>0</td>\n      <td>0</td>\n      <td>0</td>\n      <td>0</td>\n      <td>0</td>\n      <td>0</td>\n      <td>0</td>\n      <td>0</td>\n      <td>0</td>\n      <td>0</td>\n      <td>0</td>\n      <td>0</td>\n      <td>0</td>\n      <td>0</td>\n      <td>0</td>\n      <td>0</td>\n      <td>0</td>\n    </tr>\n    <tr>\n      <th>3</th>\n      <td>0</td>\n      <td>0</td>\n      <td>0</td>\n      <td>0</td>\n      <td>0</td>\n      <td>0</td>\n      <td>0</td>\n      <td>0</td>\n      <td>0</td>\n      <td>0</td>\n      <td>0</td>\n      <td>0</td>\n      <td>0</td>\n      <td>0</td>\n      <td>0</td>\n      <td>0</td>\n      <td>0</td>\n      <td>0</td>\n      <td>0</td>\n      <td>0</td>\n    </tr>\n    <tr>\n      <th>4</th>\n      <td>0</td>\n      <td>0</td>\n      <td>0</td>\n      <td>0</td>\n      <td>0</td>\n      <td>0</td>\n      <td>0</td>\n      <td>0</td>\n      <td>0</td>\n      <td>0</td>\n      <td>0</td>\n      <td>0</td>\n      <td>0</td>\n      <td>0</td>\n      <td>0</td>\n      <td>0</td>\n      <td>0</td>\n      <td>0</td>\n      <td>0</td>\n      <td>0</td>\n    </tr>\n  </tbody>\n</table>\n</div>"
     },
     "execution_count": 12,
     "metadata": {},
     "output_type": "execute_result"
    }
   ],
   "source": [
    "a = [0]*4803*20\n",
    "df_genre = pd.DataFrame(np.array(a).reshape(4803, 20),\n",
    "                  columns=genres_list)\n",
    "df_genre.head()"
   ],
   "metadata": {
    "collapsed": false,
    "pycharm": {
     "name": "#%%\n"
    }
   }
  },
  {
   "cell_type": "code",
   "execution_count": 13,
   "outputs": [
    {
     "data": {
      "text/plain": "[['Action', 'Adventure', 'Fantasy', 'Science Fiction'],\n ['Adventure', 'Fantasy', 'Action'],\n ['Action', 'Adventure', 'Crime'],\n ['Action', 'Crime', 'Drama', 'Thriller'],\n ['Action', 'Adventure', 'Science Fiction'],\n ['Fantasy', 'Action', 'Adventure'],\n ['Animation', 'Family'],\n ['Action', 'Adventure', 'Science Fiction'],\n ['Adventure', 'Fantasy', 'Family'],\n ['Action', 'Adventure', 'Fantasy'],\n ['Adventure', 'Fantasy', 'Action', 'Science Fiction'],\n ['Adventure', 'Action', 'Thriller', 'Crime'],\n ['Adventure', 'Fantasy', 'Action'],\n ['Action', 'Adventure', 'Western'],\n ['Action', 'Adventure', 'Fantasy', 'Science Fiction'],\n ['Adventure', 'Family', 'Fantasy'],\n ['Science Fiction', 'Action', 'Adventure'],\n ['Adventure', 'Action', 'Fantasy'],\n ['Action', 'Comedy', 'Science Fiction'],\n ['Action', 'Adventure', 'Fantasy'],\n ['Action', 'Adventure', 'Fantasy'],\n ['Action', 'Adventure'],\n ['Adventure', 'Fantasy'],\n ['Adventure', 'Fantasy'],\n ['Adventure', 'Drama', 'Action'],\n ['Drama', 'Romance', 'Thriller'],\n ['Adventure', 'Action', 'Science Fiction'],\n ['Thriller', 'Action', 'Adventure', 'Science Fiction'],\n ['Action', 'Adventure', 'Science Fiction', 'Thriller'],\n ['Action', 'Adventure', 'Thriller'],\n ['Action', 'Adventure', 'Fantasy'],\n ['Action', 'Adventure', 'Science Fiction'],\n ['Family', 'Fantasy', 'Adventure'],\n ['Adventure', 'Action', 'Science Fiction', 'Thriller'],\n ['Animation', 'Family'],\n ['Science Fiction', 'Action', 'Adventure'],\n ['Science Fiction', 'Action', 'Adventure'],\n ['Fantasy', 'Adventure', 'Family'],\n ['Action', 'Adventure', 'Fantasy'],\n ['Adventure', 'Action', 'Science Fiction'],\n ['Animation', 'Family', 'Adventure', 'Comedy'],\n ['Adventure', 'Action', 'Thriller', 'Science Fiction'],\n ['Animation', 'Family', 'Comedy'],\n ['Action', 'Science Fiction', 'Thriller'],\n ['Action'],\n ['Action', 'Drama', 'Horror', 'Science Fiction', 'Thriller'],\n ['Action', 'Adventure', 'Fantasy', 'Science Fiction'],\n ['Action', 'Adventure', 'Science Fiction'],\n ['Action', 'Family', 'Fantasy'],\n ['Drama', 'Romance'],\n ['Adventure', 'Fantasy', 'Action', 'Romance'],\n ['Action', 'Science Fiction', 'Adventure'],\n ['Action', 'Science Fiction', 'Adventure'],\n ['Adventure', 'Action'],\n ['Adventure', 'Animation', 'Family'],\n ['Animation', 'Adventure', 'Comedy', 'Family', 'Action', 'Fantasy'],\n ['Action', 'Adventure', 'Science Fiction'],\n ['Animation', 'Family'],\n ['Action', 'Comedy', 'Crime', 'Thriller'],\n ['Action', 'Adventure', 'Science Fiction'],\n ['Animation', 'Drama'],\n ['Science Fiction', 'Fantasy', 'Action', 'Adventure'],\n ['Action', 'Adventure'],\n ['Adventure', 'Family', 'Fantasy'],\n ['Science Fiction'],\n ['Drama', 'Action', 'Crime', 'Thriller'],\n ['Animation', 'Comedy', 'Family', 'Adventure'],\n ['Animation', 'Family', 'Adventure', 'Science Fiction'],\n ['Action', 'Science Fiction', 'Adventure'],\n ['Adventure', 'Drama', 'Family'],\n ['Action', 'Adventure', 'Comedy', 'Science Fiction', 'Western'],\n ['Adventure', 'Action', 'Fantasy'],\n ['Action', 'Adventure', 'Crime', 'Fantasy', 'Science Fiction'],\n ['Fantasy', 'Comedy', 'Family'],\n ['Action', 'Science Fiction'],\n ['Adventure', 'Action'],\n ['Adventure', 'Action', 'Thriller', 'Science Fiction'],\n ['Drama', 'Comedy', 'Animation', 'Family'],\n ['Family', 'Adventure', 'Drama', 'Fantasy'],\n ['Adventure', 'Action', 'Science Fiction'],\n ['Adventure', 'Fantasy', 'Drama'],\n ['Fantasy', 'Adventure', 'Action', 'Family', 'Romance'],\n ['Science Fiction', 'Action', 'Drama', 'Thriller'],\n ['Action', 'Adventure', 'Science Fiction', 'Romance'],\n ['Drama', 'Action', 'Adventure', 'Fantasy'],\n ['Action', 'Adventure', 'Science Fiction'],\n ['Comedy', 'Adventure', 'Fantasy', 'Animation', 'Family'],\n ['Adventure', 'Family', 'Mystery', 'Science Fiction'],\n ['Adventure', 'Family', 'Animation', 'Action', 'Comedy'],\n ['Family', 'Animation', 'Comedy', 'Adventure'],\n ['Adventure', 'Animation', 'Family', 'Fantasy'],\n ['Action', 'Adventure', 'Science Fiction'],\n ['Fantasy', 'Adventure', 'Animation', 'Family'],\n ['Action', 'Thriller', 'Science Fiction'],\n ['Action', 'Science Fiction', 'Adventure'],\n ['Adventure', 'Drama', 'Science Fiction'],\n ['Action', 'Thriller', 'Science Fiction', 'Mystery', 'Adventure'],\n ['Action', 'Adventure', 'Drama', 'Horror', 'Science Fiction'],\n ['Adventure', 'Fantasy', 'Action'],\n ['Action', 'Crime', 'Thriller'],\n ['Fantasy', 'Drama', 'Thriller', 'Mystery', 'Romance'],\n ['Action', 'Science Fiction', 'Adventure'],\n ['Action', 'Adventure', 'Science Fiction'],\n ['Fantasy', 'Adventure', 'Action', 'Comedy', 'Drama'],\n ['Adventure', 'Action', 'Drama', 'Thriller'],\n ['Fantasy'],\n ['Fantasy', 'Adventure', 'Animation', 'Comedy', 'Family'],\n ['Action', 'Adventure', 'Fantasy'],\n ['Science Fiction', 'Action', 'Thriller', 'Adventure'],\n ['Adventure', 'Family', 'Fantasy'],\n ['History', 'Romance', 'War'],\n ['Adventure', 'Science Fiction', 'Action'],\n ['War', 'History', 'Action', 'Adventure', 'Drama', 'Romance'],\n ['Adventure', 'Fantasy', 'Family', 'Mystery'],\n ['Adventure', 'Fantasy', 'Family'],\n ['Fantasy', 'Action'],\n ['Drama', 'Horror', 'Action', 'Thriller', 'Science Fiction'],\n ['Adventure', 'Comedy', 'Family', 'Fantasy'],\n ['Animation', 'Comedy', 'Family', 'Fantasy'],\n ['Action', 'Crime', 'Drama'],\n ['Family', 'Animation'],\n ['Adventure', 'Fantasy', 'Action', 'Comedy', 'Family'],\n ['Adventure', 'Action', 'Thriller', 'Science Fiction'],\n ['Adventure', 'Action', 'Thriller', 'Science Fiction'],\n ['Animation', 'Adventure', 'Family'],\n ['Adventure', 'Action', 'Thriller', 'Science Fiction'],\n ['Action', 'Adventure', 'Fantasy'],\n ['Action', 'Adventure', 'Science Fiction', 'Thriller'],\n ['Thriller', 'Mystery'],\n ['Adventure', 'Fantasy', 'Action'],\n ['Animation', 'Family', 'Adventure', 'Comedy'],\n ['Fantasy', 'Action', 'Adventure', 'Family', 'Comedy'],\n ['Adventure'],\n ['Comedy', 'Fantasy'],\n ['Action', 'Adventure', 'Thriller'],\n ['Drama', 'Horror', 'Thriller'],\n ['Family', 'Animation', 'Adventure', 'Comedy'],\n ['Animation', 'Family'],\n ['Action', 'Adventure', 'Family', 'Fantasy'],\n ['Adventure', 'Action', 'Thriller'],\n ['Action', 'Drama', 'Thriller'],\n ['Adventure', 'Animation', 'Family'],\n ['Adventure', 'Animation', 'Comedy', 'Family'],\n ['Adventure', 'Family', 'Fantasy'],\n ['Animation', 'Adventure', 'Family'],\n ['Adventure', 'Drama', 'War'],\n ['Animation', 'Family'],\n ['Adventure', 'Action', 'Thriller'],\n ['Action', 'Fantasy', 'Comedy'],\n ['Action', 'Thriller', 'Science Fiction', 'Adventure'],\n ['Action', 'Adventure', 'Comedy', 'Science Fiction'],\n ['Adventure', 'Action', 'Animation'],\n ['Action', 'Adventure', 'Animation', 'Comedy', 'Family'],\n ['Action', 'Thriller', 'Adventure'],\n ['Fantasy', 'Animation', 'Family'],\n ['Comedy'],\n ['Drama', 'Action', 'War', 'History'],\n ['Adventure', 'Drama', 'Action'],\n ['Science Fiction', 'Action', 'Adventure'],\n ['Fantasy', 'Action'],\n ['Fantasy', 'Action', 'Adventure', 'Animation', 'Comedy', 'Family'],\n ['Fantasy'],\n ['Action'],\n ['Action', 'Mystery', 'Science Fiction'],\n ['Action', 'Adventure', 'Comedy', 'Crime', 'Thriller'],\n ['Drama', 'Action', 'Science Fiction'],\n ['Adventure', 'Action', 'Science Fiction', 'Thriller'],\n ['Action', 'Adventure', 'Comedy', 'Drama', 'Mystery'],\n ['Adventure',\n  'Action',\n  'Animation',\n  'Fantasy',\n  'Science Fiction',\n  'Thriller'],\n ['Action', 'Adventure', 'Science Fiction'],\n ['Adventure', 'Action', 'Thriller'],\n ['Adventure'],\n ['Adventure', 'Fantasy', 'Drama', 'Romance'],\n ['Animation', 'Comedy', 'Family'],\n ['Science Fiction', 'Action', 'Adventure'],\n ['Adventure', 'Family', 'Fantasy'],\n ['Western', 'Drama', 'Adventure', 'Thriller'],\n ['Animation', 'Family'],\n ['Animation', 'Comedy', 'Family', 'Western', 'Adventure'],\n ['Family', 'Animation', 'Adventure', 'Comedy'],\n ['Action', 'Drama', 'Mystery', 'Thriller'],\n ['Adventure', 'Animation', 'Family', 'Comedy'],\n ['Science Fiction', 'Action', 'Adventure'],\n ['Adventure', 'Action', 'Science Fiction'],\n ['Fantasy', 'Comedy', 'Animation', 'Science Fiction', 'Family'],\n ['Adventure', 'Thriller', 'Science Fiction'],\n ['Adventure', 'Action', 'Comedy', 'Thriller', 'Crime'],\n ['Action', 'Adventure', 'Animation', 'Family', 'Fantasy'],\n ['Action', 'Mystery', 'Thriller'],\n ['Drama', 'Adventure'],\n ['Adventure', 'Animation', 'Mystery'],\n ['Adventure', 'Fantasy', 'Family'],\n ['Drama'],\n ['Science Fiction', 'Action', 'Adventure'],\n ['Animation', 'Family'],\n ['Adventure', 'Comedy', 'Fantasy', 'Family'],\n ['Animation', 'Action', 'Comedy', 'Family', 'Science Fiction'],\n ['Adventure', 'Fantasy', 'Family'],\n ['Fantasy', 'Action', 'Comedy', 'Crime'],\n ['Adventure', 'Fantasy', 'Action'],\n ['Science Fiction', 'Adventure', 'Thriller'],\n ['Thriller', 'Mystery'],\n ['Animation', 'Adventure', 'Comedy', 'Family'],\n ['Adventure', 'Action', 'Science Fiction', 'Thriller'],\n ['Action', 'Thriller', 'Crime'],\n ['Adventure', 'Action', 'Crime', 'Mystery'],\n ['Adventure', 'Fantasy', 'Action'],\n ['Action', 'Adventure', 'Science Fiction'],\n ['Adventure', 'Fantasy', 'Action'],\n ['Action', 'Thriller'],\n ['Action', 'Crime', 'Fantasy'],\n ['Family', 'Comedy', 'Fantasy'],\n ['Action', 'Adventure', 'Science Fiction', 'Thriller'],\n ['Adventure', 'Action', 'Thriller'],\n ['Drama'],\n ['Adventure', 'Fantasy', 'Action', 'Thriller'],\n ['Adventure', 'Drama', 'Action'],\n ['Thriller', 'Action', 'Fantasy', 'Horror'],\n ['Action', 'Thriller'],\n ['Action', 'Adventure', 'Comedy'],\n ['Science Fiction', 'Adventure', 'Mystery'],\n ['Family', 'Adventure', 'Animation', 'Comedy'],\n ['Science Fiction', 'Action', 'Drama', 'Thriller'],\n ['Action', 'Science Fiction'],\n ['Action', 'Science Fiction'],\n ['Action', 'Family', 'Science Fiction'],\n ['Comedy', 'Drama', 'Romance'],\n ['Action', 'Comedy'],\n ['Action', 'Science Fiction', 'Adventure', 'Mystery'],\n ['Science Fiction', 'Adventure', 'Action'],\n ['Adventure', 'Action', 'Science Fiction'],\n ['Animation', 'Comedy', 'Family'],\n ['Action', 'Science Fiction', 'Adventure', 'Fantasy'],\n ['Adventure', 'Action', 'Science Fiction'],\n ['Adventure', 'Animation', 'Comedy', 'Family', 'Fantasy'],\n ['Fantasy', 'Adventure', 'Comedy', 'Family'],\n ['Drama', 'Action', 'History', 'War'],\n ['Action', 'Adventure', 'Drama'],\n ['Science Fiction', 'Action', 'Adventure', 'Fantasy', 'Comedy'],\n ['Science Fiction', 'Thriller', 'Drama'],\n ['Action', 'Adventure', 'Thriller'],\n ['Fantasy', 'Action', 'Adventure', 'Comedy'],\n ['Action', 'Adventure', 'Science Fiction'],\n ['Action', 'Adventure', 'Comedy', 'Family', 'Fantasy'],\n ['Action', 'Drama', 'Thriller'],\n ['Adventure', 'Action', 'Thriller'],\n ['Drama', 'History', 'War', 'Action'],\n ['Thriller', 'Crime'],\n ['Action', 'Comedy', 'Drama', 'Thriller'],\n ['Adventure', 'Science Fiction', 'Thriller'],\n ['Drama'],\n ['Comedy'],\n ['Action', 'Crime', 'Comedy'],\n ['Action', 'War'],\n ['Animation', 'Family', 'Adventure', 'Comedy', 'Fantasy'],\n ['Animation', 'Family'],\n ['Adventure', 'Science Fiction'],\n ['Action', 'Science Fiction', 'Drama'],\n ['Fantasy', 'Family', 'Comedy', 'Animation'],\n ['Action', 'Adventure', 'Thriller'],\n ['Science Fiction', 'Action', 'Adventure'],\n ['Action', 'Thriller'],\n ['Adventure', 'Fantasy', 'Action'],\n ['Action', 'Adventure', 'Comedy'],\n ['Drama'],\n ['Comedy', 'Fantasy', 'Family'],\n ['Action', 'Science Fiction'],\n ['Drama', 'Action', 'Adventure', 'History', 'War'],\n ['Animation', 'Fantasy', 'Family', 'Comedy'],\n ['Romance', 'Family', 'Animation', 'Music'],\n ['Drama', 'Adventure', 'Science Fiction'],\n ['Action', 'Thriller', 'Science Fiction', 'Adventure'],\n ['Comedy', 'Romance'],\n ['Action', 'Crime', 'Thriller'],\n ['Action', 'Drama', 'Adventure'],\n ['Action', 'Thriller', 'Science Fiction', 'Mystery'],\n ['Adventure', 'Fantasy', 'Family'],\n ['Adventure', 'Action', 'Thriller'],\n ['Thriller', 'Science Fiction', 'Action', 'Adventure'],\n ['Action', 'Thriller', 'Science Fiction'],\n ['History', 'Crime', 'Drama'],\n ['Drama', 'Crime'],\n ['Action', 'Thriller'],\n ['Thriller', 'Drama', 'Crime'],\n ['Comedy', 'Romance'],\n ['Action', 'Comedy', 'Crime'],\n ['Action', 'Drama', 'Mystery', 'Thriller'],\n ['Drama', 'Western'],\n ['Drama', 'Animation', 'Family'],\n ['Adventure', 'Animation', 'Comedy', 'Family', 'Fantasy'],\n ['Action', 'Adventure', 'Thriller'],\n ['Adventure', 'Action', 'Thriller', 'Mystery'],\n ['Fantasy', 'Action', 'Adventure', 'Family'],\n ['Family', 'Fantasy'],\n ['Animation', 'Adventure', 'Family', 'Fantasy'],\n ['Action', 'Thriller', 'Romance'],\n ['Action', 'Fantasy', 'Horror', 'Mystery'],\n ['Drama', 'Thriller', 'Action'],\n ['Crime', 'Drama', 'Comedy'],\n ['Action', 'Crime', 'Fantasy'],\n ['Adventure', 'Action', 'Thriller', 'Science Fiction'],\n ['Drama', 'Science Fiction'],\n ['Animation', 'Adventure', 'Family', 'Fantasy'],\n ['Action', 'Crime'],\n ['Action', 'Adventure'],\n ['Adventure', 'Animation', 'Family', 'Fantasy', 'Science Fiction'],\n ['Adventure', 'Comedy', 'Science Fiction'],\n ['Action', 'Adventure', 'Thriller'],\n ['Action', 'Crime', 'Thriller'],\n ['Fantasy', 'Comedy', 'Family', 'Adventure'],\n ['Thriller', 'Drama', 'Adventure', 'Action', 'History'],\n ['Action', 'Comedy', 'Science Fiction'],\n ['War', 'Action', 'Adventure', 'Drama', 'Thriller'],\n ['Animation'],\n ['Crime', 'Drama', 'Mystery', 'Thriller'],\n ['Adventure', 'Action', 'Fantasy'],\n ['Drama', 'History', 'Crime'],\n ['Drama', 'History', 'War'],\n ['Animation', 'Comedy', 'Family'],\n ['Action', 'Comedy', 'Science Fiction'],\n ['Action', 'History', 'War'],\n ['Comedy'],\n ['Adventure', 'Fantasy', 'Action', 'Thriller', 'Science Fiction'],\n ['Comedy', 'Drama', 'Romance'],\n ['Adventure', 'Animation', 'Comedy', 'Family'],\n ['Animation', 'Comedy', 'Adventure', 'Family'],\n ['Romance', 'Fantasy', 'Family', 'Drama'],\n ['Fantasy', 'Drama'],\n ['Animation', 'Family'],\n ['Adventure', 'Fantasy', 'Action'],\n ['Adventure', 'Fantasy', 'Action'],\n ['Adventure', 'Fantasy'],\n ['Adventure', 'Fantasy', 'Action', 'Thriller'],\n ['Thriller', 'Science Fiction', 'Drama', 'Mystery'],\n ['Adventure', 'Action', 'Thriller', 'Science Fiction'],\n ['Thriller', 'Action', 'Drama', 'Science Fiction'],\n ['Adventure', 'Family', 'Fantasy'],\n ['Action', 'Thriller'],\n ['Western', 'History', 'War'],\n ['Action', 'Adventure', 'Animation', 'Family'],\n ['Action', 'Adventure'],\n ['Adventure', 'Fantasy', 'Family'],\n ['Action', 'Adventure', 'Comedy', 'Science Fiction'],\n ['Animation', 'Comedy', 'Family'],\n ['Action', 'Thriller'],\n ['Action', 'Comedy', 'Crime', 'Thriller'],\n ['Drama', 'Horror', 'Mystery', 'Thriller'],\n ['Animation', 'Comedy', 'Family'],\n ['Animation', 'Comedy', 'Family', 'Adventure'],\n ['Adventure', 'Comedy', 'Drama', 'Fantasy'],\n ['Action', 'Adventure', 'Comedy', 'Crime', 'Thriller'],\n ['Drama', 'Thriller', 'Crime'],\n ['Animation', 'Family', 'Adventure'],\n ['Action', 'Comedy'],\n ['Thriller', 'Crime', 'Mystery', 'Drama'],\n ['Action', 'Thriller'],\n ['Action', 'Adventure', 'Crime', 'Mystery'],\n ['Drama'],\n ['Animation', 'Family', 'Adventure', 'Science Fiction'],\n ['Adventure', 'Animation', 'Comedy', 'Family'],\n ['Drama', 'Thriller', 'History', 'War'],\n ['Comedy', 'Action'],\n ['Action', 'Comedy', 'Science Fiction'],\n ['Drama', 'Science Fiction', 'Adventure'],\n ['Thriller', 'Fantasy', 'Comedy', 'Family', 'Mystery'],\n ['Drama', 'Science Fiction', 'Mystery'],\n ['Action', 'Science Fiction', 'Thriller'],\n ['Crime', 'Thriller'],\n ['Adventure', 'Family', 'Fantasy'],\n ['Action', 'Adventure', 'Fantasy', 'Thriller'],\n ['Action', 'Adventure', 'Comedy', 'Crime', 'Mystery', 'Thriller'],\n ['Thriller', 'Action', 'Romance', 'Science Fiction', 'Adventure'],\n ['Action', 'Crime', 'Thriller'],\n ['Science Fiction'],\n ['Animation', 'Adventure', 'Comedy', 'Family'],\n ['Comedy', 'Science Fiction'],\n ['Science Fiction', 'Action', 'Drama', 'Thriller'],\n ['Crime', 'Thriller', 'Drama'],\n ['Drama', 'History', 'Thriller'],\n ['Adventure', 'Fantasy', 'Action'],\n ['Romance', 'Drama', 'History'],\n ['Fantasy', 'Action', 'Family'],\n ['Drama', 'History'],\n ['Action', 'Adventure', 'Drama'],\n ['Adventure', 'Drama'],\n ['Animation', 'Comedy'],\n ['Action', 'Drama', 'Thriller'],\n ['Action', 'Thriller'],\n ['Thriller', 'Crime'],\n ['Adventure', 'Action', 'Thriller'],\n ['Animation', 'Comedy', 'Family', 'Fantasy'],\n ['Comedy', 'Family', 'Fantasy', 'Romance'],\n ['Action', 'Thriller'],\n ['Comedy', 'Family'],\n ['Action', 'Comedy'],\n ['Comedy', 'Romance'],\n ['Action', 'Drama', 'Thriller'],\n ['Comedy', 'Romance'],\n ['Crime', 'Thriller'],\n ['Adventure', 'Animation', 'Family'],\n ['Adventure', 'Action', 'Science Fiction'],\n ['War'],\n ['Adventure', 'Action', 'Comedy', 'Thriller'],\n ['Adventure', 'Fantasy', 'Action', 'Comedy', 'Family'],\n ['Drama', 'History', 'Romance'],\n ['Action', 'Crime', 'Drama', 'Thriller'],\n ['Drama', 'Animation', 'Family', 'Comedy'],\n ['Fantasy', 'Drama', 'Mystery'],\n ['Action', 'Thriller', 'Drama'],\n ['Drama', 'Music'],\n ['Adventure', 'Fantasy', 'Drama', 'Comedy', 'Science Fiction', 'Family'],\n ['Action', 'Adventure', 'Comedy'],\n ['Action', 'Thriller', 'Adventure', 'Science Fiction'],\n ['Fantasy', 'Comedy', 'Romance', 'Science Fiction'],\n ['Mystery', 'Adventure', 'Comedy'],\n ['Action', 'Science Fiction'],\n ['Comedy', 'Drama', 'Fantasy', 'Romance'],\n ['Horror', 'Comedy', 'Fantasy'],\n ['Comedy', 'Family'],\n ['Adventure', 'Fantasy', 'Science Fiction'],\n ['Adventure', 'Fantasy', 'Science Fiction'],\n ['Crime', 'Drama', 'Mystery', 'Thriller'],\n ['Science Fiction'],\n ['Fantasy', 'Comedy'],\n ['Thriller', 'Adventure', 'Action'],\n ['Adventure', 'Action', 'Thriller'],\n ['Science Fiction', 'Adventure', 'Fantasy'],\n ['Comedy'],\n ['Action', 'Fantasy'],\n ['Comedy', 'Animation', 'Family'],\n ['Animation', 'Family'],\n ['Comedy', 'Family', 'Fantasy'],\n ['Action', 'Drama', 'Romance'],\n ['Action', 'Comedy', 'Crime', 'Thriller'],\n ['Comedy', 'Drama'],\n ['Comedy', 'Fantasy', 'Family', 'Music', 'Animation'],\n ['Comedy'],\n ['Action', 'Comedy', 'Thriller'],\n ['Drama', 'Comedy', 'Romance'],\n ['Drama', 'Thriller', 'Mystery'],\n ['Comedy', 'Romance', 'Drama'],\n ['Animation', 'Comedy', 'Family', 'Science Fiction'],\n ['Action', 'Crime', 'Science Fiction', 'Thriller'],\n ['Fantasy', 'Comedy', 'Family', 'Romance'],\n ['Thriller', 'Crime', 'Drama'],\n ['Romance', 'Comedy'],\n ['Action', 'Thriller', 'Crime'],\n ['Mystery', 'Thriller', 'Action'],\n ['Drama'],\n ['Action', 'Thriller', 'Science Fiction'],\n ['Comedy', 'Family', 'Science Fiction'],\n ['Horror', 'Thriller', 'Fantasy', 'Mystery'],\n ['Animation', 'Comedy', 'Drama', 'Family', 'Fantasy'],\n ['Action', 'Comedy', 'Crime', 'Mystery', 'Family'],\n ['Drama', 'Science Fiction', 'Thriller'],\n ['Action', 'Drama', 'Mystery', 'Thriller'],\n ['War', 'Drama', 'Action'],\n ['Action', 'Adventure', 'Comedy', 'Romance'],\n ['Comedy', 'Family', 'Animation', 'Adventure'],\n ['Western', 'Animation', 'Adventure', 'Comedy', 'Family'],\n ['Comedy', 'Romance', 'Family'],\n ['Adventure', 'Family', 'Science Fiction'],\n ['Drama', 'Thriller', 'Mystery'],\n ['Romance', 'Drama'],\n ['Animation', 'Comedy', 'Family'],\n ['Animation', 'Family', 'Music'],\n ['Science Fiction', 'Adventure', 'Action'],\n ['Action', 'Adventure', 'Family', 'Fantasy'],\n ['Action', 'Crime', 'Thriller'],\n ['Action', 'Adventure'],\n ['Drama', 'Fantasy', 'Romance'],\n ['Comedy', 'Fantasy', 'Romance'],\n ['Adventure', 'Fantasy', 'Action', 'Comedy', 'Thriller'],\n ['Comedy', 'Fantasy', 'Science Fiction'],\n ['Mystery', 'Drama', 'Horror'],\n ['Action', 'Adventure', 'Drama'],\n ['Action', 'Science Fiction', 'Thriller'],\n ['Drama', 'Thriller'],\n ['Action', 'Adventure', 'Thriller'],\n ['Animation', 'Family', 'Adventure'],\n ['Action', 'Science Fiction', 'War'],\n ['Animation', 'Comedy', 'Family'],\n ['Drama', 'Music', 'Romance'],\n ['Action', 'Adventure', 'Science Fiction'],\n ['Drama', 'Adventure'],\n ['Adventure', 'Comedy', 'Drama', 'Family', 'Fantasy'],\n ['Fantasy', 'Action', 'Adventure'],\n ['Thriller', 'Action', 'Science Fiction'],\n ['Adventure', 'Fantasy', 'Animation', 'Family'],\n ['Documentary', 'Family'],\n ['Thriller', 'Science Fiction', 'Adventure', 'Action'],\n ['Action', 'Adventure', 'History', 'Romance', 'Drama'],\n ['Comedy', 'Animation'],\n ['Drama', 'Romance'],\n ['Family', 'Animation', 'Drama'],\n ['Adventure', 'Action', 'Science Fiction'],\n ['Animation', 'Family', 'Comedy'],\n ['Crime', 'Thriller', 'Horror'],\n ['Western', 'Adventure'],\n ['Comedy'],\n ['Action', 'Crime', 'Thriller'],\n ['Adventure', 'Animation', 'Fantasy'],\n ['Science Fiction', 'Thriller'],\n ['Action', 'Adventure', 'Animation', 'Comedy', 'Family'],\n ['Animation', 'Family'],\n ['Fantasy', 'Action', 'Thriller', 'Science Fiction'],\n ['Animation', 'Comedy', 'Family'],\n ['Action', 'Adventure', 'Science Fiction'],\n ['Adventure', 'Action', 'Science Fiction'],\n ['Family', 'Animation'],\n ['Drama', 'Action', 'Thriller', 'Science Fiction'],\n ['Adventure', 'Action', 'Science Fiction'],\n ['Action', 'Thriller', 'Crime'],\n ['Action', 'Adventure', 'Thriller'],\n ['Animation', 'Family', 'Comedy', 'Adventure'],\n ['Comedy', 'Romance'],\n ['Family', 'Comedy', 'Music', 'Romance'],\n ['Horror', 'Mystery', 'Thriller'],\n ['Action', 'Adventure', 'Comedy', 'Family'],\n ['Thriller', 'Crime'],\n ['Comedy'],\n ['Comedy', 'Drama'],\n ['Comedy', 'Family'],\n ['Action', 'Adventure', 'Thriller'],\n ['Comedy', 'Drama', 'History'],\n ['Animation', 'Action', 'Comedy', 'Family'],\n ['Drama'],\n ['Comedy', 'Crime'],\n ['Drama', 'Action', 'History', 'Thriller'],\n ['Action', 'Drama', 'War'],\n ['Action', 'Comedy', 'Thriller', 'Romance'],\n ['Comedy', 'Action', 'Adventure'],\n ['Comedy'],\n ['Animation', 'Comedy', 'Family', 'Fantasy'],\n ['Action', 'Comedy', 'Crime', 'Romance'],\n ['Action', 'Adventure', 'Drama', 'Romance'],\n ['Drama', 'History', 'Romance'],\n ['Fantasy', 'Action', 'Drama'],\n ['Mystery', 'Drama', 'Thriller', 'Crime'],\n ['Animation', 'Action', 'Science Fiction', 'Family', 'Adventure'],\n ['Action', 'Adventure', 'Comedy', 'Thriller'],\n ['Action', 'War', 'Science Fiction'],\n ['Action', 'Drama', 'Horror', 'Science Fiction', 'Thriller'],\n ['Adventure', 'Fantasy', 'Animation', 'Action', 'Comedy'],\n ['Action', 'Adventure', 'Drama', 'Thriller'],\n ['Science Fiction', 'Thriller', 'Drama'],\n ['Family', 'Animation', 'Adventure', 'Comedy'],\n ['Action', 'Fantasy', 'Thriller'],\n ['Crime', 'Mystery'],\n ['Science Fiction'],\n ['Family', 'Animation'],\n ['Romance', 'Comedy', 'Adventure'],\n ['Comedy', 'Drama'],\n ['Thriller', 'Action', 'Drama'],\n ['Comedy'],\n ['Comedy', 'Family', 'Romance', 'Fantasy'],\n ['Action', 'Drama', 'History', 'War'],\n ['Drama', 'War'],\n ['Animation', 'Comedy', 'Family'],\n ['Drama', 'Romance'],\n ['Action'],\n ['Adventure', 'Drama', 'Family'],\n ['Drama', 'Mystery', 'Thriller'],\n ['Comedy', 'Family', 'Fantasy'],\n ['Drama', 'Thriller', 'Science Fiction', 'Mystery'],\n ['Adventure', 'Animation', 'Comedy', 'Family', 'Fantasy'],\n ['Animation', 'Adventure', 'Comedy', 'Family'],\n ['Comedy', 'Romance'],\n ['Action', 'Adventure', 'Thriller'],\n ['Animation', 'Adventure', 'Comedy', 'Family'],\n ['Action', 'Thriller'],\n ['Drama', 'Action', 'Thriller', 'War'],\n ['Adventure', 'Fantasy', 'Comedy', 'Family'],\n ['Action', 'Thriller'],\n ['Action', 'Thriller', 'Crime'],\n ['Drama', 'Mystery', 'Romance', 'Science Fiction', 'Thriller'],\n ['Drama', 'Thriller', 'Fantasy', 'Mystery'],\n ['Adventure', 'Science Fiction', 'Action'],\n ['Comedy', 'Family', 'Animation', 'Fantasy', 'Music'],\n ['Action', 'History', 'War'],\n ['Action', 'Thriller'],\n ['Science Fiction', 'Action', 'Adventure', 'Thriller'],\n ['Action', 'Science Fiction'],\n ['Adventure', 'Fantasy', 'Drama'],\n ['Fantasy'],\n ['Drama', 'War'],\n ['War', 'Drama', 'History', 'Action'],\n ['Adventure', 'Action', 'Thriller', 'Science Fiction'],\n ['Drama', 'Crime'],\n ['Horror', 'Action', 'Drama', 'Fantasy', 'War'],\n ['Drama', 'Action', 'Thriller', 'Crime'],\n ['Adventure', 'Fantasy', 'Romance', 'Family'],\n ['Adventure', 'Drama', 'History'],\n ['Comedy', 'Drama'],\n ['Action', 'Adventure', 'Comedy', 'Thriller'],\n ['Adventure', 'Action', 'Horror'],\n ['Action', 'Adventure', 'Comedy', 'Thriller'],\n ['Fantasy', 'Action', 'Horror'],\n ['Comedy', 'Drama', 'Music', 'Romance'],\n ['Drama', 'War'],\n ['Action', 'Adventure', 'Thriller'],\n ['Action', 'Science Fiction', 'Thriller'],\n ['Action', 'Adventure', 'Thriller'],\n ['Thriller'],\n ['Adventure', 'Animation', 'Action', 'Comedy', 'Family'],\n ['Animation', 'Music', 'Family'],\n ['Crime', 'Drama', 'Mystery'],\n ['Mystery', 'Action', 'Thriller', 'Science Fiction', 'Adventure'],\n ['Crime', 'Mystery', 'Thriller'],\n ['Action', 'Thriller'],\n ['Action', 'Adventure'],\n ['Thriller', 'Action', 'Drama'],\n ['Adventure', 'Fantasy', 'Drama', 'Romance'],\n ['Action', 'Crime', 'Thriller'],\n ['Animation', 'Family'],\n ['Action', 'Comedy', 'Crime'],\n ['Comedy'],\n ['Adventure', 'Drama', 'History'],\n ['Adventure', 'Fantasy', 'Action', 'Comedy', 'Science Fiction'],\n ['Comedy'],\n ['Drama', 'Thriller'],\n ['Action', 'Drama', 'History', 'Thriller'],\n ['Action', 'Drama', 'Thriller'],\n ['Comedy'],\n ['Action', 'Fantasy', 'Horror'],\n ['Romance', 'Drama', 'Mystery'],\n ['Mystery', 'Science Fiction', 'Thriller'],\n ['Action', 'Adventure', 'Fantasy', 'War'],\n ['Drama', 'History', 'War'],\n ['Action', 'Crime', 'Drama', 'Thriller'],\n ['Comedy', 'Romance'],\n ['Animation', 'Comedy', 'Family', 'Adventure'],\n ['Drama', 'Horror', 'Science Fiction', 'Thriller'],\n ['History', 'Drama'],\n ['Action', 'Science Fiction'],\n ['Drama'],\n ['Fantasy', 'Comedy', 'Family'],\n ['Drama', 'Music', 'Romance'],\n ['Comedy', 'Romance'],\n ['Comedy'],\n ['Action', 'Adventure'],\n ['Comedy', 'Drama'],\n ['Drama', 'War'],\n ['Action', 'Adventure', 'Thriller'],\n ['Action', 'Adventure', 'Thriller'],\n ['Action', 'Adventure', 'Drama', 'Thriller'],\n ['Fantasy', 'Comedy', 'Family'],\n ['Drama', 'History', 'Thriller'],\n ['Drama', 'Romance'],\n ['Comedy'],\n ['Mystery', 'Drama'],\n ['Comedy', 'Drama', 'Family'],\n ['Romance', 'Comedy', 'Crime', 'Drama'],\n ['Action', 'Comedy', 'Romance'],\n ['Science Fiction', 'Action', 'Horror', 'Thriller', 'Adventure', 'Fantasy'],\n ['Action', 'Thriller'],\n ['Comedy', 'Drama'],\n ['Action', 'Horror', 'Science Fiction'],\n ['Action', 'Thriller', 'Science Fiction'],\n ['Crime', 'Action', 'Mystery', 'Thriller'],\n ['Action', 'Adventure', 'Drama', 'Romance', 'Thriller'],\n ['Family', 'Fantasy', 'Science Fiction', 'Adventure'],\n ['Drama'],\n ['Drama'],\n ['Action', 'Adventure', 'Comedy'],\n ['Action', 'Adventure', 'Comedy', 'Crime', 'Romance', 'Thriller'],\n ['Horror', 'Thriller'],\n ['Crime', 'Drama', 'Family'],\n ['Action', 'Fantasy'],\n ['Crime', 'Thriller'],\n ['Drama', 'Romance'],\n ['Adventure', 'Drama'],\n ['Crime', 'Fantasy', 'Drama'],\n ['Comedy', 'Crime', 'Science Fiction'],\n ['Animation', 'Action', 'Family', 'Science Fiction'],\n ['Adventure', 'Science Fiction'],\n ['Drama', 'Action', 'Western'],\n ['Action', 'Drama', 'Thriller'],\n ['Action', 'Drama', 'Adventure'],\n ['Comedy', 'Crime'],\n ['Action', 'Drama', 'Thriller', 'War'],\n ['Comedy', 'Drama', 'Romance'],\n ['Comedy', 'Romance'],\n ['Action', 'Adventure', 'Comedy', 'Thriller', 'Crime'],\n ['Crime', 'Drama', 'Mystery', 'Western'],\n ['Action', 'Comedy', 'Drama'],\n ['Animation', 'Comedy', 'Family'],\n ['Action', 'Adventure', 'War'],\n ['Comedy', 'Romance'],\n ['Comedy', 'Family'],\n ['Fantasy', 'Drama', 'Crime'],\n ['Action', 'Adventure', 'Comedy'],\n ['Animation', 'Family', 'Comedy'],\n ['Mystery', 'Thriller', 'Drama'],\n ['Action', 'Drama', 'Mystery', 'Thriller'],\n ['Adventure', 'Action', 'Thriller'],\n ['Crime', 'Drama', 'Mystery', 'Thriller'],\n ['Comedy', 'Drama'],\n ['Adventure', 'Animation', 'Drama', 'Family', 'Music'],\n ['Comedy', 'Family'],\n ['Action', 'Comedy', 'Crime'],\n ['Comedy', 'Family'],\n ['Action', 'Crime'],\n ['Romance', 'Comedy'],\n ['Adventure', 'Animation', 'Comedy', 'Family'],\n ['Comedy', 'Romance'],\n ['Adventure'],\n ['Comedy'],\n ['Action'],\n ['Drama'],\n ['Comedy', 'Drama', 'Romance', 'Fantasy'],\n ['Action', 'Adventure', 'Comedy', 'Crime', 'Thriller'],\n ['Drama'],\n ['Drama', 'Romance'],\n ['Drama', 'Crime', 'Thriller'],\n ['Action', 'Fantasy', 'Adventure'],\n ['Drama', 'Action', 'Thriller'],\n ['Crime', 'Drama', 'Thriller'],\n ['Action', 'Science Fiction', 'Thriller'],\n ['Music', 'Documentary'],\n ['Drama', 'Thriller', 'Science Fiction'],\n ['Comedy', 'Adventure', 'Crime'],\n ['Animation', 'Family'],\n ['Thriller', 'Science Fiction'],\n ['Action', 'Drama', 'Thriller', 'Crime'],\n ['Comedy', 'Family'],\n ['Comedy', 'Crime'],\n ['Family', 'Comedy'],\n ['Fantasy', 'Action', 'Science Fiction'],\n ['Drama'],\n ['Family', 'Animation', 'Adventure', 'Comedy'],\n ['Action', 'Thriller', 'Adventure', 'Crime'],\n ['Action', 'Adventure', 'Mystery', 'Science Fiction', 'Thriller'],\n ['Drama', 'Romance'],\n ['Adventure', 'Animation', 'Family'],\n ['Thriller', 'Action', 'Comedy', 'Science Fiction'],\n ['Action', 'Thriller'],\n ['Action', 'Drama', 'Thriller'],\n ['Drama', 'Comedy'],\n ['Action', 'Crime', 'Thriller'],\n ['Science Fiction', 'Horror', 'Action'],\n ['Action', 'Drama', 'Mystery', 'Thriller', 'Crime'],\n ['Animation', 'Comedy', 'Family', 'Fantasy'],\n ['Drama', 'Fantasy', 'Comedy'],\n ['Adventure', 'Animation', 'Comedy', 'Family', 'Fantasy'],\n ['Action', 'Comedy'],\n ['Adventure', 'Action', 'Fantasy'],\n ['Crime', 'Drama', 'Action', 'Thriller'],\n ['Comedy', 'Adventure'],\n ['Drama', 'History'],\n ['Action'],\n ['Romance', 'Comedy', 'Crime'],\n ['Comedy', 'Drama', 'Family', 'Science Fiction'],\n ['Action', 'Thriller', 'Crime'],\n ['Science Fiction', 'Animation', 'Family', 'Comedy', 'Adventure'],\n ['Science Fiction', 'Action', 'Adventure', 'Thriller'],\n ['Crime', 'Comedy', 'Romance'],\n ['Drama', 'Romance'],\n ['Crime', 'Drama', 'Mystery', 'Thriller'],\n ['Horror', 'Mystery', 'Thriller'],\n ['Comedy', 'Crime'],\n ['Action', 'Crime', 'Drama', 'Thriller'],\n ['Action', 'Crime', 'Drama', 'Thriller'],\n ['Drama'],\n ['Fantasy', 'Drama'],\n ['Drama', 'Music'],\n ['Animation', 'Comedy', 'Family'],\n ['Action', 'Adventure', 'Crime', 'Drama', 'Mystery', 'Thriller'],\n ['Action', 'Science Fiction', 'Fantasy', 'Thriller', 'Horror'],\n ['Family', 'Animation', 'Adventure'],\n ['Horror', 'Science Fiction', 'Mystery'],\n ['Drama'],\n ['Drama'],\n ['Action', 'Adventure', 'Drama', 'History', 'Romance', 'War'],\n ['Action', 'Drama', 'Thriller'],\n ['Horror', 'Science Fiction', 'Thriller'],\n ['Drama', 'Fantasy', 'Mystery', 'Romance'],\n ['Action', 'Adventure', 'Drama', 'Mystery', 'Romance', 'Fantasy'],\n ['Comedy', 'Science Fiction', 'Adventure', 'Family'],\n ['Drama', 'Horror', 'Thriller'],\n ['Comedy'],\n ['Adventure', 'Family', 'Fantasy'],\n ['Action', 'Comedy', 'Thriller', 'Crime', 'Science Fiction'],\n ['Comedy', 'Adventure'],\n ['Adventure', 'Fantasy', 'Action', 'Drama'],\n ['Drama', 'Romance', 'Adventure', 'War'],\n ['Action', 'Adventure', 'Fantasy'],\n ['Action', 'History', 'War'],\n ['Action', 'Adventure', 'Comedy'],\n ['Drama', 'Comedy'],\n ['War', 'Action'],\n ['Adventure', 'Horror', 'Comedy'],\n ['Comedy', 'Fantasy', 'Romance'],\n ['Science Fiction', 'Comedy', 'Family', 'Romance'],\n ['Action', 'Adventure', 'Thriller', 'War'],\n ['Comedy', 'Romance', 'Drama'],\n ['Comedy', 'Western'],\n ['Comedy'],\n ['Comedy'],\n ['Action', 'Adventure', 'Horror', 'Science Fiction'],\n ['Drama', 'Action', 'Adventure', 'History', 'War'],\n ['Drama', 'Horror', 'Mystery', 'Thriller'],\n ['Comedy'],\n ['Fantasy'],\n ['Action', 'Comedy', 'Crime', 'Drama'],\n ['Action', 'Fantasy', 'Thriller'],\n ['Drama', 'History', 'Romance'],\n ['Action', 'Comedy', 'Drama', 'Family', 'Thriller'],\n ['Adventure', 'Drama', 'Action', 'Thriller'],\n ['Comedy', 'Drama', 'Romance'],\n ['Comedy', 'Music', 'Family', 'Fantasy', 'Animation'],\n ['Comedy', 'Romance'],\n ['Adventure', 'Animation', 'Drama', 'Family'],\n ['Action', 'Adventure', 'Fantasy', 'Science Fiction'],\n ['Fantasy', 'Comedy', 'Romance', 'Science Fiction'],\n ['Comedy', 'Drama', 'Romance'],\n ['Adventure', 'Comedy', 'Family', 'Romance'],\n ['Comedy', 'Romance'],\n ['Action', 'Drama', 'Thriller'],\n ['Comedy'],\n ['Fantasy', 'Comedy', 'Family'],\n ['Thriller', 'Action', 'Crime'],\n ['Comedy', 'Drama', 'Romance'],\n ['Action', 'Thriller', 'Drama'],\n ['Drama'],\n ['Thriller', 'Drama', 'Mystery'],\n ['Drama', 'Thriller', 'Crime', 'Mystery', 'Romance'],\n ['Drama', 'Fantasy', 'Romance'],\n ['Action', 'Crime'],\n ['Comedy'],\n ['Action', 'Crime', 'Thriller'],\n ['Action', 'Adventure', 'Comedy'],\n ['Fantasy', 'Comedy'],\n ['Adventure', 'Action', 'Comedy', 'Western'],\n ['Action', 'Adventure', 'Drama', 'Thriller'],\n ['Comedy', 'Family'],\n ['Action', 'Adventure', 'Fantasy'],\n ['Animation', 'Comedy', 'Family'],\n ['Science Fiction', 'Action', 'Horror'],\n ['History', 'Drama', 'Music'],\n ['Action', 'Thriller', 'Crime', 'Adventure'],\n ['Adventure'],\n ['Family', 'Comedy'],\n ['Comedy'],\n ['Drama', 'Action', 'Thriller', 'Crime'],\n ['Drama', 'Mystery', 'Thriller'],\n ['Comedy'],\n ['Comedy'],\n ['Animation', 'Adventure', 'Family', 'Comedy'],\n ['Crime', 'Drama', 'Mystery'],\n ['Action', 'Drama', 'Science Fiction', 'Thriller'],\n ['Drama', 'Mystery', 'Thriller'],\n ['Thriller', 'Drama', 'Romance'],\n ['Drama', 'History', 'Romance'],\n ['Action', 'Science Fiction'],\n ['Drama', 'History', 'War'],\n ['Action', 'Thriller', 'Crime'],\n ['Comedy'],\n ['Comedy', 'Adventure', 'Crime', 'Family'],\n ['Action', 'Adventure', 'Comedy', 'Family', 'Fantasy', 'Science Fiction'],\n ['Drama', 'Romance'],\n ['Drama'],\n ['Drama', 'Romance'],\n ['Action', 'Thriller'],\n ['Fantasy', 'Horror', 'Action', 'Thriller'],\n ['Drama'],\n ['Action', 'Crime', 'Thriller'],\n ['Crime', 'Drama', 'Thriller'],\n ['Comedy', 'Drama', 'Romance'],\n ['Comedy', 'Romance'],\n ['Action', 'Adventure', 'Fantasy', 'Science Fiction'],\n ['Drama'],\n ['Drama', 'Thriller'],\n ['Action', 'Adventure', 'Crime', 'Thriller'],\n ['Animation', 'Family'],\n ['Drama', 'Music', 'Romance'],\n ['Mystery', 'Thriller', 'Crime'],\n ['Crime', 'Drama'],\n ['War', 'Drama', 'History'],\n ['Drama', 'Crime', 'Thriller'],\n ['Thriller', 'Action', 'Horror'],\n ['Drama', 'Thriller'],\n ['Drama', 'Romance'],\n ['Drama', 'Crime'],\n ['Thriller', 'Drama', 'History'],\n ['Romance', 'Comedy'],\n ['Comedy', 'Romance'],\n ['Comedy', 'Romance'],\n ['Action', 'Adventure', 'Comedy'],\n ['Drama', 'History', 'War'],\n ['Comedy'],\n ['Comedy', 'Drama', 'Romance'],\n ['Drama', 'Crime'],\n ['Action', 'Crime', 'Thriller'],\n ['Action', 'Comedy', 'Fantasy'],\n ['Comedy'],\n ['Animation', 'Comedy', 'Family'],\n ['Comedy', 'Family'],\n ['Adventure', 'Fantasy', 'Drama', 'Romance'],\n ['Adventure', 'Animation', 'Comedy', 'Family', 'Fantasy'],\n ['Science Fiction', 'Thriller', 'Romance'],\n ['Adventure'],\n ['Comedy', 'Drama', 'Romance'],\n ['Comedy', 'Fantasy'],\n ['Comedy', 'Romance'],\n ['Comedy', 'Drama'],\n ['Comedy'],\n ['Comedy', 'Romance'],\n ['Thriller', 'Science Fiction', 'Mystery'],\n ['Drama'],\n ['Comedy', 'Romance'],\n ['Crime', 'Comedy', 'Action'],\n ['Horror', 'Romance'],\n ['Comedy'],\n ['Action', 'Comedy'],\n ['Drama', 'Romance'],\n ['Comedy'],\n ['Fantasy', 'Comedy', 'Music'],\n ['Crime', 'Drama', 'Thriller'],\n ['Drama', 'Action', 'Thriller', 'Crime'],\n ['Action', 'Adventure', 'Drama', 'Mystery', 'Science Fiction', 'Thriller'],\n ['Drama', 'Comedy', 'Family'],\n ['Action', 'Adventure', 'Drama', 'Mystery', 'Science Fiction', 'Thriller'],\n ['Comedy'],\n ['Drama', 'Horror', 'Thriller'],\n ['Comedy', 'Drama', 'Romance'],\n ['Animation', 'Comedy', 'Family'],\n ['Comedy', 'Family'],\n ['Drama'],\n ['Action', 'Drama', 'Science Fiction', 'Thriller'],\n ['Action', 'Thriller', 'Mystery'],\n ['Adventure', 'Family', 'Fantasy', 'Science Fiction', 'Thriller', 'Action'],\n ['Action', 'Thriller', 'Fantasy'],\n ['Action', 'Adventure', 'Comedy', 'Western'],\n ['Adventure', 'Animation', 'Comedy', 'Family'],\n ['Comedy', 'Family', 'Adventure', 'Fantasy', 'Romance'],\n ['Thriller'],\n ['Fantasy', 'Horror', 'Action'],\n ['Thriller', 'Drama'],\n ['Action', 'Thriller', 'Science Fiction', 'Adventure'],\n ['Drama', 'Thriller'],\n ['Action', 'Drama', 'History', 'Thriller', 'War'],\n ['Romance', 'Animation', 'Adventure', 'Comedy', 'Family', 'Fantasy'],\n ['Thriller'],\n ['Crime', 'Drama', 'Thriller'],\n ['Action', 'Drama'],\n ['Drama', 'Thriller', 'Mystery'],\n ['Horror', 'Mystery'],\n ['Comedy'],\n ['Comedy'],\n ['Action', 'Adventure', 'Crime', 'Drama', 'Mystery', 'Thriller'],\n ['Action', 'Thriller'],\n ['Action', 'Comedy', 'Crime'],\n ['Comedy', 'Horror', 'Fantasy'],\n ['Drama'],\n ['Action', 'Thriller'],\n ['Horror', 'Action', 'Science Fiction'],\n ['Comedy', 'Romance'],\n ['Thriller', 'Crime', 'Drama'],\n ['Action', 'Thriller'],\n ['Adventure', 'Family', 'Science Fiction'],\n ['Drama', 'Adventure', 'Romance', 'Thriller'],\n ['Drama', 'Comedy', 'Romance'],\n ['Action', 'Crime', 'Thriller'],\n ['Drama', 'Romance'],\n ['Drama', 'Thriller', 'Crime'],\n ['Family', 'Comedy'],\n ['Drama', 'Fantasy'],\n ['Crime', 'Drama', 'Thriller'],\n ['Action', 'Adventure', 'Crime', 'Thriller'],\n ['Crime', 'Drama', 'Thriller'],\n ['Comedy', 'Drama', 'Romance'],\n ['Action', 'Adventure', 'Romance', 'Science Fiction', 'Thriller'],\n ['Action', 'Drama', 'Mystery', 'Thriller', 'Crime'],\n ['Crime', 'Drama', 'Mystery', 'Thriller'],\n ['Drama', 'Thriller', 'Crime'],\n ['Action', 'Adventure', 'Science Fiction', 'Thriller'],\n ['Adventure', 'Animation', 'Family', 'Fantasy', 'Science Fiction'],\n ['Adventure', 'Comedy', 'Drama'],\n ['War', 'Action', 'Drama', 'History', 'Thriller'],\n ['Drama', 'Thriller', 'Crime'],\n ['Comedy', 'Action'],\n ['Action', 'Crime', 'Drama', 'Mystery', 'Thriller'],\n ['Thriller', 'Crime', 'Mystery'],\n ['Action', 'Thriller', 'Adventure', 'Crime'],\n ['Adventure', 'Drama', 'Action', 'History', 'War'],\n ['Comedy'],\n ['Drama', 'Thriller', 'Mystery'],\n ['Action', 'Drama', 'Thriller'],\n ['Action', 'Adventure', 'Comedy', 'Family'],\n ['Drama', 'History', 'Romance'],\n ['Drama', 'Thriller'],\n ['Action', 'Crime'],\n ['Action', 'Thriller', 'Mystery', 'Romance'],\n ['Action', 'Thriller', 'Science Fiction'],\n ['Fantasy', 'Drama', 'Romance'],\n ['Comedy', 'Crime', 'Drama', 'Thriller'],\n ['Comedy'],\n ['Comedy', 'Crime'],\n ['Comedy', 'Drama', 'Romance', 'Science Fiction'],\n ...]"
     },
     "execution_count": 13,
     "metadata": {},
     "output_type": "execute_result"
    }
   ],
   "source": [
    "movie_genre_list"
   ],
   "metadata": {
    "collapsed": false,
    "pycharm": {
     "name": "#%%\n"
    }
   }
  },
  {
   "cell_type": "code",
   "execution_count": 14,
   "outputs": [],
   "source": [
    "# df.at[0,\"Action\"]とすると任意の値を取得できる\n",
    "def put_genre(df,movie_genre_list):\n",
    "    for i in range(len(df)):\n",
    "        for genre in movie_genre_list[i]:\n",
    "            df.at[i,genre] = 1.0\n",
    "put_genre(df_genre,movie_genre_list)"
   ],
   "metadata": {
    "collapsed": false,
    "pycharm": {
     "name": "#%%\n"
    }
   }
  },
  {
   "cell_type": "code",
   "execution_count": 15,
   "outputs": [
    {
     "data": {
      "text/plain": "      Action  Adventure  Fantasy  Science Fiction  Crime  Drama  Thriller  \\\n4798       1          0        0                0      1      0         1   \n4799       0          0        0                0      0      0         0   \n4800       0          0        0                0      0      1         0   \n4801       0          0        0                0      0      0         0   \n4802       0          0        0                0      0      0         0   \n\n      Animation  Family  Western  Comedy  Romance  Horror  Mystery  History  \\\n4798          0       0        0       0        0       0        0        0   \n4799          0       0        0       1        1       0        0        0   \n4800          0       0        0       1        1       0        0        0   \n4801          0       0        0       0        0       0        0        0   \n4802          0       0        0       0        0       0        0        0   \n\n      War  Music  Documentary  Foreign  TV Movie  \n4798    0      0            0        0         0  \n4799    0      0            0        0         0  \n4800    0      0            0        0         1  \n4801    0      0            0        0         0  \n4802    0      0            1        0         0  ",
      "text/html": "<div>\n<style scoped>\n    .dataframe tbody tr th:only-of-type {\n        vertical-align: middle;\n    }\n\n    .dataframe tbody tr th {\n        vertical-align: top;\n    }\n\n    .dataframe thead th {\n        text-align: right;\n    }\n</style>\n<table border=\"1\" class=\"dataframe\">\n  <thead>\n    <tr style=\"text-align: right;\">\n      <th></th>\n      <th>Action</th>\n      <th>Adventure</th>\n      <th>Fantasy</th>\n      <th>Science Fiction</th>\n      <th>Crime</th>\n      <th>Drama</th>\n      <th>Thriller</th>\n      <th>Animation</th>\n      <th>Family</th>\n      <th>Western</th>\n      <th>Comedy</th>\n      <th>Romance</th>\n      <th>Horror</th>\n      <th>Mystery</th>\n      <th>History</th>\n      <th>War</th>\n      <th>Music</th>\n      <th>Documentary</th>\n      <th>Foreign</th>\n      <th>TV Movie</th>\n    </tr>\n  </thead>\n  <tbody>\n    <tr>\n      <th>4798</th>\n      <td>1</td>\n      <td>0</td>\n      <td>0</td>\n      <td>0</td>\n      <td>1</td>\n      <td>0</td>\n      <td>1</td>\n      <td>0</td>\n      <td>0</td>\n      <td>0</td>\n      <td>0</td>\n      <td>0</td>\n      <td>0</td>\n      <td>0</td>\n      <td>0</td>\n      <td>0</td>\n      <td>0</td>\n      <td>0</td>\n      <td>0</td>\n      <td>0</td>\n    </tr>\n    <tr>\n      <th>4799</th>\n      <td>0</td>\n      <td>0</td>\n      <td>0</td>\n      <td>0</td>\n      <td>0</td>\n      <td>0</td>\n      <td>0</td>\n      <td>0</td>\n      <td>0</td>\n      <td>0</td>\n      <td>1</td>\n      <td>1</td>\n      <td>0</td>\n      <td>0</td>\n      <td>0</td>\n      <td>0</td>\n      <td>0</td>\n      <td>0</td>\n      <td>0</td>\n      <td>0</td>\n    </tr>\n    <tr>\n      <th>4800</th>\n      <td>0</td>\n      <td>0</td>\n      <td>0</td>\n      <td>0</td>\n      <td>0</td>\n      <td>1</td>\n      <td>0</td>\n      <td>0</td>\n      <td>0</td>\n      <td>0</td>\n      <td>1</td>\n      <td>1</td>\n      <td>0</td>\n      <td>0</td>\n      <td>0</td>\n      <td>0</td>\n      <td>0</td>\n      <td>0</td>\n      <td>0</td>\n      <td>1</td>\n    </tr>\n    <tr>\n      <th>4801</th>\n      <td>0</td>\n      <td>0</td>\n      <td>0</td>\n      <td>0</td>\n      <td>0</td>\n      <td>0</td>\n      <td>0</td>\n      <td>0</td>\n      <td>0</td>\n      <td>0</td>\n      <td>0</td>\n      <td>0</td>\n      <td>0</td>\n      <td>0</td>\n      <td>0</td>\n      <td>0</td>\n      <td>0</td>\n      <td>0</td>\n      <td>0</td>\n      <td>0</td>\n    </tr>\n    <tr>\n      <th>4802</th>\n      <td>0</td>\n      <td>0</td>\n      <td>0</td>\n      <td>0</td>\n      <td>0</td>\n      <td>0</td>\n      <td>0</td>\n      <td>0</td>\n      <td>0</td>\n      <td>0</td>\n      <td>0</td>\n      <td>0</td>\n      <td>0</td>\n      <td>0</td>\n      <td>0</td>\n      <td>0</td>\n      <td>0</td>\n      <td>1</td>\n      <td>0</td>\n      <td>0</td>\n    </tr>\n  </tbody>\n</table>\n</div>"
     },
     "execution_count": 15,
     "metadata": {},
     "output_type": "execute_result"
    }
   ],
   "source": [
    "df_genre.tail()"
   ],
   "metadata": {
    "collapsed": false,
    "pycharm": {
     "name": "#%%\n"
    }
   }
  },
  {
   "cell_type": "code",
   "execution_count": 16,
   "outputs": [
    {
     "data": {
      "text/plain": "en    4505\nfr      70\nes      32\nzh      27\nde      27\nhi      19\nja      16\nit      14\ncn      12\nru      11\nko      11\npt       9\nda       7\nsv       5\nnl       4\nfa       4\nth       3\nhe       3\nta       2\ncs       2\nro       2\nid       2\nar       2\nvi       1\nsl       1\nps       1\nno       1\nky       1\nhu       1\npl       1\naf       1\nnb       1\ntr       1\nis       1\nxx       1\nte       1\nel       1\nName: original_language, dtype: int64"
     },
     "execution_count": 16,
     "metadata": {},
     "output_type": "execute_result"
    }
   ],
   "source": [
    "language = df[\"original_language\"]\n",
    "language.value_counts()"
   ],
   "metadata": {
    "collapsed": false,
    "pycharm": {
     "name": "#%%\n"
    }
   }
  },
  {
   "cell_type": "code",
   "execution_count": 17,
   "outputs": [],
   "source": [
    "# 映画が造られた国をラベルエンコーディング\n",
    "le = LabelEncoder()"
   ],
   "metadata": {
    "collapsed": false,
    "pycharm": {
     "name": "#%%\n"
    }
   }
  },
  {
   "cell_type": "code",
   "execution_count": 18,
   "outputs": [
    {
     "name": "stderr",
     "output_type": "stream",
     "text": [
      "/var/folders/38/75h5lv4d3_5bm79gp3zs7l4r0000gn/T/ipykernel_62848/963953020.py:1: SettingWithCopyWarning: \n",
      "A value is trying to be set on a copy of a slice from a DataFrame.\n",
      "Try using .loc[row_indexer,col_indexer] = value instead\n",
      "\n",
      "See the caveats in the documentation: https://pandas.pydata.org/pandas-docs/stable/user_guide/indexing.html#returning-a-view-versus-a-copy\n",
      "  df_x[\"original_language\"] = le.fit_transform(df_x[\"original_language\"])\n"
     ]
    }
   ],
   "source": [
    "df_x[\"original_language\"] = le.fit_transform(df_x[\"original_language\"])"
   ],
   "metadata": {
    "collapsed": false,
    "pycharm": {
     "name": "#%%\n"
    }
   }
  },
  {
   "cell_type": "code",
   "execution_count": 19,
   "outputs": [
    {
     "name": "stdout",
     "output_type": "stream",
     "text": [
      "<class 'pandas.core.frame.DataFrame'>\n",
      "RangeIndex: 4803 entries, 0 to 4802\n",
      "Data columns (total 6 columns):\n",
      " #   Column                Non-Null Count  Dtype  \n",
      "---  ------                --------------  -----  \n",
      " 0   genres                4803 non-null   object \n",
      " 1   original_language     4803 non-null   int64  \n",
      " 2   production_companies  4803 non-null   object \n",
      " 3   release_date          4802 non-null   object \n",
      " 4   runtime               4801 non-null   float64\n",
      " 5   vote_average          4803 non-null   float64\n",
      "dtypes: float64(2), int64(1), object(3)\n",
      "memory usage: 225.3+ KB\n"
     ]
    }
   ],
   "source": [
    "df_x.info()"
   ],
   "metadata": {
    "collapsed": false,
    "pycharm": {
     "name": "#%%\n"
    }
   }
  },
  {
   "cell_type": "code",
   "execution_count": 20,
   "outputs": [
    {
     "name": "stdout",
     "output_type": "stream",
     "text": [
      "<class 'pandas.core.frame.DataFrame'>\n",
      "RangeIndex: 4803 entries, 0 to 4802\n",
      "Data columns (total 6 columns):\n",
      " #   Column                Non-Null Count  Dtype  \n",
      "---  ------                --------------  -----  \n",
      " 0   genres                4803 non-null   object \n",
      " 1   original_language     4803 non-null   int64  \n",
      " 2   production_companies  4803 non-null   object \n",
      " 3   release_date          4802 non-null   object \n",
      " 4   runtime               4801 non-null   float64\n",
      " 5   vote_average          4803 non-null   float64\n",
      "dtypes: float64(2), int64(1), object(3)\n",
      "memory usage: 225.3+ KB\n"
     ]
    }
   ],
   "source": [
    "df_x.drop(columns=\"genres\")\n",
    "df_x.info()"
   ],
   "metadata": {
    "collapsed": false,
    "pycharm": {
     "name": "#%%\n"
    }
   }
  },
  {
   "cell_type": "code",
   "execution_count": 21,
   "outputs": [
    {
     "data": {
      "text/plain": "2006-01-01    10\n2002-01-01     8\n2004-09-03     7\n1999-10-22     7\n2013-07-18     7\n              ..\n2002-12-30     1\n2002-08-20     1\n1987-11-05     1\n2004-11-11     1\n2012-05-03     1\nName: release_date, Length: 3280, dtype: int64"
     },
     "execution_count": 21,
     "metadata": {},
     "output_type": "execute_result"
    }
   ],
   "source": [
    "# 次はリリース日を数値型へと変換していく\n",
    "# また今回は月と年数に分ける\n",
    "df[\"release_date\"].value_counts()"
   ],
   "metadata": {
    "collapsed": false,
    "pycharm": {
     "name": "#%%\n"
    }
   }
  },
  {
   "cell_type": "code",
   "execution_count": 22,
   "outputs": [],
   "source": [
    "# 変換するための辞書を作成していく\n",
    "release_year = dict()\n",
    "release_month = dict()\n",
    "for key in df[\"release_date\"]:\n",
    "    if type(key) == str:\n",
    "        year,month,day = key.split(\"-\")\n",
    "        release_year[key] = float(year)\n",
    "        release_month[key] = float(month)"
   ],
   "metadata": {
    "collapsed": false,
    "pycharm": {
     "name": "#%%\n"
    }
   }
  },
  {
   "cell_type": "code",
   "execution_count": 23,
   "outputs": [
    {
     "name": "stderr",
     "output_type": "stream",
     "text": [
      "/var/folders/38/75h5lv4d3_5bm79gp3zs7l4r0000gn/T/ipykernel_62848/2932335168.py:1: SettingWithCopyWarning: \n",
      "A value is trying to be set on a copy of a slice from a DataFrame.\n",
      "Try using .loc[row_indexer,col_indexer] = value instead\n",
      "\n",
      "See the caveats in the documentation: https://pandas.pydata.org/pandas-docs/stable/user_guide/indexing.html#returning-a-view-versus-a-copy\n",
      "  df_x[\"release_year\"] = df_x[\"release_date\"].replace(release_year).astype(float)\n"
     ]
    },
    {
     "name": "stdout",
     "output_type": "stream",
     "text": [
      "<class 'pandas.core.frame.DataFrame'>\n",
      "RangeIndex: 4803 entries, 0 to 4802\n",
      "Data columns (total 8 columns):\n",
      " #   Column                Non-Null Count  Dtype  \n",
      "---  ------                --------------  -----  \n",
      " 0   genres                4803 non-null   object \n",
      " 1   original_language     4803 non-null   int64  \n",
      " 2   production_companies  4803 non-null   object \n",
      " 3   release_date          4802 non-null   object \n",
      " 4   runtime               4801 non-null   float64\n",
      " 5   vote_average          4803 non-null   float64\n",
      " 6   release_year          4802 non-null   float64\n",
      " 7   release_month         4802 non-null   float64\n",
      "dtypes: float64(4), int64(1), object(3)\n",
      "memory usage: 300.3+ KB\n"
     ]
    },
    {
     "name": "stderr",
     "output_type": "stream",
     "text": [
      "/var/folders/38/75h5lv4d3_5bm79gp3zs7l4r0000gn/T/ipykernel_62848/2932335168.py:2: SettingWithCopyWarning: \n",
      "A value is trying to be set on a copy of a slice from a DataFrame.\n",
      "Try using .loc[row_indexer,col_indexer] = value instead\n",
      "\n",
      "See the caveats in the documentation: https://pandas.pydata.org/pandas-docs/stable/user_guide/indexing.html#returning-a-view-versus-a-copy\n",
      "  df_x[\"release_month\"] = df_x[\"release_date\"].replace(release_month).astype(float)\n"
     ]
    }
   ],
   "source": [
    "df_x[\"release_year\"] = df_x[\"release_date\"].replace(release_year).astype(float)\n",
    "df_x[\"release_month\"] = df_x[\"release_date\"].replace(release_month).astype(float)\n",
    "df_x.info()"
   ],
   "metadata": {
    "collapsed": false,
    "pycharm": {
     "name": "#%%\n"
    }
   }
  },
  {
   "cell_type": "code",
   "execution_count": 27,
   "outputs": [
    {
     "name": "stdout",
     "output_type": "stream",
     "text": [
      "<class 'pandas.core.frame.DataFrame'>\n",
      "RangeIndex: 4803 entries, 0 to 4802\n",
      "Data columns (total 8 columns):\n",
      " #   Column                Non-Null Count  Dtype  \n",
      "---  ------                --------------  -----  \n",
      " 0   genres                4803 non-null   object \n",
      " 1   original_language     4803 non-null   int64  \n",
      " 2   production_companies  4803 non-null   object \n",
      " 3   release_date          4802 non-null   object \n",
      " 4   runtime               4801 non-null   float64\n",
      " 5   vote_average          4740 non-null   float64\n",
      " 6   release_year          4802 non-null   float64\n",
      " 7   release_month         4802 non-null   float64\n",
      "dtypes: float64(4), int64(1), object(3)\n",
      "memory usage: 300.3+ KB\n"
     ]
    },
    {
     "name": "stderr",
     "output_type": "stream",
     "text": [
      "/var/folders/38/75h5lv4d3_5bm79gp3zs7l4r0000gn/T/ipykernel_62848/3115460145.py:11: SettingWithCopyWarning: \n",
      "A value is trying to be set on a copy of a slice from a DataFrame.\n",
      "Try using .loc[row_indexer,col_indexer] = value instead\n",
      "\n",
      "See the caveats in the documentation: https://pandas.pydata.org/pandas-docs/stable/user_guide/indexing.html#returning-a-view-versus-a-copy\n",
      "  df_x[\"vote_average\"] = df_x[\"vote_average\"].replace(review_dict).astype(float)\n"
     ]
    }
   ],
   "source": [
    "#0.0という評価値を弾く\n",
    "reviews = df_x[\"vote_average\"]\n",
    "review_dict = dict()\n",
    "for review in reviews:\n",
    "    if review <= 2:\n",
    "        review_dict[review] = np.nan\n",
    "    else:\n",
    "        review_point = round(review, 1)\n",
    "        review_dict[review] = review\n",
    "\n",
    "# 上記の数値を埋め込む\n",
    "df_x[\"vote_average\"] = df_x[\"vote_average\"].replace(review_dict).astype(float)\n",
    "df_x.info()"
   ],
   "metadata": {
    "collapsed": false,
    "pycharm": {
     "name": "#%%\n"
    }
   }
  },
  {
   "cell_type": "code",
   "execution_count": null,
   "outputs": [],
   "source": [
    "# 制作会社をラベルエンコーディング\n",
    "production_companies = df_x[\"production_companies\"]"
   ],
   "metadata": {
    "collapsed": false,
    "pycharm": {
     "name": "#%%\n"
    }
   }
  },
  {
   "cell_type": "code",
   "execution_count": null,
   "outputs": [],
   "source": [
    "# まずは空のものがいくつあるのかを確認\n",
    "empty_list = list()\n",
    "companies_dict = dict()\n",
    "companies_list = list()\n",
    "for i,companies in enumerate(production_companies):\n",
    "    if companies == \"[]\":\n",
    "        empty_list.append(i)\n",
    "        companies_list.append(\"\")\n",
    "    else:\n",
    "        companies = ast.literal_eval(companies[1:-1])\n",
    "        append_list = []\n",
    "        for j,company in enumerate(companies):\n",
    "            if type(company) == dict:\n",
    "                name = company[\"name\"]\n",
    "                if name in companies_dict:\n",
    "                    companies_dict[name] += 1\n",
    "                else:\n",
    "                    companies_dict[name] = 1\n",
    "                append_list.append(name)\n",
    "            else:\n",
    "                name = companies[\"name\"]\n",
    "                if name in companies_dict:\n",
    "                    companies_dict[name] += 1\n",
    "                else:\n",
    "                    companies_dict[name] = 1\n",
    "                append_list.append(name)\n",
    "    companies_list.append(append_list)\n",
    "    append_list = []\n",
    "companies_list"
   ],
   "metadata": {
    "collapsed": false,
    "pycharm": {
     "name": "#%%\n"
    }
   }
  },
  {
   "cell_type": "code",
   "execution_count": null,
   "outputs": [],
   "source": [
    "production_companies[0]"
   ],
   "metadata": {
    "collapsed": false,
    "pycharm": {
     "name": "#%%\n"
    }
   }
  },
  {
   "cell_type": "code",
   "execution_count": null,
   "outputs": [],
   "source": [
    "# 流石に会社が多すぎるため,1つのものは消していきたい\n",
    "new_companies_dict = dict()\n",
    "new_companies_list = list()\n",
    "for key,value in companies_dict.items():\n",
    "    if value <= 50:\n",
    "        continue\n",
    "    else:\n",
    "        new_companies_dict[key] = value\n",
    "        new_companies_list.append(key)\n",
    "len(new_companies_dict)"
   ],
   "metadata": {
    "collapsed": false,
    "pycharm": {
     "name": "#%%\n"
    }
   }
  },
  {
   "cell_type": "code",
   "execution_count": null,
   "outputs": [],
   "source": [
    "new_companies_dict"
   ],
   "metadata": {
    "collapsed": false,
    "pycharm": {
     "name": "#%%\n"
    }
   }
  },
  {
   "cell_type": "code",
   "execution_count": null,
   "outputs": [],
   "source": [
    "# では配給会社をもとにデータフレームを構築する\n",
    "a = [0]*4803*25\n",
    "df_companies = pd.DataFrame(np.array(a).reshape(4803, 25),\n",
    "                  columns=new_companies_list)\n",
    "df_companies.head()"
   ],
   "metadata": {
    "collapsed": false,
    "pycharm": {
     "name": "#%%\n"
    }
   }
  },
  {
   "cell_type": "code",
   "execution_count": null,
   "outputs": [],
   "source": [
    "# 作成したデータフレームに値を格納していく\n",
    "def put_companies(df,companies_list):\n",
    "    for i in range(len(df)):\n",
    "        for company in companies_list[i]:\n",
    "            if company in df.columns.values:\n",
    "                df.at[i,company] = 1.0\n",
    "put_companies(df_companies,companies_list)\n",
    "df_companies"
   ],
   "metadata": {
    "collapsed": false,
    "pycharm": {
     "name": "#%%\n"
    }
   }
  },
  {
   "cell_type": "code",
   "execution_count": null,
   "outputs": [],
   "source": [
    "df_x.info()"
   ],
   "metadata": {
    "collapsed": false,
    "pycharm": {
     "name": "#%%\n"
    }
   }
  },
  {
   "cell_type": "code",
   "execution_count": null,
   "outputs": [],
   "source": [
    "df_genre.info()"
   ],
   "metadata": {
    "collapsed": false,
    "pycharm": {
     "name": "#%%\n"
    }
   }
  },
  {
   "cell_type": "code",
   "execution_count": null,
   "outputs": [],
   "source": [
    "df_companies.info()"
   ],
   "metadata": {
    "collapsed": false,
    "pycharm": {
     "name": "#%%\n"
    }
   }
  },
  {
   "cell_type": "code",
   "execution_count": null,
   "outputs": [],
   "source": [
    "df_x = df_x.drop(columns=[\"genres\",\"production_companies\",\"release_date\",])"
   ],
   "metadata": {
    "collapsed": false,
    "pycharm": {
     "name": "#%%\n"
    }
   }
  },
  {
   "cell_type": "code",
   "execution_count": null,
   "outputs": [],
   "source": [
    "df_x.info()"
   ],
   "metadata": {
    "collapsed": false,
    "pycharm": {
     "name": "#%%\n"
    }
   }
  },
  {
   "cell_type": "code",
   "execution_count": null,
   "outputs": [],
   "source": [
    "df_x = pd.concat([df_x,df_companies,df_genre],axis=1)"
   ],
   "metadata": {
    "collapsed": false,
    "pycharm": {
     "name": "#%%\n"
    }
   }
  },
  {
   "cell_type": "code",
   "execution_count": null,
   "outputs": [],
   "source": [
    "df_x.info()"
   ],
   "metadata": {
    "collapsed": false,
    "pycharm": {
     "name": "#%%\n"
    }
   }
  },
  {
   "cell_type": "code",
   "execution_count": null,
   "outputs": [],
   "source": [
    "# まずは欠損値があるものを削除していく(今回はもう欠損値処理せずに消す)\n",
    "df_x = df_x.dropna(axis=0,how=\"any\")\n",
    "df_x.info()"
   ],
   "metadata": {
    "collapsed": false,
    "pycharm": {
     "name": "#%%\n"
    }
   }
  },
  {
   "cell_type": "code",
   "execution_count": null,
   "outputs": [],
   "source": [
    "df_x[\"vote_average\"].nunique()"
   ],
   "metadata": {
    "collapsed": false,
    "pycharm": {
     "name": "#%%\n"
    }
   }
  },
  {
   "cell_type": "code",
   "execution_count": null,
   "outputs": [],
   "source": [
    "# とりあえずテストデータと検証データに分ける\n",
    "\n",
    "# 説明変数,目的変数\n",
    "X = df_x.drop(\"vote_average\",axis=1).values # 説明変数(target以外の特徴量)\n",
    "y = df_x[\"vote_average\"].values # 目的変数(target)\n",
    "\n",
    "X_train, X_test, y_train, y_test = train_test_split(X, y,test_size=0.20, random_state=2)\n",
    "\n",
    "\n",
    "lgb_train = lgb.Dataset(X_train, y_train)\n",
    "lgb_eval = lgb.Dataset(X_test, y_test, reference=lgb_train)\n",
    "\n",
    "# LightGBM parameters\n",
    "params = {\n",
    "        'task': 'train',\n",
    "        'boosting_type': 'gbdt',\n",
    "        'objective': 'regression', # 目的 : 回帰\n",
    "        'metric': \"mae\", # 評価指標 : 誤り率(= 1-正答率)\n",
    "}"
   ],
   "metadata": {
    "collapsed": false,
    "pycharm": {
     "name": "#%%\n"
    }
   }
  },
  {
   "cell_type": "code",
   "execution_count": 1,
   "outputs": [
    {
     "ename": "NameError",
     "evalue": "name 'lgb' is not defined",
     "output_type": "error",
     "traceback": [
      "\u001B[0;31m---------------------------------------------------------------------------\u001B[0m",
      "\u001B[0;31mNameError\u001B[0m                                 Traceback (most recent call last)",
      "Cell \u001B[0;32mIn [1], line 2\u001B[0m\n\u001B[1;32m      1\u001B[0m \u001B[38;5;66;03m# モデルの学習\u001B[39;00m\n\u001B[0;32m----> 2\u001B[0m model \u001B[38;5;241m=\u001B[39m \u001B[43mlgb\u001B[49m\u001B[38;5;241m.\u001B[39mtrain(params,\n\u001B[1;32m      3\u001B[0m train_set\u001B[38;5;241m=\u001B[39mlgb_train, \u001B[38;5;66;03m# トレーニングデータの指定\u001B[39;00m\n\u001B[1;32m      4\u001B[0m valid_sets\u001B[38;5;241m=\u001B[39mlgb_eval, \u001B[38;5;66;03m# 検証データの指定\u001B[39;00m\n\u001B[1;32m      5\u001B[0m )\n\u001B[1;32m      7\u001B[0m \u001B[38;5;66;03m# テストデータの予測 ((各クラスの予測確率 [クラス0の予測確率,クラス1の予測確率,クラス2の予測確率] を返す))\u001B[39;00m\n\u001B[1;32m      8\u001B[0m y_pred_prob \u001B[38;5;241m=\u001B[39m model\u001B[38;5;241m.\u001B[39mpredict(X_test)\n",
      "\u001B[0;31mNameError\u001B[0m: name 'lgb' is not defined"
     ]
    }
   ],
   "source": [
    "# モデルの学習\n",
    "model = lgb.train(params,\n",
    "train_set=lgb_train, # トレーニングデータの指定\n",
    "valid_sets=lgb_eval, # 検証データの指定\n",
    ")\n",
    "\n",
    "# テストデータの予測 ((各クラスの予測確率 [クラス0の予測確率,クラス1の予測確率,クラス2の予測確率] を返す))\n",
    "y_pred = model.predict(X_test) #目的変数の予測値が帰ってくる"
   ],
   "metadata": {
    "collapsed": false,
    "pycharm": {
     "name": "#%%\n"
    }
   }
  },
  {
   "cell_type": "code",
   "execution_count": null,
   "outputs": [],
   "source": [
    "# テストデータにモデルを取り入れる\n",
    "\n",
    "# 真値と予測値の表示\n",
    "df_pred = pd.DataFrame({'CRIM':y_test,'CRIM_pred':y_pred})\n",
    "display(df_pred)\n",
    "\n",
    "# 散布図を描画(真値 vs 予測値)\n",
    "plt.plot(y_test, y_test, color = 'red', label = 'x=y') # 直線y = x (真値と予測値が同じ場合は直線状に点がプロットされる)\n",
    "plt.scatter(y_test, y_pred) # 散布図のプロット\n",
    "plt.xlabel('y') # x軸ラベル\n",
    "plt.ylabel('y_test') # y軸ラベル\n",
    "plt.title('y vs y_pred') # グラフタイトル"
   ],
   "metadata": {
    "collapsed": false,
    "pycharm": {
     "name": "#%%\n"
    }
   }
  },
  {
   "cell_type": "code",
   "execution_count": null,
   "outputs": [],
   "source": [
    "# モデル評価\n",
    "# rmse : 平均二乗誤差の平方根\n",
    "mse = mean_squared_error(y_test, y_pred) # MSE(平均二乗誤差)の算出\n",
    "rmse = np.sqrt(mse) # RSME = √MSEの算出\n",
    "print('RMSE :',rmse)\n",
    "\n",
    "#r2 : 決定係数\n",
    "r2 = r2_score(y_test,y_pred)\n",
    "print('R2 :',r2)"
   ],
   "metadata": {
    "collapsed": false,
    "pycharm": {
     "name": "#%%\n"
    }
   }
  }
 ],
 "metadata": {
  "kernelspec": {
   "display_name": "Python 3",
   "language": "python",
   "name": "python3"
  },
  "language_info": {
   "codemirror_mode": {
    "name": "ipython",
    "version": 2
   },
   "file_extension": ".py",
   "mimetype": "text/x-python",
   "name": "python",
   "nbconvert_exporter": "python",
   "pygments_lexer": "ipython2",
   "version": "2.7.6"
  }
 },
 "nbformat": 4,
 "nbformat_minor": 0
}