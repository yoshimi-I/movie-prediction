{
 "cells": [
  {
   "cell_type": "code",
   "execution_count": 3,
   "metadata": {
    "collapsed": true,
    "pycharm": {
     "name": "#%%\n"
    }
   },
   "outputs": [],
   "source": [
    "import math\n",
    "\n",
    "import pandas as pd\n",
    "import numpy as np\n",
    "import json\n",
    "import ast\n",
    "from sklearn.preprocessing import LabelEncoder\n",
    "import lightgbm as lgb\n",
    "from sklearn.model_selection import train_test_split\n",
    "from sklearn.metrics import mean_absolute_error as mae\n",
    "import matplotlib.pyplot as plt # グラフ描画用\n",
    "from sklearn.metrics import accuracy_score"
   ]
  },
  {
   "cell_type": "code",
   "execution_count": null,
   "outputs": [],
   "source": [
    "# 今回使う説明変数を決める\n",
    "x_col = [\"genres\",\"original_language\",\"production_companies\",\"release_date\",\"runtime\",\"vote_average\"]\n",
    "df = pd.read_csv(\"movie/tmdb_5000_movies.csv\")\n",
    "df_x = df[x_col]"
   ],
   "metadata": {
    "collapsed": false,
    "pycharm": {
     "name": "#%%\n"
    }
   }
  },
  {
   "cell_type": "code",
   "execution_count": null,
   "outputs": [],
   "source": [
    "df_x.head()"
   ],
   "metadata": {
    "collapsed": false,
    "pycharm": {
     "name": "#%%\n"
    }
   }
  },
  {
   "cell_type": "code",
   "execution_count": null,
   "outputs": [],
   "source": [
    "#ではここから全てをfloat型に変えていく\n",
    "genres = df_x[\"genres\"]\n",
    "# とりあえず種類が欲しいので種類を確認\n",
    "# まずは辞書を作成\n",
    "movie_genre_dict = dict()\n",
    "movie_genre_list = list()\n",
    "\n",
    "for movie_genre in genres:\n",
    "    if movie_genre == \"[]\":\n",
    "        movie_genre_list.append(\"\")\n",
    "    else:\n",
    "        per_genre_list = ast.literal_eval(movie_genre[1:-1])\n",
    "        genre_list = []\n",
    "        for per_genre in per_genre_list:\n",
    "            if type(per_genre) == dict:\n",
    "                movie_id = per_genre[\"id\"]\n",
    "                movie_name = per_genre[\"name\"]\n",
    "                movie_genre_dict[movie_id] = movie_name\n",
    "                genre_list.append(movie_name)\n",
    "            else:\n",
    "                movie_id = per_genre_list[\"id\"]\n",
    "                movie_name = per_genre_list[\"name\"]\n",
    "                movie_genre_dict[movie_id] = movie_name\n",
    "                genre_list.append(movie_name)\n",
    "                break\n",
    "        movie_genre_list.append(genre_list)\n",
    "        genre_list = []"
   ],
   "metadata": {
    "collapsed": false,
    "pycharm": {
     "name": "#%%\n"
    }
   }
  },
  {
   "cell_type": "code",
   "execution_count": null,
   "outputs": [],
   "source": [
    "print(len(genres))\n",
    "print(len(movie_genre_list))"
   ],
   "metadata": {
    "collapsed": false,
    "pycharm": {
     "name": "#%%\n"
    }
   }
  },
  {
   "cell_type": "code",
   "execution_count": null,
   "outputs": [],
   "source": [
    "# 20種類のジャンルがあることがわかった\n",
    "# ここからワンホットエンコーディングを行う"
   ],
   "metadata": {
    "collapsed": false,
    "pycharm": {
     "name": "#%%\n"
    }
   }
  },
  {
   "cell_type": "code",
   "execution_count": null,
   "outputs": [],
   "source": [
    "genres_list = [\"Action\",\"Adventure\",\"Fantasy\",\"Science Fiction\",\"Crime\",\"Drama\",\"Thriller\",\"Animation\",\"Family\",\"Western\",\"Comedy\",\"Romance\",\"Horror\",\"Mystery\",\"History\",\"War\",\"Music\",\"Documentary\",\"Foreign\",\"TV Movie\"]"
   ],
   "metadata": {
    "collapsed": false,
    "pycharm": {
     "name": "#%%\n"
    }
   }
  },
  {
   "cell_type": "code",
   "execution_count": null,
   "outputs": [],
   "source": [
    "a = [0]*4803*20\n",
    "df_genre = pd.DataFrame(np.array(a).reshape(4803, 20),\n",
    "                  columns=genres_list)\n",
    "df_genre.head()"
   ],
   "metadata": {
    "collapsed": false,
    "pycharm": {
     "name": "#%%\n"
    }
   }
  },
  {
   "cell_type": "code",
   "execution_count": null,
   "outputs": [],
   "source": [
    "movie_genre_list"
   ],
   "metadata": {
    "collapsed": false,
    "pycharm": {
     "name": "#%%\n"
    }
   }
  },
  {
   "cell_type": "code",
   "execution_count": null,
   "outputs": [],
   "source": [
    "# df.at[0,\"Action\"]とすると任意の値を取得できる\n",
    "def put_genre(df,movie_genre_list):\n",
    "    for i in range(len(df)):\n",
    "        for genre in movie_genre_list[i]:\n",
    "            df.at[i,genre] = 1.0\n",
    "put_genre(df_genre,movie_genre_list)"
   ],
   "metadata": {
    "collapsed": false,
    "pycharm": {
     "name": "#%%\n"
    }
   }
  },
  {
   "cell_type": "code",
   "execution_count": null,
   "outputs": [],
   "source": [
    "df_genre.tail()"
   ],
   "metadata": {
    "collapsed": false,
    "pycharm": {
     "name": "#%%\n"
    }
   }
  },
  {
   "cell_type": "code",
   "execution_count": null,
   "outputs": [],
   "source": [
    "language = df[\"original_language\"]\n",
    "language.value_counts()"
   ],
   "metadata": {
    "collapsed": false,
    "pycharm": {
     "name": "#%%\n"
    }
   }
  },
  {
   "cell_type": "code",
   "execution_count": null,
   "outputs": [],
   "source": [
    "# 映画が造られた国をラベルエンコーディング\n",
    "le = LabelEncoder()"
   ],
   "metadata": {
    "collapsed": false,
    "pycharm": {
     "name": "#%%\n"
    }
   }
  },
  {
   "cell_type": "code",
   "execution_count": null,
   "outputs": [],
   "source": [
    "df_x[\"original_language\"] = le.fit_transform(df_x[\"original_language\"])"
   ],
   "metadata": {
    "collapsed": false,
    "pycharm": {
     "name": "#%%\n"
    }
   }
  },
  {
   "cell_type": "code",
   "execution_count": null,
   "outputs": [],
   "source": [
    "df_x.info()"
   ],
   "metadata": {
    "collapsed": false,
    "pycharm": {
     "name": "#%%\n"
    }
   }
  },
  {
   "cell_type": "code",
   "execution_count": null,
   "outputs": [],
   "source": [
    "df_x.drop(columns=\"genres\")\n",
    "df_x.info()"
   ],
   "metadata": {
    "collapsed": false,
    "pycharm": {
     "name": "#%%\n"
    }
   }
  },
  {
   "cell_type": "code",
   "execution_count": null,
   "outputs": [],
   "source": [
    "# 次はリリース日を数値型へと変換していく\n",
    "# また今回は月と年数に分ける\n",
    "df[\"release_date\"].value_counts()"
   ],
   "metadata": {
    "collapsed": false,
    "pycharm": {
     "name": "#%%\n"
    }
   }
  },
  {
   "cell_type": "code",
   "execution_count": null,
   "outputs": [],
   "source": [
    "# 変換するための辞書を作成していく\n",
    "release_year = dict()\n",
    "release_month = dict()\n",
    "for key in df[\"release_date\"]:\n",
    "    if type(key) == str:\n",
    "        year,month,day = key.split(\"-\")\n",
    "        release_year[key] = float(year)\n",
    "        release_month[key] = float(month)"
   ],
   "metadata": {
    "collapsed": false,
    "pycharm": {
     "name": "#%%\n"
    }
   }
  },
  {
   "cell_type": "code",
   "execution_count": null,
   "outputs": [],
   "source": [
    "df_x[\"release_year\"] = df_x[\"release_date\"].replace(release_year).astype(float)\n",
    "df_x[\"release_month\"] = df_x[\"release_date\"].replace(release_month).astype(float)\n",
    "df_x.info()"
   ],
   "metadata": {
    "collapsed": false,
    "pycharm": {
     "name": "#%%\n"
    }
   }
  },
  {
   "cell_type": "code",
   "execution_count": null,
   "outputs": [],
   "source": [
    "# 制作会社をラベルエンコーディング\n",
    "production_companies = df_x[\"production_companies\"]"
   ],
   "metadata": {
    "collapsed": false,
    "pycharm": {
     "name": "#%%\n"
    }
   }
  },
  {
   "cell_type": "code",
   "execution_count": null,
   "outputs": [],
   "source": [
    "# まずは空のものがいくつあるのかを確認\n",
    "empty_list = list()\n",
    "companies_dict = dict()\n",
    "companies_list = list()\n",
    "for i,companies in enumerate(production_companies):\n",
    "    if companies == \"[]\":\n",
    "        empty_list.append(i)\n",
    "        companies_list.append(\"\")\n",
    "    else:\n",
    "        companies = ast.literal_eval(companies[1:-1])\n",
    "        append_list = []\n",
    "        for j,company in enumerate(companies):\n",
    "            if type(company) == dict:\n",
    "                name = company[\"name\"]\n",
    "                if name in companies_dict:\n",
    "                    companies_dict[name] += 1\n",
    "                else:\n",
    "                    companies_dict[name] = 1\n",
    "                append_list.append(name)\n",
    "            else:\n",
    "                name = companies[\"name\"]\n",
    "                if name in companies_dict:\n",
    "                    companies_dict[name] += 1\n",
    "                else:\n",
    "                    companies_dict[name] = 1\n",
    "                append_list.append(name)\n",
    "    companies_list.append(append_list)\n",
    "    append_list = []\n",
    "companies_list"
   ],
   "metadata": {
    "collapsed": false,
    "pycharm": {
     "name": "#%%\n"
    }
   }
  },
  {
   "cell_type": "code",
   "execution_count": null,
   "outputs": [],
   "source": [
    "production_companies[0]"
   ],
   "metadata": {
    "collapsed": false,
    "pycharm": {
     "name": "#%%\n"
    }
   }
  },
  {
   "cell_type": "code",
   "execution_count": null,
   "outputs": [],
   "source": [
    "# 流石に会社が多すぎるため,1つのものは消していきたい\n",
    "new_companies_dict = dict()\n",
    "new_companies_list = list()\n",
    "for key,value in companies_dict.items():\n",
    "    if value <= 50:\n",
    "        continue\n",
    "    else:\n",
    "        new_companies_dict[key] = value\n",
    "        new_companies_list.append(key)\n",
    "len(new_companies_dict)"
   ],
   "metadata": {
    "collapsed": false,
    "pycharm": {
     "name": "#%%\n"
    }
   }
  },
  {
   "cell_type": "code",
   "execution_count": null,
   "outputs": [],
   "source": [
    "new_companies_dict"
   ],
   "metadata": {
    "collapsed": false,
    "pycharm": {
     "name": "#%%\n"
    }
   }
  },
  {
   "cell_type": "code",
   "execution_count": null,
   "outputs": [],
   "source": [
    "# では配給会社をもとにデータフレームを構築する\n",
    "a = [0]*4803*25\n",
    "df_companies = pd.DataFrame(np.array(a).reshape(4803, 25),\n",
    "                  columns=new_companies_list)\n",
    "df_companies.head()"
   ],
   "metadata": {
    "collapsed": false,
    "pycharm": {
     "name": "#%%\n"
    }
   }
  },
  {
   "cell_type": "code",
   "execution_count": null,
   "outputs": [],
   "source": [
    "# 作成したデータフレームに値を格納していく\n",
    "def put_companies(df,companies_list):\n",
    "    for i in range(len(df)):\n",
    "        for company in companies_list[i]:\n",
    "            if company in df.columns.values:\n",
    "                df.at[i,company] = 1.0\n",
    "put_companies(df_companies,companies_list)\n",
    "df_companies"
   ],
   "metadata": {
    "collapsed": false,
    "pycharm": {
     "name": "#%%\n"
    }
   }
  },
  {
   "cell_type": "code",
   "execution_count": null,
   "outputs": [],
   "source": [
    "df_x.info()"
   ],
   "metadata": {
    "collapsed": false,
    "pycharm": {
     "name": "#%%\n"
    }
   }
  },
  {
   "cell_type": "code",
   "execution_count": null,
   "outputs": [],
   "source": [
    "df_genre.info()"
   ],
   "metadata": {
    "collapsed": false,
    "pycharm": {
     "name": "#%%\n"
    }
   }
  },
  {
   "cell_type": "code",
   "execution_count": null,
   "outputs": [],
   "source": [
    "df_companies.info()"
   ],
   "metadata": {
    "collapsed": false,
    "pycharm": {
     "name": "#%%\n"
    }
   }
  },
  {
   "cell_type": "code",
   "execution_count": null,
   "outputs": [],
   "source": [
    "df_x = df_x.drop(columns=[\"genres\",\"production_companies\",\"release_date\",])"
   ],
   "metadata": {
    "collapsed": false,
    "pycharm": {
     "name": "#%%\n"
    }
   }
  },
  {
   "cell_type": "code",
   "execution_count": null,
   "outputs": [],
   "source": [
    "df_x.info()"
   ],
   "metadata": {
    "collapsed": false,
    "pycharm": {
     "name": "#%%\n"
    }
   }
  },
  {
   "cell_type": "code",
   "execution_count": null,
   "outputs": [],
   "source": [
    "df_x = pd.concat([df_x,df_companies,df_genre],axis=1)"
   ],
   "metadata": {
    "collapsed": false,
    "pycharm": {
     "name": "#%%\n"
    }
   }
  },
  {
   "cell_type": "code",
   "execution_count": null,
   "outputs": [],
   "source": [
    "df_x.info()"
   ],
   "metadata": {
    "collapsed": false,
    "pycharm": {
     "name": "#%%\n"
    }
   }
  },
  {
   "cell_type": "code",
   "execution_count": null,
   "outputs": [],
   "source": [
    "# まずは欠損値があるものを削除していく(今回はもう欠損値処理せずに消す)\n",
    "df_x = df_x.dropna(axis=0,how=\"any\")\n",
    "df_x.info()"
   ],
   "metadata": {
    "collapsed": false,
    "pycharm": {
     "name": "#%%\n"
    }
   }
  },
  {
   "cell_type": "code",
   "execution_count": null,
   "outputs": [],
   "source": [
    "df_x[\"vote_average\"].nunique()"
   ],
   "metadata": {
    "collapsed": false,
    "pycharm": {
     "name": "#%%\n"
    }
   }
  },
  {
   "cell_type": "code",
   "execution_count": null,
   "outputs": [],
   "source": [
    "# とりあえずテストデータと検証データに分ける\n",
    "\n",
    "# 説明変数,目的変数\n",
    "X = df_x.drop(\"vote_average\",axis=1).values # 説明変数(target以外の特徴量)\n",
    "y = df_x[\"vote_average\"].values # 目的変数(target)\n",
    "\n",
    "X_train, X_test, y_train, y_test = train_test_split(X, y,test_size=0.20, random_state=2)\n",
    "\n",
    "\n",
    "lgb_train = lgb.Dataset(X_train, y_train)\n",
    "lgb_eval = lgb.Dataset(X_test, y_test, reference=lgb_train)\n",
    "\n",
    "# LightGBM parameters\n",
    "params = {\n",
    "        'task': 'train',\n",
    "        'boosting_type': 'gbdt',\n",
    "        'objective': 'regression', # 目的 : 回帰\n",
    "        'metric': \"mae\", # 評価指標 : 誤り率(= 1-正答率)\n",
    "}"
   ],
   "metadata": {
    "collapsed": false,
    "pycharm": {
     "name": "#%%\n"
    }
   }
  },
  {
   "cell_type": "code",
   "execution_count": 1,
   "outputs": [
    {
     "ename": "NameError",
     "evalue": "name 'lgb' is not defined",
     "output_type": "error",
     "traceback": [
      "\u001B[0;31m---------------------------------------------------------------------------\u001B[0m",
      "\u001B[0;31mNameError\u001B[0m                                 Traceback (most recent call last)",
      "Cell \u001B[0;32mIn [1], line 2\u001B[0m\n\u001B[1;32m      1\u001B[0m \u001B[38;5;66;03m# モデルの学習\u001B[39;00m\n\u001B[0;32m----> 2\u001B[0m model \u001B[38;5;241m=\u001B[39m \u001B[43mlgb\u001B[49m\u001B[38;5;241m.\u001B[39mtrain(params,\n\u001B[1;32m      3\u001B[0m train_set\u001B[38;5;241m=\u001B[39mlgb_train, \u001B[38;5;66;03m# トレーニングデータの指定\u001B[39;00m\n\u001B[1;32m      4\u001B[0m valid_sets\u001B[38;5;241m=\u001B[39mlgb_eval, \u001B[38;5;66;03m# 検証データの指定\u001B[39;00m\n\u001B[1;32m      5\u001B[0m )\n\u001B[1;32m      7\u001B[0m \u001B[38;5;66;03m# テストデータの予測 ((各クラスの予測確率 [クラス0の予測確率,クラス1の予測確率,クラス2の予測確率] を返す))\u001B[39;00m\n\u001B[1;32m      8\u001B[0m y_pred_prob \u001B[38;5;241m=\u001B[39m model\u001B[38;5;241m.\u001B[39mpredict(X_test)\n",
      "\u001B[0;31mNameError\u001B[0m: name 'lgb' is not defined"
     ]
    }
   ],
   "source": [
    "# モデルの学習\n",
    "model = lgb.train(params,\n",
    "train_set=lgb_train, # トレーニングデータの指定\n",
    "valid_sets=lgb_eval, # 検証データの指定\n",
    ")\n",
    "\n",
    "# テストデータの予測 ((各クラスの予測確率 [クラス0の予測確率,クラス1の予測確率,クラス2の予測確率] を返す))\n",
    "y_pred = model.predict(X_test) #目的変数の予測値が帰ってくる"
   ],
   "metadata": {
    "collapsed": false,
    "pycharm": {
     "name": "#%%\n"
    }
   }
  },
  {
   "cell_type": "code",
   "execution_count": null,
   "outputs": [],
   "source": [
    "# テストデータにモデルを取り入れる\n",
    "\n",
    "# 真値と予測値の表示\n",
    "df_pred = pd.DataFrame({'CRIM':y_test,'CRIM_pred':y_pred})\n",
    "display(df_pred)\n",
    "\n",
    "# 散布図を描画(真値 vs 予測値)\n",
    "plt.plot(y_test, y_test, color = 'red', label = 'x=y') # 直線y = x (真値と予測値が同じ場合は直線状に点がプロットされる)\n",
    "plt.scatter(y_test, y_pred) # 散布図のプロット\n",
    "plt.xlabel('y') # x軸ラベル\n",
    "plt.ylabel('y_test') # y軸ラベル\n",
    "plt.title('y vs y_pred') # グラフタイトル"
   ],
   "metadata": {
    "collapsed": false,
    "pycharm": {
     "name": "#%%\n"
    }
   }
  },
  {
   "cell_type": "code",
   "execution_count": null,
   "outputs": [],
   "source": [
    "# モデル評価\n",
    "# rmse : 平均二乗誤差の平方根\n",
    "mse = mean_squared_error(y_test, y_pred) # MSE(平均二乗誤差)の算出\n",
    "rmse = np.sqrt(mse) # RSME = √MSEの算出\n",
    "print('RMSE :',rmse)\n",
    "\n",
    "#r2 : 決定係数\n",
    "r2 = r2_score(y_test,y_pred)\n",
    "print('R2 :',r2)"
   ],
   "metadata": {
    "collapsed": false,
    "pycharm": {
     "name": "#%%\n"
    }
   }
  }
 ],
 "metadata": {
  "kernelspec": {
   "display_name": "Python 3",
   "language": "python",
   "name": "python3"
  },
  "language_info": {
   "codemirror_mode": {
    "name": "ipython",
    "version": 2
   },
   "file_extension": ".py",
   "mimetype": "text/x-python",
   "name": "python",
   "nbconvert_exporter": "python",
   "pygments_lexer": "ipython2",
   "version": "2.7.6"
  }
 },
 "nbformat": 4,
 "nbformat_minor": 0
}