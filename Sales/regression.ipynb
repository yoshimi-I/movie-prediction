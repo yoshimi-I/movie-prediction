{
 "cells": [
  {
   "cell_type": "code",
   "execution_count": 1,
   "metadata": {
    "collapsed": true,
    "pycharm": {
     "name": "#%%\n"
    }
   },
   "outputs": [],
   "source": [
    "# 今回はlightGBMではなく重回帰分析を用いる\n",
    "import math\n",
    "import pandas as pd\n",
    "import numpy as np\n",
    "import json\n",
    "import ast\n",
    "import matplotlib.pyplot as plt\n",
    "from sklearn.preprocessing import LabelEncoder\n",
    "from sklearn.model_selection import train_test_split\n",
    "from sklearn.metrics import mean_absolute_error as mae\n",
    "from sklearn.metrics import mean_squared_error\n",
    "from sklearn.metrics import r2_score\n",
    "from sklearn.preprocessing import StandardScaler\n",
    "from sklearn.linear_model import LinearRegression"
   ]
  },
  {
   "cell_type": "code",
   "execution_count": 245,
   "outputs": [
    {
     "data": {
      "text/plain": "(3357, 9)"
     },
     "execution_count": 245,
     "metadata": {},
     "output_type": "execute_result"
    }
   ],
   "source": [
    "df1 = pd.read_csv(\"../movie/tmdb_5000_movies.csv\")\n",
    "df2 = pd.read_csv(\"../movie/tmdb_5000_credits.csv\")\n",
    "df3 = pd.merge(df1,df2,on=\"title\")\n",
    "df3.head()\n",
    "#いらない場所を落とす\n",
    "df3 = df3.drop(columns=['homepage', 'id',\"original_title\",\"overview\",\"status\",\"tagline\",\"vote_count\",\"movie_id\",\"popularity\",\"original_language\",\"title\",\"production_countries\",\"keywords\",\"cast\"])\n",
    "\n",
    "# 重回帰分析のため欠損値は処理\n",
    "# 今回は完全のdrop\n",
    "df3 = df3.dropna(axis=0,how=\"any\")\n",
    "\n",
    "# 収入が0のものを削除\n",
    "df3 = df3.query(\"revenue >= 1000\")\n",
    "df3 = df3.dropna().reset_index(drop=True)\n",
    "df3.shape"
   ],
   "metadata": {
    "collapsed": false,
    "pycharm": {
     "name": "#%%\n"
    }
   }
  },
  {
   "cell_type": "code",
   "execution_count": 246,
   "outputs": [
    {
     "data": {
      "text/plain": "      budget                                             genres  \\\n0  237000000  [{\"id\": 28, \"name\": \"Action\"}, {\"id\": 12, \"nam...   \n1  300000000  [{\"id\": 12, \"name\": \"Adventure\"}, {\"id\": 14, \"...   \n2  245000000  [{\"id\": 28, \"name\": \"Action\"}, {\"id\": 12, \"nam...   \n3  250000000  [{\"id\": 28, \"name\": \"Action\"}, {\"id\": 80, \"nam...   \n4  260000000  [{\"id\": 28, \"name\": \"Action\"}, {\"id\": 12, \"nam...   \n\n                                production_companies release_date     revenue  \\\n0  [{\"name\": \"Ingenious Film Partners\", \"id\": 289...   2009-12-10  2787965087   \n1  [{\"name\": \"Walt Disney Pictures\", \"id\": 2}, {\"...   2007-05-19   961000000   \n2  [{\"name\": \"Columbia Pictures\", \"id\": 5}, {\"nam...   2015-10-26   880674609   \n3  [{\"name\": \"Legendary Pictures\", \"id\": 923}, {\"...   2012-07-16  1084939099   \n4        [{\"name\": \"Walt Disney Pictures\", \"id\": 2}]   2012-03-07   284139100   \n\n   runtime                                   spoken_languages  vote_average  \\\n0    162.0  [{\"iso_639_1\": \"en\", \"name\": \"English\"}, {\"iso...           7.2   \n1    169.0           [{\"iso_639_1\": \"en\", \"name\": \"English\"}]           6.9   \n2    148.0  [{\"iso_639_1\": \"fr\", \"name\": \"Fran\\u00e7ais\"},...           6.3   \n3    165.0           [{\"iso_639_1\": \"en\", \"name\": \"English\"}]           7.6   \n4    132.0           [{\"iso_639_1\": \"en\", \"name\": \"English\"}]           6.1   \n\n   director_sales  \n0       840509919  \n1       453859051  \n2       387649829  \n3       528435404  \n4       527261338  ",
      "text/html": "<div>\n<style scoped>\n    .dataframe tbody tr th:only-of-type {\n        vertical-align: middle;\n    }\n\n    .dataframe tbody tr th {\n        vertical-align: top;\n    }\n\n    .dataframe thead th {\n        text-align: right;\n    }\n</style>\n<table border=\"1\" class=\"dataframe\">\n  <thead>\n    <tr style=\"text-align: right;\">\n      <th></th>\n      <th>budget</th>\n      <th>genres</th>\n      <th>production_companies</th>\n      <th>release_date</th>\n      <th>revenue</th>\n      <th>runtime</th>\n      <th>spoken_languages</th>\n      <th>vote_average</th>\n      <th>director_sales</th>\n    </tr>\n  </thead>\n  <tbody>\n    <tr>\n      <th>0</th>\n      <td>237000000</td>\n      <td>[{\"id\": 28, \"name\": \"Action\"}, {\"id\": 12, \"nam...</td>\n      <td>[{\"name\": \"Ingenious Film Partners\", \"id\": 289...</td>\n      <td>2009-12-10</td>\n      <td>2787965087</td>\n      <td>162.0</td>\n      <td>[{\"iso_639_1\": \"en\", \"name\": \"English\"}, {\"iso...</td>\n      <td>7.2</td>\n      <td>840509919</td>\n    </tr>\n    <tr>\n      <th>1</th>\n      <td>300000000</td>\n      <td>[{\"id\": 12, \"name\": \"Adventure\"}, {\"id\": 14, \"...</td>\n      <td>[{\"name\": \"Walt Disney Pictures\", \"id\": 2}, {\"...</td>\n      <td>2007-05-19</td>\n      <td>961000000</td>\n      <td>169.0</td>\n      <td>[{\"iso_639_1\": \"en\", \"name\": \"English\"}]</td>\n      <td>6.9</td>\n      <td>453859051</td>\n    </tr>\n    <tr>\n      <th>2</th>\n      <td>245000000</td>\n      <td>[{\"id\": 28, \"name\": \"Action\"}, {\"id\": 12, \"nam...</td>\n      <td>[{\"name\": \"Columbia Pictures\", \"id\": 5}, {\"nam...</td>\n      <td>2015-10-26</td>\n      <td>880674609</td>\n      <td>148.0</td>\n      <td>[{\"iso_639_1\": \"fr\", \"name\": \"Fran\\u00e7ais\"},...</td>\n      <td>6.3</td>\n      <td>387649829</td>\n    </tr>\n    <tr>\n      <th>3</th>\n      <td>250000000</td>\n      <td>[{\"id\": 28, \"name\": \"Action\"}, {\"id\": 80, \"nam...</td>\n      <td>[{\"name\": \"Legendary Pictures\", \"id\": 923}, {\"...</td>\n      <td>2012-07-16</td>\n      <td>1084939099</td>\n      <td>165.0</td>\n      <td>[{\"iso_639_1\": \"en\", \"name\": \"English\"}]</td>\n      <td>7.6</td>\n      <td>528435404</td>\n    </tr>\n    <tr>\n      <th>4</th>\n      <td>260000000</td>\n      <td>[{\"id\": 28, \"name\": \"Action\"}, {\"id\": 12, \"nam...</td>\n      <td>[{\"name\": \"Walt Disney Pictures\", \"id\": 2}]</td>\n      <td>2012-03-07</td>\n      <td>284139100</td>\n      <td>132.0</td>\n      <td>[{\"iso_639_1\": \"en\", \"name\": \"English\"}]</td>\n      <td>6.1</td>\n      <td>527261338</td>\n    </tr>\n  </tbody>\n</table>\n</div>"
     },
     "execution_count": 246,
     "metadata": {},
     "output_type": "execute_result"
    }
   ],
   "source": [
    "# 今回は監督を使いたいと思っているので、まずは映画の監督を抽出\n",
    "crews = df3[\"crew\"]\n",
    "crews_list = list()\n",
    "num = 0\n",
    "for each_crews in crews:\n",
    "    num += 1\n",
    "    if each_crews == \"[]\":\n",
    "        crews_list.append(\"\")\n",
    "    else:\n",
    "        each_crews = ast.literal_eval(each_crews[1:-1])\n",
    "        producer_list = list()\n",
    "        for each_crew in each_crews:\n",
    "            try:\n",
    "                if each_crew[\"job\"] == \"Director\":\n",
    "                    crew = each_crew[\"name\"]\n",
    "                    producer_list.append(crew)\n",
    "            except:\n",
    "                crew = each_crews[\"name\"]\n",
    "                producer_list.append(crew)\n",
    "        crews_list.append(producer_list)\n",
    "\n",
    "#  ダブってるのがあるからなんとかする(重複解消)\n",
    "for i in range(len(crews_list)):\n",
    "    crews_list[i] = list(set(crews_list[i]))\n",
    "\n",
    "# それをもとにどれだけ出てきたかをカウント\n",
    "crews_dict = dict()\n",
    "for crews in crews_list:\n",
    "    for director in crews:\n",
    "        if director in crews_dict:\n",
    "            crews_dict[director] += 1\n",
    "        else:\n",
    "            crews_dict[director] = 1\n",
    "\n",
    "# さっき作った映画の辞書をもとに収入を入れていく\n",
    "df4 = df3.filter([\"revenue\",\"crew\"])\n",
    "df4[\"director_sales\"] = 0\n",
    "\n",
    "# とりあえず辞書を作ってそこに格納\n",
    "# ここに各々の監督の作品の数で売り上げを割って平均の売り上げを求める\n",
    "# 配列の左が合計値,右が足した数\n",
    "director_sales = crews_dict\n",
    "for key in crews_dict:\n",
    "    director_sales[key] = [0,0]\n",
    "\n",
    "sales = df4[\"revenue\"]\n",
    "for i in range(len(sales)):\n",
    "    per_sales = sales.iloc[i]\n",
    "    director = crews_list[i]\n",
    "    for j in director:\n",
    "        director_sales[j][0] += per_sales\n",
    "        director_sales[j][1] += 1\n",
    "\n",
    "# その後足した分だけ割っていく\n",
    "new_director_sales = dict()\n",
    "for key,value in director_sales.items():\n",
    "    sum_sales = value[0]\n",
    "    sum_num = value[1]\n",
    "    new_director_sales[key] = sum_sales//sum_num\n",
    "\n",
    "# 最後に特徴量を作成\n",
    "director_sum_sales = list()\n",
    "for directors in crews_list:\n",
    "    num = 0\n",
    "    for i in range(len(directors)):\n",
    "        director = directors[i]\n",
    "        num += new_director_sales[director]\n",
    "    num = num//(i+1)\n",
    "    director_sum_sales.append(num)\n",
    "\n",
    "# 作成した特徴量をデータフレームに格納\n",
    "df4[\"director_sales\"] = director_sum_sales\n",
    "df4 = df4.drop(columns=[\"revenue\"])\n",
    "\n",
    "# 最後に結合\n",
    "df3 = pd.concat([df3, df4], axis=1,ignore_index=False)\n",
    "df3 = df3.drop(columns=[\"crew\"])\n",
    "df3.head()"
   ],
   "metadata": {
    "collapsed": false,
    "pycharm": {
     "name": "#%%\n"
    }
   }
  },
  {
   "cell_type": "code",
   "execution_count": 247,
   "outputs": [
    {
     "data": {
      "text/plain": "(3357, 9)"
     },
     "execution_count": 247,
     "metadata": {},
     "output_type": "execute_result"
    }
   ],
   "source": [
    "# 制作会社も過去の売上から特徴量を作成\n",
    "# 方法としては監督と同じにする\n",
    "company_names = df3[\"production_companies\"]\n",
    "company_list = list()\n",
    "num = 0\n",
    "for self_company_names in company_names:\n",
    "    num += 1\n",
    "    if self_company_names == \"[]\":\n",
    "        company_list.append(\"\")\n",
    "    else:\n",
    "        self_company_names = ast.literal_eval(self_company_names[1:-1])\n",
    "        company_name = list()\n",
    "        for self_company_name in self_company_names:\n",
    "            try:\n",
    "                name = self_company_name[\"name\"]\n",
    "                company_name.append(name)\n",
    "            except:\n",
    "                name = self_company_names[\"name\"]\n",
    "                company_name.append(name)\n",
    "            if len(company_name) >= 2:\n",
    "                break\n",
    "        company_list.append(company_name)\n",
    "\n",
    "# 続いて辞書型を作成してその中に数を入れていく\n",
    "company_name_dict = dict()  #会社の種類と出てくる回数を保持\n",
    "revenue = df3[\"revenue\"]\n",
    "for i in range(len(company_list)):\n",
    "    per_company_names = company_list[i]\n",
    "    for company_name in per_company_names:\n",
    "        if company_name in company_name_dict:\n",
    "            company_name_dict[company_name][0] += 1\n",
    "            company_name_dict[company_name][1] += revenue[i]\n",
    "        else:\n",
    "            company_name_dict[company_name] = [1, revenue[i]]\n",
    "\n",
    "# 一回しか出てこないものは取り除く\n",
    "company_dict = dict()\n",
    "for key, value in company_name_dict.items():\n",
    "    count_value = value[0]\n",
    "    revenue_value = value[1]\n",
    "    if count_value > 2:\n",
    "        company_dict[key] = revenue_value // count_value\n",
    "\n",
    "# とりあえずこれらの値を当てはめたデータフレームを作成する\n",
    "company_sales = list([0] * len(company_list))\n",
    "for i in range(len(company_list)):\n",
    "    companies = company_list[i]\n",
    "    for company in companies:\n",
    "        try:\n",
    "            company_sales[i] += company_dict[company]\n",
    "        except:\n",
    "            company_sales[i] = company_sales[i] * 2\n",
    "    company_sales[i] = company_sales[i] // 2\n",
    "for j in range(len(company_sales)):\n",
    "    if company_sales[j] == 0:\n",
    "        company_sales[j] = revenue[j]\n",
    "\n",
    "# 最後に結合\n",
    "df3[\"company_sales\"] = company_sales\n",
    "df3 = df3.drop(columns=[\"production_companies\"])\n",
    "df3.shape\n"
   ],
   "metadata": {
    "collapsed": false,
    "pycharm": {
     "name": "#%%\n"
    }
   }
  },
  {
   "cell_type": "code",
   "execution_count": 248,
   "outputs": [
    {
     "data": {
      "text/plain": "      budget                                             genres release_date  \\\n0  237000000  [{\"id\": 28, \"name\": \"Action\"}, {\"id\": 12, \"nam...   2009-12-10   \n1  300000000  [{\"id\": 12, \"name\": \"Adventure\"}, {\"id\": 14, \"...   2007-05-19   \n2  245000000  [{\"id\": 28, \"name\": \"Action\"}, {\"id\": 12, \"nam...   2015-10-26   \n3  250000000  [{\"id\": 28, \"name\": \"Action\"}, {\"id\": 80, \"nam...   2012-07-16   \n4  260000000  [{\"id\": 28, \"name\": \"Action\"}, {\"id\": 12, \"nam...   2012-03-07   \n\n      revenue  runtime  spoken_languages  vote_average  director_sales  \\\n0  2787965087    162.0                 2           7.2       840509919   \n1   961000000    169.0                 2           6.9       453859051   \n2   880674609    148.0                 5           6.3       387649829   \n3  1084939099    165.0                 2           7.6       528435404   \n4   284139100    132.0                 2           6.1       527261338   \n\n   company_sales  \n0      259081578  \n1      317561395  \n2      160865676  \n3      234020167  \n4      255468697  ",
      "text/html": "<div>\n<style scoped>\n    .dataframe tbody tr th:only-of-type {\n        vertical-align: middle;\n    }\n\n    .dataframe tbody tr th {\n        vertical-align: top;\n    }\n\n    .dataframe thead th {\n        text-align: right;\n    }\n</style>\n<table border=\"1\" class=\"dataframe\">\n  <thead>\n    <tr style=\"text-align: right;\">\n      <th></th>\n      <th>budget</th>\n      <th>genres</th>\n      <th>release_date</th>\n      <th>revenue</th>\n      <th>runtime</th>\n      <th>spoken_languages</th>\n      <th>vote_average</th>\n      <th>director_sales</th>\n      <th>company_sales</th>\n    </tr>\n  </thead>\n  <tbody>\n    <tr>\n      <th>0</th>\n      <td>237000000</td>\n      <td>[{\"id\": 28, \"name\": \"Action\"}, {\"id\": 12, \"nam...</td>\n      <td>2009-12-10</td>\n      <td>2787965087</td>\n      <td>162.0</td>\n      <td>2</td>\n      <td>7.2</td>\n      <td>840509919</td>\n      <td>259081578</td>\n    </tr>\n    <tr>\n      <th>1</th>\n      <td>300000000</td>\n      <td>[{\"id\": 12, \"name\": \"Adventure\"}, {\"id\": 14, \"...</td>\n      <td>2007-05-19</td>\n      <td>961000000</td>\n      <td>169.0</td>\n      <td>2</td>\n      <td>6.9</td>\n      <td>453859051</td>\n      <td>317561395</td>\n    </tr>\n    <tr>\n      <th>2</th>\n      <td>245000000</td>\n      <td>[{\"id\": 28, \"name\": \"Action\"}, {\"id\": 12, \"nam...</td>\n      <td>2015-10-26</td>\n      <td>880674609</td>\n      <td>148.0</td>\n      <td>5</td>\n      <td>6.3</td>\n      <td>387649829</td>\n      <td>160865676</td>\n    </tr>\n    <tr>\n      <th>3</th>\n      <td>250000000</td>\n      <td>[{\"id\": 28, \"name\": \"Action\"}, {\"id\": 80, \"nam...</td>\n      <td>2012-07-16</td>\n      <td>1084939099</td>\n      <td>165.0</td>\n      <td>2</td>\n      <td>7.6</td>\n      <td>528435404</td>\n      <td>234020167</td>\n    </tr>\n    <tr>\n      <th>4</th>\n      <td>260000000</td>\n      <td>[{\"id\": 28, \"name\": \"Action\"}, {\"id\": 12, \"nam...</td>\n      <td>2012-03-07</td>\n      <td>284139100</td>\n      <td>132.0</td>\n      <td>2</td>\n      <td>6.1</td>\n      <td>527261338</td>\n      <td>255468697</td>\n    </tr>\n  </tbody>\n</table>\n</div>"
     },
     "execution_count": 248,
     "metadata": {},
     "output_type": "execute_result"
    }
   ],
   "source": [
    "# 話されている言語の数を特徴量として作成(話されている言語の種類を取得)\n",
    "spoken_languages = df3[\"spoken_languages\"]\n",
    "language_list = list()\n",
    "for spoken_language in spoken_languages:\n",
    "    if spoken_language == \"[]\":\n",
    "        language_list.append(1)\n",
    "    else:\n",
    "        spoken_language = ast.literal_eval(spoken_language[1:-1])\n",
    "        language_type = len(spoken_language)\n",
    "        language_list.append(language_type)\n",
    "\n",
    "# 作成したものを代入\n",
    "df3[\"spoken_languages\"] = language_list\n",
    "df3.head()"
   ],
   "metadata": {
    "collapsed": false,
    "pycharm": {
     "name": "#%%\n"
    }
   }
  },
  {
   "cell_type": "code",
   "execution_count": 249,
   "outputs": [
    {
     "data": {
      "text/plain": "      budget                                             genres     revenue  \\\n0  237000000  [{\"id\": 28, \"name\": \"Action\"}, {\"id\": 12, \"nam...  2787965087   \n1  300000000  [{\"id\": 12, \"name\": \"Adventure\"}, {\"id\": 14, \"...   961000000   \n2  245000000  [{\"id\": 28, \"name\": \"Action\"}, {\"id\": 12, \"nam...   880674609   \n3  250000000  [{\"id\": 28, \"name\": \"Action\"}, {\"id\": 80, \"nam...  1084939099   \n4  260000000  [{\"id\": 28, \"name\": \"Action\"}, {\"id\": 12, \"nam...   284139100   \n\n   runtime  spoken_languages  vote_average  director_sales  company_sales  \\\n0    162.0                 2           7.2       840509919      259081578   \n1    169.0                 2           6.9       453859051      317561395   \n2    148.0                 5           6.3       387649829      160865676   \n3    165.0                 2           7.6       528435404      234020167   \n4    132.0                 2           6.1       527261338      255468697   \n\n   release_year  release_day_sin  release_day_cos  \n0        2009.0        -0.353676         0.935368  \n1        2007.0         0.680773        -0.732494  \n2        2015.0        -0.907014         0.421101  \n3        2012.0        -0.247022        -0.969010  \n4        2012.0         0.907014         0.421101  ",
      "text/html": "<div>\n<style scoped>\n    .dataframe tbody tr th:only-of-type {\n        vertical-align: middle;\n    }\n\n    .dataframe tbody tr th {\n        vertical-align: top;\n    }\n\n    .dataframe thead th {\n        text-align: right;\n    }\n</style>\n<table border=\"1\" class=\"dataframe\">\n  <thead>\n    <tr style=\"text-align: right;\">\n      <th></th>\n      <th>budget</th>\n      <th>genres</th>\n      <th>revenue</th>\n      <th>runtime</th>\n      <th>spoken_languages</th>\n      <th>vote_average</th>\n      <th>director_sales</th>\n      <th>company_sales</th>\n      <th>release_year</th>\n      <th>release_day_sin</th>\n      <th>release_day_cos</th>\n    </tr>\n  </thead>\n  <tbody>\n    <tr>\n      <th>0</th>\n      <td>237000000</td>\n      <td>[{\"id\": 28, \"name\": \"Action\"}, {\"id\": 12, \"nam...</td>\n      <td>2787965087</td>\n      <td>162.0</td>\n      <td>2</td>\n      <td>7.2</td>\n      <td>840509919</td>\n      <td>259081578</td>\n      <td>2009.0</td>\n      <td>-0.353676</td>\n      <td>0.935368</td>\n    </tr>\n    <tr>\n      <th>1</th>\n      <td>300000000</td>\n      <td>[{\"id\": 12, \"name\": \"Adventure\"}, {\"id\": 14, \"...</td>\n      <td>961000000</td>\n      <td>169.0</td>\n      <td>2</td>\n      <td>6.9</td>\n      <td>453859051</td>\n      <td>317561395</td>\n      <td>2007.0</td>\n      <td>0.680773</td>\n      <td>-0.732494</td>\n    </tr>\n    <tr>\n      <th>2</th>\n      <td>245000000</td>\n      <td>[{\"id\": 28, \"name\": \"Action\"}, {\"id\": 12, \"nam...</td>\n      <td>880674609</td>\n      <td>148.0</td>\n      <td>5</td>\n      <td>6.3</td>\n      <td>387649829</td>\n      <td>160865676</td>\n      <td>2015.0</td>\n      <td>-0.907014</td>\n      <td>0.421101</td>\n    </tr>\n    <tr>\n      <th>3</th>\n      <td>250000000</td>\n      <td>[{\"id\": 28, \"name\": \"Action\"}, {\"id\": 80, \"nam...</td>\n      <td>1084939099</td>\n      <td>165.0</td>\n      <td>2</td>\n      <td>7.6</td>\n      <td>528435404</td>\n      <td>234020167</td>\n      <td>2012.0</td>\n      <td>-0.247022</td>\n      <td>-0.969010</td>\n    </tr>\n    <tr>\n      <th>4</th>\n      <td>260000000</td>\n      <td>[{\"id\": 28, \"name\": \"Action\"}, {\"id\": 12, \"nam...</td>\n      <td>284139100</td>\n      <td>132.0</td>\n      <td>2</td>\n      <td>6.1</td>\n      <td>527261338</td>\n      <td>255468697</td>\n      <td>2012.0</td>\n      <td>0.907014</td>\n      <td>0.421101</td>\n    </tr>\n  </tbody>\n</table>\n</div>"
     },
     "execution_count": 249,
     "metadata": {},
     "output_type": "execute_result"
    }
   ],
   "source": [
    "# リリース日を月と年月に分けてそれぞれ代入\n",
    "# また月日は円循環なので,sinとcosに分ける\n",
    "\n",
    "# まずは月日を1/1からどれだけ経ったかに変換する関数を作成\n",
    "def convert_date_to_number(month: int, day: int) -> int:\n",
    "    # 1月1日からの経過日数を保持する変数\n",
    "    elapsed_days = 0\n",
    "\n",
    "    # 1月から現在の月までをループ\n",
    "    for m in range(1, month):\n",
    "        # 当該月の日数を加算\n",
    "        elapsed_days += get_days_in_month(m)\n",
    "\n",
    "    # 最後に現在日を加算\n",
    "    elapsed_days += day\n",
    "\n",
    "    return elapsed_days\n",
    "\n",
    "def get_days_in_month(month: int) -> int:\n",
    "    # 2月までは日数が固定\n",
    "    if month in [1, 3, 5, 7, 8, 10, 12]:\n",
    "        return 31\n",
    "    elif month == 2:\n",
    "        return 28\n",
    "    else:\n",
    "        return 30\n",
    "\n",
    "# 次にsinとcosに変換する関数を作成\n",
    "def encode(month, day):\n",
    "    # この方法だと場合によって最大値が変化するデータでは正確な値は出ない\n",
    "    # 例：月の日数が30日や31日の場合がある\n",
    "    date_num = convert_date_to_number(month, day)\n",
    "    sin = np.sin(2 * np.pi * date_num / 365)\n",
    "    cos = np.cos(2 * np.pi * date_num / 365)\n",
    "    return [sin,cos]\n",
    "\n",
    "# 新しい特徴量を作成\n",
    "df3[\"release_year\"] = 0\n",
    "df3[\"release_day_sin\"] = 0\n",
    "df3[\"release_day_cos\"] = 0\n",
    "release_year = dict()\n",
    "release_day_sin = dict()\n",
    "release_day_cos = dict()\n",
    "for key in df3[\"release_date\"]:\n",
    "    if type(key) == str:\n",
    "        year,month,day = key.split(\"-\")\n",
    "        release_year[key] = float(year)\n",
    "        day = encode(int(month),int(day))\n",
    "        day_sin,day_cos = day[0],day[1]\n",
    "        release_day_sin[key] = day_sin\n",
    "        release_day_cos[key] = day_cos\n",
    "\n",
    "# では作ったものを入れていく\n",
    "df3[\"release_year\"] = df3[\"release_date\"].replace(release_year).astype(float)\n",
    "df3[\"release_day_cos\"] = df3[\"release_date\"].replace(release_day_cos).astype(float)\n",
    "df3[\"release_day_sin\"] = df3[\"release_date\"].replace(release_day_sin).astype(float)\n",
    "df3 = df3.drop(columns=[\"release_date\"])\n",
    "df3.head()"
   ],
   "metadata": {
    "collapsed": false,
    "pycharm": {
     "name": "#%%\n"
    }
   }
  },
  {
   "cell_type": "code",
   "execution_count": 250,
   "outputs": [],
   "source": [
    "# ジャンルをワンホットエンコーディング\n",
    "genres_list = [\"Action\",\"Adventure\",\"Fantasy\",\"Science Fiction\",\"Crime\",\"Drama\",\"Thriller\",\"Animation\",\"Family\",\"Western\",\"Comedy\",\"Romance\",\"Horror\",\"Mystery\",\"History\",\"War\",\"Music\",\"Documentary\",\"Foreign\"]\n",
    "\n",
    "# とりあえず特徴量を作成\n",
    "for genre in genres_list:\n",
    "    df3[genre] = 0\n",
    "\n",
    "genres = df3[\"genres\"]\n",
    "# とりあえず種類が欲しいので種類を確認\n",
    "# まずは辞書を作成\n",
    "movie_genre_dict = dict()\n",
    "movie_genre_list = list()\n",
    "\n",
    "for movie_genre in genres:\n",
    "    if movie_genre == \"[]\":\n",
    "        movie_genre_list.append(\"\")\n",
    "    else:\n",
    "        per_genre_list = ast.literal_eval(movie_genre[1:-1])\n",
    "        genre_list = []\n",
    "        for per_genre in per_genre_list:\n",
    "            if type(per_genre) == dict:\n",
    "                movie_id = per_genre[\"id\"]\n",
    "                movie_name = per_genre[\"name\"]\n",
    "                movie_genre_dict[movie_id] = movie_name\n",
    "                genre_list.append(movie_name)\n",
    "            else:\n",
    "                movie_id = per_genre_list[\"id\"]\n",
    "                movie_name = per_genre_list[\"name\"]\n",
    "                movie_genre_dict[movie_id] = movie_name\n",
    "                genre_list.append(movie_name)\n",
    "                break\n",
    "        movie_genre_list.append(genre_list)\n",
    "        genre_list = []\n",
    "\n",
    "def put_genre(df,movie_genre_list):\n",
    "    for i in range(len(df)):\n",
    "        for genre in movie_genre_list[i]:\n",
    "            df.at[i,genre] = 1.0\n",
    "put_genre(df3,movie_genre_list)\n",
    "\n",
    "\n",
    "# では代入開始\n",
    "def put_genre(df,movie_genre_list):\n",
    "\n",
    "    for i,row in df.iterrows():\n",
    "        num = 0\n",
    "        for genre in movie_genre_list[num]:\n",
    "            df.at[i,genre] = 1.0\n",
    "            num += 1\n",
    "put_genre(df3,movie_genre_list)\n",
    "\n",
    "# 最後に不必要な部分を落とす\n",
    "df3 = df3.drop(columns=[\"genres\"])"
   ],
   "metadata": {
    "collapsed": false,
    "pycharm": {
     "name": "#%%\n"
    }
   }
  },
  {
   "cell_type": "code",
   "execution_count": 251,
   "outputs": [],
   "source": [
    "# 訓練データと検証データ,テストデータに分ける\n",
    "train_val,test = train_test_split(df3,test_size=0.2,random_state=0)"
   ],
   "metadata": {
    "collapsed": false,
    "pycharm": {
     "name": "#%%\n"
    }
   }
  },
  {
   "cell_type": "code",
   "execution_count": 252,
   "outputs": [],
   "source": [
    "# 散布図を表示\n",
    "# colname = train_val.columns\n",
    "# for name in colname:\n",
    "#     train_val.plot(kind=\"scatter\",x= name,y= \"revenue\")"
   ],
   "metadata": {
    "collapsed": false,
    "pycharm": {
     "name": "#%%\n"
    }
   }
  },
  {
   "cell_type": "code",
   "execution_count": 253,
   "outputs": [],
   "source": [
    "# ハズレ値の処理\n",
    "out_line = train_val[(train_val[\"revenue\"] > 2.5*10**9)].index\n",
    "train_val = train_val.drop([0],axis=0)"
   ],
   "metadata": {
    "collapsed": false,
    "pycharm": {
     "name": "#%%\n"
    }
   }
  },
  {
   "cell_type": "code",
   "execution_count": 254,
   "outputs": [],
   "source": [
    "# 目的変数を設定\n",
    "df3_y = df3[[\"revenue\"]]\n",
    "df3_x = df3.drop(columns=[\"revenue\"])"
   ],
   "metadata": {
    "collapsed": false,
    "pycharm": {
     "name": "#%%\n"
    }
   }
  },
  {
   "cell_type": "code",
   "execution_count": 255,
   "outputs": [
    {
     "data": {
      "text/plain": "         budget  runtime  spoken_languages  vote_average  director_sales  \\\n2544          0     87.0                 2           5.9        41457125   \n2723    7000000    192.0                 2           7.4        29385320   \n557    70000000    144.0                 2           6.6       338792339   \n785    55000000    132.0                 2           7.1        97501640   \n1004   45000000    103.0                 2           6.5       181645870   \n...         ...      ...               ...           ...             ...   \n2763    6000000    110.0                 2           7.4       130962608   \n905    50000000    140.0                 2           6.8        94790926   \n1096   40000000    129.0                 2           6.2        77584735   \n235   115000000    114.0                 2           6.0       164602163   \n1061   40000000    117.0                 2           5.4        33576728   \n\n      company_sales  release_year  release_day_sin  release_day_cos  Action  \\\n2544        6861102        2011.0         0.661635         0.749826       1   \n2723       19217660        2004.0        -0.746972         0.664855       1   \n557       209749496        1991.0        -0.337523         0.941317       1   \n785       170865020        2014.0        -0.993257        -0.115935       1   \n1004      255468697        2011.0        -0.622047         0.782980       1   \n...             ...           ...              ...              ...     ...   \n2763      176521371        1969.0        -0.991114        -0.133015       1   \n905       125580133        1998.0        -0.455907        -0.890028       1   \n1096      122624939        2009.0         0.594727         0.803928       1   \n235       144820542        2016.0         0.996659        -0.081676       1   \n1061      154653317        1992.0         0.025818        -0.999667       1   \n\n      ...  Western  Comedy  Romance  Horror  Mystery  History  War  Music  \\\n2544  ...        0       1        0       0        0        0    0      0   \n2723  ...        0       0        1       0        0        0    0      0   \n557   ...        0       1        0       0        0        0    0      0   \n785   ...        0       0        0       0        0        0    0      0   \n1004  ...        0       1        0       0        0        0    0      1   \n...   ...      ...     ...      ...     ...      ...      ...  ...    ...   \n2763  ...        1       0        0       0        0        1    0      0   \n905   ...        0       0        0       0        1        0    0      0   \n1096  ...        0       1        1       0        0        0    0      0   \n235   ...        0       0        0       0        0        0    0      0   \n1061  ...        0       1        1       0        0        0    0      0   \n\n      Documentary  Foreign  \n2544            0        0  \n2723            0        0  \n557             0        0  \n785             0        0  \n1004            0        0  \n...           ...      ...  \n2763            0        0  \n905             0        0  \n1096            0        0  \n235             0        0  \n1061            0        0  \n\n[2349 rows x 28 columns]",
      "text/html": "<div>\n<style scoped>\n    .dataframe tbody tr th:only-of-type {\n        vertical-align: middle;\n    }\n\n    .dataframe tbody tr th {\n        vertical-align: top;\n    }\n\n    .dataframe thead th {\n        text-align: right;\n    }\n</style>\n<table border=\"1\" class=\"dataframe\">\n  <thead>\n    <tr style=\"text-align: right;\">\n      <th></th>\n      <th>budget</th>\n      <th>runtime</th>\n      <th>spoken_languages</th>\n      <th>vote_average</th>\n      <th>director_sales</th>\n      <th>company_sales</th>\n      <th>release_year</th>\n      <th>release_day_sin</th>\n      <th>release_day_cos</th>\n      <th>Action</th>\n      <th>...</th>\n      <th>Western</th>\n      <th>Comedy</th>\n      <th>Romance</th>\n      <th>Horror</th>\n      <th>Mystery</th>\n      <th>History</th>\n      <th>War</th>\n      <th>Music</th>\n      <th>Documentary</th>\n      <th>Foreign</th>\n    </tr>\n  </thead>\n  <tbody>\n    <tr>\n      <th>2544</th>\n      <td>0</td>\n      <td>87.0</td>\n      <td>2</td>\n      <td>5.9</td>\n      <td>41457125</td>\n      <td>6861102</td>\n      <td>2011.0</td>\n      <td>0.661635</td>\n      <td>0.749826</td>\n      <td>1</td>\n      <td>...</td>\n      <td>0</td>\n      <td>1</td>\n      <td>0</td>\n      <td>0</td>\n      <td>0</td>\n      <td>0</td>\n      <td>0</td>\n      <td>0</td>\n      <td>0</td>\n      <td>0</td>\n    </tr>\n    <tr>\n      <th>2723</th>\n      <td>7000000</td>\n      <td>192.0</td>\n      <td>2</td>\n      <td>7.4</td>\n      <td>29385320</td>\n      <td>19217660</td>\n      <td>2004.0</td>\n      <td>-0.746972</td>\n      <td>0.664855</td>\n      <td>1</td>\n      <td>...</td>\n      <td>0</td>\n      <td>0</td>\n      <td>1</td>\n      <td>0</td>\n      <td>0</td>\n      <td>0</td>\n      <td>0</td>\n      <td>0</td>\n      <td>0</td>\n      <td>0</td>\n    </tr>\n    <tr>\n      <th>557</th>\n      <td>70000000</td>\n      <td>144.0</td>\n      <td>2</td>\n      <td>6.6</td>\n      <td>338792339</td>\n      <td>209749496</td>\n      <td>1991.0</td>\n      <td>-0.337523</td>\n      <td>0.941317</td>\n      <td>1</td>\n      <td>...</td>\n      <td>0</td>\n      <td>1</td>\n      <td>0</td>\n      <td>0</td>\n      <td>0</td>\n      <td>0</td>\n      <td>0</td>\n      <td>0</td>\n      <td>0</td>\n      <td>0</td>\n    </tr>\n    <tr>\n      <th>785</th>\n      <td>55000000</td>\n      <td>132.0</td>\n      <td>2</td>\n      <td>7.1</td>\n      <td>97501640</td>\n      <td>170865020</td>\n      <td>2014.0</td>\n      <td>-0.993257</td>\n      <td>-0.115935</td>\n      <td>1</td>\n      <td>...</td>\n      <td>0</td>\n      <td>0</td>\n      <td>0</td>\n      <td>0</td>\n      <td>0</td>\n      <td>0</td>\n      <td>0</td>\n      <td>0</td>\n      <td>0</td>\n      <td>0</td>\n    </tr>\n    <tr>\n      <th>1004</th>\n      <td>45000000</td>\n      <td>103.0</td>\n      <td>2</td>\n      <td>6.5</td>\n      <td>181645870</td>\n      <td>255468697</td>\n      <td>2011.0</td>\n      <td>-0.622047</td>\n      <td>0.782980</td>\n      <td>1</td>\n      <td>...</td>\n      <td>0</td>\n      <td>1</td>\n      <td>0</td>\n      <td>0</td>\n      <td>0</td>\n      <td>0</td>\n      <td>0</td>\n      <td>1</td>\n      <td>0</td>\n      <td>0</td>\n    </tr>\n    <tr>\n      <th>...</th>\n      <td>...</td>\n      <td>...</td>\n      <td>...</td>\n      <td>...</td>\n      <td>...</td>\n      <td>...</td>\n      <td>...</td>\n      <td>...</td>\n      <td>...</td>\n      <td>...</td>\n      <td>...</td>\n      <td>...</td>\n      <td>...</td>\n      <td>...</td>\n      <td>...</td>\n      <td>...</td>\n      <td>...</td>\n      <td>...</td>\n      <td>...</td>\n      <td>...</td>\n      <td>...</td>\n    </tr>\n    <tr>\n      <th>2763</th>\n      <td>6000000</td>\n      <td>110.0</td>\n      <td>2</td>\n      <td>7.4</td>\n      <td>130962608</td>\n      <td>176521371</td>\n      <td>1969.0</td>\n      <td>-0.991114</td>\n      <td>-0.133015</td>\n      <td>1</td>\n      <td>...</td>\n      <td>1</td>\n      <td>0</td>\n      <td>0</td>\n      <td>0</td>\n      <td>0</td>\n      <td>1</td>\n      <td>0</td>\n      <td>0</td>\n      <td>0</td>\n      <td>0</td>\n    </tr>\n    <tr>\n      <th>905</th>\n      <td>50000000</td>\n      <td>140.0</td>\n      <td>2</td>\n      <td>6.8</td>\n      <td>94790926</td>\n      <td>125580133</td>\n      <td>1998.0</td>\n      <td>-0.455907</td>\n      <td>-0.890028</td>\n      <td>1</td>\n      <td>...</td>\n      <td>0</td>\n      <td>0</td>\n      <td>0</td>\n      <td>0</td>\n      <td>1</td>\n      <td>0</td>\n      <td>0</td>\n      <td>0</td>\n      <td>0</td>\n      <td>0</td>\n    </tr>\n    <tr>\n      <th>1096</th>\n      <td>40000000</td>\n      <td>129.0</td>\n      <td>2</td>\n      <td>6.2</td>\n      <td>77584735</td>\n      <td>122624939</td>\n      <td>2009.0</td>\n      <td>0.594727</td>\n      <td>0.803928</td>\n      <td>1</td>\n      <td>...</td>\n      <td>0</td>\n      <td>1</td>\n      <td>1</td>\n      <td>0</td>\n      <td>0</td>\n      <td>0</td>\n      <td>0</td>\n      <td>0</td>\n      <td>0</td>\n      <td>0</td>\n    </tr>\n    <tr>\n      <th>235</th>\n      <td>115000000</td>\n      <td>114.0</td>\n      <td>2</td>\n      <td>6.0</td>\n      <td>164602163</td>\n      <td>144820542</td>\n      <td>2016.0</td>\n      <td>0.996659</td>\n      <td>-0.081676</td>\n      <td>1</td>\n      <td>...</td>\n      <td>0</td>\n      <td>0</td>\n      <td>0</td>\n      <td>0</td>\n      <td>0</td>\n      <td>0</td>\n      <td>0</td>\n      <td>0</td>\n      <td>0</td>\n      <td>0</td>\n    </tr>\n    <tr>\n      <th>1061</th>\n      <td>40000000</td>\n      <td>117.0</td>\n      <td>2</td>\n      <td>5.4</td>\n      <td>33576728</td>\n      <td>154653317</td>\n      <td>1992.0</td>\n      <td>0.025818</td>\n      <td>-0.999667</td>\n      <td>1</td>\n      <td>...</td>\n      <td>0</td>\n      <td>1</td>\n      <td>1</td>\n      <td>0</td>\n      <td>0</td>\n      <td>0</td>\n      <td>0</td>\n      <td>0</td>\n      <td>0</td>\n      <td>0</td>\n    </tr>\n  </tbody>\n</table>\n<p>2349 rows × 28 columns</p>\n</div>"
     },
     "execution_count": 255,
     "metadata": {},
     "output_type": "execute_result"
    }
   ],
   "source": [
    "# 学習データとテストデータに分割する\n",
    "X_train, X_test, y_train, y_test = train_test_split(df3_x, df3_y, test_size=0.3, random_state=1)\n",
    "X_train"
   ],
   "metadata": {
    "collapsed": false,
    "pycharm": {
     "name": "#%%\n"
    }
   }
  },
  {
   "cell_type": "code",
   "execution_count": 256,
   "outputs": [],
   "source": [
    "# データの標準化\n",
    "sc_model_x = StandardScaler()\n",
    "sc_model_x.fit(X_train)\n",
    "\n",
    "# 各列を標準化して格納\n",
    "sc_x = sc_model_x.transform(X_train)\n",
    "\n",
    "# 正解データも標準化\n",
    "sc_model_y = StandardScaler()\n",
    "sc_model_y.fit(y_train)\n",
    "sc_y = sc_model_y.transform(y_train)\n",
    "\n",
    "# 検証データを標準化\n",
    "sc_x_val = sc_model_x.transform(X_test)\n",
    "sc_y_val = sc_model_y.transform(y_test)"
   ],
   "metadata": {
    "collapsed": false,
    "pycharm": {
     "name": "#%%\n"
    }
   }
  },
  {
   "cell_type": "code",
   "execution_count": 257,
   "outputs": [
    {
     "data": {
      "text/plain": "0.6940768668608533"
     },
     "execution_count": 257,
     "metadata": {},
     "output_type": "execute_result"
    }
   ],
   "source": [
    "model = LinearRegression()\n",
    "model.fit(sc_x,sc_y)\n",
    "model.score(sc_x,sc_y)"
   ],
   "metadata": {
    "collapsed": false,
    "pycharm": {
     "name": "#%%\n"
    }
   }
  },
  {
   "cell_type": "code",
   "execution_count": 258,
   "outputs": [
    {
     "data": {
      "text/plain": "0.6698303546504458"
     },
     "execution_count": 258,
     "metadata": {},
     "output_type": "execute_result"
    }
   ],
   "source": [
    "model.score(sc_x_val,sc_y_val)"
   ],
   "metadata": {
    "collapsed": false,
    "pycharm": {
     "name": "#%%\n"
    }
   }
  },
  {
   "cell_type": "code",
   "execution_count": 284,
   "outputs": [],
   "source": [
    "# 回帰の影響度を分析\n",
    "tmp = pd.DataFrame(model.coef_)\n",
    "tmp = tmp.transpose()\n",
    "tmp.index = X_train.columns\n",
    "tmp.columns = [\"importance\"]\n",
    "tmp = tmp.abs()\n",
    "tmp = tmp.drop(genres_list)"
   ],
   "metadata": {
    "collapsed": false,
    "pycharm": {
     "name": "#%%\n"
    }
   }
  },
  {
   "cell_type": "code",
   "execution_count": 285,
   "outputs": [
    {
     "data": {
      "text/plain": "                  importance\ndirector_sales      0.443967\nbudget              0.362455\nvote_average        0.104517\ncompany_sales       0.102777\nruntime             0.052021\nspoken_languages    0.029473\nrelease_day_sin     0.011437\nrelease_day_cos     0.009131\nrelease_year        0.000707",
      "text/html": "<div>\n<style scoped>\n    .dataframe tbody tr th:only-of-type {\n        vertical-align: middle;\n    }\n\n    .dataframe tbody tr th {\n        vertical-align: top;\n    }\n\n    .dataframe thead th {\n        text-align: right;\n    }\n</style>\n<table border=\"1\" class=\"dataframe\">\n  <thead>\n    <tr style=\"text-align: right;\">\n      <th></th>\n      <th>importance</th>\n    </tr>\n  </thead>\n  <tbody>\n    <tr>\n      <th>director_sales</th>\n      <td>0.443967</td>\n    </tr>\n    <tr>\n      <th>budget</th>\n      <td>0.362455</td>\n    </tr>\n    <tr>\n      <th>vote_average</th>\n      <td>0.104517</td>\n    </tr>\n    <tr>\n      <th>company_sales</th>\n      <td>0.102777</td>\n    </tr>\n    <tr>\n      <th>runtime</th>\n      <td>0.052021</td>\n    </tr>\n    <tr>\n      <th>spoken_languages</th>\n      <td>0.029473</td>\n    </tr>\n    <tr>\n      <th>release_day_sin</th>\n      <td>0.011437</td>\n    </tr>\n    <tr>\n      <th>release_day_cos</th>\n      <td>0.009131</td>\n    </tr>\n    <tr>\n      <th>release_year</th>\n      <td>0.000707</td>\n    </tr>\n  </tbody>\n</table>\n</div>"
     },
     "metadata": {},
     "output_type": "display_data"
    }
   ],
   "source": [
    "df_importance = tmp.sort_values('importance', ascending=False) # 降順ソート\n",
    "display(df_importance)"
   ],
   "metadata": {
    "collapsed": false,
    "pycharm": {
     "name": "#%%\n"
    }
   }
  },
  {
   "cell_type": "code",
   "execution_count": 286,
   "outputs": [
    {
     "data": {
      "text/plain": "<Figure size 640x480 with 1 Axes>",
      "image/png": "[encoded data removed]"
     },
     "metadata": {},
     "output_type": "display_data"
    }
   ],
   "source": [
    "tmp.plot(kind='bar')\n",
    "plt.show()"
   ],
   "metadata": {
    "collapsed": false,
    "pycharm": {
     "name": "#%%\n"
    }
   }
  },
  {
   "cell_type": "code",
   "execution_count": 261,
   "outputs": [],
   "source": [],
   "metadata": {
    "collapsed": false,
    "pycharm": {
     "name": "#%%\n"
    }
   }
  }
 ],
 "metadata": {
  "kernelspec": {
   "display_name": "Python 3",
   "language": "python",
   "name": "python3"
  },
  "language_info": {
   "codemirror_mode": {
    "name": "ipython",
    "version": 2
   },
   "file_extension": ".py",
   "mimetype": "text/x-python",
   "name": "python",
   "nbconvert_exporter": "python",
   "pygments_lexer": "ipython2",
   "version": "2.7.6"
  }
 },
 "nbformat": 4,
 "nbformat_minor": 0
}