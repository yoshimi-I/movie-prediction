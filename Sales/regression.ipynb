{
 "cells": [
  {
   "cell_type": "code",
   "execution_count": 94,
   "metadata": {
    "collapsed": true,
    "pycharm": {
     "name": "#%%\n"
    }
   },
   "outputs": [],
   "source": [
    "# 今回はlightGBMではなく重回帰分析を用いる\n",
    "import math\n",
    "import pandas as pd\n",
    "import numpy as np\n",
    "import json\n",
    "import ast\n",
    "import matplotlib.pyplot as plt\n",
    "from sklearn.preprocessing import LabelEncoder\n",
    "from sklearn.model_selection import train_test_split\n",
    "from sklearn.metrics import mean_absolute_error as mae\n",
    "from sklearn.metrics import mean_squared_error\n",
    "from sklearn.metrics import r2_score\n",
    "from sklearn.preprocessing import StandardScaler\n",
    "from sklearn.linear_model import LinearRegression\n"
   ]
  },
  {
   "cell_type": "code",
   "execution_count": 95,
   "outputs": [
    {
     "data": {
      "text/plain": "(3357, 9)"
     },
     "execution_count": 95,
     "metadata": {},
     "output_type": "execute_result"
    }
   ],
   "source": [
    "df1 = pd.read_csv(\"../movie/tmdb_5000_movies.csv\")\n",
    "df2 = pd.read_csv(\"../movie/tmdb_5000_credits.csv\")\n",
    "df3 = pd.merge(df1,df2,on=\"title\")\n",
    "df3.head()\n",
    "#いらない場所を落とす\n",
    "df3 = df3.drop(columns=['homepage', 'id',\"original_title\",\"overview\",\"status\",\"tagline\",\"vote_count\",\"movie_id\",\"popularity\",\"original_language\",\"title\",\"production_countries\",\"keywords\",\"cast\"])\n",
    "\n",
    "# 重回帰分析のため欠損値は処理\n",
    "# 今回は完全のdrop\n",
    "df3 = df3.dropna(axis=0,how=\"any\")\n",
    "\n",
    "# 収入が0のものを削除\n",
    "df3 = df3.query(\"revenue >= 1000\")\n",
    "df3 = df3.dropna().reset_index(drop=True)\n",
    "df3.shape"
   ],
   "metadata": {
    "collapsed": false,
    "pycharm": {
     "name": "#%%\n"
    }
   }
  },
  {
   "cell_type": "code",
   "execution_count": 96,
   "outputs": [
    {
     "data": {
      "text/plain": "      budget                                             genres  \\\n0  237000000  [{\"id\": 28, \"name\": \"Action\"}, {\"id\": 12, \"nam...   \n1  300000000  [{\"id\": 12, \"name\": \"Adventure\"}, {\"id\": 14, \"...   \n2  245000000  [{\"id\": 28, \"name\": \"Action\"}, {\"id\": 12, \"nam...   \n3  250000000  [{\"id\": 28, \"name\": \"Action\"}, {\"id\": 80, \"nam...   \n4  260000000  [{\"id\": 28, \"name\": \"Action\"}, {\"id\": 12, \"nam...   \n\n                                production_companies release_date     revenue  \\\n0  [{\"name\": \"Ingenious Film Partners\", \"id\": 289...   2009-12-10  2787965087   \n1  [{\"name\": \"Walt Disney Pictures\", \"id\": 2}, {\"...   2007-05-19   961000000   \n2  [{\"name\": \"Columbia Pictures\", \"id\": 5}, {\"nam...   2015-10-26   880674609   \n3  [{\"name\": \"Legendary Pictures\", \"id\": 923}, {\"...   2012-07-16  1084939099   \n4        [{\"name\": \"Walt Disney Pictures\", \"id\": 2}]   2012-03-07   284139100   \n\n   runtime                                   spoken_languages  vote_average  \\\n0    162.0  [{\"iso_639_1\": \"en\", \"name\": \"English\"}, {\"iso...           7.2   \n1    169.0           [{\"iso_639_1\": \"en\", \"name\": \"English\"}]           6.9   \n2    148.0  [{\"iso_639_1\": \"fr\", \"name\": \"Fran\\u00e7ais\"},...           6.3   \n3    165.0           [{\"iso_639_1\": \"en\", \"name\": \"English\"}]           7.6   \n4    132.0           [{\"iso_639_1\": \"en\", \"name\": \"English\"}]           6.1   \n\n   director_sales  \n0       840509919  \n1       453859051  \n2       387649829  \n3       528435404  \n4       527261338  ",
      "text/html": "<div>\n<style scoped>\n    .dataframe tbody tr th:only-of-type {\n        vertical-align: middle;\n    }\n\n    .dataframe tbody tr th {\n        vertical-align: top;\n    }\n\n    .dataframe thead th {\n        text-align: right;\n    }\n</style>\n<table border=\"1\" class=\"dataframe\">\n  <thead>\n    <tr style=\"text-align: right;\">\n      <th></th>\n      <th>budget</th>\n      <th>genres</th>\n      <th>production_companies</th>\n      <th>release_date</th>\n      <th>revenue</th>\n      <th>runtime</th>\n      <th>spoken_languages</th>\n      <th>vote_average</th>\n      <th>director_sales</th>\n    </tr>\n  </thead>\n  <tbody>\n    <tr>\n      <th>0</th>\n      <td>237000000</td>\n      <td>[{\"id\": 28, \"name\": \"Action\"}, {\"id\": 12, \"nam...</td>\n      <td>[{\"name\": \"Ingenious Film Partners\", \"id\": 289...</td>\n      <td>2009-12-10</td>\n      <td>2787965087</td>\n      <td>162.0</td>\n      <td>[{\"iso_639_1\": \"en\", \"name\": \"English\"}, {\"iso...</td>\n      <td>7.2</td>\n      <td>840509919</td>\n    </tr>\n    <tr>\n      <th>1</th>\n      <td>300000000</td>\n      <td>[{\"id\": 12, \"name\": \"Adventure\"}, {\"id\": 14, \"...</td>\n      <td>[{\"name\": \"Walt Disney Pictures\", \"id\": 2}, {\"...</td>\n      <td>2007-05-19</td>\n      <td>961000000</td>\n      <td>169.0</td>\n      <td>[{\"iso_639_1\": \"en\", \"name\": \"English\"}]</td>\n      <td>6.9</td>\n      <td>453859051</td>\n    </tr>\n    <tr>\n      <th>2</th>\n      <td>245000000</td>\n      <td>[{\"id\": 28, \"name\": \"Action\"}, {\"id\": 12, \"nam...</td>\n      <td>[{\"name\": \"Columbia Pictures\", \"id\": 5}, {\"nam...</td>\n      <td>2015-10-26</td>\n      <td>880674609</td>\n      <td>148.0</td>\n      <td>[{\"iso_639_1\": \"fr\", \"name\": \"Fran\\u00e7ais\"},...</td>\n      <td>6.3</td>\n      <td>387649829</td>\n    </tr>\n    <tr>\n      <th>3</th>\n      <td>250000000</td>\n      <td>[{\"id\": 28, \"name\": \"Action\"}, {\"id\": 80, \"nam...</td>\n      <td>[{\"name\": \"Legendary Pictures\", \"id\": 923}, {\"...</td>\n      <td>2012-07-16</td>\n      <td>1084939099</td>\n      <td>165.0</td>\n      <td>[{\"iso_639_1\": \"en\", \"name\": \"English\"}]</td>\n      <td>7.6</td>\n      <td>528435404</td>\n    </tr>\n    <tr>\n      <th>4</th>\n      <td>260000000</td>\n      <td>[{\"id\": 28, \"name\": \"Action\"}, {\"id\": 12, \"nam...</td>\n      <td>[{\"name\": \"Walt Disney Pictures\", \"id\": 2}]</td>\n      <td>2012-03-07</td>\n      <td>284139100</td>\n      <td>132.0</td>\n      <td>[{\"iso_639_1\": \"en\", \"name\": \"English\"}]</td>\n      <td>6.1</td>\n      <td>527261338</td>\n    </tr>\n  </tbody>\n</table>\n</div>"
     },
     "execution_count": 96,
     "metadata": {},
     "output_type": "execute_result"
    }
   ],
   "source": [
    "# 今回は監督を使いたいと思っているので、まずは映画の監督を抽出\n",
    "crews = df3[\"crew\"]\n",
    "crews_list = list()\n",
    "num = 0\n",
    "for each_crews in crews:\n",
    "    num += 1\n",
    "    if each_crews == \"[]\":\n",
    "        crews_list.append(\"\")\n",
    "    else:\n",
    "        each_crews = ast.literal_eval(each_crews[1:-1])\n",
    "        producer_list = list()\n",
    "        for each_crew in each_crews:\n",
    "            try:\n",
    "                if each_crew[\"job\"] == \"Director\":\n",
    "                    crew = each_crew[\"name\"]\n",
    "                    producer_list.append(crew)\n",
    "            except:\n",
    "                crew = each_crews[\"name\"]\n",
    "                producer_list.append(crew)\n",
    "        crews_list.append(producer_list)\n",
    "\n",
    "#  ダブってるのがあるからなんとかする(重複解消)\n",
    "for i in range(len(crews_list)):\n",
    "    crews_list[i] = list(set(crews_list[i]))\n",
    "\n",
    "# それをもとにどれだけ出てきたかをカウント\n",
    "crews_dict = dict()\n",
    "for crews in crews_list:\n",
    "    for director in crews:\n",
    "        if director in crews_dict:\n",
    "            crews_dict[director] += 1\n",
    "        else:\n",
    "            crews_dict[director] = 1\n",
    "\n",
    "# さっき作った映画の辞書をもとに収入を入れていく\n",
    "df4 = df3.filter([\"revenue\",\"crew\"])\n",
    "df4[\"director_sales\"] = 0\n",
    "\n",
    "# とりあえず辞書を作ってそこに格納\n",
    "# ここに各々の監督の作品の数で売り上げを割って平均の売り上げを求める\n",
    "# 配列の左が合計値,右が足した数\n",
    "director_sales = crews_dict\n",
    "for key in crews_dict:\n",
    "    director_sales[key] = [0,0]\n",
    "\n",
    "sales = df4[\"revenue\"]\n",
    "for i in range(len(sales)):\n",
    "    per_sales = sales.iloc[i]\n",
    "    director = crews_list[i]\n",
    "    for j in director:\n",
    "        director_sales[j][0] += per_sales\n",
    "        director_sales[j][1] += 1\n",
    "\n",
    "# その後足した分だけ割っていく\n",
    "new_director_sales = dict()\n",
    "for key,value in director_sales.items():\n",
    "    sum_sales = value[0]\n",
    "    sum_num = value[1]\n",
    "    new_director_sales[key] = sum_sales//sum_num\n",
    "\n",
    "# 最後に特徴量を作成\n",
    "director_sum_sales = list()\n",
    "for directors in crews_list:\n",
    "    num = 0\n",
    "    for i in range(len(directors)):\n",
    "        director = directors[i]\n",
    "        num += new_director_sales[director]\n",
    "    num = num//(i+1)\n",
    "    director_sum_sales.append(num)\n",
    "\n",
    "# 作成した特徴量をデータフレームに格納\n",
    "df4[\"director_sales\"] = director_sum_sales\n",
    "df4 = df4.drop(columns=[\"revenue\"])\n",
    "\n",
    "# 最後に結合\n",
    "df3 = pd.concat([df3, df4], axis=1,ignore_index=False)\n",
    "df3 = df3.drop(columns=[\"crew\"])\n",
    "df3.head()"
   ],
   "metadata": {
    "collapsed": false,
    "pycharm": {
     "name": "#%%\n"
    }
   }
  },
  {
   "cell_type": "code",
   "execution_count": 97,
   "outputs": [
    {
     "data": {
      "text/plain": "(3357, 9)"
     },
     "execution_count": 97,
     "metadata": {},
     "output_type": "execute_result"
    }
   ],
   "source": [
    "# 制作会社も過去の売上から特徴量を作成\n",
    "# 方法としては監督と同じにする\n",
    "company_names = df3[\"production_companies\"]\n",
    "company_list = list()\n",
    "num = 0\n",
    "for self_company_names in company_names:\n",
    "    num += 1\n",
    "    if self_company_names == \"[]\":\n",
    "        company_list.append(\"\")\n",
    "    else:\n",
    "        self_company_names = ast.literal_eval(self_company_names[1:-1])\n",
    "        company_name = list()\n",
    "        for self_company_name in self_company_names:\n",
    "            try:\n",
    "                name = self_company_name[\"name\"]\n",
    "                company_name.append(name)\n",
    "            except:\n",
    "                name = self_company_names[\"name\"]\n",
    "                company_name.append(name)\n",
    "            if len(company_name) >= 2:\n",
    "                break\n",
    "        company_list.append(company_name)\n",
    "\n",
    "# 続いて辞書型を作成してその中に数を入れていく\n",
    "company_name_dict = dict()  #会社の種類と出てくる回数を保持\n",
    "revenue = df3[\"revenue\"]\n",
    "for i in range(len(company_list)):\n",
    "    per_company_names = company_list[i]\n",
    "    for company_name in per_company_names:\n",
    "        if company_name in company_name_dict:\n",
    "            company_name_dict[company_name][0] += 1\n",
    "            company_name_dict[company_name][1] += revenue[i]\n",
    "        else:\n",
    "            company_name_dict[company_name] = [1, revenue[i]]\n",
    "\n",
    "# 一回しか出てこないものは取り除く\n",
    "company_dict = dict()\n",
    "for key, value in company_name_dict.items():\n",
    "    count_value = value[0]\n",
    "    revenue_value = value[1]\n",
    "    if count_value > 2:\n",
    "        company_dict[key] = revenue_value // count_value\n",
    "\n",
    "# とりあえずこれらの値を当てはめたデータフレームを作成する\n",
    "company_sales = list([0] * len(company_list))\n",
    "for i in range(len(company_list)):\n",
    "    companies = company_list[i]\n",
    "    for company in companies:\n",
    "        try:\n",
    "            company_sales[i] += company_dict[company]\n",
    "        except:\n",
    "            company_sales[i] = company_sales[i] * 2\n",
    "    company_sales[i] = company_sales[i] // 2\n",
    "for j in range(len(company_sales)):\n",
    "    if company_sales[j] == 0:\n",
    "        company_sales[j] = revenue[j]\n",
    "\n",
    "# 最後に結合\n",
    "df3[\"company_sales\"] = company_sales\n",
    "df3 = df3.drop(columns=[\"production_companies\"])\n",
    "df3.shape\n"
   ],
   "metadata": {
    "collapsed": false,
    "pycharm": {
     "name": "#%%\n"
    }
   }
  },
  {
   "cell_type": "code",
   "execution_count": 98,
   "outputs": [
    {
     "data": {
      "text/plain": "      budget                                             genres release_date  \\\n0  237000000  [{\"id\": 28, \"name\": \"Action\"}, {\"id\": 12, \"nam...   2009-12-10   \n1  300000000  [{\"id\": 12, \"name\": \"Adventure\"}, {\"id\": 14, \"...   2007-05-19   \n2  245000000  [{\"id\": 28, \"name\": \"Action\"}, {\"id\": 12, \"nam...   2015-10-26   \n3  250000000  [{\"id\": 28, \"name\": \"Action\"}, {\"id\": 80, \"nam...   2012-07-16   \n4  260000000  [{\"id\": 28, \"name\": \"Action\"}, {\"id\": 12, \"nam...   2012-03-07   \n\n      revenue  runtime  spoken_languages  vote_average  director_sales  \\\n0  2787965087    162.0                 2           7.2       840509919   \n1   961000000    169.0                 2           6.9       453859051   \n2   880674609    148.0                 5           6.3       387649829   \n3  1084939099    165.0                 2           7.6       528435404   \n4   284139100    132.0                 2           6.1       527261338   \n\n   company_sales  \n0      259081578  \n1      317561395  \n2      160865676  \n3      234020167  \n4      255468697  ",
      "text/html": "<div>\n<style scoped>\n    .dataframe tbody tr th:only-of-type {\n        vertical-align: middle;\n    }\n\n    .dataframe tbody tr th {\n        vertical-align: top;\n    }\n\n    .dataframe thead th {\n        text-align: right;\n    }\n</style>\n<table border=\"1\" class=\"dataframe\">\n  <thead>\n    <tr style=\"text-align: right;\">\n      <th></th>\n      <th>budget</th>\n      <th>genres</th>\n      <th>release_date</th>\n      <th>revenue</th>\n      <th>runtime</th>\n      <th>spoken_languages</th>\n      <th>vote_average</th>\n      <th>director_sales</th>\n      <th>company_sales</th>\n    </tr>\n  </thead>\n  <tbody>\n    <tr>\n      <th>0</th>\n      <td>237000000</td>\n      <td>[{\"id\": 28, \"name\": \"Action\"}, {\"id\": 12, \"nam...</td>\n      <td>2009-12-10</td>\n      <td>2787965087</td>\n      <td>162.0</td>\n      <td>2</td>\n      <td>7.2</td>\n      <td>840509919</td>\n      <td>259081578</td>\n    </tr>\n    <tr>\n      <th>1</th>\n      <td>300000000</td>\n      <td>[{\"id\": 12, \"name\": \"Adventure\"}, {\"id\": 14, \"...</td>\n      <td>2007-05-19</td>\n      <td>961000000</td>\n      <td>169.0</td>\n      <td>2</td>\n      <td>6.9</td>\n      <td>453859051</td>\n      <td>317561395</td>\n    </tr>\n    <tr>\n      <th>2</th>\n      <td>245000000</td>\n      <td>[{\"id\": 28, \"name\": \"Action\"}, {\"id\": 12, \"nam...</td>\n      <td>2015-10-26</td>\n      <td>880674609</td>\n      <td>148.0</td>\n      <td>5</td>\n      <td>6.3</td>\n      <td>387649829</td>\n      <td>160865676</td>\n    </tr>\n    <tr>\n      <th>3</th>\n      <td>250000000</td>\n      <td>[{\"id\": 28, \"name\": \"Action\"}, {\"id\": 80, \"nam...</td>\n      <td>2012-07-16</td>\n      <td>1084939099</td>\n      <td>165.0</td>\n      <td>2</td>\n      <td>7.6</td>\n      <td>528435404</td>\n      <td>234020167</td>\n    </tr>\n    <tr>\n      <th>4</th>\n      <td>260000000</td>\n      <td>[{\"id\": 28, \"name\": \"Action\"}, {\"id\": 12, \"nam...</td>\n      <td>2012-03-07</td>\n      <td>284139100</td>\n      <td>132.0</td>\n      <td>2</td>\n      <td>6.1</td>\n      <td>527261338</td>\n      <td>255468697</td>\n    </tr>\n  </tbody>\n</table>\n</div>"
     },
     "execution_count": 98,
     "metadata": {},
     "output_type": "execute_result"
    }
   ],
   "source": [
    "# 話されている言語の数を特徴量として作成(話されている言語の種類を取得)\n",
    "spoken_languages = df3[\"spoken_languages\"]\n",
    "language_list = list()\n",
    "for spoken_language in spoken_languages:\n",
    "    if spoken_language == \"[]\":\n",
    "        language_list.append(1)\n",
    "    else:\n",
    "        spoken_language = ast.literal_eval(spoken_language[1:-1])\n",
    "        language_type = len(spoken_language)\n",
    "        language_list.append(language_type)\n",
    "\n",
    "# 作成したものを代入\n",
    "df3[\"spoken_languages\"] = language_list\n",
    "df3.head()"
   ],
   "metadata": {
    "collapsed": false,
    "pycharm": {
     "name": "#%%\n"
    }
   }
  },
  {
   "cell_type": "code",
   "execution_count": 99,
   "outputs": [
    {
     "data": {
      "text/plain": "      budget                                             genres     revenue  \\\n0  237000000  [{\"id\": 28, \"name\": \"Action\"}, {\"id\": 12, \"nam...  2787965087   \n1  300000000  [{\"id\": 12, \"name\": \"Adventure\"}, {\"id\": 14, \"...   961000000   \n2  245000000  [{\"id\": 28, \"name\": \"Action\"}, {\"id\": 12, \"nam...   880674609   \n3  250000000  [{\"id\": 28, \"name\": \"Action\"}, {\"id\": 80, \"nam...  1084939099   \n4  260000000  [{\"id\": 28, \"name\": \"Action\"}, {\"id\": 12, \"nam...   284139100   \n\n   runtime  spoken_languages  vote_average  director_sales  company_sales  \\\n0    162.0                 2           7.2       840509919      259081578   \n1    169.0                 2           6.9       453859051      317561395   \n2    148.0                 5           6.3       387649829      160865676   \n3    165.0                 2           7.6       528435404      234020167   \n4    132.0                 2           6.1       527261338      255468697   \n\n   release_year  release_day_sin  release_day_cos  \n0        2009.0        -0.353676         0.935368  \n1        2007.0         0.680773        -0.732494  \n2        2015.0        -0.907014         0.421101  \n3        2012.0        -0.247022        -0.969010  \n4        2012.0         0.907014         0.421101  ",
      "text/html": "<div>\n<style scoped>\n    .dataframe tbody tr th:only-of-type {\n        vertical-align: middle;\n    }\n\n    .dataframe tbody tr th {\n        vertical-align: top;\n    }\n\n    .dataframe thead th {\n        text-align: right;\n    }\n</style>\n<table border=\"1\" class=\"dataframe\">\n  <thead>\n    <tr style=\"text-align: right;\">\n      <th></th>\n      <th>budget</th>\n      <th>genres</th>\n      <th>revenue</th>\n      <th>runtime</th>\n      <th>spoken_languages</th>\n      <th>vote_average</th>\n      <th>director_sales</th>\n      <th>company_sales</th>\n      <th>release_year</th>\n      <th>release_day_sin</th>\n      <th>release_day_cos</th>\n    </tr>\n  </thead>\n  <tbody>\n    <tr>\n      <th>0</th>\n      <td>237000000</td>\n      <td>[{\"id\": 28, \"name\": \"Action\"}, {\"id\": 12, \"nam...</td>\n      <td>2787965087</td>\n      <td>162.0</td>\n      <td>2</td>\n      <td>7.2</td>\n      <td>840509919</td>\n      <td>259081578</td>\n      <td>2009.0</td>\n      <td>-0.353676</td>\n      <td>0.935368</td>\n    </tr>\n    <tr>\n      <th>1</th>\n      <td>300000000</td>\n      <td>[{\"id\": 12, \"name\": \"Adventure\"}, {\"id\": 14, \"...</td>\n      <td>961000000</td>\n      <td>169.0</td>\n      <td>2</td>\n      <td>6.9</td>\n      <td>453859051</td>\n      <td>317561395</td>\n      <td>2007.0</td>\n      <td>0.680773</td>\n      <td>-0.732494</td>\n    </tr>\n    <tr>\n      <th>2</th>\n      <td>245000000</td>\n      <td>[{\"id\": 28, \"name\": \"Action\"}, {\"id\": 12, \"nam...</td>\n      <td>880674609</td>\n      <td>148.0</td>\n      <td>5</td>\n      <td>6.3</td>\n      <td>387649829</td>\n      <td>160865676</td>\n      <td>2015.0</td>\n      <td>-0.907014</td>\n      <td>0.421101</td>\n    </tr>\n    <tr>\n      <th>3</th>\n      <td>250000000</td>\n      <td>[{\"id\": 28, \"name\": \"Action\"}, {\"id\": 80, \"nam...</td>\n      <td>1084939099</td>\n      <td>165.0</td>\n      <td>2</td>\n      <td>7.6</td>\n      <td>528435404</td>\n      <td>234020167</td>\n      <td>2012.0</td>\n      <td>-0.247022</td>\n      <td>-0.969010</td>\n    </tr>\n    <tr>\n      <th>4</th>\n      <td>260000000</td>\n      <td>[{\"id\": 28, \"name\": \"Action\"}, {\"id\": 12, \"nam...</td>\n      <td>284139100</td>\n      <td>132.0</td>\n      <td>2</td>\n      <td>6.1</td>\n      <td>527261338</td>\n      <td>255468697</td>\n      <td>2012.0</td>\n      <td>0.907014</td>\n      <td>0.421101</td>\n    </tr>\n  </tbody>\n</table>\n</div>"
     },
     "execution_count": 99,
     "metadata": {},
     "output_type": "execute_result"
    }
   ],
   "source": [
    "# リリース日を月と年月に分けてそれぞれ代入\n",
    "# また月日は円循環なので,sinとcosに分ける\n",
    "\n",
    "# まずは月日を1/1からどれだけ経ったかに変換する関数を作成\n",
    "def convert_date_to_number(month: int, day: int) -> int:\n",
    "    # 1月1日からの経過日数を保持する変数\n",
    "    elapsed_days = 0\n",
    "\n",
    "    # 1月から現在の月までをループ\n",
    "    for m in range(1, month):\n",
    "        # 当該月の日数を加算\n",
    "        elapsed_days += get_days_in_month(m)\n",
    "\n",
    "    # 最後に現在日を加算\n",
    "    elapsed_days += day\n",
    "\n",
    "    return elapsed_days\n",
    "\n",
    "def get_days_in_month(month: int) -> int:\n",
    "    # 2月までは日数が固定\n",
    "    if month in [1, 3, 5, 7, 8, 10, 12]:\n",
    "        return 31\n",
    "    elif month == 2:\n",
    "        return 28\n",
    "    else:\n",
    "        return 30\n",
    "\n",
    "# 次にsinとcosに変換する関数を作成\n",
    "def encode(month, day):\n",
    "    # この方法だと場合によって最大値が変化するデータでは正確な値は出ない\n",
    "    # 例：月の日数が30日や31日の場合がある\n",
    "    date_num = convert_date_to_number(month, day)\n",
    "    sin = np.sin(2 * np.pi * date_num / 365)\n",
    "    cos = np.cos(2 * np.pi * date_num / 365)\n",
    "    return [sin,cos]\n",
    "\n",
    "# 新しい特徴量を作成\n",
    "df3[\"release_year\"] = 0\n",
    "df3[\"release_day_sin\"] = 0\n",
    "df3[\"release_day_cos\"] = 0\n",
    "release_year = dict()\n",
    "release_day_sin = dict()\n",
    "release_day_cos = dict()\n",
    "for key in df3[\"release_date\"]:\n",
    "    if type(key) == str:\n",
    "        year,month,day = key.split(\"-\")\n",
    "        release_year[key] = float(year)\n",
    "        day = encode(int(month),int(day))\n",
    "        day_sin,day_cos = day[0],day[1]\n",
    "        release_day_sin[key] = day_sin\n",
    "        release_day_cos[key] = day_cos\n",
    "\n",
    "# では作ったものを入れていく\n",
    "df3[\"release_year\"] = df3[\"release_date\"].replace(release_year).astype(float)\n",
    "df3[\"release_day_cos\"] = df3[\"release_date\"].replace(release_day_cos).astype(float)\n",
    "df3[\"release_day_sin\"] = df3[\"release_date\"].replace(release_day_sin).astype(float)\n",
    "df3 = df3.drop(columns=[\"release_date\"])\n",
    "df3.head()"
   ],
   "metadata": {
    "collapsed": false,
    "pycharm": {
     "name": "#%%\n"
    }
   }
  },
  {
   "cell_type": "code",
   "execution_count": 100,
   "outputs": [
    {
     "data": {
      "text/plain": "      budget     revenue  runtime  spoken_languages  vote_average  \\\n0  237000000  2787965087    162.0                 2           7.2   \n1  300000000   961000000    169.0                 2           6.9   \n2  245000000   880674609    148.0                 5           6.3   \n3  250000000  1084939099    165.0                 2           7.6   \n4  260000000   284139100    132.0                 2           6.1   \n\n   director_sales  company_sales  release_year  release_day_sin  \\\n0       840509919      259081578        2009.0        -0.353676   \n1       453859051      317561395        2007.0         0.680773   \n2       387649829      160865676        2015.0        -0.907014   \n3       528435404      234020167        2012.0        -0.247022   \n4       527261338      255468697        2012.0         0.907014   \n\n   release_day_cos  ...  Western  Comedy  Romance  Horror  Mystery  History  \\\n0         0.935368  ...        0       0        0       0        0        0   \n1        -0.732494  ...        0       0        0       0        0        0   \n2         0.421101  ...        0       0        0       0        0        0   \n3        -0.969010  ...        0       0        0       0        0        0   \n4         0.421101  ...        0       0        0       0        0        0   \n\n   War  Music  Documentary  Foreign  \n0    0      0            0        0  \n1    0      0            0        0  \n2    0      0            0        0  \n3    0      0            0        0  \n4    0      0            0        0  \n\n[5 rows x 29 columns]",
      "text/html": "<div>\n<style scoped>\n    .dataframe tbody tr th:only-of-type {\n        vertical-align: middle;\n    }\n\n    .dataframe tbody tr th {\n        vertical-align: top;\n    }\n\n    .dataframe thead th {\n        text-align: right;\n    }\n</style>\n<table border=\"1\" class=\"dataframe\">\n  <thead>\n    <tr style=\"text-align: right;\">\n      <th></th>\n      <th>budget</th>\n      <th>revenue</th>\n      <th>runtime</th>\n      <th>spoken_languages</th>\n      <th>vote_average</th>\n      <th>director_sales</th>\n      <th>company_sales</th>\n      <th>release_year</th>\n      <th>release_day_sin</th>\n      <th>release_day_cos</th>\n      <th>...</th>\n      <th>Western</th>\n      <th>Comedy</th>\n      <th>Romance</th>\n      <th>Horror</th>\n      <th>Mystery</th>\n      <th>History</th>\n      <th>War</th>\n      <th>Music</th>\n      <th>Documentary</th>\n      <th>Foreign</th>\n    </tr>\n  </thead>\n  <tbody>\n    <tr>\n      <th>0</th>\n      <td>237000000</td>\n      <td>2787965087</td>\n      <td>162.0</td>\n      <td>2</td>\n      <td>7.2</td>\n      <td>840509919</td>\n      <td>259081578</td>\n      <td>2009.0</td>\n      <td>-0.353676</td>\n      <td>0.935368</td>\n      <td>...</td>\n      <td>0</td>\n      <td>0</td>\n      <td>0</td>\n      <td>0</td>\n      <td>0</td>\n      <td>0</td>\n      <td>0</td>\n      <td>0</td>\n      <td>0</td>\n      <td>0</td>\n    </tr>\n    <tr>\n      <th>1</th>\n      <td>300000000</td>\n      <td>961000000</td>\n      <td>169.0</td>\n      <td>2</td>\n      <td>6.9</td>\n      <td>453859051</td>\n      <td>317561395</td>\n      <td>2007.0</td>\n      <td>0.680773</td>\n      <td>-0.732494</td>\n      <td>...</td>\n      <td>0</td>\n      <td>0</td>\n      <td>0</td>\n      <td>0</td>\n      <td>0</td>\n      <td>0</td>\n      <td>0</td>\n      <td>0</td>\n      <td>0</td>\n      <td>0</td>\n    </tr>\n    <tr>\n      <th>2</th>\n      <td>245000000</td>\n      <td>880674609</td>\n      <td>148.0</td>\n      <td>5</td>\n      <td>6.3</td>\n      <td>387649829</td>\n      <td>160865676</td>\n      <td>2015.0</td>\n      <td>-0.907014</td>\n      <td>0.421101</td>\n      <td>...</td>\n      <td>0</td>\n      <td>0</td>\n      <td>0</td>\n      <td>0</td>\n      <td>0</td>\n      <td>0</td>\n      <td>0</td>\n      <td>0</td>\n      <td>0</td>\n      <td>0</td>\n    </tr>\n    <tr>\n      <th>3</th>\n      <td>250000000</td>\n      <td>1084939099</td>\n      <td>165.0</td>\n      <td>2</td>\n      <td>7.6</td>\n      <td>528435404</td>\n      <td>234020167</td>\n      <td>2012.0</td>\n      <td>-0.247022</td>\n      <td>-0.969010</td>\n      <td>...</td>\n      <td>0</td>\n      <td>0</td>\n      <td>0</td>\n      <td>0</td>\n      <td>0</td>\n      <td>0</td>\n      <td>0</td>\n      <td>0</td>\n      <td>0</td>\n      <td>0</td>\n    </tr>\n    <tr>\n      <th>4</th>\n      <td>260000000</td>\n      <td>284139100</td>\n      <td>132.0</td>\n      <td>2</td>\n      <td>6.1</td>\n      <td>527261338</td>\n      <td>255468697</td>\n      <td>2012.0</td>\n      <td>0.907014</td>\n      <td>0.421101</td>\n      <td>...</td>\n      <td>0</td>\n      <td>0</td>\n      <td>0</td>\n      <td>0</td>\n      <td>0</td>\n      <td>0</td>\n      <td>0</td>\n      <td>0</td>\n      <td>0</td>\n      <td>0</td>\n    </tr>\n  </tbody>\n</table>\n<p>5 rows × 29 columns</p>\n</div>"
     },
     "execution_count": 100,
     "metadata": {},
     "output_type": "execute_result"
    }
   ],
   "source": [
    "# ジャンルをワンホットエンコーディング\n",
    "genres_list = [\"Action\",\"Adventure\",\"Fantasy\",\"Science Fiction\",\"Crime\",\"Drama\",\"Thriller\",\"Animation\",\"Family\",\"Western\",\"Comedy\",\"Romance\",\"Horror\",\"Mystery\",\"History\",\"War\",\"Music\",\"Documentary\",\"Foreign\"]\n",
    "\n",
    "# とりあえず特徴量を作成\n",
    "for genre in genres_list:\n",
    "    df3[genre] = 0\n",
    "\n",
    "genres = df3[\"genres\"]\n",
    "# とりあえず種類が欲しいので種類を確認\n",
    "# まずは辞書を作成\n",
    "movie_genre_dict = dict()\n",
    "movie_genre_list = list()\n",
    "\n",
    "for movie_genre in genres:\n",
    "    if movie_genre == \"[]\":\n",
    "        movie_genre_list.append(\"\")\n",
    "    else:\n",
    "        per_genre_list = ast.literal_eval(movie_genre[1:-1])\n",
    "        genre_list = []\n",
    "        for per_genre in per_genre_list:\n",
    "            if type(per_genre) == dict:\n",
    "                movie_id = per_genre[\"id\"]\n",
    "                movie_name = per_genre[\"name\"]\n",
    "                movie_genre_dict[movie_id] = movie_name\n",
    "                genre_list.append(movie_name)\n",
    "            else:\n",
    "                movie_id = per_genre_list[\"id\"]\n",
    "                movie_name = per_genre_list[\"name\"]\n",
    "                movie_genre_dict[movie_id] = movie_name\n",
    "                genre_list.append(movie_name)\n",
    "                break\n",
    "        movie_genre_list.append(genre_list)\n",
    "        genre_list = []\n",
    "\n",
    "def put_genre(df,movie_genre_list):\n",
    "    for i in range(len(df)):\n",
    "        for genre in movie_genre_list[i]:\n",
    "            df.at[i,genre] = 1.0\n",
    "put_genre(df3,movie_genre_list)\n",
    "\n",
    "\n",
    "# では代入開始\n",
    "def put_genre(df,movie_genre_list):\n",
    "\n",
    "    for i,row in df.iterrows():\n",
    "        num = 0\n",
    "        for genre in movie_genre_list[num]:\n",
    "            df.at[i,genre] = 1.0\n",
    "            num += 1\n",
    "put_genre(df3,movie_genre_list)\n",
    "\n",
    "# 最後に不必要な部分を落とす\n",
    "df3 = df3.drop(columns=[\"genres\"])\n",
    "df3.head()"
   ],
   "metadata": {
    "collapsed": false,
    "pycharm": {
     "name": "#%%\n"
    }
   }
  },
  {
   "cell_type": "code",
   "execution_count": 101,
   "outputs": [],
   "source": [
    "# 訓練データと検証データ,テストデータに分ける\n",
    "train_val,test = train_test_split(df3,test_size=0.2,random_state=0)"
   ],
   "metadata": {
    "collapsed": false,
    "pycharm": {
     "name": "#%%\n"
    }
   }
  },
  {
   "cell_type": "code",
   "execution_count": 102,
   "outputs": [],
   "source": [
    "# 散布図を表示\n",
    "# colname = train_val.columns\n",
    "# for name in colname:\n",
    "#     train_val.plot(kind=\"scatter\",x= name,y= \"revenue\")"
   ],
   "metadata": {
    "collapsed": false,
    "pycharm": {
     "name": "#%%\n"
    }
   }
  },
  {
   "cell_type": "code",
   "execution_count": 103,
   "outputs": [],
   "source": [
    "# ハズレ値の処理\n",
    "out_line = train_val[(train_val[\"revenue\"] > 2.5*10**9)].index\n",
    "train_val = train_val.drop([0],axis=0)"
   ],
   "metadata": {
    "collapsed": false,
    "pycharm": {
     "name": "#%%\n"
    }
   }
  },
  {
   "cell_type": "code",
   "execution_count": 104,
   "outputs": [
    {
     "data": {
      "text/plain": "         budget  runtime  spoken_languages  vote_average  director_sales  \\\n883    50000000     80.0                 2           5.2       106655361   \n716    75000000    104.0                 2           6.3        39561182   \n3133    2000000    104.0                 2           6.3       113155643   \n530    75000000    106.0                 2           6.9       272483881   \n245   110000000    125.0                 5           6.4       151061745   \n...         ...      ...               ...           ...             ...   \n835    52500000    127.0                 3           7.4       181776654   \n3264     800000     88.0                 2           7.8        12121129   \n1653   25000000     99.0                 2           6.1       134984412   \n2607    9000000     79.0                 2           6.0         4350774   \n2732    7000000    170.0                 2           6.7         1310673   \n\n      company_sales  release_year  release_day_sin  release_day_cos  Action  \\\n883       126157643        2004.0         0.361714        -0.932289       1   \n716       126040768        1998.0        -0.965740         0.259512       1   \n3133       57055697        1985.0         0.988678        -0.150055       1   \n530        50613527        2000.0        -0.735417         0.677615       1   \n245       189649320        2004.0        -0.369725         0.929141       1   \n...             ...           ...              ...              ...     ...   \n835       179149012        2001.0         0.920971         0.389630       1   \n3264        2816116        2002.0         0.717677        -0.696376       1   \n1653      115177468        2014.0         0.120208         0.992749       1   \n2607        4350774        1994.0         0.888057        -0.459733       1   \n2732        1310673        2013.0         0.840618         0.541628       1   \n\n      ...  Western  Comedy  Romance  Horror  Mystery  History  War  Music  \\\n883   ...        0       1        0       0        0        0    0      0   \n716   ...        0       1        0       0        0        0    0      0   \n3133  ...        0       0        0       0        0        0    0      0   \n530   ...        0       0        0       0        0        0    0      0   \n245   ...        0       0        0       0        0        0    0      0   \n...   ...      ...     ...      ...     ...      ...      ...  ...    ...   \n835   ...        0       0        1       0        0        0    0      1   \n3264  ...        0       0        1       0        0        0    0      0   \n1653  ...        0       1        0       0        0        0    0      0   \n2607  ...        0       1        0       0        0        0    0      0   \n2732  ...        0       0        0       0        0        0    0      0   \n\n      Documentary  Foreign  \n883             0        0  \n716             0        0  \n3133            0        0  \n530             0        0  \n245             0        0  \n...           ...      ...  \n835             0        0  \n3264            0        0  \n1653            0        0  \n2607            0        0  \n2732            0        0  \n\n[2684 rows x 28 columns]",
      "text/html": "<div>\n<style scoped>\n    .dataframe tbody tr th:only-of-type {\n        vertical-align: middle;\n    }\n\n    .dataframe tbody tr th {\n        vertical-align: top;\n    }\n\n    .dataframe thead th {\n        text-align: right;\n    }\n</style>\n<table border=\"1\" class=\"dataframe\">\n  <thead>\n    <tr style=\"text-align: right;\">\n      <th></th>\n      <th>budget</th>\n      <th>runtime</th>\n      <th>spoken_languages</th>\n      <th>vote_average</th>\n      <th>director_sales</th>\n      <th>company_sales</th>\n      <th>release_year</th>\n      <th>release_day_sin</th>\n      <th>release_day_cos</th>\n      <th>Action</th>\n      <th>...</th>\n      <th>Western</th>\n      <th>Comedy</th>\n      <th>Romance</th>\n      <th>Horror</th>\n      <th>Mystery</th>\n      <th>History</th>\n      <th>War</th>\n      <th>Music</th>\n      <th>Documentary</th>\n      <th>Foreign</th>\n    </tr>\n  </thead>\n  <tbody>\n    <tr>\n      <th>883</th>\n      <td>50000000</td>\n      <td>80.0</td>\n      <td>2</td>\n      <td>5.2</td>\n      <td>106655361</td>\n      <td>126157643</td>\n      <td>2004.0</td>\n      <td>0.361714</td>\n      <td>-0.932289</td>\n      <td>1</td>\n      <td>...</td>\n      <td>0</td>\n      <td>1</td>\n      <td>0</td>\n      <td>0</td>\n      <td>0</td>\n      <td>0</td>\n      <td>0</td>\n      <td>0</td>\n      <td>0</td>\n      <td>0</td>\n    </tr>\n    <tr>\n      <th>716</th>\n      <td>75000000</td>\n      <td>104.0</td>\n      <td>2</td>\n      <td>6.3</td>\n      <td>39561182</td>\n      <td>126040768</td>\n      <td>1998.0</td>\n      <td>-0.965740</td>\n      <td>0.259512</td>\n      <td>1</td>\n      <td>...</td>\n      <td>0</td>\n      <td>1</td>\n      <td>0</td>\n      <td>0</td>\n      <td>0</td>\n      <td>0</td>\n      <td>0</td>\n      <td>0</td>\n      <td>0</td>\n      <td>0</td>\n    </tr>\n    <tr>\n      <th>3133</th>\n      <td>2000000</td>\n      <td>104.0</td>\n      <td>2</td>\n      <td>6.3</td>\n      <td>113155643</td>\n      <td>57055697</td>\n      <td>1985.0</td>\n      <td>0.988678</td>\n      <td>-0.150055</td>\n      <td>1</td>\n      <td>...</td>\n      <td>0</td>\n      <td>0</td>\n      <td>0</td>\n      <td>0</td>\n      <td>0</td>\n      <td>0</td>\n      <td>0</td>\n      <td>0</td>\n      <td>0</td>\n      <td>0</td>\n    </tr>\n    <tr>\n      <th>530</th>\n      <td>75000000</td>\n      <td>106.0</td>\n      <td>2</td>\n      <td>6.9</td>\n      <td>272483881</td>\n      <td>50613527</td>\n      <td>2000.0</td>\n      <td>-0.735417</td>\n      <td>0.677615</td>\n      <td>1</td>\n      <td>...</td>\n      <td>0</td>\n      <td>0</td>\n      <td>0</td>\n      <td>0</td>\n      <td>0</td>\n      <td>0</td>\n      <td>0</td>\n      <td>0</td>\n      <td>0</td>\n      <td>0</td>\n    </tr>\n    <tr>\n      <th>245</th>\n      <td>110000000</td>\n      <td>125.0</td>\n      <td>5</td>\n      <td>6.4</td>\n      <td>151061745</td>\n      <td>189649320</td>\n      <td>2004.0</td>\n      <td>-0.369725</td>\n      <td>0.929141</td>\n      <td>1</td>\n      <td>...</td>\n      <td>0</td>\n      <td>0</td>\n      <td>0</td>\n      <td>0</td>\n      <td>0</td>\n      <td>0</td>\n      <td>0</td>\n      <td>0</td>\n      <td>0</td>\n      <td>0</td>\n    </tr>\n    <tr>\n      <th>...</th>\n      <td>...</td>\n      <td>...</td>\n      <td>...</td>\n      <td>...</td>\n      <td>...</td>\n      <td>...</td>\n      <td>...</td>\n      <td>...</td>\n      <td>...</td>\n      <td>...</td>\n      <td>...</td>\n      <td>...</td>\n      <td>...</td>\n      <td>...</td>\n      <td>...</td>\n      <td>...</td>\n      <td>...</td>\n      <td>...</td>\n      <td>...</td>\n      <td>...</td>\n      <td>...</td>\n    </tr>\n    <tr>\n      <th>835</th>\n      <td>52500000</td>\n      <td>127.0</td>\n      <td>3</td>\n      <td>7.4</td>\n      <td>181776654</td>\n      <td>179149012</td>\n      <td>2001.0</td>\n      <td>0.920971</td>\n      <td>0.389630</td>\n      <td>1</td>\n      <td>...</td>\n      <td>0</td>\n      <td>0</td>\n      <td>1</td>\n      <td>0</td>\n      <td>0</td>\n      <td>0</td>\n      <td>0</td>\n      <td>1</td>\n      <td>0</td>\n      <td>0</td>\n    </tr>\n    <tr>\n      <th>3264</th>\n      <td>800000</td>\n      <td>88.0</td>\n      <td>2</td>\n      <td>7.8</td>\n      <td>12121129</td>\n      <td>2816116</td>\n      <td>2002.0</td>\n      <td>0.717677</td>\n      <td>-0.696376</td>\n      <td>1</td>\n      <td>...</td>\n      <td>0</td>\n      <td>0</td>\n      <td>1</td>\n      <td>0</td>\n      <td>0</td>\n      <td>0</td>\n      <td>0</td>\n      <td>0</td>\n      <td>0</td>\n      <td>0</td>\n    </tr>\n    <tr>\n      <th>1653</th>\n      <td>25000000</td>\n      <td>99.0</td>\n      <td>2</td>\n      <td>6.1</td>\n      <td>134984412</td>\n      <td>115177468</td>\n      <td>2014.0</td>\n      <td>0.120208</td>\n      <td>0.992749</td>\n      <td>1</td>\n      <td>...</td>\n      <td>0</td>\n      <td>1</td>\n      <td>0</td>\n      <td>0</td>\n      <td>0</td>\n      <td>0</td>\n      <td>0</td>\n      <td>0</td>\n      <td>0</td>\n      <td>0</td>\n    </tr>\n    <tr>\n      <th>2607</th>\n      <td>9000000</td>\n      <td>79.0</td>\n      <td>2</td>\n      <td>6.0</td>\n      <td>4350774</td>\n      <td>4350774</td>\n      <td>1994.0</td>\n      <td>0.888057</td>\n      <td>-0.459733</td>\n      <td>1</td>\n      <td>...</td>\n      <td>0</td>\n      <td>1</td>\n      <td>0</td>\n      <td>0</td>\n      <td>0</td>\n      <td>0</td>\n      <td>0</td>\n      <td>0</td>\n      <td>0</td>\n      <td>0</td>\n    </tr>\n    <tr>\n      <th>2732</th>\n      <td>7000000</td>\n      <td>170.0</td>\n      <td>2</td>\n      <td>6.7</td>\n      <td>1310673</td>\n      <td>1310673</td>\n      <td>2013.0</td>\n      <td>0.840618</td>\n      <td>0.541628</td>\n      <td>1</td>\n      <td>...</td>\n      <td>0</td>\n      <td>0</td>\n      <td>0</td>\n      <td>0</td>\n      <td>0</td>\n      <td>0</td>\n      <td>0</td>\n      <td>0</td>\n      <td>0</td>\n      <td>0</td>\n    </tr>\n  </tbody>\n</table>\n<p>2684 rows × 28 columns</p>\n</div>"
     },
     "execution_count": 104,
     "metadata": {},
     "output_type": "execute_result"
    }
   ],
   "source": [
    "# 訓練データと検証データに分ける\n",
    "t = train_val[[\"revenue\"]]\n",
    "x = train_val.drop(columns=[\"revenue\"])\n",
    "x"
   ],
   "metadata": {
    "collapsed": false,
    "pycharm": {
     "name": "#%%\n"
    }
   }
  },
  {
   "cell_type": "code",
   "execution_count": 105,
   "outputs": [],
   "source": [
    "X_train,X_test,y_train,y_test = train_test_split(x,t,test_size=0.2,random_state=0)"
   ],
   "metadata": {
    "collapsed": false,
    "pycharm": {
     "name": "#%%\n"
    }
   }
  },
  {
   "cell_type": "code",
   "execution_count": 106,
   "outputs": [
    {
     "data": {
      "text/plain": "budget              1.000233\nruntime             1.000233\nspoken_languages    1.000233\nvote_average        1.000233\ndirector_sales      1.000233\ncompany_sales       1.000233\nrelease_year        1.000233\nrelease_day_sin     1.000233\nrelease_day_cos     1.000233\nAction              0.000000\nAdventure           0.000000\nFantasy             0.000000\nScience Fiction     0.000000\nCrime               1.000233\nDrama               1.000233\nThriller            1.000233\nAnimation           1.000233\nFamily              1.000233\nWestern             1.000233\nComedy              1.000233\nRomance             1.000233\nHorror              1.000233\nMystery             1.000233\nHistory             1.000233\nWar                 1.000233\nMusic               1.000233\nDocumentary         1.000233\nForeign             1.000233\ndtype: float64"
     },
     "execution_count": 106,
     "metadata": {},
     "output_type": "execute_result"
    }
   ],
   "source": [
    "# データの標準化\n",
    "sc_model_x = StandardScaler()\n",
    "sc_model_x.fit(X_train)\n",
    "\n",
    "# 各列を標準化して格納\n",
    "sc_x = sc_model_x.transform(X_train)\n",
    "\n",
    "# データフレームに変更\n",
    "tmp_df = pd.DataFrame(sc_x,columns=X_train.columns)\n",
    "\n",
    "# 平均値の計算\n",
    "tmp_df.std()"
   ],
   "metadata": {
    "collapsed": false,
    "pycharm": {
     "name": "#%%\n"
    }
   }
  },
  {
   "cell_type": "code",
   "execution_count": 107,
   "outputs": [],
   "source": [
    "# 正解データも標準化\n",
    "sc_model_y = StandardScaler()\n",
    "sc_model_y.fit(y_train)\n",
    "sc_y = sc_model_y.transform(y_train)"
   ],
   "metadata": {
    "collapsed": false,
    "pycharm": {
     "name": "#%%\n"
    }
   }
  },
  {
   "cell_type": "code",
   "execution_count": 108,
   "outputs": [
    {
     "data": {
      "text/plain": "LinearRegression()",
      "text/html": "<style>#sk-container-id-3 {color: black;background-color: white;}#sk-container-id-3 pre{padding: 0;}#sk-container-id-3 div.sk-toggleable {background-color: white;}#sk-container-id-3 label.sk-toggleable__label {cursor: pointer;display: block;width: 100%;margin-bottom: 0;padding: 0.3em;box-sizing: border-box;text-align: center;}#sk-container-id-3 label.sk-toggleable__label-arrow:before {content: \"▸\";float: left;margin-right: 0.25em;color: #696969;}#sk-container-id-3 label.sk-toggleable__label-arrow:hover:before {color: black;}#sk-container-id-3 div.sk-estimator:hover label.sk-toggleable__label-arrow:before {color: black;}#sk-container-id-3 div.sk-toggleable__content {max-height: 0;max-width: 0;overflow: hidden;text-align: left;background-color: #f0f8ff;}#sk-container-id-3 div.sk-toggleable__content pre {margin: 0.2em;color: black;border-radius: 0.25em;background-color: #f0f8ff;}#sk-container-id-3 input.sk-toggleable__control:checked~div.sk-toggleable__content {max-height: 200px;max-width: 100%;overflow: auto;}#sk-container-id-3 input.sk-toggleable__control:checked~label.sk-toggleable__label-arrow:before {content: \"▾\";}#sk-container-id-3 div.sk-estimator input.sk-toggleable__control:checked~label.sk-toggleable__label {background-color: #d4ebff;}#sk-container-id-3 div.sk-label input.sk-toggleable__control:checked~label.sk-toggleable__label {background-color: #d4ebff;}#sk-container-id-3 input.sk-hidden--visually {border: 0;clip: rect(1px 1px 1px 1px);clip: rect(1px, 1px, 1px, 1px);height: 1px;margin: -1px;overflow: hidden;padding: 0;position: absolute;width: 1px;}#sk-container-id-3 div.sk-estimator {font-family: monospace;background-color: #f0f8ff;border: 1px dotted black;border-radius: 0.25em;box-sizing: border-box;margin-bottom: 0.5em;}#sk-container-id-3 div.sk-estimator:hover {background-color: #d4ebff;}#sk-container-id-3 div.sk-parallel-item::after {content: \"\";width: 100%;border-bottom: 1px solid gray;flex-grow: 1;}#sk-container-id-3 div.sk-label:hover label.sk-toggleable__label {background-color: #d4ebff;}#sk-container-id-3 div.sk-serial::before {content: \"\";position: absolute;border-left: 1px solid gray;box-sizing: border-box;top: 0;bottom: 0;left: 50%;z-index: 0;}#sk-container-id-3 div.sk-serial {display: flex;flex-direction: column;align-items: center;background-color: white;padding-right: 0.2em;padding-left: 0.2em;position: relative;}#sk-container-id-3 div.sk-item {position: relative;z-index: 1;}#sk-container-id-3 div.sk-parallel {display: flex;align-items: stretch;justify-content: center;background-color: white;position: relative;}#sk-container-id-3 div.sk-item::before, #sk-container-id-3 div.sk-parallel-item::before {content: \"\";position: absolute;border-left: 1px solid gray;box-sizing: border-box;top: 0;bottom: 0;left: 50%;z-index: -1;}#sk-container-id-3 div.sk-parallel-item {display: flex;flex-direction: column;z-index: 1;position: relative;background-color: white;}#sk-container-id-3 div.sk-parallel-item:first-child::after {align-self: flex-end;width: 50%;}#sk-container-id-3 div.sk-parallel-item:last-child::after {align-self: flex-start;width: 50%;}#sk-container-id-3 div.sk-parallel-item:only-child::after {width: 0;}#sk-container-id-3 div.sk-dashed-wrapped {border: 1px dashed gray;margin: 0 0.4em 0.5em 0.4em;box-sizing: border-box;padding-bottom: 0.4em;background-color: white;}#sk-container-id-3 div.sk-label label {font-family: monospace;font-weight: bold;display: inline-block;line-height: 1.2em;}#sk-container-id-3 div.sk-label-container {text-align: center;}#sk-container-id-3 div.sk-container {/* jupyter's `normalize.less` sets `[hidden] { display: none; }` but bootstrap.min.css set `[hidden] { display: none !important; }` so we also need the `!important` here to be able to override the default hidden behavior on the sphinx rendered scikit-learn.org. See: https://github.com/scikit-learn/scikit-learn/issues/21755 */display: inline-block !important;position: relative;}#sk-container-id-3 div.sk-text-repr-fallback {display: none;}</style><div id=\"sk-container-id-3\" class=\"sk-top-container\"><div class=\"sk-text-repr-fallback\"><pre>LinearRegression()</pre><b>In a Jupyter environment, please rerun this cell to show the HTML representation or trust the notebook. <br />On GitHub, the HTML representation is unable to render, please try loading this page with nbviewer.org.</b></div><div class=\"sk-container\" hidden><div class=\"sk-item\"><div class=\"sk-estimator sk-toggleable\"><input class=\"sk-toggleable__control sk-hidden--visually\" id=\"sk-estimator-id-3\" type=\"checkbox\" checked><label for=\"sk-estimator-id-3\" class=\"sk-toggleable__label sk-toggleable__label-arrow\">LinearRegression</label><div class=\"sk-toggleable__content\"><pre>LinearRegression()</pre></div></div></div></div></div>"
     },
     "execution_count": 108,
     "metadata": {},
     "output_type": "execute_result"
    }
   ],
   "source": [
    "# 重回帰分析開始\n",
    "model = LinearRegression()\n",
    "model.fit(sc_x,sc_y)"
   ],
   "metadata": {
    "collapsed": false,
    "pycharm": {
     "name": "#%%\n"
    }
   }
  },
  {
   "cell_type": "code",
   "execution_count": 109,
   "outputs": [
    {
     "data": {
      "text/plain": "0.5363100475152432"
     },
     "execution_count": 109,
     "metadata": {},
     "output_type": "execute_result"
    }
   ],
   "source": [
    "# 検証データを標準化\n",
    "sc_x_val = sc_model_x.transform(X_test)\n",
    "sc_y_val = sc_model_y.transform(y_test)\n",
    "\n",
    "# 標準化した検証データで決定係数を計算\n",
    "model.score(sc_x_val,sc_y_val)"
   ],
   "metadata": {
    "collapsed": false,
    "pycharm": {
     "name": "#%%\n"
    }
   }
  },
  {
   "cell_type": "code",
   "execution_count": 109,
   "outputs": [],
   "source": [],
   "metadata": {
    "collapsed": false,
    "pycharm": {
     "name": "#%%\n"
    }
   }
  }
 ],
 "metadata": {
  "kernelspec": {
   "display_name": "Python 3",
   "language": "python",
   "name": "python3"
  },
  "language_info": {
   "codemirror_mode": {
    "name": "ipython",
    "version": 2
   },
   "file_extension": ".py",
   "mimetype": "text/x-python",
   "name": "python",
   "nbconvert_exporter": "python",
   "pygments_lexer": "ipython2",
   "version": "2.7.6"
  }
 },
 "nbformat": 4,
 "nbformat_minor": 0
}