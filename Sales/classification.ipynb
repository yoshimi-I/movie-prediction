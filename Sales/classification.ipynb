{
 "cells": [
  {
   "cell_type": "code",
   "execution_count": null,
   "outputs": [],
   "source": [
    "# レビュー値ではなく売り上げ予測の方向にシフト\n",
    "# とりあえず回帰から\n",
    "import math\n",
    "\n",
    "import cols as cols\n",
    "import pandas as pd\n",
    "import numpy as np\n",
    "import json\n",
    "import ast\n",
    "from sklearn.preprocessing import LabelEncoder\n",
    "import lightgbm as lgb\n",
    "from sklearn.model_selection import train_test_split\n",
    "from sklearn.metrics import mean_absolute_error as mae\n",
    "import matplotlib.pyplot as plt\n",
    "from sklearn.metrics import mean_squared_error\n",
    "from sklearn.metrics import r2_score"
   ],
   "metadata": {
    "collapsed": false,
    "pycharm": {
     "name": "#%%\n"
    }
   }
  },
  {
   "cell_type": "code",
   "execution_count": null,
   "outputs": [],
   "source": [
    "df1 = pd.read_csv(\"../movie/tmdb_5000_movies.csv\")\n",
    "df2 = pd.read_csv(\"../movie/tmdb_5000_credits.csv\")\n",
    "df3 = pd.merge(df1,df2,on=\"title\")\n",
    "df3.head()\n",
    "#いらない場所を落とす\n",
    "df3 = df3.drop(columns=['homepage', 'id',\"original_title\",\"overview\",\"status\",\"tagline\",\"vote_count\",\"movie_id\",\"popularity\",\"original_language\",\"title\",\"production_countries\",\"keywords\",\"cast\"])\n",
    "df3 = df3.dropna(axis=0,how=\"any\")\n",
    "\n",
    "# 収入が0のものを削除\n",
    "df3 = df3.query(\"revenue >= 1000\")\n",
    "df3 = df3.dropna().reset_index(drop=True)\n",
    "df3.shape"
   ],
   "metadata": {
    "collapsed": false,
    "pycharm": {
     "name": "#%%\n"
    }
   }
  },
  {
   "cell_type": "code",
   "execution_count": null,
   "outputs": [],
   "source": [
    "# 今回は監督を使いたいと思っているので、まずは映画の監督を抽出\n",
    "crews = df3[\"crew\"]\n",
    "crews_list = list()\n",
    "num = 0\n",
    "for each_crews in crews:\n",
    "    num += 1\n",
    "    if each_crews == \"[]\":\n",
    "        crews_list.append(\"\")\n",
    "    else:\n",
    "        each_crews = ast.literal_eval(each_crews[1:-1])\n",
    "        producer_list = list()\n",
    "        for each_crew in each_crews:\n",
    "            try:\n",
    "                if each_crew[\"job\"] == \"Director\":\n",
    "                    crew = each_crew[\"name\"]\n",
    "                    producer_list.append(crew)\n",
    "            except:\n",
    "                crew = each_crews[\"name\"]\n",
    "                producer_list.append(crew)\n",
    "        crews_list.append(producer_list)\n",
    "\n",
    "#  ダブってるのがあるからなんとかする(重複解消)\n",
    "for i in range(len(crews_list)):\n",
    "    crews_list[i] = list(set(crews_list[i]))\n",
    "\n",
    "# それをもとにどれだけ出てきたかをカウント\n",
    "crews_dict = dict()\n",
    "for crews in crews_list:\n",
    "    for director in crews:\n",
    "        if director in crews_dict:\n",
    "            crews_dict[director] += 1\n",
    "        else:\n",
    "            crews_dict[director] = 1\n",
    "\n",
    "# さっき作った映画の辞書をもとに収入を入れていく\n",
    "df4 = df3.filter([\"revenue\",\"crew\"])\n",
    "df4[\"director_sales\"] = 0\n",
    "\n",
    "# とりあえず辞書を作ってそこに格納\n",
    "# ここに各々の監督の作品の数で売り上げを割って平均の売り上げを求める\n",
    "# 配列の左が合計値,右が足した数\n",
    "director_sales = crews_dict\n",
    "for key in crews_dict:\n",
    "    director_sales[key] = [0,0]\n",
    "\n",
    "sales = df4[\"revenue\"]\n",
    "for i in range(len(sales)):\n",
    "    per_sales = sales.iloc[i]\n",
    "    director = crews_list[i]\n",
    "    for j in director:\n",
    "        director_sales[j][0] += per_sales\n",
    "        director_sales[j][1] += 1\n",
    "\n",
    "# その後足した分だけ割っていく\n",
    "new_director_sales = dict()\n",
    "for key,value in director_sales.items():\n",
    "    sum_sales = value[0]\n",
    "    sum_num = value[1]\n",
    "    new_director_sales[key] = sum_sales//sum_num\n",
    "\n",
    "# 最後に特徴量を作成\n",
    "director_sum_sales = list()\n",
    "for directors in crews_list:\n",
    "    num = 0\n",
    "    for i in range(len(directors)):\n",
    "        director = directors[i]\n",
    "        num += new_director_sales[director]\n",
    "    num = num//(i+1)\n",
    "    director_sum_sales.append(num)\n",
    "\n",
    "# 作成した特徴量をデータフレームに格納\n",
    "df4[\"director_sales\"] = director_sum_sales\n",
    "df4 = df4.drop(columns=[\"revenue\"])\n",
    "\n",
    "# 最後に結合\n",
    "df3 = pd.concat([df3, df4], axis=1,ignore_index=False)\n",
    "df3 = df3.drop(columns=[\"crew\"])\n",
    "df3.head()"
   ],
   "metadata": {
    "collapsed": false,
    "pycharm": {
     "name": "#%%\n"
    }
   }
  },
  {
   "cell_type": "code",
   "execution_count": null,
   "outputs": [],
   "source": [
    "# 制作会社も過去の売上から特徴量を作成\n"
   ],
   "metadata": {
    "collapsed": false,
    "pycharm": {
     "name": "#%%\n"
    }
   }
  },
  {
   "cell_type": "code",
   "execution_count": null,
   "outputs": [],
   "source": [
    "# 話されている言語の数を特徴量として作成(話されている言語の種類を取得)\n",
    "spoken_languages= df3[\"spoken_languages\"]\n",
    "language_list = list()\n",
    "for spoken_language in spoken_languages:\n",
    "    if spoken_language == \"[]\":\n",
    "        language_list.append(1)\n",
    "    else:\n",
    "        spoken_language = ast.literal_eval(spoken_language[1:-1])\n",
    "        language_type = len(spoken_language)\n",
    "        language_list.append(language_type)\n",
    "\n",
    "# 作成したものを代入\n",
    "df3[\"spoken_languages\"] = language_list\n",
    "df3.head()"
   ],
   "metadata": {
    "collapsed": false,
    "pycharm": {
     "name": "#%%\n"
    }
   }
  },
  {
   "cell_type": "code",
   "execution_count": null,
   "outputs": [],
   "source": [
    "# リリース日を月と年月に分けてそれぞれ代入\n",
    "# また月日は円循環なので,sinとcosに分ける\n",
    "\n",
    "# まずは月日を1/1からどれだけ経ったかに変換する関数を作成\n",
    "def convert_date_to_number(month: int, day: int) -> int:\n",
    "    # 1月1日からの経過日数を保持する変数\n",
    "    elapsed_days = 0\n",
    "\n",
    "    # 1月から現在の月までをループ\n",
    "    for m in range(1, month):\n",
    "        # 当該月の日数を加算\n",
    "        elapsed_days += get_days_in_month(m)\n",
    "\n",
    "    # 最後に現在日を加算\n",
    "    elapsed_days += day\n",
    "\n",
    "    return elapsed_days\n",
    "\n",
    "def get_days_in_month(month: int) -> int:\n",
    "    # 2月までは日数が固定\n",
    "    if month in [1, 3, 5, 7, 8, 10, 12]:\n",
    "        return 31\n",
    "    elif month == 2:\n",
    "        return 28\n",
    "    else:\n",
    "        return 30\n",
    "\n",
    "# 次にsinとcosに変換する関数を作成\n",
    "def encode(month, day):\n",
    "    # この方法だと場合によって最大値が変化するデータでは正確な値は出ない\n",
    "    # 例：月の日数が30日や31日の場合がある\n",
    "    date_num = convert_date_to_number(month, day)\n",
    "    sin = np.sin(2 * np.pi * date_num / 365)\n",
    "    cos = np.cos(2 * np.pi * date_num / 365)\n",
    "    return [sin,cos]\n",
    "\n",
    "# 新しい特徴量を作成\n",
    "df3[\"release_year\"] = 0\n",
    "df3[\"release_day_sin\"] = 0\n",
    "df3[\"release_day_cos\"] = 0\n",
    "release_year = dict()\n",
    "release_day_sin = dict()\n",
    "release_day_cos = dict()\n",
    "for key in df3[\"release_date\"]:\n",
    "    if type(key) == str:\n",
    "        year,month,day = key.split(\"-\")\n",
    "        release_year[key] = float(year)\n",
    "        day = encode(int(month),int(day))\n",
    "        day_sin,day_cos = day[0],day[1]\n",
    "        release_day_sin[key] = day_sin\n",
    "        release_day_cos[key] = day_cos\n",
    "\n",
    "# では作ったものを入れていく\n",
    "df3[\"release_year\"] = df3[\"release_date\"].replace(release_year).astype(float)\n",
    "df3[\"release_day_cos\"] = df3[\"release_date\"].replace(release_day_cos).astype(float)\n",
    "df3[\"release_day_sin\"] = df3[\"release_date\"].replace(release_day_sin).astype(float)\n",
    "df3 = df3.drop(columns=[\"release_date\"])\n",
    "df3.head()"
   ],
   "metadata": {
    "collapsed": false,
    "pycharm": {
     "name": "#%%\n"
    }
   }
  },
  {
   "cell_type": "code",
   "execution_count": null,
   "outputs": [],
   "source": [
    "# ジャンルをワンホットエンコーディング\n",
    "genres_list = [\"Action\",\"Adventure\",\"Fantasy\",\"Science Fiction\",\"Crime\",\"Drama\",\"Thriller\",\"Animation\",\"Family\",\"Western\",\"Comedy\",\"Romance\",\"Horror\",\"Mystery\",\"History\",\"War\",\"Music\",\"Documentary\",\"Foreign\",\"TV Movie\"]\n",
    "\n",
    "# とりあえず特徴量を作成\n",
    "for genre in genres_list:\n",
    "    df3[genre] = 0\n",
    "df3.shape\n",
    "\n",
    "genres = df3[\"genres\"]\n",
    "# とりあえず種類が欲しいので種類を確認\n",
    "# まずは辞書を作成\n",
    "movie_genre_dict = dict()\n",
    "movie_genre_list = list()\n",
    "\n",
    "for movie_genre in genres:\n",
    "    if movie_genre == \"[]\":\n",
    "        movie_genre_list.append(\"\")\n",
    "    else:\n",
    "        per_genre_list = ast.literal_eval(movie_genre[1:-1])\n",
    "        genre_list = []\n",
    "        for per_genre in per_genre_list:\n",
    "            if type(per_genre) == dict:\n",
    "                movie_id = per_genre[\"id\"]\n",
    "                movie_name = per_genre[\"name\"]\n",
    "                movie_genre_dict[movie_id] = movie_name\n",
    "                genre_list.append(movie_name)\n",
    "            else:\n",
    "                movie_id = per_genre_list[\"id\"]\n",
    "                movie_name = per_genre_list[\"name\"]\n",
    "                movie_genre_dict[movie_id] = movie_name\n",
    "                genre_list.append(movie_name)\n",
    "                break\n",
    "        movie_genre_list.append(genre_list)\n",
    "        genre_list = []\n",
    "\n",
    "def put_genre(df,movie_genre_list):\n",
    "    for i in range(len(df)):\n",
    "        for genre in movie_genre_list[i]:\n",
    "            df.at[i,genre] = 1.0\n",
    "put_genre(df3,movie_genre_list)\n",
    "\n",
    "\n",
    "# では代入開始\n",
    "def put_genre(df,movie_genre_list):\n",
    "    \n",
    "    for i,row in df.iterrows():\n",
    "        num = 0\n",
    "        for genre in movie_genre_list[num]:\n",
    "            df.at[i,genre] = 1.0\n",
    "            num += 1\n",
    "put_genre(df3,movie_genre_list)\n",
    "\n",
    "# 最後に不必要な部分を落とす\n",
    "df3 = df3.drop(columns=[\"genres\"])"
   ],
   "metadata": {
    "collapsed": false,
    "pycharm": {
     "name": "#%%\n"
    }
   }
  },
  {
   "cell_type": "code",
   "execution_count": null,
   "outputs": [],
   "source": [
    "df3.head()"
   ],
   "metadata": {
    "collapsed": false,
    "pycharm": {
     "name": "#%%\n"
    }
   }
  },
  {
   "cell_type": "code",
   "execution_count": null,
   "outputs": [],
   "source": [
    "# 目的変数を設定\n",
    "df3_y = df3[\"revenue\"]\n",
    "df3_x = df3.drop(columns=[\"revenue\"])"
   ],
   "metadata": {
    "collapsed": false,
    "pycharm": {
     "name": "#%%\n"
    }
   }
  },
  {
   "cell_type": "code",
   "execution_count": null,
   "outputs": [],
   "source": [
    "# 学習データとテストデータに分割する\n",
    "X_train, X_test, y_train, y_test = train_test_split(df3_x, df3_y, test_size=0.3, random_state=1)"
   ],
   "metadata": {
    "collapsed": false,
    "pycharm": {
     "name": "#%%\n"
    }
   }
  },
  {
   "cell_type": "code",
   "execution_count": null,
   "outputs": [],
   "source": [
    "# 学習に使用するデータを設定\n",
    "lgb_train = lgb.Dataset(X_train, y_train)\n",
    "lgb_eval = lgb.Dataset(X_test, y_test, reference=lgb_train)"
   ],
   "metadata": {
    "collapsed": false,
    "pycharm": {
     "name": "#%%\n"
    }
   }
  },
  {
   "cell_type": "code",
   "execution_count": null,
   "outputs": [],
   "source": [
    "# LightGBM パラメータ\n",
    "params = {'task': 'train',\n",
    "          'boosting_type': 'gbdt',\n",
    "          'objective': 'regression',\n",
    "          'metric': 'rmse',\n",
    "          'early_stopping_rounds':100,\n",
    "          'n_estimators':10000\n",
    "          }"
   ],
   "metadata": {
    "collapsed": false,
    "pycharm": {
     "name": "#%%\n"
    }
   }
  },
  {
   "cell_type": "code",
   "execution_count": null,
   "outputs": [],
   "source": [
    "# モデルの学習\n",
    "model = lgb.train(params=params,\n",
    "                  train_set=lgb_train,\n",
    "                  valid_sets=lgb_eval\n",
    "                 )\n",
    "\n",
    "# 学習データの予測\n",
    "y_train_pred = model.predict(X_train)\n",
    "\n",
    "# テストデータの予測\n",
    "y_test_pred = model.predict(X_test)"
   ],
   "metadata": {
    "collapsed": false,
    "pycharm": {
     "name": "#%%\n"
    }
   }
  },
  {
   "cell_type": "code",
   "execution_count": null,
   "outputs": [],
   "source": [
    "# 散布図を描画(真値 vs 予測値)\n",
    "x_test_min = min(min(y_test), min(y_test_pred))\n",
    "x_test_max = max(max(y_test), max(y_test_pred))\n",
    "x_test = np.linspace(x_test_min, x_test_max)\n",
    "# 予測=実測の線の定義\n",
    "plt.plot(x_test, x_test, color=\"gray\", label=\"y=x\", linestyle=\"--\")\n",
    "# グラフデータの定義\n",
    "plt.scatter(y_test, y_test_pred, label='test_data', color=\"b\") # 散布図のプロット\n",
    "plt.xlabel('revenue') # x軸ラベル\n",
    "plt.ylabel('predicted_revenue') # y軸ラベル\n",
    "plt.title('revenue_predicition') # グラフタイトル\n",
    "plt.xlim(x_test_min-0.05*(x_test_max - x_test_min), x_test_max+0.05*(x_test_max - x_test_min))\n",
    "plt.ylim(x_test_min-0.05*(x_test_max - x_test_min), x_test_max+0.05*(x_test_max - x_test_min))\n",
    "plt.grid()\n",
    "plt.legend()"
   ],
   "metadata": {
    "collapsed": false,
    "pycharm": {
     "name": "#%%\n"
    }
   }
  },
  {
   "cell_type": "code",
   "execution_count": null,
   "outputs": [],
   "source": [
    "mse = mean_squared_error(y_test, y_test_pred) # MSE(平均二乗誤差)の算出\n",
    "rmse = np.sqrt(mse) # RSME = √MSEの算出\n",
    "print('RMSE :',rmse)\n",
    "\n",
    "#r2 : 決定係数\n",
    "r2 = r2_score(y_test, y_test_pred)\n",
    "print('R2 :',r2)"
   ],
   "metadata": {
    "collapsed": false,
    "pycharm": {
     "name": "#%%\n"
    }
   }
  },
  {
   "cell_type": "code",
   "execution_count": null,
   "outputs": [],
   "source": [],
   "metadata": {
    "collapsed": false,
    "pycharm": {
     "name": "#%%\n"
    }
   }
  },
  {
   "cell_type": "code",
   "execution_count": null,
   "metadata": {
    "pycharm": {
     "name": "#%%\n"
    }
   },
   "outputs": [],
   "source": [
    "# 学習データとテストデータに分割する\n",
    "X_train, X_test, y_train, y_test = train_test_split(df3_x, df3_y, test_size=0.3, random_state=1)"
   ]
  },
  {
   "cell_type": "code",
   "execution_count": null,
   "metadata": {
    "pycharm": {
     "name": "#%%\n"
    }
   },
   "outputs": [],
   "source": [
    "# 学習に使用するデータを設定\n",
    "lgb_train = lgb.Dataset(X_train, y_train)\n",
    "lgb_eval = lgb.Dataset(X_test, y_test, reference=lgb_train)"
   ]
  },
  {
   "cell_type": "code",
   "execution_count": null,
   "metadata": {
    "pycharm": {
     "name": "#%%\n"
    }
   },
   "outputs": [],
   "source": [
    "# LightGBM パラメータ\n",
    "params = {'task': 'train',\n",
    "          'boosting_type': 'gbdt',\n",
    "          'objective': 'regression',\n",
    "          'metric': 'rmse',\n",
    "          'early_stopping_rounds':100,\n",
    "          'n_estimators':10000\n",
    "          }"
   ]
  },
  {
   "cell_type": "code",
   "execution_count": null,
   "metadata": {
    "pycharm": {
     "name": "#%%\n"
    }
   },
   "outputs": [],
   "source": [
    "# モデルの学習\n",
    "model = lgb.train(params=params,\n",
    "                  train_set=lgb_train,\n",
    "                  valid_sets=lgb_eval\n",
    "                 )\n",
    "\n",
    "# 学習データの予測\n",
    "y_train_pred = model.predict(X_train)\n",
    "\n",
    "# テストデータの予測\n",
    "y_test_pred = model.predict(X_test)"
   ]
  },
  {
   "cell_type": "code",
   "execution_count": null,
   "metadata": {
    "pycharm": {
     "name": "#%%\n"
    }
   },
   "outputs": [],
   "source": [
    "# 散布図を描画(真値 vs 予測値)\n",
    "x_test_min = min(min(y_test), min(y_test_pred))\n",
    "x_test_max = max(max(y_test), max(y_test_pred))\n",
    "x_test = np.linspace(x_test_min, x_test_max)\n",
    "# 予測=実測の線の定義\n",
    "plt.plot(x_test, x_test, color=\"gray\", label=\"y=x\", linestyle=\"--\")\n",
    "# グラフデータの定義\n",
    "plt.scatter(y_test, y_test_pred, label='test_data', color=\"b\") # 散布図のプロット\n",
    "plt.xlabel('revenue') # x軸ラベル\n",
    "plt.ylabel('predicted_revenue') # y軸ラベル\n",
    "plt.title('revenue_predicition') # グラフタイトル\n",
    "plt.xlim(x_test_min-0.05*(x_test_max - x_test_min), x_test_max+0.05*(x_test_max - x_test_min))\n",
    "plt.ylim(x_test_min-0.05*(x_test_max - x_test_min), x_test_max+0.05*(x_test_max - x_test_min))\n",
    "plt.grid()\n",
    "plt.legend()"
   ]
  },
  {
   "cell_type": "code",
   "execution_count": null,
   "metadata": {
    "pycharm": {
     "name": "#%%\n"
    }
   },
   "outputs": [],
   "source": [
    "mse = mean_squared_error(y_test, y_test_pred) # MSE(平均二乗誤差)の算出\n",
    "rmse = np.sqrt(mse) # RSME = √MSEの算出\n",
    "print('RMSE :',rmse)\n",
    "\n",
    "#r2 : 決定係数\n",
    "r2 = r2_score(y_test, y_test_pred)\n",
    "print('R2 :',r2)"
   ]
  },
  {
   "cell_type": "code",
   "execution_count": null,
   "outputs": [],
   "source": [
    "# 特徴量重要度を棒グラフでプロットする関数\n",
    "def plot_feature_importance(df):\n",
    "    n_features = len(df)                              # 特徴量数(説明変数の個数)\n",
    "    df_plot = df.sort_values('importance')            # df_importanceをプロット用に特徴量重要度を昇順ソート\n",
    "    f_importance_plot = df_plot['importance'].values  # 特徴量重要度の取得\n",
    "    plt.barh(range(n_features), f_importance_plot, align='center')\n",
    "    cols_plot = df_plot['feature'].values             # 特徴量の取得\n",
    "    plt.yticks(np.arange(n_features), cols_plot)      # x軸,y軸の値の設定\n",
    "    plt.xlabel('Feature importance')                  # x軸のタイトル\n",
    "    plt.ylabel('Feature')                             # y軸のタイトル"
   ],
   "metadata": {
    "collapsed": false,
    "pycharm": {
     "name": "#%%\n"
    }
   }
  },
  {
   "cell_type": "code",
   "execution_count": 1,
   "metadata": {
    "pycharm": {
     "name": "#%%\n"
    }
   },
   "outputs": [
    {
     "ename": "NameError",
     "evalue": "name 'np' is not defined",
     "output_type": "error",
     "traceback": [
      "\u001B[0;31m---------------------------------------------------------------------------\u001B[0m",
      "\u001B[0;31mNameError\u001B[0m                                 Traceback (most recent call last)",
      "Cell \u001B[0;32mIn [1], line 1\u001B[0m\n\u001B[0;32m----> 1\u001B[0m f_importance \u001B[38;5;241m=\u001B[39m \u001B[43mnp\u001B[49m\u001B[38;5;241m.\u001B[39marray(model\u001B[38;5;241m.\u001B[39mfeature_importance()) \u001B[38;5;66;03m# 特徴量重要度の算出\u001B[39;00m\n\u001B[1;32m      2\u001B[0m f_importance \u001B[38;5;241m=\u001B[39m f_importance \u001B[38;5;241m/\u001B[39m np\u001B[38;5;241m.\u001B[39msum(f_importance)  \u001B[38;5;66;03m# 正規化(必要ない場合はコメントアウト)\u001B[39;00m\n\u001B[1;32m      3\u001B[0m df_importance \u001B[38;5;241m=\u001B[39m pd\u001B[38;5;241m.\u001B[39mDataFrame({\u001B[38;5;124m'\u001B[39m\u001B[38;5;124mfeature\u001B[39m\u001B[38;5;124m'\u001B[39m:cols, \u001B[38;5;124m'\u001B[39m\u001B[38;5;124mimportance\u001B[39m\u001B[38;5;124m'\u001B[39m:f_importance})\n",
      "\u001B[0;31mNameError\u001B[0m: name 'np' is not defined"
     ]
    }
   ],
   "source": [
    "f_importance = np.array(model.feature_importance()) # 特徴量重要度の算出\n",
    "f_importance = f_importance / np.sum(f_importance)  # 正規化(必要ない場合はコメントアウト)\n",
    "df_importance = pd.DataFrame({'feature':cols, 'importance':f_importance})\n",
    "df_importance = df_importance.sort_values('importance', ascending=False) # 降順ソート\n",
    "display(df_importance)"
   ]
  },
  {
   "cell_type": "code",
   "execution_count": null,
   "outputs": [],
   "source": [
    "# 特徴量重要度の可視化\n",
    "plot_feature_importance(df_importance)"
   ],
   "metadata": {
    "collapsed": false,
    "pycharm": {
     "name": "#%%\n"
    }
   }
  }
 ],
 "metadata": {
  "kernelspec": {
   "display_name": "Python 3.10.8 ('data_science')",
   "language": "python",
   "name": "python3"
  },
  "language_info": {
   "codemirror_mode": {
    "name": "ipython",
    "version": 3
   },
   "file_extension": ".py",
   "mimetype": "text/x-python",
   "name": "python",
   "nbconvert_exporter": "python",
   "pygments_lexer": "ipython3",
   "version": "3.10.8"
  },
  "vscode": {
   "interpreter": {
    "hash": "3db2f86fa40ced31a8e4eb6152f972814a49e9ab92b684db1538303f16794aa9"
   }
  }
 },
 "nbformat": 4,
 "nbformat_minor": 0
}