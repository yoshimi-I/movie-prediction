{
 "cells": [
  {
   "cell_type": "code",
   "execution_count": 256,
   "metadata": {
    "collapsed": true,
    "pycharm": {
     "name": "#%%\n"
    }
   },
   "outputs": [],
   "source": [
    "# レビュー値ではなく売り上げ予測の方向にシフト\n",
    "# とりあえず回帰から\n",
    "import math\n",
    "import pandas as pd\n",
    "import numpy as np\n",
    "import json\n",
    "import ast\n",
    "from sklearn.preprocessing import LabelEncoder\n",
    "import lightgbm as lgb\n",
    "from sklearn.model_selection import train_test_split\n",
    "from sklearn.metrics import mean_absolute_error as mae\n",
    "import matplotlib.pyplot as plt"
   ]
  },
  {
   "cell_type": "code",
   "execution_count": 257,
   "outputs": [
    {
     "data": {
      "text/plain": "(3357, 11)"
     },
     "execution_count": 257,
     "metadata": {},
     "output_type": "execute_result"
    }
   ],
   "source": [
    "df1 = pd.read_csv(\"../movie/tmdb_5000_movies.csv\")\n",
    "df2 = pd.read_csv(\"../movie/tmdb_5000_credits.csv\")\n",
    "df3 = pd.merge(df1,df2,on=\"title\")\n",
    "df3.head()\n",
    "\n",
    "#いらない場所を落とす\n",
    "df3 = df3.drop(columns=['homepage', 'id',\"original_title\",\"overview\",\"spoken_languages\",\"status\",\"tagline\",\"vote_count\",\"movie_id\",\"popularity\",\"original_language\",\"production_countries\"])\n",
    "df3.head()\n",
    "df3 = df3.dropna(axis=0,how=\"any\")\n",
    "# 収入が0のものを削除\n",
    "df3 = df3.query(\"revenue >= 1000\")\n",
    "df3.shape"
   ],
   "metadata": {
    "collapsed": false,
    "pycharm": {
     "name": "#%%\n"
    }
   }
  },
  {
   "cell_type": "code",
   "execution_count": 258,
   "outputs": [
    {
     "name": "stdout",
     "output_type": "stream",
     "text": [
      "{'credit_id': '52fe4232c3a36847f800b579', 'department': 'Camera', 'gender': 2, 'id': 120, 'job': 'Director of Photography', 'name': 'Dariusz Wolski'}\n",
      "{'credit_id': '52fe4232c3a36847f800b4fd', 'department': 'Directing', 'gender': 2, 'id': 1704, 'job': 'Director', 'name': 'Gore Verbinski'}\n",
      "{'credit_id': '52fe4232c3a36847f800b54f', 'department': 'Production', 'gender': 2, 'id': 770, 'job': 'Producer', 'name': 'Jerry Bruckheimer'}\n",
      "{'credit_id': '52fe4232c3a36847f800b503', 'department': 'Writing', 'gender': 2, 'id': 1705, 'job': 'Screenplay', 'name': 'Ted Elliott'}\n",
      "{'credit_id': '52fe4232c3a36847f800b509', 'department': 'Writing', 'gender': 2, 'id': 1706, 'job': 'Screenplay', 'name': 'Terry Rossio'}\n",
      "{'credit_id': '52fe4232c3a36847f800b57f', 'department': 'Editing', 'gender': 0, 'id': 1721, 'job': 'Editor', 'name': 'Stephen E. Rivkin'}\n",
      "{'credit_id': '52fe4232c3a36847f800b585', 'department': 'Editing', 'gender': 2, 'id': 1722, 'job': 'Editor', 'name': 'Craig Wood'}\n",
      "{'credit_id': '52fe4232c3a36847f800b573', 'department': 'Sound', 'gender': 2, 'id': 947, 'job': 'Original Music Composer', 'name': 'Hans Zimmer'}\n",
      "{'credit_id': '52fe4232c3a36847f800b555', 'department': 'Production', 'gender': 2, 'id': 2444, 'job': 'Executive Producer', 'name': 'Mike Stenson'}\n",
      "{'credit_id': '52fe4232c3a36847f800b561', 'department': 'Production', 'gender': 2, 'id': 2445, 'job': 'Producer', 'name': 'Eric McLeod'}\n",
      "{'credit_id': '52fe4232c3a36847f800b55b', 'department': 'Production', 'gender': 2, 'id': 2446, 'job': 'Producer', 'name': 'Chad Oman'}\n",
      "{'credit_id': '52fe4232c3a36847f800b567', 'department': 'Production', 'gender': 0, 'id': 2447, 'job': 'Producer', 'name': 'Peter Kohn'}\n",
      "{'credit_id': '52fe4232c3a36847f800b56d', 'department': 'Production', 'gender': 0, 'id': 2448, 'job': 'Producer', 'name': 'Pat Sandston'}\n",
      "{'credit_id': '52fe4232c3a36847f800b58b', 'department': 'Production', 'gender': 1, 'id': 2215, 'job': 'Casting', 'name': 'Denise Chamian'}\n",
      "{'credit_id': '52fe4232c3a36847f800b597', 'department': 'Art', 'gender': 2, 'id': 1226, 'job': 'Production Design', 'name': 'Rick Heinrichs'}\n",
      "{'credit_id': '52fe4232c3a36847f800b59d', 'department': 'Art', 'gender': 2, 'id': 553, 'job': 'Art Direction', 'name': 'John Dexter'}\n",
      "{'credit_id': '52fe4232c3a36847f800b591', 'department': 'Production', 'gender': 1, 'id': 3311, 'job': 'Casting', 'name': 'Priscilla John'}\n",
      "{'credit_id': '52fe4232c3a36847f800b5a3', 'department': 'Art', 'gender': 1, 'id': 4032, 'job': 'Set Decoration', 'name': 'Cheryl Carasik'}\n",
      "{'credit_id': '52fe4232c3a36847f800b5a9', 'department': 'Costume & Make-Up', 'gender': 0, 'id': 4033, 'job': 'Costume Design', 'name': 'Liz Dann'}\n",
      "{'credit_id': '52fe4232c3a36847f800b5af', 'department': 'Costume & Make-Up', 'gender': 1, 'id': 4034, 'job': 'Costume Design', 'name': 'Penny Rose'}\n",
      "{'credit_id': '56427ce8c3a3686a53000d8b', 'department': 'Sound', 'gender': 2, 'id': 5132, 'job': 'Music Supervisor', 'name': 'Bob Badami'}\n",
      "{'credit_id': '55993c15c3a36855db002f33', 'department': 'Art', 'gender': 2, 'id': 146439, 'job': 'Conceptual Design', 'name': 'James Ward Byrkit'}\n",
      "{'credit_id': '52fe4232c3a36847f800b5b9', 'department': 'Costume & Make-Up', 'gender': 1, 'id': 406204, 'job': 'Makeup Department Head', 'name': 'Ve Neill'}\n",
      "{'credit_id': '56e47f7892514132690017bd', 'department': 'Crew', 'gender': 2, 'id': 1259516, 'job': 'Stunts', 'name': 'John Dixon'}\n",
      "{'credit_id': '5740be639251416597000849', 'department': 'Crew', 'gender': 0, 'id': 1336716, 'job': 'CGI Supervisor', 'name': 'Dottie Starling'}\n",
      "{'credit_id': '56427c639251412fc8000dc1', 'department': 'Directing', 'gender': 1, 'id': 1344278, 'job': 'Script Supervisor', 'name': 'Pamela Alch'}\n",
      "{'credit_id': '57083101c3a3681d320004e6', 'department': 'Crew', 'gender': 0, 'id': 1368867, 'job': 'Special Effects Coordinator', 'name': 'Allen Hall'}\n",
      "{'credit_id': '56427d5ec3a3686a62000d4a', 'department': 'Sound', 'gender': 0, 'id': 1368884, 'job': 'Music Editor', 'name': 'Melissa Muik'}\n",
      "{'credit_id': '56427c7b9251412fd4000e07', 'department': 'Directing', 'gender': 1, 'id': 1395290, 'job': 'Script Supervisor', 'name': 'Sharron Reynolds'}\n",
      "{'credit_id': '56427d2bc3a3686a53000d9b', 'department': 'Sound', 'gender': 0, 'id': 1399327, 'job': 'Music Editor', 'name': 'Barbara McDermott'}\n",
      "{'credit_id': '56427cb4c3a3686a53000d87', 'department': 'Directing', 'gender': 1, 'id': 1400738, 'job': 'Script Supervisor', 'name': 'Karen Golden'}\n",
      "{'credit_id': '56427d169251412fd4000e23', 'department': 'Sound', 'gender': 0, 'id': 1534197, 'job': 'Music Editor', 'name': 'Katie Greathouse'}\n"
     ]
    }
   ],
   "source": [
    "crews = df3[\"crew\"]\n",
    "\n",
    "crew_test = crews[1]\n",
    "crew_test = ast.literal_eval(crew_test[1:-1])\n",
    "for i in crew_test:\n",
    "    print(i)"
   ],
   "metadata": {
    "collapsed": false,
    "pycharm": {
     "name": "#%%\n"
    }
   }
  },
  {
   "cell_type": "code",
   "execution_count": 259,
   "outputs": [
    {
     "data": {
      "text/plain": "3357"
     },
     "execution_count": 259,
     "metadata": {},
     "output_type": "execute_result"
    }
   ],
   "source": [
    "# 今回は監督を使いたいと思っているので、まずは映画の監督を抽出\n",
    "crews_list = list()\n",
    "num = 0\n",
    "for each_crews in crews:\n",
    "    num += 1\n",
    "    if each_crews == \"[]\":\n",
    "        crews_list.append(\"\")\n",
    "    else:\n",
    "        each_crews = ast.literal_eval(each_crews[1:-1])\n",
    "        producer_list = list()\n",
    "        for each_crew in each_crews:\n",
    "            try:\n",
    "                if each_crew[\"job\"] == \"Director\":\n",
    "                    crew = each_crew[\"name\"]\n",
    "                    producer_list.append(crew)\n",
    "            except:\n",
    "                crew = each_crews[\"name\"]\n",
    "                producer_list.append(crew)\n",
    "        crews_list.append(producer_list)\n",
    "num"
   ],
   "metadata": {
    "collapsed": false,
    "pycharm": {
     "name": "#%%\n"
    }
   }
  },
  {
   "cell_type": "code",
   "execution_count": 260,
   "outputs": [
    {
     "data": {
      "text/plain": "3357"
     },
     "execution_count": 260,
     "metadata": {},
     "output_type": "execute_result"
    }
   ],
   "source": [
    "#  ダブってるのがあるからなんとかする(重複解消)\n",
    "for i in range(len(crews_list)):\n",
    "    crews_list[i] = list(set(crews_list[i]))\n",
    "len(crews_list)"
   ],
   "metadata": {
    "collapsed": false,
    "pycharm": {
     "name": "#%%\n"
    }
   }
  },
  {
   "cell_type": "code",
   "execution_count": 261,
   "outputs": [
    {
     "data": {
      "text/plain": "1655"
     },
     "execution_count": 261,
     "metadata": {},
     "output_type": "execute_result"
    }
   ],
   "source": [
    "# それをもとにどれだけ出てきたかをカウント\n",
    "crews_dict = dict()\n",
    "for crews in crews_list:\n",
    "    for director in crews:\n",
    "        if director in crews_dict:\n",
    "            crews_dict[director] += 1\n",
    "        else:\n",
    "            crews_dict[director] = 1\n",
    "len(crews_dict) #監督の種類"
   ],
   "metadata": {
    "collapsed": false,
    "pycharm": {
     "name": "#%%\n"
    }
   }
  },
  {
   "cell_type": "code",
   "execution_count": 268,
   "outputs": [
    {
     "data": {
      "text/plain": "      revenue                                               crew\n0  2787965087  [{\"credit_id\": \"52fe48009251416c750aca23\", \"de...\n1   961000000  [{\"credit_id\": \"52fe4232c3a36847f800b579\", \"de...\n2   880674609  [{\"credit_id\": \"54805967c3a36829b5002c41\", \"de...\n3  1084939099  [{\"credit_id\": \"52fe4781c3a36847f81398c3\", \"de...\n4   284139100  [{\"credit_id\": \"52fe479ac3a36847f813eaa3\", \"de...",
      "text/html": "<div>\n<style scoped>\n    .dataframe tbody tr th:only-of-type {\n        vertical-align: middle;\n    }\n\n    .dataframe tbody tr th {\n        vertical-align: top;\n    }\n\n    .dataframe thead th {\n        text-align: right;\n    }\n</style>\n<table border=\"1\" class=\"dataframe\">\n  <thead>\n    <tr style=\"text-align: right;\">\n      <th></th>\n      <th>revenue</th>\n      <th>crew</th>\n    </tr>\n  </thead>\n  <tbody>\n    <tr>\n      <th>0</th>\n      <td>2787965087</td>\n      <td>[{\"credit_id\": \"52fe48009251416c750aca23\", \"de...</td>\n    </tr>\n    <tr>\n      <th>1</th>\n      <td>961000000</td>\n      <td>[{\"credit_id\": \"52fe4232c3a36847f800b579\", \"de...</td>\n    </tr>\n    <tr>\n      <th>2</th>\n      <td>880674609</td>\n      <td>[{\"credit_id\": \"54805967c3a36829b5002c41\", \"de...</td>\n    </tr>\n    <tr>\n      <th>3</th>\n      <td>1084939099</td>\n      <td>[{\"credit_id\": \"52fe4781c3a36847f81398c3\", \"de...</td>\n    </tr>\n    <tr>\n      <th>4</th>\n      <td>284139100</td>\n      <td>[{\"credit_id\": \"52fe479ac3a36847f813eaa3\", \"de...</td>\n    </tr>\n  </tbody>\n</table>\n</div>"
     },
     "execution_count": 268,
     "metadata": {},
     "output_type": "execute_result"
    }
   ],
   "source": [
    "# さっき作った映画の辞書をもとに収入を入れていく\n",
    "df4 = df3.filter([\"revenue\",\"crew\"])\n",
    "df4.head()"
   ],
   "metadata": {
    "collapsed": false,
    "pycharm": {
     "name": "#%%\n"
    }
   }
  },
  {
   "cell_type": "code",
   "execution_count": 263,
   "outputs": [
    {
     "data": {
      "text/plain": "1655"
     },
     "execution_count": 263,
     "metadata": {},
     "output_type": "execute_result"
    }
   ],
   "source": [
    "# とりあえず辞書を作ってそこに格納\n",
    "# ここに各々の監督の作品の数で売り上げを割って平均の売り上げを求める\n",
    "# 配列の左が合計値,右が足した数\n",
    "director_sales = crews_dict\n",
    "for key in crews_dict:\n",
    "    director_sales[key] = [0,0]\n",
    "len(director_sales)\n"
   ],
   "metadata": {
    "collapsed": false,
    "pycharm": {
     "name": "#%%\n"
    }
   }
  },
  {
   "cell_type": "code",
   "execution_count": 264,
   "outputs": [],
   "source": [
    "sales = df4[\"revenue\"]\n",
    "for i in range(len(sales)):\n",
    "    per_sales = sales.iloc[i]\n",
    "    director = crews_list[i]\n",
    "    for j in director:\n",
    "        director_sales[j][0] += per_sales\n",
    "        director_sales[j][1] += 1"
   ],
   "metadata": {
    "collapsed": false,
    "pycharm": {
     "name": "#%%\n"
    }
   }
  },
  {
   "cell_type": "code",
   "execution_count": 265,
   "outputs": [
    {
     "data": {
      "text/plain": "{'James Cameron': 840509919,\n 'Gore Verbinski': 453859051,\n 'Sam Mendes': 387649829,\n 'Christopher Nolan': 528435404,\n 'Andrew Stanton': 527261338,\n 'Sam Raimi': 391612682,\n 'Nathan Greno': 591794936,\n 'Byron Howard': 450887465,\n 'Joss Whedon': 987943689,\n 'David Yates': 742971665,\n 'Zack Snyder': 353742483,\n 'Bryan Singer': 351029375,\n 'Marc Forster': 201298420,\n 'Andrew Adamson': 521371889,\n 'Rob Marshall': 356292276,\n 'Barry Sonnenfeld': 313205533,\n 'Peter Jackson': 722071424,\n 'Marc Webb': 506218674,\n 'Ridley Scott': 199347374,\n 'Chris Weitz': 289660916,\n 'Anthony Russo': 666167478,\n 'Joe Russo': 666167478,\n 'Peter Berg': 208970653,\n 'Colin Trevorrow': 758768301,\n 'Shane Black': 615612571,\n 'Tim Burton': 238387017,\n 'Brett Ratner': 220502662,\n 'Dan Scanlon': 743559607,\n 'Michael Bay': 486043719,\n 'Joseph Kosinski': 343115667,\n 'John Lasseter': 451203061,\n 'Brad Lewis': 559852396,\n 'Martin Campbell': 264906421,\n 'Lee Unkrich': 1066969703,\n 'McG': 191292042,\n 'James Wan': 393719131,\n 'J.J. Abrams': 377747922,\n 'Baz Luhrmann': 181776654,\n 'Mike Newell': 306467823,\n 'Guillermo del Toro': 181115642,\n 'Steven Spielberg': 338792339,\n 'Peter Sohn': 331926147,\n 'Mark Andrews': 538983207,\n 'Brenda Chapman': 378798197,\n 'Steve Purcell': 538983207,\n 'Justin Lin': 376025927,\n 'Roland Emmerich': 369602630,\n 'Robert Zemeckis': 276201692,\n 'Lana Wachowski': 291790424,\n 'Lilly Wachowski': 291790424,\n 'Pete Docter': 718508837,\n 'Rob Letterman': 286082600,\n 'Conrad Vernon': 547255629,\n 'Jon Favreau': 403142372,\n 'Martin Scorsese': 115096235,\n 'Rob Cohen': 150562222,\n 'David Ayer': 182331619,\n 'Tom Shadyac': 189882125,\n 'Doug Liman': 191737236,\n 'Kevin Reynolds': 155296362,\n 'Stephen Sommers': 248895105,\n 'Rupert Sanders': 396600000,\n 'Robert Stromberg': 758539785,\n 'Matt Reeves': 301851401,\n 'Carl Rinsch': 150962475,\n 'Mike Mitchell': 311800296,\n 'Brad Bird': 436438383,\n 'Don Hall': 333282721,\n 'Chris Williams': 481042718,\n 'Rich Moore': 471222889,\n 'Chris Sanders': 408609738,\n 'Dean DeBlois': 416591111,\n 'Jonathan Mostow': 183817582,\n 'James Gunn': 268697251,\n 'Hideaki Anno': 77000000,\n 'Shinji Higuchi': 77000000,\n 'David Fincher': 213934632,\n 'Matthew Vaughn': 149305816,\n 'Francis Lawrence': 590491436,\n 'Jon Turteltaub': 178956478,\n 'Wolfgang Petersen': 230716583,\n 'James Bobin': 181645870,\n 'Raman Hui': 798958165,\n 'Chris Miller': 676972821,\n 'Duncan Jones': 196923328,\n 'Alan Taylor': 542587469,\n 'Michael Apted': 182776543,\n 'Oliver Stone': 98311431,\n 'Jan Pinkava': 623722818,\n 'Eric Darnell': 485762451,\n 'Tom McGrath': 551347376,\n 'Shawn Levy': 221858706,\n 'Gavin Hood': 133307174,\n 'Jennifer Lee': 1274219009,\n 'Chris Buck': 711631761,\n 'George Miller': 146626780,\n 'Ron Howard': 261580958,\n 'Kenneth Branagh': 347796692,\n 'Hoyt Yeatman': 292817841,\n 'Jonathan Liebesman': 326888918,\n 'Christopher McQuarrie': 306598711,\n 'Steve Hickner': 253103882,\n 'Simon J. Smith': 330573335,\n 'Jennifer Yuh Nelson': 593431553,\n 'M. Night Shyamalan': 272483881,\n 'Simon Wells': 127111707,\n 'Sam Fell': 74158620,\n 'David Bowers': 64519988,\n 'Joe Wright': 90538952,\n 'Rob Minkoff': 306907211,\n 'Lee Tamahori': 131452823,\n 'Paul Feig': 225401737,\n 'Alessandro Carloni': 521170825,\n 'Peter Ramsey': 306941670,\n 'Dean Parisot': 101051114,\n 'Edward Zwick': 162208269,\n 'Alex Proyas': 154912491,\n 'Richard Donner': 118560042,\n 'Ang Lee': 198517099,\n 'Jon M. Chu': 223065615,\n 'Breck Eisner': 107054178,\n 'Hironobu Sakaguchi': 85131830,\n 'Motonori Sakakibara': 85131830,\n 'Joe Johnston': 282484677,\n 'Peter Weir': 195174105,\n 'Bill Condon': 249736079,\n 'Louis Leterrier': 115681965,\n 'Alejandro González Iñárritu': 146329978,\n 'David Soren': 282570682,\n 'Paul Greengrass': 201964497,\n 'Mark Osborne': 364657905,\n 'John Stevenson': 631744560,\n 'Peyton Reed': 260188139,\n 'Tim Johnson': 227578609,\n 'Phillip Noyce': 131971485,\n 'Darren Aronofsky': 126843558,\n 'Alfonso Cuarón': 322926213,\n 'Eric Leighton': 354248063,\n 'Ralph Zondag': 354248063,\n 'Chris Columbus': 413959055,\n 'Robert Schwentke': 155402603,\n 'Carlos Saldanha': 558629757,\n 'Guy Ritchie': 154368841,\n 'Paul Verhoeven': 123857915,\n 'John McTiernan': 146300037,\n 'Tony Gilroy': 143188257,\n 'Joel Schumacher': 110541276,\n 'John Woo': 207341180,\n 'Tim Story': 134984412,\n 'Mark Steven Johnson': 123495904,\n 'Neill Blomkamp': 200453286,\n 'David Twohy': 72537581,\n 'José Padilha': 242688965,\n 'James L. Brooks': 139296095,\n 'James Mangold': 178157988,\n 'George Lucas': 667822778,\n 'Kirk De Micco': 324489636,\n 'Thomas Langmann': 132900000,\n 'Frédéric Forestier': 132900000,\n 'Cedric Nicolas-Troyan': 164602163,\n 'Roger Donaldson': 72010164,\n 'Dave Green': 145461924,\n 'Josh Trank': 156488798,\n 'Brad Peyton': 312889118,\n 'Roger Spottiswoode': 145498848,\n 'Steven Soderbergh': 151061745,\n 'Michel Gondry': 103931323,\n 'Noam Murro': 337580051,\n 'Raja Gosnell': 281923680,\n 'Will Finn': 103951461,\n 'John Sanford': 103951461,\n 'Jan de Bont': 251424405,\n 'Len Wiseman': 196860240,\n 'Frank Coraci': 143716563,\n 'Michael Mann': 112188574,\n 'Ron Clements': 293558033,\n 'John Musker': 293558033,\n 'Peter Chelsom': 103390583,\n 'Dominic Sena': 132162913,\n 'Tony Scott': 155660061,\n 'Paul Weitz': 121436214,\n 'Adam McKay': 143179409,\n 'Chuck Russell': 201001342,\n 'Quentin Tarantino': 153096869,\n 'Kirk Wise': 143096288,\n 'Gary Trousdale': 143096288,\n 'Mark Dindal': 162442329,\n 'Simon West': 154448457,\n 'Stefen Fangmeier': 249288105,\n 'Spike Jonze': 50775703,\n 'Chris Wedge': 304126921,\n 'Florian Henckel von Donnersmarck': 174365684,\n 'Peter Hyams': 76127137,\n 'Tom Tykwer': 56260181,\n 'Pitof': 82102379,\n 'Brad Silberling': 141328297,\n 'Patrick Hughes': 206172544,\n 'Ericson Core': 133718711,\n 'Ron Underwood': 27837986,\n 'Steve Martino': 561738947,\n 'David Mamet': 13835130,\n 'Zhang Yimou': 121856603,\n 'Ash Brannon': 149044513,\n 'Frank Oz': 70606093,\n 'Jay Roach': 215318779,\n 'Luc Besson': 113155643,\n 'Michael Patrick King': 288347692,\n 'Bibo Bergeron': 221853873,\n 'Don Michael Paul': 76432727,\n 'Mike Thurmeier': 877244782,\n 'Sergei Bodrov': 70353061,\n 'Wally Pfister': 103039258,\n 'Rupert Wyatt': 261015657,\n 'Mark Waters': 117125587,\n 'John Moore': 125708367,\n 'John Lee Hancock': 130792473,\n 'Renny Harlin': 68766706,\n 'Phil Lord': 275544025,\n 'Christopher Miller': 275544025,\n 'Ben Stiller': 119156349,\n 'Barry Cook': 215433386,\n 'Tony Bancroft': 304320254,\n 'Timur Bekmambetov': 124149114,\n 'Walt Becker': 154468943,\n 'Dennis Dugan': 172495191,\n 'Sydney Pollack': 162700213,\n 'Thor Freudenthal': 107771236,\n 'Brian De Palma': 76768395,\n 'Alan J. Pakula': 168037801,\n 'Kathryn Bigelow': 69996560,\n 'John Milius': 58745291,\n 'Andrei Konchalovsky': 39793786,\n 'Gary Ross': 288194362,\n 'Paul W.S. Anderson': 130186174,\n 'Genndy Tartakovsky': 415801280,\n 'Kevin Lima': 262049711,\n 'Daniel Espinosa': 105700267,\n 'Nancy Meyers': 249735494,\n 'Roger Allers': 492775401,\n 'Jill Culton': 197309027,\n 'Anthony Stacchi': 152782398,\n 'Neil Burger': 187831456,\n 'Jean-Jacques Annaud': 86466640,\n 'Martin Brest': 126245098,\n 'Andrew Davis': 169155842,\n 'Bob Fosse': 28911838,\n 'Tarsem Singh': 136150402,\n 'Edgar Wright': 45880981,\n 'Jon Amiel': 100138139,\n 'Peter Segal': 139472784,\n 'Pete Travis': 96099616,\n 'George A. Romero': 27432843,\n 'Sylvester Stallone': 215095763,\n 'Todd Phillips': 188627625,\n 'Karey Kirkpatrick': 343397247,\n 'Gary Winick': 89502611,\n 'Mimi Leder': 98086037,\n 'Seth Gordon': 113700610,\n 'Adam Shankman': 109195346,\n 'D.J. Caruso': 110249057,\n 'Anthony Minghella': 177929399,\n 'Allen Hughes': 69816758,\n 'Albert Hughes': 86521956,\n 'Les Mayfield': 66426895,\n 'Joe Pytka': 250200000,\n 'Scott Derrickson': 151674255,\n 'Ivan Reitman': 129339972,\n 'Eric Brevig': 151643100,\n 'Lorna Cook': 122563539,\n 'Kelly Asbury': 521201148,\n 'Stephen Hopkins': 63003881,\n 'Jonathan Demme': 191842442,\n 'Pixote Hunt': 90874570,\n 'James Algar': 147213906,\n 'Eric Goldberg': 218477171,\n 'Gaëtan Brizzi': 90874570,\n 'Don Hahn': 90874570,\n 'Paul Brizzi': 90874570,\n 'Hendel Butoy': 90874570,\n 'Francis Glebas': 90874570,\n 'Vincent Ward': 71485043,\n 'Terry Gilliam': 44939861,\n 'Neil Nightingale': 126546518,\n 'Roger Christian': 21400000,\n 'Joe Dante': 60866585,\n 'Kevin Costner': 170043791,\n 'Antony Hoffman': 33463969,\n 'Jacques Cluzaud': 19406406,\n 'Jacques Perrin': 19811743,\n 'Cody Cameron': 248384621,\n 'Kris Pearn': 248384621,\n 'John Singleton': 90344356,\n 'James McTeigue': 59425661,\n 'Oliver Hirschbiegel': 53626212,\n 'Des McAnuff': 35134820,\n 'Chris Renaud': 796744726,\n 'Stephen Norrington': 155224367,\n 'Pierre Coffin': 890335610,\n 'Mike Nichols': 86472369,\n 'Vicky Jenson': 286029827,\n 'F. Gary Gray': 94790926,\n 'Antoine Fuqua': 97501640,\n 'Robert Luketic': 114464460,\n 'Gil Kenan': 79022027,\n 'Barry Levinson': 123250247,\n 'Jerry Zucker': 200388127,\n 'Florent-Emilio Siri': 77944725,\n 'Gary Goldman': 88279491,\n 'Don Bluth': 87006609,\n 'Ron Shelton': 30667215,\n 'David Pastor': 5802422,\n 'Àlex Pastor': 5802422,\n 'Henry Selick': 65002957,\n 'Kyle Balda': 1156730962,\n 'Clay Kaytis': 349779543,\n 'Fergal Reilly': 349779543,\n 'Andy Tennant': 172331931,\n 'Judd Apatow': 123767863,\n 'Steve Carr': 123219531,\n 'Mel Gibson': 314024903,\n 'David Silverman': 527068851,\n 'Frank Darabont': 101838804,\n 'Betty Thomas': 257052582,\n 'Joe Ranft': 461983149,\n 'Garry Marshall': 205884428,\n 'Paul Tibbitt': 311594032,\n 'Clark Johnson': 97281846,\n 'Cameron Crowe': 120448562,\n 'Randall Wallace': 92081705,\n 'Jonathan Frakes': 83769230,\n 'George Clooney': 71978078,\n 'Gary Shore': 215529201,\n 'Andrzej Bartkowiak': 59247287,\n 'Måns Mårlind': 160112671,\n 'Björn Stein': 160112671,\n 'Gregory Hoblit': 44292233,\n 'Gary McKendry': 57777106,\n 'Wych Kaosayananda': 19924033,\n 'Mikael Salomon': 19870567,\n 'Peter Farrelly': 114221407,\n 'Bobby Farrelly': 121656172,\n 'Dan St. Pierre': 18662027,\n 'Kerry Conran': 57958696,\n 'Michael Caton-Jones': 62997646,\n 'Mikael Håfström': 92780354,\n 'Phil Alden Robinson': 193000000,\n 'David Slade': 260339843,\n 'Joseph Ruben': 35431113,\n 'Seth MacFarlane': 383195451,\n 'Alejandro Amenábar': 31749275,\n 'Kinka Usher': 29762011,\n 'Craig Gillespie': 31655654,\n 'Rob Bowman': 72948031,\n 'Doug Lefler': 25303038,\n 'Scott Waugh': 142275201,\n 'Lawrence Kasdan': 50383718,\n 'Michael Lembeck': 92098040,\n 'Tom Hooper': 428010659,\n 'Nora Ephron': 190180997,\n 'Angelina Jolie': 55824853,\n 'Clint Eastwood': 125602944,\n 'Larry Charles': 220476138,\n 'Stanley Kubrick': 52249809,\n 'Will Gluck': 119752628,\n 'John Requa': 102488731,\n 'Glenn Ficarra': 102488731,\n 'David S. Goyer': 102709708,\n 'Michael Lehmann': 43351785,\n 'Stuart Beattie': 71154592,\n 'Roman Polanski': 56964829,\n 'Robert Rodriguez': 65541151,\n 'Frank Miller': 79057591,\n 'Baltasar Kormákur': 132822665,\n 'Daniel Lee': 121545703,\n 'Keenen Ivory Wayans': 96323673,\n 'Rob Reiner': 80379747,\n 'Marco Schnabel': 41819064,\n 'Demian Lichtenstein': 18720175,\n 'Tim Hill': 144121195,\n 'David Frankel': 173090726,\n 'Lawrence Guterman': 93375151,\n 'Marc Lawrence': 108177196,\n 'Peter Billingsley': 171844840,\n 'Wes Ball': 329788393,\n 'Ryan Murphy': 105674457,\n 'Robert Redford': 76259415,\n 'Jay Russell': 74541707,\n 'Brian Robbins': 37280482,\n 'Brian Levant': 134817415,\n 'Steven Zaillian': 33076899,\n 'Chris Butler': 107139399,\n 'Robert Stevenhagen': 50877145,\n 'Geoff Murphy': 104324083,\n 'David O. Russell': 129060671,\n 'Babak Najafi': 205754447,\n 'Jean-Pierre Jeunet': 89854185,\n 'Graham Annable': 108255770,\n 'Griffin Dunne': 39561182,\n 'Ruben Fleischer': 82713241,\n 'Harold Ramis': 79540395,\n 'Kevin Macdonald': 49899322,\n 'Donald Petrie': 83139453,\n 'Marcos Martínez': 104945765,\n 'Javier Abad': 104945765,\n 'Jorge Blanco': 104945765,\n 'Stuart Baird': 94641021,\n 'Joel Coen': 95846638,\n 'Jon Avnet': 45052725,\n 'Scott Stewart': 73113894,\n 'Patrick Gilmore': 26288320,\n 'Tony Bill': 17800000,\n 'Rod Lurie': 18983574,\n 'Jack Sholder': 22413647,\n 'Walter Hill': 13127931,\n 'Akiva Goldsman': 30800231,\n 'Harald Zwart': 74680617,\n 'Walter Salles': 11177871,\n 'Iain Softley': 51836015,\n 'David Koepp': 43887104,\n 'Soi Cheang': 193677158,\n 'John Dahl': 18039522,\n 'Tim Miller': 783112979,\n 'Peter MacDonald': 189015611,\n 'Anthony Hemingway': 50365377,\n 'Taylor Hackford': 107964278,\n 'Sean Anders': 106817699,\n 'Brian Taylor': 66884378,\n 'Mark Neveldine': 53864455,\n 'John Madden': 123976295,\n 'Kevin Bray': 41353410,\n 'Mike Gabriel': 346079773,\n 'Jesse Dylan': 106225023,\n 'Wayne Wang': 49187609,\n 'Gabriele Muccino': 237622493,\n 'Albert Magnoli': 63408614,\n 'Tom Dey': 76469780,\n 'Jimmy Hayward': 60269500,\n 'Alan Parker': 90001388,\n 'John Frankenheimer': 36841526,\n 'Paul King': 259207227,\n 'Akiva Schaffer': 41301131,\n 'William Friedkin': 90369264,\n 'Kent Alterman': 33472850,\n 'Jeff Newitt': 118338361,\n 'Peter Lord': 171586462,\n 'Shekhar Kapur': 62090283,\n 'Karyn Kusama': 41930031,\n 'Ronald F. Maxwell': 18961968,\n 'Robert Butler': 11466088,\n 'Steve Antin': 89519773,\n 'Jim Gillespie': 66001218,\n 'Francis Ford Coppola': 88604436,\n 'Richard Lester': 92869666,\n 'Harold Becker': 82564403,\n 'Scott Cooper': 51233436,\n 'Rob Zombie': 20613697,\n 'Jason Eisener': 12893175,\n 'Eli Roth': 37017449,\n 'Curtis Hanson': 87056249,\n 'Phyllida Lloyd': 362399168,\n 'Jay Chandrasekhar': 38369415,\n 'Terrence Malick': 61112268,\n 'David Dobkin': 82497770,\n 'Miloš Forman': 69462911,\n 'Pierre Morel': 75721396,\n 'Steve Oedekerk': 142582266,\n 'John Whitesell': 89701848,\n 'George Nolfi': 127869379,\n 'Steven Brill': 91113213,\n 'Neil Jordan': 63117225,\n 'Rawson Marshall Thurber': 218229657,\n 'Spike Lee': 37846530,\n 'Brian Helgeland': 85733521,\n 'Frank Marshall': 90605046,\n 'Hideo Nakata': 161451538,\n 'Peter Hewitt': 106655361,\n 'Bennett Miller': 79645523,\n 'Jaume Collet-Serra': 109103461,\n 'Andy Fickman': 91241402,\n \"Matthew O'Callaghan\": 69834815,\n 'Angela Robinson': 66002004,\n 'Gary Fleder': 42786025,\n 'Tommy Wirkola': 113394068,\n 'Adrian Lyne': 134735150,\n 'Stephen Gaghan': 52359678,\n 'Jorge R. Gutierrez': 97437106,\n 'Richard Loncraine': 62156003,\n 'Christophe Gans': 97607453,\n 'Jon Hurwitz': 139241353,\n 'Hayden Schlossberg': 139241353,\n 'Steven Quale': 159244918,\n 'John Landis': 99057959,\n 'Alexander Witt': 129394835,\n 'Beeban Kidron': 40203020,\n 'Carl Franklin': 59638686,\n 'Steven Seagal': 49000000,\n 'Danny Boyle': 93449068,\n 'Andrew Bergman': 58156519,\n 'Barbet Schroeder': 56714147,\n 'Peter Webber': 56818336,\n 'Andrew Niccol': 60454097,\n 'Bong Joon-ho': 79525252,\n 'John Carpenter': 28434219,\n 'Wes Anderson': 59034326,\n 'David Cronenberg': 28176498,\n 'John Stockwell': 37735413,\n 'David Gordon Green': 28745133,\n 'Jim Sheridan': 42754405,\n 'Costa-Gavras': 10541523,\n 'Patrick Read Johnson': 16020539,\n 'Roland Joffé': 10382407,\n 'Richard LaGravenese': 55163683,\n 'George Armitage': 17446453,\n 'Patrick Lussier': 54222152,\n 'James Wong': 81240490,\n 'Richard Curtis': 122793666,\n 'Olivier Megaton': 254292861,\n 'Deepa Mehta': 5475679,\n 'Warren Beatty': 57774756,\n 'Penny Marshall': 79800797,\n 'Ted Kotcheff': 125212904,\n 'Yvette Kaplan': 38085778,\n 'Paul Bolger': 38085778,\n 'Greg Tiernan': 89419197,\n 'Stephen Frears': 47301392,\n 'P.J. Hogan': 299288605,\n 'Brad Furman': 54488784,\n 'Terence Young': 71223605,\n 'David Zucker': 115263957,\n 'Denis Villeneuve': 71085447,\n 'Thomas Carter': 65945348,\n 'Roger Michell': 172536874,\n 'Luis Llosa': 153624174,\n 'David McNally': 113916474,\n 'Garth Jennings': 104478416,\n 'Russell Mulcahy': 50612970,\n 'David R. Ellis': 81032940,\n 'Peter Howitt': 66698698,\n 'John A. Davis': 68058680,\n 'David Lynch': 21013473,\n 'Mathieu Kassovitz': 106849966,\n 'John Schultz': 40237232,\n 'Sean Penn': 42827571,\n 'Susan Stroman': 38058335,\n 'Simon Wincer': 21391429,\n 'Danny Pang': 42487390,\n 'Oxide Pang Chun': 42487390,\n 'George P. Cosmatos': 119686679,\n 'Oliver Parker': 89306888,\n 'Lawrence Kasanoff': 73706,\n 'Ben Affleck': 193175132,\n 'Hamilton Luske': 83810000,\n 'Ben Sharpsteen': 83810000,\n 'Michael Cimino': 26742165,\n 'Paul McGuigan': 34512478,\n 'Gus Van Sant': 65808408,\n 'Roger Kumble': 61313051,\n 'Burr Steers': 51402493,\n 'Nick Park': 208643698,\n 'John Hamburg': 131800186,\n 'Reginald Hudlin': 33576728,\n 'Joseph L. Mankiewicz': 71000000,\n 'Mark Pellington': 38944190,\n 'John Glen': 176518734,\n 'Catherine Hardwicke': 124947946,\n 'John Herzfeld': 28386717,\n 'Annabel Jankel': 20915465,\n 'Rocky Morton': 20915465,\n 'Julie Anne Robinson': 36893721,\n 'Seth Rogen': 69191977,\n 'Evan Goldberg': 69191977,\n 'Sngmoo Lee': 11087569,\n 'Asger Leth': 46221189,\n 'John G. Avildsen': 104025352,\n 'Anne Fletcher': 137074624,\n 'Bruce Beresford': 114784768,\n 'Sam Taylor-Johnson': 571006128,\n 'Ken Kwapis': 77584735,\n 'Wes Craven': 69968331,\n 'Etan Cohen': 111811453,\n 'Nick Cassavetes': 127586016,\n 'Nicholas Stoller': 125205688,\n 'Mark A.Z. Dippé': 87840042,\n 'Callan Brunker': 74597643,\n 'Nimród Antal': 52388000,\n 'Alejandro Agresti': 114830111,\n 'Peter Hedges': 51854875,\n 'Paul Weiland': 84601681,\n 'Colin Strause': 54309051,\n 'Greg Strause': 54309051,\n 'Greg Mottola': 78726551,\n 'Jake Kasdan': 90641122,\n 'Diane Keaton': 36037909,\n 'Stephen Daldry': 79966250,\n 'Christian Duguay': 20579290,\n 'Sam Weisman': 29000000,\n 'Richard Stanley': 49627779,\n \"Pat O'Connor\": 65754228,\n 'Frederik Du Chau': 65972511,\n 'Joseph Kahn': 46546197,\n 'Sofia Coppola': 63535857,\n 'Stephen T. Kay': 43302926,\n 'Juan Antonio Bayona': 112137061,\n 'Elaine May': 14375181,\n 'Stephen Herek': 46274384,\n 'Charles Shyer': 13395939,\n 'Ulu Grosbard': 28121100,\n 'William Malone': 29874048,\n 'Danny DeVito': 19322135,\n 'Mic Rodgers': 10667893,\n 'Christian Alvart': 24822663,\n 'Geoffrey Sax': 57567144,\n 'S.S. Rajamouli': 100000000,\n 'Charles S. Dutton': 6614280,\n 'David Carson': 120000000,\n 'Wong Kar-wai': 35044928,\n 'Norman Jewison': 78630285,\n 'Luis Mandoki': 74290008,\n 'Lee Daniels': 81729567,\n 'Jeb Stuart': 6482195,\n 'Paul Thomas Anderson': 37521857,\n 'David Leland': 5410749,\n 'J Blakeson': 109906372,\n 'Ryan Coogler': 95476705,\n 'Kirk Jones': 97037691,\n 'Ethan Coen': 102923953,\n 'Jennifer Flackett': 100076342,\n 'Mark Levin': 100076342,\n 'Kevin Smith': 22303915,\n 'Christian Ditter': 112343513,\n 'Charles Martin Smith': 56991143,\n 'Fyodor Bondarchuk': 21834845,\n 'Irvin Kershner': 349200000,\n 'Steve Pink': 41963199,\n 'Wilson Yip': 156844753,\n 'Leslie H. Martinson': 411348924,\n 'Robert Wise': 120311917,\n 'Kevin Rodney Sullivan': 57219550,\n 'Kevin Munroe': 50121528,\n 'Mike Tollin': 35985688,\n 'Patrick Tatopoulos': 91353501,\n 'Gary David Goldberg': 58405313,\n 'Tobe Hooper': 41492383,\n 'Alan Poul': 77477008,\n 'Luke Greenfield': 77926777,\n 'Michael Ritchie': 41162095,\n 'Steven E. de Souza': 99423521,\n 'Alexandre Aja': 75082772,\n 'Michael Rymer': 29745282,\n 'Hugh Wilson': 100953972,\n 'Mike Hodges': 27107960,\n 'Scott Mann': 4100000,\n 'Susanna White': 51588241,\n 'Chris Carter': 68369434,\n \"Tommy O'Haver\": 27388767,\n 'Peter Landesman': 50363790,\n 'Gary Chapman': 19478106,\n 'Craig Mazin': 25871834,\n 'Peter Yates': 16519460,\n 'Jean-Marc Vallée': 45036571,\n 'Lexi Alexander': 10089373,\n 'Jean-Paul Rappeneau': 15000000,\n 'Espen Sandberg': 10496317,\n 'Joachim Rønning': 10496317,\n 'Ken Scott': 32797679,\n 'Hugh Johnson': 11263966,\n 'Hayao Miyazaki': 214122594,\n 'George Tillman, Jr.': 44969972,\n 'Rand Ravich': 19598588,\n 'Justin Chadwick': 27330000,\n 'Chris Gorak': 64626786,\n 'Scott Speer': 140470746,\n 'Jonathan Hensleigh': 54700105,\n 'Danny Cannon': 33806492,\n 'Boaz Yakin': 73673374,\n 'Richard Marquand': 572700000,\n 'Neil Marshall': 14513107,\n 'David Wain': 58270430,\n 'Jared Hess': 63158045,\n 'Rupert Wainwright': 50041732,\n 'John Luessenhop': 58148820,\n 'Justin Zackham': 21819348,\n 'Miguel Sapochnik': 18409891,\n 'Shim Hyung-Rae': 35143702,\n 'Don Scardino': 27437881,\n 'Nanette Burstein': 42045846,\n 'Ariel Vromen': 8338944,\n 'Lewis Gilbert': 169110519,\n 'Scott Hicks': 72047989,\n 'Jonathan M. Goldstein': 104384188,\n 'John Francis Daley': 104384188,\n 'J.B. Rogers': 287553595,\n 'Michael Sucsy': 196114570,\n 'Tom Vaughan': 92567146,\n 'Stephen Hillenburg': 140161792,\n 'Barbra Streisand': 52593799,\n 'Jason Reitman': 92617986,\n 'Alexander Payne': 83018464,\n 'Jonathan Levine': 53022806,\n 'Rian Johnson': 26286382,\n 'Chris Noonan': 144606575,\n 'Michael McCullers': 63833449,\n 'Woody Allen': 55758419,\n 'Ted Demme': 83282296,\n 'William Shatner': 70200000,\n 'Steve Box': 192452832,\n 'Mike Johnson': 117195061,\n 'James Gartner': 42647449,\n 'Lee Toland Krieger': 34379044,\n 'Drew Goddard': 66486080,\n 'Aaron Seltzer': 62943594,\n 'Jason Friedberg': 62943594,\n 'Paul Michael Glaser': 38122105,\n 'John R. Leonetti': 153325337,\n 'Tom Hanks': 35372895,\n 'Kimberly Peirce': 35047341,\n 'Liz Friedlander': 34742066,\n 'Phil Joanou': 41480851,\n 'Shane Acker': 48428063,\n 'Stephen Anderson': 14460000,\n 'Troy Miller': 39267515,\n 'Tate Taylor': 78091861,\n 'Brett Leonard': 28074500,\n 'Alister Grierson': 108609310,\n 'Nick Hurran': 22034832,\n 'Charles Stone III': 39694393,\n 'Paul Haggis': 59700167,\n 'Kurt Wimmer': 18214928,\n 'Jean-François Richet': 35294470,\n 'Kevin Hooks': 17193231,\n 'Niki Caro': 37444767,\n 'Howard Deutch': 31388144,\n 'Willard Huyck': 37962774,\n \"Gavin O'Connor\": 24265922,\n 'Bruce Hunt': 15007991,\n 'Nick Hamm': 30114487,\n 'Mike Disa': 13521829,\n 'Lasse Hallström': 70268067,\n 'Richard J. Lewis': 8454301,\n 'Niels Arden Oplev': 18074539,\n 'Steve Boyum': 3832348,\n 'Corey Yuen Kwai': 22204623,\n 'Andrew Dominik': 26321129,\n '张立 | Zhang Li': 108348,\n 'Jackie Chan': 108348,\n 'Elizabeth Banks': 159972591,\n 'Edward Norton': 37036004,\n 'Ben Falcone': 89580844,\n 'Don Mancini': 24829644,\n 'John Maybury': 21126225,\n 'Norton Virgien': 100491683,\n 'Igor Kovalyov': 100491683,\n 'Shinji Aramaki': 17137302,\n 'Kenny Ortega': 23257356,\n 'Miguel Arteta': 41457125,\n 'James Gray': 21314251,\n 'Robert B. Weide': 17286299,\n 'Jeff Wadlow': 37458368,\n 'Agustín Díaz Yanes': 23321954,\n 'Camille Delamarre': 70763249,\n 'Malcolm D. Lee': 53966595,\n 'David Lean': 60585350,\n 'Richard Eyre': 49469904,\n 'Nicholas Meyer': 96850000,\n 'Sanaa Hamri': 32936568,\n 'Steve Miner': 38427752,\n 'Philip Kaufman': 14280438,\n 'Walter Murch': 11137801,\n 'Richard Linklater': 31153203,\n 'E. Elias Merhige': 10639508,\n 'Jodie Foster': 37257529,\n 'Scott Frank': 53181600,\n 'Richard Attenborough': 64243944,\n 'Kevin Allen': 28818995,\n 'Michael Cristofer': 35402320,\n 'Andrew Morahan': 36800000,\n 'Alan Shapiro': 20080020,\n 'Fernando Meirelles': 44317806,\n 'Michael Hoffman': 35926213,\n 'Mick Jackson': 411006740,\n 'Ronny Yu': 82790340,\n 'Michael Pressman': 78000000,\n 'Sharon Maguire': 281929795,\n 'Charles Herman-Wurmfeld': 67464133,\n 'Gábor Csupó': 137587063,\n 'Joe Carnahan': 49005324,\n 'John Polson': 78528030,\n 'Bernardo Bertolucci': 43984230,\n 'Chris Nahon': 64437847,\n 'Fred Wolf': 38509111,\n 'Bille Woodruff': 49499056,\n 'Victor Salva': 61160227,\n 'Mark Helfrich': 59192128,\n 'Steve Bendelack': 229736344,\n 'Dwight H. Little': 44380827,\n 'Guillaume Canet': 25473471,\n 'Kirsten Sheridan': 66122026,\n 'Kinji Fukasaku': 29548291,\n 'Toshio Masuda': 29548291,\n 'Richard Fleischer': 41174231,\n 'Bob Spiers': 100000000,\n 'John Wells': 55397840,\n 'Tim Fywell': 27645491,\n 'Nigel Cole': 42886719,\n 'Dexter Fletcher': 46152800,\n 'Jeremy Leven': 22200000,\n 'Sylvain White': 49545561,\n 'Troy Nixey': 36993168,\n 'Philip G. Atwell': 40452643,\n 'Jeff Schaffer': 20796847,\n 'Bill Paxton': 14270812,\n 'Richard Kelly': 11659598,\n 'John Schlesinger': 34573912,\n 'Ringo Lam': 51702483,\n 'Patricia Riggen': 41738038,\n 'Jonathan Kaplan': 13000000,\n 'Ole Bornedal': 85446075,\n 'Richard Benjamin': 8533235,\n 'John Hillcoat': 15107765,\n 'John Guillermin': 5778353,\n 'Rachel Talalay': 19468264,\n 'Uwe Boll': 6424114,\n 'Robert Towne': 777423,\n 'Giuseppe Tornatore': 19255873,\n 'Werner Herzog': 8883122,\n 'Svyatoslav Ushakov': 6500000,\n 'Inna Evlannikova': 6500000,\n 'Sergey Bondarchuk': 3052000,\n 'Leonard Nimoy': 110000000,\n 'Jonathan Lynn': 57971082,\n 'Herbert Ross': 80035402,\n 'Bonnie Hunt': 36609995,\n 'Grant Heslov': 68729358,\n 'Sidney Lumet': 20470563,\n 'Douglas McGrath': 15851412,\n 'Richard Williams': 669276,\n 'Jonathan Newman': 6399,\n 'Joseph Sargent': 51881013,\n 'Mira Nair': 10801152,\n 'Teddy Chan': 5837674,\n 'Mel Brooks': 61325752,\n 'Russell Crowe': 15520023,\n 'John Pasquin': 189833357,\n 'Irwin Winkler': 110627965,\n 'Jessie Nelson': 58271209,\n 'Christopher Spencer': 67800064,\n 'Mike Bigelow': 22400154,\n 'Daniel Sackheim': 23619609,\n 'Uli Edel': 13555988,\n 'Fred Dekker': 10696210,\n 'Christian Carion': 17709155,\n 'Dax Shepard': 14400000,\n 'David Palmer': 14400000,\n 'Rowan Joffe': 15447154,\n 'John Curran': 9479718,\n 'Juan José Campanella': 28982921,\n 'Stuart Gillard': 42000000,\n 'Tyler Perry': 59999435,\n 'Katt Shea': 17762705,\n 'Joshua Michael Stern': 17600000,\n 'Colin Higgins': 69701637,\n 'Jim Sonzero': 29907685,\n 'Penelope Spheeris': 121697323,\n 'Jeff Tremaine': 101529208,\n 'Jeannot Szwarc': 187884007,\n 'Steve McQueen': 102346837,\n 'Thea Sharrock': 207945075,\n 'Scott Moore': 116000873,\n 'Jon Lucas': 116000873,\n 'Robin Budd': 109862682,\n 'Donovan Cook': 109862682,\n 'Ava DuVernay': 66787908,\n 'Steve Trenbirth': 135680000,\n 'Mennan Yapo': 84146832,\n 'Jun Falkenstein': 45554533,\n 'Tom McCarthy': 48513143,\n 'Neil LaBute': 27640028,\n 'Takashi Shimizu': 111309220,\n 'Gary Nelson': 35841901,\n 'Anton Corbijn': 35059562,\n 'Gregory Nava': 60000000,\n 'John Patrick Shanley': 50907234,\n 'Trey Parker': 50907422,\n 'Joshua Logan': 31678778,\n 'Steve Beck': 68349884,\n 'Todd Strauss-Schulson': 35387212,\n 'John McNaughton': 67200000,\n 'Peter Spierig': 51416464,\n 'Michael Spierig': 51416464,\n 'Jim Field Smith': 49779728,\n 'Thomas Bezucha': 17425000,\n 'William Brent Bell': 64350650,\n 'Anthony Bell': 39300000,\n 'Ben Gluck': 39300000,\n 'Henry Joost': 144076373,\n 'Ariel Schulman': 144076373,\n 'Ed Harris': 20211394,\n 'Alfred Hitchcock': 11437500,\n 'Shana Feste': 27303557,\n 'Steve Rash': 2297493,\n 'Mike Binder': 21896748,\n 'Michael J. Bassett': 52302796,\n 'Stephen Chow': 63664225,\n 'Paul Abascal': 16605763,\n 'Chris Koch': 17432163,\n 'Michael Moore': 40672076,\n 'George Stevens': 15473333,\n 'Billy Ray': 18899871,\n 'Mark Mylod': 30426096,\n 'Stephen St. Leger': 32204030,\n 'James Mather': 32204030,\n 'Michael O. Sajbel': 13391174,\n 'Bob Clark': 47645615,\n 'Benson Lee': 16549477,\n 'Alejandro Monteverde': 6420319,\n 'Todd Graff': 5210988,\n 'J.C. Chandor': 12539943,\n 'Todd Haynes': 11360941,\n 'Mabrouk El Mechri': 16863583,\n 'Julie Taymor': 28322534,\n 'Scott Walker': 5496951,\n 'Mark Rosman': 70067909,\n 'Josh Gordon': 49830607,\n 'Will Speck': 49830607,\n 'Brian Percival': 76586316,\n 'Anand Tucker': 20755338,\n 'Anthony Mann': 17375000,\n 'Michael Dowse': 3524344,\n 'Daniel Barnz': 24238062,\n 'Emile Ardolino': 2119994,\n 'Andrew Douglas': 108047131,\n 'Matthew Robinson': 31912793,\n 'Ricky Gervais': 31912793,\n 'Vic Armstrong': 19682924,\n 'Terry Zwigoff': 76488889,\n 'Nelson McCormick': 14796236,\n 'Robert Altman': 87754044,\n 'Sean McNamara': 30978252,\n 'Jody Hill': 24007324,\n 'Brandon Camp': 36133014,\n 'Nicholas Hytner': 25836255,\n 'Peter Merwin': 16702864,\n 'Bart Freundlich': 16702864,\n 'James Sbardellati': 16702864,\n 'William A. Fraker': 2945600,\n 'John Boorman': 20652534,\n 'Courtney Solomon': 10501938,\n 'Matthew Robbins': 14110013,\n 'Jeff Nichols': 10299765,\n 'Jonathan Teplitzky': 22309223,\n 'Mike Marvin': 3500000,\n 'Gregor Jordan': 382174,\n 'Olivier Assayas': 2864323,\n 'Christian Volckman': 1831348,\n 'Rodrigo Cortés': 16351827,\n 'Cory Edwards': 51053787,\n 'Tony Leech': 51053787,\n 'Todd Edwards': 51053787,\n 'Terry George': 38000000,\n 'Xavier Gens': 49993876,\n 'Kasi Lemmons': 7018189,\n 'Brian A Miller': 266586800,\n 'George Cukor': 72070731,\n 'Kevin Greutert': 102192031,\n 'John Fortenberry': 30331165,\n 'Christian Robinson': 21170563,\n 'Jason Moore': 115350426,\n 'Nicholas Ray': 10000000,\n 'Guy Green': 10000000,\n 'Fede Alvarez': 97542952,\n 'Sidney J. Furie': 19300000,\n 'Wayne Kramer': 9500000,\n 'Noel Marshall': 2000000,\n 'Andrea Di Stefano': 3758328,\n 'Jack Smight': 10360000,\n 'Todd Lincoln ': 9627492,\n 'Steven Shainberg': 5792849,\n 'Julian Jarrold': 37311672,\n 'Joe Nussbaum': 11875037,\n 'Vadim Perelman': 16942795,\n 'Michel Hazanavicius': 133432856,\n 'Cyrus Nowrasteh': 6490401,\n 'Christian E. Christiansen': 40492759,\n 'Dennie Gordon': 30987695,\n 'Sheldon Lettich': 16693044,\n 'Diane English': 50007546,\n 'Robert Iscove': 42905509,\n 'Nick Gomez': 15427192,\n 'Josef Rusnak': 18564088,\n 'Adam Rifkin': 4217115,\n 'Susanne Bier': 2849142,\n 'Kenneth Johnson': 1686429,\n 'Jessy Terrero': 14822346,\n 'Nicolas Guy': 53191886,\n 'Dany Boon': 53191886,\n 'Gaspar Noé': 754249,\n 'Tommy Lee Jones': 7739501,\n 'Wayne Beach': 1237615,\n 'Udayan Prasad': 317000,\n 'Yoon Je-kyoon': 11301649,\n ...}"
     },
     "execution_count": 265,
     "metadata": {},
     "output_type": "execute_result"
    }
   ],
   "source": [
    "# その後足した分だけ割っていく\n",
    "new_director_sales = dict()\n",
    "for key,value in director_sales.items():\n",
    "    sum_sales = value[0]\n",
    "    sum_num = value[1]\n",
    "    new_director_sales[key] = sum_sales//sum_num\n",
    "new_director_sales"
   ],
   "metadata": {
    "collapsed": false,
    "pycharm": {
     "name": "#%%\n"
    }
   }
  },
  {
   "cell_type": "code",
   "execution_count": 266,
   "outputs": [
    {
     "data": {
      "text/plain": "[840509919,\n 453859051,\n 387649829,\n 528435404,\n 527261338,\n 391612682,\n 521341200,\n 987943689,\n 742971665,\n 353742483,\n 351029375,\n 201298420,\n 453859051,\n 453859051,\n 353742483,\n 521371889,\n 987943689,\n 356292276,\n 313205533,\n 722071424,\n 506218674,\n 199347374,\n 722071424,\n 289660916,\n 722071424,\n 840509919,\n 666167478,\n 208970653,\n 758768301,\n 387649829,\n 391612682,\n 615612571,\n 238387017,\n 220502662,\n 743559607,\n 486043719,\n 486043719,\n 391612682,\n 506218674,\n 343115667,\n 505527728,\n 264906421,\n 1066969703,\n 191292042,\n 393719131,\n 201298420,\n 351029375,\n 377747922,\n 351029375,\n 181776654,\n 306467823,\n 181115642,\n 486043719,\n 338792339,\n 331926147,\n 485588203,\n 376025927,\n 527261338,\n 220502662,\n 369602630,\n 276201692,\n 291790424,\n 742971665,\n 521371889,\n 351029375,\n 528435404,\n 718508837,\n 416669114,\n 403142372,\n 115096235,\n 313205533,\n 150562222,\n 182331619,\n 189882125,\n 191737236,\n 155296362,\n 248895105,\n 718508837,\n 403142372,\n 403142372,\n 396600000,\n 758539785,\n 301851401,\n 150962475,\n 666167478,\n 311800296,\n 436438383,\n 407162719,\n 471222889,\n 276201692,\n 369602630,\n 412600424,\n 183817582,\n 268697251,\n 528435404,\n 528435404,\n 77000000,\n 722071424,\n 150562222,\n 213934632,\n 149305816,\n 590491436,\n 178956478,\n 230716583,\n 181645870,\n 737965493,\n 196923328,\n 542587469,\n 182776543,\n 486043719,\n 486043719,\n 98311431,\n 742971665,\n 306467823,\n 208970653,\n 590491436,\n 238387017,\n 530080600,\n 528435404,\n 518554913,\n 221858706,\n 133307174,\n 291790424,\n 992925385,\n 291790424,\n 542587469,\n 146626780,\n 261580958,\n 347796692,\n 465965091,\n 292817841,\n 326888918,\n 238387017,\n 306598711,\n 291838608,\n 593431553,\n 272483881,\n 377747922,\n 369602630,\n 127111707,\n 69339304,\n 90538952,\n 306907211,\n 230716583,\n 528121818,\n 131452823,\n 225401737,\n 486043719,\n 313205533,\n 276201692,\n 557301189,\n 436438383,\n 306941670,\n 101051114,\n 162208269,\n 199347374,\n 377747922,\n 391612682,\n 416591111,\n 154912491,\n 150562222,\n 353742483,\n 118560042,\n 198517099,\n 223065615,\n 107054178,\n 85131830,\n 282484677,\n 182776543,\n 195174105,\n 249736079,\n 146626780,\n 115681965,\n 338792339,\n 146329978,\n 282570682,\n 453859051,\n 408167893,\n 201964497,\n 498201232,\n 260188139,\n 590491436,\n 227578609,\n 338792339,\n 486043719,\n 676972821,\n 131971485,\n 126843558,\n 338792339,\n 322926213,\n 181776654,\n 272483881,\n 354248063,\n 221858706,\n 551347376,\n 413959055,\n 155402603,\n 453859051,\n 590491436,\n 261580958,\n 558629757,\n 351029375,\n 376025927,\n 154368841,\n 115681965,\n 123857915,\n 146300037,\n 143188257,\n 110541276,\n 261580958,\n 369602630,\n 207341180,\n 230716583,\n 134984412,\n 198517099,\n 123495904,\n 201964497,\n 191292042,\n 199347374,\n 306907211,\n 200453286,\n 72537581,\n 242688965,\n 291790424,\n 139296095,\n 178157988,\n 343115667,\n 667822778,\n 667822778,\n 718508837,\n 178157988,\n 667822778,\n 366549687,\n 132900000,\n 207341180,\n 164602163,\n 326888918,\n 322926213,\n 72010164,\n 145461924,\n 156488798,\n 221858706,\n 312889118,\n 145498848,\n 369602630,\n 151061745,\n 191737236,\n 155402603,\n 115096235,\n 286082600,\n 103931323,\n 337580051,\n 281923680,\n 103951461,\n 155402603,\n 221858706,\n 281923680,\n 251424405,\n 133307174,\n 196860240,\n 722071424,\n 143716563,\n 112188574,\n 154912491,\n 199347374,\n 306907211,\n 293558033,\n 199347374,\n 486043719,\n 103390583,\n 132162913,\n 199347374,\n 338792339,\n 413959055,\n 264906421,\n 238387017,\n 840509919,\n 112188574,\n 199347374,\n 840509919,\n 155660061,\n 121436214,\n 143179409,\n 201001342,\n 153096869,\n 143096288,\n 162442329,\n 154448457,\n 178956478,\n 249288105,\n 50775703,\n 304126921,\n 174365684,\n 76127137,\n 162208269,\n 115096235,\n 110541276,\n 123857915,\n 213280343,\n 353742483,\n 82102379,\n 220502662,\n 293558033,\n 141328297,\n 206172544,\n 133718711,\n 261580958,\n 27837986,\n 201964497,\n 561738947,\n 13835130,\n 248895105,\n 115096235,\n 121856603,\n 430338137,\n 70606093,\n 199347374,\n 215318779,\n 113155643,\n 288347692,\n 149143300,\n 719491864,\n 347796692,\n 722071424,\n 527261338,\n 722071424,\n 722071424,\n 70353061,\n 154448457,\n 103039258,\n 282484677,\n 261015657,\n 117125587,\n 125708367,\n 130792473,\n 436438383,\n 68766706,\n 413959055,\n 313205533,\n 451203061,\n 155660061,\n 220502662,\n 276201692,\n 275544025,\n 558629757,\n 119156349,\n 191292042,\n 115096235,\n 259876820,\n 119156349,\n 213934632,\n 146300037,\n 154368841,\n 124149114,\n 143096288,\n 154468943,\n 351029375,\n 172495191,\n 413959055,\n 338792339,\n 306907211,\n 276201692,\n 123857915,\n 162700213,\n 107771236,\n 251424405,\n 223065615,\n 131971485,\n 155660061,\n 76768395,\n 558629757,\n 413959055,\n 168037801,\n 69996560,\n 58745291,\n 261580958,\n 39793786,\n 288194362,\n 251424405,\n 276201692,\n 146626780,\n 201964497,\n 230716583,\n 151061745,\n 130186174,\n 415801280,\n 262049711,\n 105700267,\n 262049711,\n 220502662,\n 249735494,\n 155660061,\n 249735494,\n 151061745,\n 280955608,\n 187831456,\n 86466640,\n 208970653,\n 146300037,\n 356292276,\n 376025927,\n 126245098,\n 169155842,\n 28911838,\n 136150402,\n 45880981,\n 100138139,\n 139472784,\n 281923680,\n 96099616,\n 143716563,\n 27432843,\n 312889118,\n 191737236,\n 181115642,\n 213934632,\n 145498848,\n 189882125,\n 215095763,\n 76768395,\n 288194362,\n 188627625,\n 238387017,\n 285487928,\n 412600424,\n 89502611,\n 98086037,\n 139472784,\n 311800296,\n 172495191,\n 139472784,\n 249735494,\n 115096235,\n 113700610,\n 431378339,\n 207341180,\n 109195346,\n 387649829,\n 172495191,\n 154448457,\n 110249057,\n 177929399,\n 78169357,\n 66426895,\n 251424405,\n 250200000,\n 151674255,\n 118560042,\n 182331619,\n 129339972,\n 151643100,\n 321882343,\n 143716563,\n 63003881,\n 191842442,\n 415801280,\n 113867312,\n 127111707,\n 132162913,\n 264906421,\n 71485043,\n 44939861,\n 238387017,\n 131452823,\n 183817582,\n 72010164,\n 150562222,\n 170989952,\n 21400000,\n 60866585,\n 356292276,\n 118560042,\n 170043791,\n 146626780,\n 107054178,\n 33463969,\n 113155643,\n 19609074,\n 76127137,\n 130186174,\n 261580958,\n 399841306,\n 312889118,\n 248384621,\n 220502662,\n 282484677,\n 172495191,\n 90344356,\n 364657905,\n 56525936,\n 35134820,\n 796744726,\n 155224367,\n 843540168,\n 369602630,\n 338792339,\n 518554913,\n 322926213,\n 351029375,\n 124149114,\n 486043719,\n 558629757,\n 139472784,\n 109195346,\n 68766706,\n 115681965,\n 172495191,\n 338792339,\n 107771236,\n 264906421,\n 86472369,\n 264655433,\n 249736079,\n 94790926,\n 338792339,\n 97501640,\n 114464460,\n 154368841,\n 139296095,\n 79022027,\n 123250247,\n 200388127,\n 136150402,\n 77944725,\n 87643050,\n 30667215,\n 130186174,\n 5802422,\n 65002957,\n 125708367,\n 272483881,\n 1023533286,\n 353742483,\n 76768395,\n 123250247,\n 349779543,\n 172331931,\n 123767863,\n 208970653,\n 143179409,\n 123219531,\n 314024903,\n 387649829,\n 527068851,\n 101838804,\n 68766706,\n 86466640,\n 272483881,\n 257052582,\n 272483881,\n 529942888,\n 456593105,\n 205884428,\n 150562222,\n 311594032,\n 261580958,\n 153096869,\n 338792339,\n 68766706,\n 97281846,\n 120448562,\n 272483881,\n 130186174,\n 257052582,\n 92081705,\n 97501640,\n 83769230,\n 326888918,\n 238387017,\n 338792339,\n 71978078,\n 840509919,\n 98311431,\n 215529201,\n 162208269,\n 149305816,\n 86466640,\n 261580958,\n 110541276,\n 59247287,\n 257052582,\n 160112671,\n 109195346,\n 44292233,\n 57777106,\n 19924033,\n 19870567,\n 117938789,\n 18662027,\n 112188574,\n 57958696,\n 62997646,\n 92780354,\n 68766706,\n 193000000,\n 260339843,\n 70606093,\n 843540168,\n 35431113,\n 383195451,\n 31749275,\n 29762011,\n 117938789,\n 112188574,\n 31655654,\n 199347374,\n 215318779,\n 124149114,\n 100138139,\n 72948031,\n 25303038,\n 338792339,\n 142275201,\n 249735494,\n 304126921,\n 50383718,\n 338792339,\n 291790424,\n 261580958,\n 92098040,\n 428010659,\n 190180997,\n 143179409,\n 264906421,\n 188627625,\n 55824853,\n 125602944,\n 68766706,\n 207341180,\n 178956478,\n 98311431,\n 220476138,\n 52249809,\n 119752628,\n 102488731,\n 191292042,\n 102709708,\n 58745291,\n 130186174,\n 130186174,\n 68766706,\n 403142372,\n 213934632,\n 191292042,\n 43351785,\n 71154592,\n 56964829,\n 72948031,\n 72299371,\n 162700213,\n 132822665,\n 56260181,\n 215318779,\n 64519988,\n 338792339,\n 50383718,\n 131971485,\n 121545703,\n 96323673,\n 183817582,\n 80379747,\n 41819064,\n 18720175,\n 153096869,\n 144121195,\n 353742483,\n 215318779,\n 173090726,\n 101838804,\n 154468943,\n 162442329,\n 213934632,\n 191737236,\n 264906421,\n 154448457,\n 195174105,\n 253004595,\n 123219531,\n 132822665,\n 93375151,\n 94790926,\n 108177196,\n 356670530,\n 171844840,\n 155660061,\n 109195346,\n 329788393,\n 105674457,\n 155402603,\n 98311431,\n 76259415,\n 112188574,\n 201001342,\n 74541707,\n 306598711,\n 68766706,\n 151061745,\n 65002957,\n 272483881,\n 155660061,\n 37280482,\n 188627625,\n 134817415,\n 181115642,\n 33076899,\n 90649009,\n 62997646,\n 207341180,\n 62517882,\n 104324083,\n 347796692,\n 129060671,\n 205754447,\n 89854185,\n 97501640,\n 130519084,\n 39561182,\n 275544025,\n 72948031,\n 82713241,\n 79540395,\n 125602944,\n 49899322,\n 143188257,\n 83139453,\n 97281846,\n 104945765,\n 94641021,\n 95846638,\n 264906421,\n 76127137,\n 79540395,\n 45052725,\n 90538952,\n 76259415,\n 120448562,\n 144121195,\n 131452823,\n 73113894,\n 126933464,\n 130186174,\n 189882125,\n 76768395,\n 17800000,\n 18983574,\n 17770789,\n 30800231,\n 74680617,\n 37280482,\n 11177871,\n 51836015,\n 79057591,\n 43887104,\n 193677158,\n 18039522,\n 783112979,\n 125602944,\n 286082600,\n 117125587,\n 134817415,\n 189015611,\n 71978078,\n 108177196,\n 221858706,\n 130186174,\n 50365377,\n 107964278,\n 106817699,\n 150562222,\n 220502662,\n 60374416,\n 123976295,\n 109195346,\n 41353410,\n 276201692,\n 144121195,\n 215318779,\n 282278472,\n 118560042,\n 189882125,\n 172331931,\n 106225023,\n 201964497,\n 221858706,\n 141328297,\n 97501640,\n 49187609,\n 155660061,\n 237622493,\n 155402603,\n 123250247,\n 141328297,\n 153096869,\n 153096869,\n 51601200,\n 276201692,\n 76469780,\n 94641021,\n 117125587,\n 306907211,\n 60269500,\n 213934632,\n 90001388,\n 36841526,\n 63003881,\n 259207227,\n 41301131,\n 90369264,\n 117938789,\n 33472850,\n 144962411,\n 125602944,\n 169155842,\n 155660061,\n 110541276,\n 62090283,\n 41930031,\n 18961968,\n 11466088,\n 181645870,\n 83769230,\n 89519773,\n 52249809,\n 66001218,\n 181115642,\n 237622493,\n 13127931,\n 88604436,\n 120448562,\n 666167478,\n 92869666,\n 126245098,\n 33076899,\n 90344356,\n 87643050,\n 181776654,\n 82564403,\n 51233436,\n 125602944,\n 94790926,\n 55840553,\n 87056249,\n 338792339,\n 69996560,\n 260188139,\n 362399168,\n 205884428,\n 38369415,\n 61112268,\n 82497770,\n 69462911,\n 115096235,\n 75721396,\n 117938789,\n 142582266,\n 89701848,\n 289660916,\n 403700858,\n 127869379,\n 155296362,\n 120448562,\n 383195451,\n 139296095,\n 189882125,\n 143179409,\n 91113213,\n 377747922,\n 151061745,\n 83139453,\n 275544025,\n 63117225,\n 260188139,\n 218229657,\n 106817699,\n 356292276,\n 37846530,\n 85733521,\n 90605046,\n 120448562,\n 154912491,\n 76469780,\n 161451538,\n 102488731,\n 106655361,\n 79645523,\n 230716583,\n 109103461,\n 91241402,\n 59425661,\n 82497770,\n 69834815,\n 66002004,\n 42786025,\n 113394068,\n 134735150,\n 110249057,\n 52359678,\n 486043719,\n 97437106,\n 62156003,\n 125602944,\n 199347374,\n 213934632,\n 97607453,\n 139241353,\n 94790926,\n 159244918,\n 99057959,\n 60866585,\n 82497770,\n 129394835,\n 40203020,\n 59638686,\n 49000000,\n 65541151,\n 93449068,\n 205884428,\n 59425661,\n 58156519,\n 76469780,\n 125602944,\n 56714147,\n 118560042,\n 56818336,\n 80379747,\n 60454097,\n 79525252,\n 60454097,\n 79525252,\n 146300037,\n 125602944,\n 56260181,\n 28434219,\n 436438383,\n 59034326,\n 288194362,\n 90001388,\n 109103461,\n 28176498,\n 37735413,\n 113155643,\n 28745133,\n 42754405,\n 10541523,\n 16020539,\n 10382407,\n 191737236,\n 155660061,\n 90369264,\n 60374416,\n 55163683,\n 119156349,\n 17446453,\n 54222152,\n 59247287,\n 81240490,\n 68766706,\n 122793666,\n 151061745,\n 338792339,\n 90538952,\n 200453286,\n 131971485,\n 213934632,\n 129060671,\n 105700267,\n 200388127,\n 51836015,\n 79540395,\n 88604436,\n 178157988,\n 254292861,\n 151061745,\n 119156349,\n 5475679,\n 57774756,\n 146300037,\n 79800797,\n 125212904,\n 55196917,\n 47301392,\n 299288605,\n 528435404,\n 83769230,\n 60269500,\n 162208269,\n 189882125,\n 54488784,\n 71223605,\n 134817415,\n 254292861,\n 115263957,\n 83139453,\n 151643100,\n 205884428,\n 168037801,\n 110541276,\n 80379747,\n 131971485,\n 114464460,\n ...]"
     },
     "execution_count": 266,
     "metadata": {},
     "output_type": "execute_result"
    }
   ],
   "source": [
    "# 最後に特徴量を作成\n",
    "director_sum_sales = list()\n",
    "for directors in crews_list:\n",
    "    num = 0\n",
    "    for i in range(len(directors)):\n",
    "        director = directors[i]\n",
    "        num += new_director_sales[director]\n",
    "    num = num//(i+1)\n",
    "    director_sum_sales.append(num)\n",
    "director_sum_sales"
   ],
   "metadata": {
    "collapsed": false,
    "pycharm": {
     "name": "#%%\n"
    }
   }
  },
  {
   "cell_type": "code",
   "execution_count": 267,
   "outputs": [
    {
     "data": {
      "text/plain": "3357"
     },
     "execution_count": 267,
     "metadata": {},
     "output_type": "execute_result"
    }
   ],
   "source": [
    "len(director_sum_sales)"
   ],
   "metadata": {
    "collapsed": false,
    "pycharm": {
     "name": "#%%\n"
    }
   }
  },
  {
   "cell_type": "code",
   "execution_count": 271,
   "outputs": [
    {
     "data": {
      "text/plain": "      director_sales\n0          840509919\n1          453859051\n2          387649829\n3          528435404\n4          527261338\n...              ...\n3352           76901\n3353         6910344\n3354           99000\n3355          424760\n3356        65541151\n\n[3357 rows x 1 columns]",
      "text/html": "<div>\n<style scoped>\n    .dataframe tbody tr th:only-of-type {\n        vertical-align: middle;\n    }\n\n    .dataframe tbody tr th {\n        vertical-align: top;\n    }\n\n    .dataframe thead th {\n        text-align: right;\n    }\n</style>\n<table border=\"1\" class=\"dataframe\">\n  <thead>\n    <tr style=\"text-align: right;\">\n      <th></th>\n      <th>director_sales</th>\n    </tr>\n  </thead>\n  <tbody>\n    <tr>\n      <th>0</th>\n      <td>840509919</td>\n    </tr>\n    <tr>\n      <th>1</th>\n      <td>453859051</td>\n    </tr>\n    <tr>\n      <th>2</th>\n      <td>387649829</td>\n    </tr>\n    <tr>\n      <th>3</th>\n      <td>528435404</td>\n    </tr>\n    <tr>\n      <th>4</th>\n      <td>527261338</td>\n    </tr>\n    <tr>\n      <th>...</th>\n      <td>...</td>\n    </tr>\n    <tr>\n      <th>3352</th>\n      <td>76901</td>\n    </tr>\n    <tr>\n      <th>3353</th>\n      <td>6910344</td>\n    </tr>\n    <tr>\n      <th>3354</th>\n      <td>99000</td>\n    </tr>\n    <tr>\n      <th>3355</th>\n      <td>424760</td>\n    </tr>\n    <tr>\n      <th>3356</th>\n      <td>65541151</td>\n    </tr>\n  </tbody>\n</table>\n<p>3357 rows × 1 columns</p>\n</div>"
     },
     "execution_count": 271,
     "metadata": {},
     "output_type": "execute_result"
    }
   ],
   "source": [
    "# 作成した特徴量をデータフレームに格納\n",
    "director_sales = pd.DataFrame(director_sum_sales,columns=[\"director_sales\"])\n",
    "director_sales"
   ],
   "metadata": {
    "collapsed": false,
    "pycharm": {
     "name": "#%%\n"
    }
   }
  },
  {
   "cell_type": "code",
   "execution_count": null,
   "outputs": [],
   "source": [],
   "metadata": {
    "collapsed": false,
    "pycharm": {
     "name": "#%%\n"
    }
   }
  }
 ],
 "metadata": {
  "kernelspec": {
   "display_name": "Python 3",
   "language": "python",
   "name": "python3"
  },
  "language_info": {
   "codemirror_mode": {
    "name": "ipython",
    "version": 2
   },
   "file_extension": ".py",
   "mimetype": "text/x-python",
   "name": "python",
   "nbconvert_exporter": "python",
   "pygments_lexer": "ipython2",
   "version": "2.7.6"
  }
 },
 "nbformat": 4,
 "nbformat_minor": 0
}